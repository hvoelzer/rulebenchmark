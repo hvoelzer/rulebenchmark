{
 "cells": [
  {
   "attachments": {},
   "cell_type": "markdown",
   "metadata": {},
   "source": [
    "## Global Settings"
   ]
  },
  {
   "cell_type": "code",
   "execution_count": 1039,
   "metadata": {},
   "outputs": [],
   "source": [
    "import pandas as pd\n",
    "import numpy as np\n",
    "import plotly.express as px\n",
    "import plotly.graph_objs as go\n",
    "from plotly.subplots import make_subplots\n",
    "# import plotly.io as pio\n",
    "# pio.renderers.default = \"svg\"  # for easier sharing the charts, e.g., on github, needs: pip install -U kaleido ; see https://plotly.com/python/renderers/"
   ]
  },
  {
   "cell_type": "code",
   "execution_count": 1040,
   "metadata": {},
   "outputs": [],
   "source": [
    "DEFAULT_RI_PIPELINES = ['NATIVE-RIPPER', 'LENC-CART:4', 'TREES-BRCG', 'TREES-CORELS', 'NATIVE-R2N']\n",
    "RIPPER_PIPELINES = ['QUANTILE-RIPPER', 'TREES-RIPPER', 'NATIVE-RIPPER2', 'NATIVE-RIPPER3', 'NATIVE-RIPPER']\n",
    "BRCG_PIPELINES = ['QUANTILE-BRCG', 'TREES-BRCG2', 'QUANTILE-BRCG2', 'TREES2-BRCG2', 'TREES2-BRCG', 'TREES-BRCG']\n",
    "CORELS_PIPELINES = ['QUANTILE-CORELS','TREES-CORELS2', 'TREES2-CORELS2', 'TREES-CORELS']\n",
    "CART_PIPELINES = ['LENC-CART:*', 'LENC-CART:6', 'LENC-CART:4']\n",
    "ALL_RI_PIPELINES = RIPPER_PIPELINES + BRCG_PIPELINES + CORELS_PIPELINES + CART_PIPELINES + ['NATIVE-R2N']\n",
    "ALL_PIPELINES = ALL_RI_PIPELINES + ['LENC-XGB']\n",
    "DEFAULT_PIPELINES = DEFAULT_RI_PIPELINES + ['LENC-XGB']\n",
    "\n",
    "metrics = ['f2', 'f', 'recall', 'precision', 'acc', 'adj_bal_acc', 'sum_preds']\n",
    "style_map = {\n",
    "    'LENC-XGB': ('gray', 'solid', 'circle'),\n",
    "    'LENC-CART:4': ('mediumblue', 'dot', 'arrow-right'), \n",
    "    'LENC-CART:6': ('cornflowerblue', 'longdash', 'diamond'), \n",
    "    'LENC-CART:*': ('lightskyblue', 'solid', 'arrow-left'),\n",
    "    'TREES-BRCG': ('lime', 'dash', 'cross'),\n",
    "    'TREES2-BRCG': ('aquamarine', 'dash', 'cross'),\n",
    "    'NATIVE-RIPPER': ('crimson', 'longdash', 'diamond'),\n",
    "    'NATIVE-RIPPER2': ('magenta', 'longdash', 'diamond'),\n",
    "    'NATIVE-RIPPER3': ('darkorchid', 'longdash', 'diamond'),\n",
    "    'QUANTILE-RIPPER': ('salmon', 'longdash', 'diamond'),\n",
    "    'TREES-RIPPER': ('orangered', 'longdash', 'diamond'),\n",
    "    'TREES-CORELS': ('gold', 'dashdot', 'star'),\n",
    "    'TREES-CORELS2': ('darkorange', 'dashdot', 'star'),\n",
    "    'TREES2-CORELS2': ('wheat', 'dashdot', 'star'),\n",
    "    'NATIVE-R2N': ('silver', 'dot', 'square'),\n",
    "    'QUANTILE-RULENET': ('cyan', 'dot', 'square'),\n",
    "    'QUANTILE-BRCG': ('plum', 'dash', 'cross'),\n",
    "    'QUANTILE-CORELS': ('palevioletred', 'dashdot', 'star'),\n",
    "    'TREES-BRCG2': ('forestgreen', 'dash', 'cross'),\n",
    "    'QUANTILE-BRCG2': ('maroon', 'dash', 'cross'),\n",
    "    'TREES2-BRCG2': ('yellowgreen', 'solid', 'cross'),\n",
    "    'maxRI': ('crimson', 'solid', 'cross'),\n",
    "    'maxRI50': ('orangered', 'solid', 'cross'),\n",
    "    'maxRI25': ('darkorange', 'solid', 'cross'),\n",
    "    'maxRI10': ('gold', 'solid', 'cross'),\n",
    "    'maxRI5': ('palegoldenrod', 'solid', 'cross'),\n",
    "    'NATIVE-CONST': ('darkkhaki', 'solid', 'cross')\n",
    "}\n",
    "\n",
    "color_map = {}\n",
    "for pipeline in style_map:\n",
    "    for m in metrics:\n",
    "        name = pipeline + '_' + m\n",
    "        color_map[name] = style_map[pipeline][0]\n",
    "\n",
    "def rename( pipeline ):\n",
    "    if pipeline == 'LENC-XGB':\n",
    "        return 'xgb'\n",
    "    else:\n",
    "        return pipeline\n",
    "    \n",
    "long_name = {\n",
    "    'f2': 'f2-score',\n",
    "    'f': 'f-score',\n",
    "    'acc': 'accuracy',\n",
    "    'adj_bal_acc': 'balanced accuracy',\n",
    "    'precision': 'precision',\n",
    "    'recall': 'recall',\n",
    "    'nof_rules': 'number of rules',\n",
    "    'sum_preds': 'sum of predicates',\n",
    "    'avg_preds': 'average of predicates',\n",
    "    'max_preds': 'maximum of predicates'\n",
    "}"
   ]
  },
  {
   "cell_type": "code",
   "execution_count": 1041,
   "metadata": {},
   "outputs": [],
   "source": [
    "def single_chart(pipelines, metric, df, df_long_name, x_sel='data_set', x_title=None, x_log=False):\n",
    "    fig = go.Figure(layout=dict(title=dict(text=long_name[metric]+' on '+df_long_name)))\n",
    "    for p in pipelines:\n",
    "        m = p + '_' + metric\n",
    "        fig.add_scatter(name=rename(p), \n",
    "                        x=df[x_sel], \n",
    "                        y=df[m], \n",
    "                        mode='markers+lines', \n",
    "                        line=dict(width=2,color=style_map[p][0],dash=style_map[p][1]),\n",
    "                        marker=dict(symbol=style_map[p][2]), # color='red', size=2, \n",
    "                        showlegend=True)\n",
    "    fig.update_layout(yaxis_title=long_name[metric], plot_bgcolor='whitesmoke')\n",
    "    if x_title is not None:\n",
    "        fig.update_layout(xaxis_title=x_title)\n",
    "    if x_log:\n",
    "        fig.update_xaxes(type=\"log\")\n",
    "    fig.update_layout(height=400, width=1000)\n",
    "    fig.show()\n",
    "\n",
    "\n",
    "def triple_chart(pipelines, performance_metric, complexity_metric, df, df_long_name, x_sel='data_set', x_title=None, x_log=False):\n",
    "\n",
    "    fig = make_subplots(rows=3, cols=1,\n",
    "                    shared_xaxes=True,\n",
    "                    vertical_spacing=0.02)\n",
    "\n",
    "    for p in ['LENC-XGB', 'NATIVE-CONST'] + pipelines:\n",
    "        m = p + '_' + performance_metric\n",
    "        scatter = go.Scatter(name=p, \n",
    "                        x=df[x_sel], \n",
    "                        y=df[m], \n",
    "                        mode='markers+lines', \n",
    "                        line=dict(width=2,color=style_map[p][0],dash=style_map[p][1]),\n",
    "                        marker=dict(symbol=style_map[p][2]), # color='red', size=2, \n",
    "                        showlegend=True)\n",
    "        fig.add_trace(scatter, row=3, col=1)\n",
    "    fig.update_yaxes(title=long_name[performance_metric], row=3, col=1)\n",
    "    if x_title is not None:\n",
    "        fig.update_xaxes(title=x_title, row=3, col=1)\n",
    "\n",
    "    for p in pipelines:\n",
    "        m = p + '_' + complexity_metric\n",
    "        scatter = go.Scatter(name=p, \n",
    "                        x=df[x_sel],\n",
    "                        y=df[m]+1, \n",
    "                        mode='markers+lines', \n",
    "                        line=dict(width=2,color=style_map[p][0],dash=style_map[p][1]),\n",
    "                        marker=dict(symbol=style_map[p][2]), # color='red', size=2, \n",
    "                        showlegend=False)\n",
    "        fig.add_trace(scatter, row=2, col=1)\n",
    "    fig.update_yaxes(type=\"log\", row=2, col=1)\n",
    "    fig.update_yaxes(title=long_name[complexity_metric], row=2, col=1)\n",
    "\n",
    "    metric = 'runtime'\n",
    "    for p in ['LENC-XGB'] + pipelines:\n",
    "        m = p + '_' + metric\n",
    "        scatter = go.Scatter(name=p, \n",
    "                        x=df[x_sel],\n",
    "                        y=df[m]+1, \n",
    "                        mode='markers+lines', \n",
    "                        line=dict(width=2,color=style_map[p][0],dash=style_map[p][1]),\n",
    "                        marker=dict(symbol=style_map[p][2]), # color='red', size=2, \n",
    "                        showlegend=False)\n",
    "        fig.add_trace(scatter, row=1, col=1)\n",
    "    fig.update_yaxes(type=\"log\", row=1, col=1)\n",
    "    fig.update_yaxes(title='time (secs)', row=1, col=1)\n",
    "\n",
    "    if x_log:\n",
    "        fig.update_xaxes(type=\"log\")\n",
    "\n",
    "    fig.update_layout(title_text=long_name[performance_metric]+', '+ long_name[complexity_metric] + ' and training time on ' + df_long_name, plot_bgcolor='whitesmoke')\n",
    "    fig.update_layout(height=600, width=1000)\n",
    "    fig.show()\n",
    "\n",
    "\n",
    "def dual_chart(pipelines, performance_metric, complexity_metric, df, df_long_name, x_sel='data_set', x_title=None, x_log=False):\n",
    "\n",
    "    fig = make_subplots(rows=2, cols=1, shared_xaxes=True, vertical_spacing=0.02)\n",
    "\n",
    "    for p in ['LENC-XGB'] + pipelines:\n",
    "        m = p + '_' + performance_metric\n",
    "        scatter = go.Scatter(name=p, \n",
    "                        x=df[x_sel], \n",
    "                        y=df[m], \n",
    "                        mode='markers+lines', \n",
    "                        line=dict(width=2,color=style_map[p][0],dash=style_map[p][1]),\n",
    "                        marker=dict(symbol=style_map[p][2]), # color='red', size=2, \n",
    "                        showlegend=True)\n",
    "        fig.add_trace(scatter, row=2, col=1)\n",
    "    fig.update_yaxes(title=long_name[performance_metric], row=2, col=1)\n",
    "    if x_title is not None:\n",
    "        fig.update_xaxes(title=x_title, row=2, col=1)\n",
    "\n",
    "    for p in pipelines:\n",
    "        m = p + '_' + complexity_metric\n",
    "        scatter = go.Scatter(name=p, \n",
    "                        x=df[x_sel],\n",
    "                        y=df[m]+1, \n",
    "                        mode='markers+lines', \n",
    "                        line=dict(width=2,color=style_map[p][0],dash=style_map[p][1]),\n",
    "                        marker=dict(symbol=style_map[p][2]), # color='red', size=2, \n",
    "                        showlegend=False)\n",
    "        fig.add_trace(scatter, row=1, col=1)\n",
    "    fig.update_yaxes(type=\"log\", row=1, col=1)\n",
    "    fig.update_yaxes(title=long_name[complexity_metric], row=1, col=1)\n",
    "\n",
    "    if x_log:\n",
    "        fig.update_xaxes(type=\"log\")\n",
    "\n",
    "    fig.update_layout(title_text=long_name[performance_metric]+' and '+ long_name[complexity_metric] + ' on ' + df_long_name, plot_bgcolor='whitesmoke')\n",
    "    fig.update_layout(height=500, width=1000)\n",
    "    fig.show()\n",
    "\n",
    "def dual_performance_chart(pipelines, performance_metric_1, performance_metric_2, df, df_long_name, x_sel='data_set', x_title=None, x_log=False):\n",
    "\n",
    "    fig = make_subplots(rows=2, cols=1, shared_xaxes=True, vertical_spacing=0.02)\n",
    "\n",
    "    for p in ['LENC-XGB'] + pipelines:\n",
    "        m = p + '_' + performance_metric_1\n",
    "        scatter = go.Scatter(name=p, \n",
    "                        x=df[x_sel], \n",
    "                        y=df[m], \n",
    "                        mode='markers+lines', \n",
    "                        line=dict(width=2,color=style_map[p][0],dash=style_map[p][1]),\n",
    "                        marker=dict(symbol=style_map[p][2]), # color='red', size=2, \n",
    "                        showlegend=True)\n",
    "        fig.add_trace(scatter, row=2, col=1)\n",
    "    fig.update_yaxes(title=long_name[performance_metric_1], row=2, col=1)\n",
    "    if x_title is not None:\n",
    "        fig.update_xaxes(title=x_title, row=2, col=1)\n",
    "\n",
    "    for p in ['LENC-XGB'] + pipelines:\n",
    "        m = p + '_' + performance_metric_2\n",
    "        scatter = go.Scatter(name=p, \n",
    "                        x=df[x_sel],\n",
    "                        y=df[m], \n",
    "                        mode='markers+lines', \n",
    "                        line=dict(width=2,color=style_map[p][0],dash=style_map[p][1]),\n",
    "                        marker=dict(symbol=style_map[p][2]), # color='red', size=2, \n",
    "                        showlegend=False)\n",
    "        fig.add_trace(scatter, row=1, col=1)\n",
    "    fig.update_yaxes(title=long_name[performance_metric_2], row=1, col=1)\n",
    "\n",
    "    if x_log:\n",
    "        fig.update_xaxes(type=\"log\")\n",
    "\n",
    "    fig.update_layout(title_text=long_name[performance_metric_1]+' and '+ long_name[performance_metric_2] + ' on ' + df_long_name, plot_bgcolor='whitesmoke')\n",
    "    fig.update_layout(height=500, width=1000)\n",
    "    fig.show()\n",
    "\n",
    "def quad_chart(pipelines, performance_metric_1, performance_metric_2, complexity_metric, df, df_long_name, x_sel='data_set', x_title=None, x_log=False):\n",
    "\n",
    "    fig = make_subplots(rows=4, cols=1, shared_xaxes=True, vertical_spacing=0.02)\n",
    "\n",
    "    for p in ['LENC-XGB', 'NATIVE-CONST'] + pipelines:\n",
    "        m = p + '_' + performance_metric_1\n",
    "        scatter = go.Scatter(name=p, \n",
    "                        x=df[x_sel], \n",
    "                        y=df[m], \n",
    "                        mode='markers+lines', \n",
    "                        line=dict(width=2,color=style_map[p][0],dash=style_map[p][1]),\n",
    "                        marker=dict(symbol=style_map[p][2]), # color='red', size=2, \n",
    "                        showlegend=True)\n",
    "        fig.add_trace(scatter, row=4, col=1)\n",
    "    fig.update_yaxes(title=long_name[performance_metric_1], row=4, col=1)\n",
    "    if x_title is not None:\n",
    "        fig.update_xaxes(title=x_title, row=4, col=1)\n",
    "\n",
    "    for p in ['LENC-XGB', 'NATIVE-CONST'] + pipelines:\n",
    "        m = p + '_' + performance_metric_2\n",
    "        scatter = go.Scatter(name=p, \n",
    "                        x=df[x_sel], \n",
    "                        y=df[m], \n",
    "                        mode='markers+lines', \n",
    "                        line=dict(width=2,color=style_map[p][0],dash=style_map[p][1]),\n",
    "                        marker=dict(symbol=style_map[p][2]), # color='red', size=2, \n",
    "                        showlegend=False)\n",
    "        fig.add_trace(scatter, row=3, col=1)\n",
    "    fig.update_yaxes(title=long_name[performance_metric_2], row=3, col=1)\n",
    "    if x_title is not None:\n",
    "        fig.update_xaxes(title=x_title, row=3, col=1)\n",
    "\n",
    "    for p in pipelines:\n",
    "        m = p + '_' + complexity_metric\n",
    "        scatter = go.Scatter(name=p, \n",
    "                        x=df[x_sel],\n",
    "                        y=df[m]+1, \n",
    "                        mode='markers+lines', \n",
    "                        line=dict(width=2,color=style_map[p][0],dash=style_map[p][1]),\n",
    "                        marker=dict(symbol=style_map[p][2]), # color='red', size=2, \n",
    "                        showlegend=False)\n",
    "        fig.add_trace(scatter, row=2, col=1)\n",
    "    fig.update_yaxes(type=\"log\", row=2, col=1)\n",
    "    fig.update_yaxes(title=long_name[complexity_metric], row=2, col=1)\n",
    "\n",
    "    metric = 'runtime'\n",
    "    for p in ['LENC-XGB'] + pipelines:\n",
    "        m = p + '_' + metric\n",
    "        scatter = go.Scatter(name=p, \n",
    "                        x=df[x_sel],\n",
    "                        y=df[m]+1, \n",
    "                        mode='markers+lines', \n",
    "                        line=dict(width=2,color=style_map[p][0],dash=style_map[p][1]),\n",
    "                        marker=dict(symbol=style_map[p][2]), # color='red', size=2, \n",
    "                        showlegend=False)\n",
    "        fig.add_trace(scatter, row=1, col=1)\n",
    "    fig.update_yaxes(type=\"log\", row=1, col=1)\n",
    "    fig.update_yaxes(title='time (secs)', row=1, col=1)\n",
    "\n",
    "    if x_log:\n",
    "        fig.update_xaxes(type=\"log\")\n",
    "\n",
    "    fig.update_layout(title_text=long_name[performance_metric_1]+', '+ long_name[performance_metric_2]+', '+ long_name[complexity_metric] + ' and training time on ' + df_long_name, plot_bgcolor='whitesmoke')\n",
    "    fig.update_layout(height=600, width=1000)\n",
    "    fig.show()"
   ]
  },
  {
   "cell_type": "code",
   "execution_count": 1042,
   "metadata": {},
   "outputs": [
    {
     "data": {
      "text/html": [
       "<div>\n",
       "<style scoped>\n",
       "    .dataframe tbody tr th:only-of-type {\n",
       "        vertical-align: middle;\n",
       "    }\n",
       "\n",
       "    .dataframe tbody tr th {\n",
       "        vertical-align: top;\n",
       "    }\n",
       "\n",
       "    .dataframe thead th {\n",
       "        text-align: right;\n",
       "    }\n",
       "</style>\n",
       "<table border=\"1\" class=\"dataframe\">\n",
       "  <thead>\n",
       "    <tr style=\"text-align: right;\">\n",
       "      <th></th>\n",
       "      <th>data_set</th>\n",
       "      <th>nof_rows</th>\n",
       "      <th>nof_col</th>\n",
       "      <th>nof_num_features</th>\n",
       "      <th>nof_cat_features</th>\n",
       "      <th>nof_pos</th>\n",
       "      <th>pos_ratio</th>\n",
       "      <th>use_case</th>\n",
       "      <th>origin</th>\n",
       "      <th>LENC_nof_bin_cols</th>\n",
       "      <th>...</th>\n",
       "      <th>TREES-BRCG2exception</th>\n",
       "      <th>TREES-BRCGexception</th>\n",
       "      <th>TREES2-BRCGexception</th>\n",
       "      <th>NATIVE-CONST_runtime</th>\n",
       "      <th>NATIVE-CONST_acc</th>\n",
       "      <th>NATIVE-CONST_adj_bal_acc</th>\n",
       "      <th>NATIVE-CONST_recall</th>\n",
       "      <th>NATIVE-CONST_precision</th>\n",
       "      <th>NATIVE-CONST_f2</th>\n",
       "      <th>NATIVE-CONST_f</th>\n",
       "    </tr>\n",
       "  </thead>\n",
       "  <tbody>\n",
       "    <tr>\n",
       "      <th>0</th>\n",
       "      <td>german_credit</td>\n",
       "      <td>1000</td>\n",
       "      <td>21</td>\n",
       "      <td>7</td>\n",
       "      <td>13</td>\n",
       "      <td>300</td>\n",
       "      <td>0.3000</td>\n",
       "      <td>credit</td>\n",
       "      <td>organic</td>\n",
       "      <td>20.0</td>\n",
       "      <td>...</td>\n",
       "      <td>NaN</td>\n",
       "      <td>NaN</td>\n",
       "      <td>NaN</td>\n",
       "      <td>0.00</td>\n",
       "      <td>0.29</td>\n",
       "      <td>0.0</td>\n",
       "      <td>1.0</td>\n",
       "      <td>0.29</td>\n",
       "      <td>0.67</td>\n",
       "      <td>0.45</td>\n",
       "    </tr>\n",
       "    <tr>\n",
       "      <th>1</th>\n",
       "      <td>taiwan_credit</td>\n",
       "      <td>30000</td>\n",
       "      <td>24</td>\n",
       "      <td>14</td>\n",
       "      <td>9</td>\n",
       "      <td>6636</td>\n",
       "      <td>0.2212</td>\n",
       "      <td>credit</td>\n",
       "      <td>organic</td>\n",
       "      <td>23.0</td>\n",
       "      <td>...</td>\n",
       "      <td>NaN</td>\n",
       "      <td>NaN</td>\n",
       "      <td>NaN</td>\n",
       "      <td>0.00</td>\n",
       "      <td>0.22</td>\n",
       "      <td>0.0</td>\n",
       "      <td>1.0</td>\n",
       "      <td>0.22</td>\n",
       "      <td>0.59</td>\n",
       "      <td>0.36</td>\n",
       "    </tr>\n",
       "    <tr>\n",
       "      <th>2</th>\n",
       "      <td>compas</td>\n",
       "      <td>7210</td>\n",
       "      <td>8</td>\n",
       "      <td>0</td>\n",
       "      <td>7</td>\n",
       "      <td>3250</td>\n",
       "      <td>0.4508</td>\n",
       "      <td>recidivism</td>\n",
       "      <td>organic</td>\n",
       "      <td>7.0</td>\n",
       "      <td>...</td>\n",
       "      <td>NaN</td>\n",
       "      <td>NaN</td>\n",
       "      <td>NaN</td>\n",
       "      <td>0.00</td>\n",
       "      <td>0.46</td>\n",
       "      <td>0.0</td>\n",
       "      <td>1.0</td>\n",
       "      <td>0.46</td>\n",
       "      <td>0.81</td>\n",
       "      <td>0.63</td>\n",
       "    </tr>\n",
       "    <tr>\n",
       "      <th>3</th>\n",
       "      <td>fraud_detection</td>\n",
       "      <td>284807</td>\n",
       "      <td>31</td>\n",
       "      <td>30</td>\n",
       "      <td>0</td>\n",
       "      <td>492</td>\n",
       "      <td>0.0017</td>\n",
       "      <td>transaction-fraud</td>\n",
       "      <td>organic</td>\n",
       "      <td>30.0</td>\n",
       "      <td>...</td>\n",
       "      <td>NaN</td>\n",
       "      <td>NaN</td>\n",
       "      <td>NaN</td>\n",
       "      <td>0.00</td>\n",
       "      <td>0.00</td>\n",
       "      <td>0.0</td>\n",
       "      <td>1.0</td>\n",
       "      <td>0.00</td>\n",
       "      <td>0.01</td>\n",
       "      <td>0.00</td>\n",
       "    </tr>\n",
       "    <tr>\n",
       "      <th>4</th>\n",
       "      <td>fraud_oracle</td>\n",
       "      <td>15420</td>\n",
       "      <td>33</td>\n",
       "      <td>8</td>\n",
       "      <td>24</td>\n",
       "      <td>923</td>\n",
       "      <td>0.0599</td>\n",
       "      <td>insurance-fraud</td>\n",
       "      <td>organic</td>\n",
       "      <td>32.0</td>\n",
       "      <td>...</td>\n",
       "      <td>NaN</td>\n",
       "      <td>NaN</td>\n",
       "      <td>NaN</td>\n",
       "      <td>0.00</td>\n",
       "      <td>0.07</td>\n",
       "      <td>0.0</td>\n",
       "      <td>1.0</td>\n",
       "      <td>0.07</td>\n",
       "      <td>0.26</td>\n",
       "      <td>0.13</td>\n",
       "    </tr>\n",
       "    <tr>\n",
       "      <th>5</th>\n",
       "      <td>bike_75</td>\n",
       "      <td>8760</td>\n",
       "      <td>14</td>\n",
       "      <td>9</td>\n",
       "      <td>4</td>\n",
       "      <td>61</td>\n",
       "      <td>0.0070</td>\n",
       "      <td>demand-prediction</td>\n",
       "      <td>organic</td>\n",
       "      <td>13.0</td>\n",
       "      <td>...</td>\n",
       "      <td>NaN</td>\n",
       "      <td>NaN</td>\n",
       "      <td>NaN</td>\n",
       "      <td>0.00</td>\n",
       "      <td>0.01</td>\n",
       "      <td>0.0</td>\n",
       "      <td>1.0</td>\n",
       "      <td>0.01</td>\n",
       "      <td>0.03</td>\n",
       "      <td>0.01</td>\n",
       "    </tr>\n",
       "    <tr>\n",
       "      <th>6</th>\n",
       "      <td>bike_mean</td>\n",
       "      <td>8760</td>\n",
       "      <td>14</td>\n",
       "      <td>9</td>\n",
       "      <td>4</td>\n",
       "      <td>3523</td>\n",
       "      <td>0.4022</td>\n",
       "      <td>demand-prediction</td>\n",
       "      <td>organic</td>\n",
       "      <td>13.0</td>\n",
       "      <td>...</td>\n",
       "      <td>NaN</td>\n",
       "      <td>NaN</td>\n",
       "      <td>NaN</td>\n",
       "      <td>0.00</td>\n",
       "      <td>0.42</td>\n",
       "      <td>0.0</td>\n",
       "      <td>1.0</td>\n",
       "      <td>0.42</td>\n",
       "      <td>0.78</td>\n",
       "      <td>0.59</td>\n",
       "    </tr>\n",
       "    <tr>\n",
       "      <th>7</th>\n",
       "      <td>orange_up</td>\n",
       "      <td>50000</td>\n",
       "      <td>213</td>\n",
       "      <td>174</td>\n",
       "      <td>38</td>\n",
       "      <td>3682</td>\n",
       "      <td>0.0736</td>\n",
       "      <td>product recommendation</td>\n",
       "      <td>organic</td>\n",
       "      <td>212.0</td>\n",
       "      <td>...</td>\n",
       "      <td>NaN</td>\n",
       "      <td>NaN</td>\n",
       "      <td>NaN</td>\n",
       "      <td>0.00</td>\n",
       "      <td>0.07</td>\n",
       "      <td>0.0</td>\n",
       "      <td>1.0</td>\n",
       "      <td>0.07</td>\n",
       "      <td>0.28</td>\n",
       "      <td>0.13</td>\n",
       "    </tr>\n",
       "    <tr>\n",
       "      <th>8</th>\n",
       "      <td>orange_churn</td>\n",
       "      <td>50000</td>\n",
       "      <td>213</td>\n",
       "      <td>174</td>\n",
       "      <td>38</td>\n",
       "      <td>3672</td>\n",
       "      <td>0.0734</td>\n",
       "      <td>churn</td>\n",
       "      <td>organic</td>\n",
       "      <td>212.0</td>\n",
       "      <td>...</td>\n",
       "      <td>NaN</td>\n",
       "      <td>NaN</td>\n",
       "      <td>NaN</td>\n",
       "      <td>0.01</td>\n",
       "      <td>0.08</td>\n",
       "      <td>0.0</td>\n",
       "      <td>1.0</td>\n",
       "      <td>0.08</td>\n",
       "      <td>0.29</td>\n",
       "      <td>0.14</td>\n",
       "    </tr>\n",
       "    <tr>\n",
       "      <th>9</th>\n",
       "      <td>adult</td>\n",
       "      <td>32561</td>\n",
       "      <td>13</td>\n",
       "      <td>4</td>\n",
       "      <td>8</td>\n",
       "      <td>7841</td>\n",
       "      <td>0.2408</td>\n",
       "      <td>income_prediction</td>\n",
       "      <td>organic</td>\n",
       "      <td>12.0</td>\n",
       "      <td>...</td>\n",
       "      <td>NaN</td>\n",
       "      <td>NaN</td>\n",
       "      <td>NaN</td>\n",
       "      <td>0.01</td>\n",
       "      <td>0.23</td>\n",
       "      <td>0.0</td>\n",
       "      <td>1.0</td>\n",
       "      <td>0.23</td>\n",
       "      <td>0.60</td>\n",
       "      <td>0.37</td>\n",
       "    </tr>\n",
       "    <tr>\n",
       "      <th>10</th>\n",
       "      <td>house</td>\n",
       "      <td>22784</td>\n",
       "      <td>17</td>\n",
       "      <td>16</td>\n",
       "      <td>0</td>\n",
       "      <td>6744</td>\n",
       "      <td>0.2960</td>\n",
       "      <td>price_prediction</td>\n",
       "      <td>organic</td>\n",
       "      <td>16.0</td>\n",
       "      <td>...</td>\n",
       "      <td>NaN</td>\n",
       "      <td>NaN</td>\n",
       "      <td>NaN</td>\n",
       "      <td>0.00</td>\n",
       "      <td>0.29</td>\n",
       "      <td>0.0</td>\n",
       "      <td>1.0</td>\n",
       "      <td>0.29</td>\n",
       "      <td>0.67</td>\n",
       "      <td>0.45</td>\n",
       "    </tr>\n",
       "    <tr>\n",
       "      <th>11</th>\n",
       "      <td>heloc</td>\n",
       "      <td>10459</td>\n",
       "      <td>24</td>\n",
       "      <td>23</td>\n",
       "      <td>0</td>\n",
       "      <td>5000</td>\n",
       "      <td>0.4781</td>\n",
       "      <td>credit</td>\n",
       "      <td>organic</td>\n",
       "      <td>23.0</td>\n",
       "      <td>...</td>\n",
       "      <td>NaN</td>\n",
       "      <td>NaN</td>\n",
       "      <td>NaN</td>\n",
       "      <td>0.00</td>\n",
       "      <td>0.48</td>\n",
       "      <td>0.0</td>\n",
       "      <td>1.0</td>\n",
       "      <td>0.48</td>\n",
       "      <td>0.82</td>\n",
       "      <td>0.65</td>\n",
       "    </tr>\n",
       "    <tr>\n",
       "      <th>12</th>\n",
       "      <td>telco_churn</td>\n",
       "      <td>3333</td>\n",
       "      <td>20</td>\n",
       "      <td>16</td>\n",
       "      <td>3</td>\n",
       "      <td>483</td>\n",
       "      <td>0.1449</td>\n",
       "      <td>churn</td>\n",
       "      <td>organic</td>\n",
       "      <td>19.0</td>\n",
       "      <td>...</td>\n",
       "      <td>NaN</td>\n",
       "      <td>NaN</td>\n",
       "      <td>NaN</td>\n",
       "      <td>0.00</td>\n",
       "      <td>0.15</td>\n",
       "      <td>0.0</td>\n",
       "      <td>1.0</td>\n",
       "      <td>0.15</td>\n",
       "      <td>0.47</td>\n",
       "      <td>0.26</td>\n",
       "    </tr>\n",
       "    <tr>\n",
       "      <th>13</th>\n",
       "      <td>electricity</td>\n",
       "      <td>45312</td>\n",
       "      <td>9</td>\n",
       "      <td>8</td>\n",
       "      <td>0</td>\n",
       "      <td>19237</td>\n",
       "      <td>0.4245</td>\n",
       "      <td>price_sensitivity</td>\n",
       "      <td>organic</td>\n",
       "      <td>8.0</td>\n",
       "      <td>...</td>\n",
       "      <td>NaN</td>\n",
       "      <td>NaN</td>\n",
       "      <td>NaN</td>\n",
       "      <td>0.00</td>\n",
       "      <td>0.42</td>\n",
       "      <td>0.0</td>\n",
       "      <td>1.0</td>\n",
       "      <td>0.42</td>\n",
       "      <td>0.79</td>\n",
       "      <td>0.59</td>\n",
       "    </tr>\n",
       "    <tr>\n",
       "      <th>14</th>\n",
       "      <td>bank_marketing</td>\n",
       "      <td>4118</td>\n",
       "      <td>21</td>\n",
       "      <td>10</td>\n",
       "      <td>10</td>\n",
       "      <td>451</td>\n",
       "      <td>0.1095</td>\n",
       "      <td>product_recommendation</td>\n",
       "      <td>organic</td>\n",
       "      <td>20.0</td>\n",
       "      <td>...</td>\n",
       "      <td>NaN</td>\n",
       "      <td>NaN</td>\n",
       "      <td>NaN</td>\n",
       "      <td>0.00</td>\n",
       "      <td>0.10</td>\n",
       "      <td>0.0</td>\n",
       "      <td>1.0</td>\n",
       "      <td>0.10</td>\n",
       "      <td>0.36</td>\n",
       "      <td>0.19</td>\n",
       "    </tr>\n",
       "    <tr>\n",
       "      <th>15</th>\n",
       "      <td>telco_churn_2</td>\n",
       "      <td>2000</td>\n",
       "      <td>14</td>\n",
       "      <td>9</td>\n",
       "      <td>4</td>\n",
       "      <td>1000</td>\n",
       "      <td>0.5000</td>\n",
       "      <td>churn</td>\n",
       "      <td>organic</td>\n",
       "      <td>13.0</td>\n",
       "      <td>...</td>\n",
       "      <td>NaN</td>\n",
       "      <td>NaN</td>\n",
       "      <td>NaN</td>\n",
       "      <td>0.00</td>\n",
       "      <td>0.51</td>\n",
       "      <td>0.0</td>\n",
       "      <td>1.0</td>\n",
       "      <td>0.51</td>\n",
       "      <td>0.84</td>\n",
       "      <td>0.67</td>\n",
       "    </tr>\n",
       "    <tr>\n",
       "      <th>16</th>\n",
       "      <td>boston</td>\n",
       "      <td>506</td>\n",
       "      <td>14</td>\n",
       "      <td>13</td>\n",
       "      <td>0</td>\n",
       "      <td>209</td>\n",
       "      <td>0.4130</td>\n",
       "      <td>price_prediction</td>\n",
       "      <td>organic</td>\n",
       "      <td>13.0</td>\n",
       "      <td>...</td>\n",
       "      <td>NaN</td>\n",
       "      <td>NaN</td>\n",
       "      <td>NaN</td>\n",
       "      <td>0.00</td>\n",
       "      <td>0.47</td>\n",
       "      <td>0.0</td>\n",
       "      <td>1.0</td>\n",
       "      <td>0.47</td>\n",
       "      <td>0.81</td>\n",
       "      <td>0.64</td>\n",
       "    </tr>\n",
       "  </tbody>\n",
       "</table>\n",
       "<p>17 rows × 242 columns</p>\n",
       "</div>"
      ],
      "text/plain": [
       "           data_set  nof_rows  nof_col  nof_num_features  nof_cat_features  \\\n",
       "0     german_credit      1000       21                 7                13   \n",
       "1     taiwan_credit     30000       24                14                 9   \n",
       "2            compas      7210        8                 0                 7   \n",
       "3   fraud_detection    284807       31                30                 0   \n",
       "4      fraud_oracle     15420       33                 8                24   \n",
       "5           bike_75      8760       14                 9                 4   \n",
       "6         bike_mean      8760       14                 9                 4   \n",
       "7         orange_up     50000      213               174                38   \n",
       "8      orange_churn     50000      213               174                38   \n",
       "9             adult     32561       13                 4                 8   \n",
       "10            house     22784       17                16                 0   \n",
       "11            heloc     10459       24                23                 0   \n",
       "12      telco_churn      3333       20                16                 3   \n",
       "13      electricity     45312        9                 8                 0   \n",
       "14   bank_marketing      4118       21                10                10   \n",
       "15    telco_churn_2      2000       14                 9                 4   \n",
       "16           boston       506       14                13                 0   \n",
       "\n",
       "    nof_pos  pos_ratio                use_case   origin  LENC_nof_bin_cols  \\\n",
       "0       300     0.3000                  credit  organic               20.0   \n",
       "1      6636     0.2212                  credit  organic               23.0   \n",
       "2      3250     0.4508              recidivism  organic                7.0   \n",
       "3       492     0.0017       transaction-fraud  organic               30.0   \n",
       "4       923     0.0599         insurance-fraud  organic               32.0   \n",
       "5        61     0.0070       demand-prediction  organic               13.0   \n",
       "6      3523     0.4022       demand-prediction  organic               13.0   \n",
       "7      3682     0.0736  product recommendation  organic              212.0   \n",
       "8      3672     0.0734                   churn  organic              212.0   \n",
       "9      7841     0.2408       income_prediction  organic               12.0   \n",
       "10     6744     0.2960        price_prediction  organic               16.0   \n",
       "11     5000     0.4781                  credit  organic               23.0   \n",
       "12      483     0.1449                   churn  organic               19.0   \n",
       "13    19237     0.4245       price_sensitivity  organic                8.0   \n",
       "14      451     0.1095  product_recommendation  organic               20.0   \n",
       "15     1000     0.5000                   churn  organic               13.0   \n",
       "16      209     0.4130        price_prediction  organic               13.0   \n",
       "\n",
       "    ...  TREES-BRCG2exception  TREES-BRCGexception  TREES2-BRCGexception  \\\n",
       "0   ...                   NaN                  NaN                   NaN   \n",
       "1   ...                   NaN                  NaN                   NaN   \n",
       "2   ...                   NaN                  NaN                   NaN   \n",
       "3   ...                   NaN                  NaN                   NaN   \n",
       "4   ...                   NaN                  NaN                   NaN   \n",
       "5   ...                   NaN                  NaN                   NaN   \n",
       "6   ...                   NaN                  NaN                   NaN   \n",
       "7   ...                   NaN                  NaN                   NaN   \n",
       "8   ...                   NaN                  NaN                   NaN   \n",
       "9   ...                   NaN                  NaN                   NaN   \n",
       "10  ...                   NaN                  NaN                   NaN   \n",
       "11  ...                   NaN                  NaN                   NaN   \n",
       "12  ...                   NaN                  NaN                   NaN   \n",
       "13  ...                   NaN                  NaN                   NaN   \n",
       "14  ...                   NaN                  NaN                   NaN   \n",
       "15  ...                   NaN                  NaN                   NaN   \n",
       "16  ...                   NaN                  NaN                   NaN   \n",
       "\n",
       "    NATIVE-CONST_runtime  NATIVE-CONST_acc  NATIVE-CONST_adj_bal_acc  \\\n",
       "0                   0.00              0.29                       0.0   \n",
       "1                   0.00              0.22                       0.0   \n",
       "2                   0.00              0.46                       0.0   \n",
       "3                   0.00              0.00                       0.0   \n",
       "4                   0.00              0.07                       0.0   \n",
       "5                   0.00              0.01                       0.0   \n",
       "6                   0.00              0.42                       0.0   \n",
       "7                   0.00              0.07                       0.0   \n",
       "8                   0.01              0.08                       0.0   \n",
       "9                   0.01              0.23                       0.0   \n",
       "10                  0.00              0.29                       0.0   \n",
       "11                  0.00              0.48                       0.0   \n",
       "12                  0.00              0.15                       0.0   \n",
       "13                  0.00              0.42                       0.0   \n",
       "14                  0.00              0.10                       0.0   \n",
       "15                  0.00              0.51                       0.0   \n",
       "16                  0.00              0.47                       0.0   \n",
       "\n",
       "    NATIVE-CONST_recall  NATIVE-CONST_precision  NATIVE-CONST_f2  \\\n",
       "0                   1.0                    0.29             0.67   \n",
       "1                   1.0                    0.22             0.59   \n",
       "2                   1.0                    0.46             0.81   \n",
       "3                   1.0                    0.00             0.01   \n",
       "4                   1.0                    0.07             0.26   \n",
       "5                   1.0                    0.01             0.03   \n",
       "6                   1.0                    0.42             0.78   \n",
       "7                   1.0                    0.07             0.28   \n",
       "8                   1.0                    0.08             0.29   \n",
       "9                   1.0                    0.23             0.60   \n",
       "10                  1.0                    0.29             0.67   \n",
       "11                  1.0                    0.48             0.82   \n",
       "12                  1.0                    0.15             0.47   \n",
       "13                  1.0                    0.42             0.79   \n",
       "14                  1.0                    0.10             0.36   \n",
       "15                  1.0                    0.51             0.84   \n",
       "16                  1.0                    0.47             0.81   \n",
       "\n",
       "    NATIVE-CONST_f  \n",
       "0             0.45  \n",
       "1             0.36  \n",
       "2             0.63  \n",
       "3             0.00  \n",
       "4             0.13  \n",
       "5             0.01  \n",
       "6             0.59  \n",
       "7             0.13  \n",
       "8             0.14  \n",
       "9             0.37  \n",
       "10            0.45  \n",
       "11            0.65  \n",
       "12            0.26  \n",
       "13            0.59  \n",
       "14            0.19  \n",
       "15            0.67  \n",
       "16            0.64  \n",
       "\n",
       "[17 rows x 242 columns]"
      ]
     },
     "execution_count": 1042,
     "metadata": {},
     "output_type": "execute_result"
    }
   ],
   "source": [
    "full_df = pd.read_csv('results_1.csv')\n",
    "full_df"
   ]
  },
  {
   "cell_type": "code",
   "execution_count": 1043,
   "metadata": {},
   "outputs": [],
   "source": [
    "# Enriching result table\n",
    "\n",
    "def max_performance(row, metric='f', max_rules=None):\n",
    "    if max_rules is None:\n",
    "        l = [ row[p+'_'+metric] for p in ALL_RI_PIPELINES ]\n",
    "    else:\n",
    "        l = [ row[p+'_'+metric] for p in ALL_RI_PIPELINES if row[p+'_nof_rules'] <= max_rules ]\n",
    "    if len(l) == 0:\n",
    "        return 0\n",
    "    else:\n",
    "        return np.nanmax(l)   \n",
    "\n",
    "for m in ['f', 'f2', 'adj_bal_acc', 'recall', 'precision']:\n",
    "    metric = 'maxRI_'+m\n",
    "    full_df[metric] = full_df.apply(max_performance, metric=m, axis=1)\n",
    "    for r in [5, 10, 25, 50]:\n",
    "        metric = 'maxRI'+str(r)+'_'+m\n",
    "        full_df[metric] = full_df.apply(max_performance, metric=m, max_rules=r, axis=1)\n"
   ]
  },
  {
   "attachments": {},
   "cell_type": "markdown",
   "metadata": {},
   "source": [
    "## Core Suite Definition and Stats\n"
   ]
  },
  {
   "cell_type": "code",
   "execution_count": 1044,
   "metadata": {},
   "outputs": [
    {
     "data": {
      "text/html": [
       "<div>\n",
       "<style scoped>\n",
       "    .dataframe tbody tr th:only-of-type {\n",
       "        vertical-align: middle;\n",
       "    }\n",
       "\n",
       "    .dataframe tbody tr th {\n",
       "        vertical-align: top;\n",
       "    }\n",
       "\n",
       "    .dataframe thead th {\n",
       "        text-align: right;\n",
       "    }\n",
       "</style>\n",
       "<table border=\"1\" class=\"dataframe\">\n",
       "  <thead>\n",
       "    <tr style=\"text-align: right;\">\n",
       "      <th></th>\n",
       "      <th>data_set</th>\n",
       "      <th>nof_rows</th>\n",
       "      <th>nof_col</th>\n",
       "      <th>nof_num_features</th>\n",
       "      <th>nof_cat_features</th>\n",
       "      <th>nof_pos</th>\n",
       "      <th>pos_ratio</th>\n",
       "      <th>use_case</th>\n",
       "      <th>origin</th>\n",
       "      <th>LENC_nof_bin_cols</th>\n",
       "      <th>...</th>\n",
       "      <th>maxRI_recall</th>\n",
       "      <th>maxRI5_recall</th>\n",
       "      <th>maxRI10_recall</th>\n",
       "      <th>maxRI25_recall</th>\n",
       "      <th>maxRI50_recall</th>\n",
       "      <th>maxRI_precision</th>\n",
       "      <th>maxRI5_precision</th>\n",
       "      <th>maxRI10_precision</th>\n",
       "      <th>maxRI25_precision</th>\n",
       "      <th>maxRI50_precision</th>\n",
       "    </tr>\n",
       "  </thead>\n",
       "  <tbody>\n",
       "    <tr>\n",
       "      <th>0</th>\n",
       "      <td>fraud_detection</td>\n",
       "      <td>284807</td>\n",
       "      <td>31</td>\n",
       "      <td>30</td>\n",
       "      <td>0</td>\n",
       "      <td>492</td>\n",
       "      <td>0.0017</td>\n",
       "      <td>transaction-fraud</td>\n",
       "      <td>organic</td>\n",
       "      <td>30.0</td>\n",
       "      <td>...</td>\n",
       "      <td>0.73</td>\n",
       "      <td>0.67</td>\n",
       "      <td>0.73</td>\n",
       "      <td>0.73</td>\n",
       "      <td>0.73</td>\n",
       "      <td>1.0</td>\n",
       "      <td>1.0</td>\n",
       "      <td>1.0</td>\n",
       "      <td>1.0</td>\n",
       "      <td>1.0</td>\n",
       "    </tr>\n",
       "    <tr>\n",
       "      <th>1</th>\n",
       "      <td>bike_75</td>\n",
       "      <td>8760</td>\n",
       "      <td>14</td>\n",
       "      <td>9</td>\n",
       "      <td>4</td>\n",
       "      <td>61</td>\n",
       "      <td>0.0070</td>\n",
       "      <td>demand-prediction</td>\n",
       "      <td>organic</td>\n",
       "      <td>13.0</td>\n",
       "      <td>...</td>\n",
       "      <td>0.93</td>\n",
       "      <td>0.93</td>\n",
       "      <td>0.93</td>\n",
       "      <td>0.93</td>\n",
       "      <td>0.93</td>\n",
       "      <td>1.0</td>\n",
       "      <td>1.0</td>\n",
       "      <td>1.0</td>\n",
       "      <td>1.0</td>\n",
       "      <td>1.0</td>\n",
       "    </tr>\n",
       "    <tr>\n",
       "      <th>2</th>\n",
       "      <td>fraud_oracle</td>\n",
       "      <td>15420</td>\n",
       "      <td>33</td>\n",
       "      <td>8</td>\n",
       "      <td>24</td>\n",
       "      <td>923</td>\n",
       "      <td>0.0599</td>\n",
       "      <td>insurance-fraud</td>\n",
       "      <td>organic</td>\n",
       "      <td>32.0</td>\n",
       "      <td>...</td>\n",
       "      <td>0.98</td>\n",
       "      <td>0.05</td>\n",
       "      <td>0.05</td>\n",
       "      <td>0.98</td>\n",
       "      <td>0.98</td>\n",
       "      <td>1.0</td>\n",
       "      <td>1.0</td>\n",
       "      <td>1.0</td>\n",
       "      <td>1.0</td>\n",
       "      <td>1.0</td>\n",
       "    </tr>\n",
       "    <tr>\n",
       "      <th>3</th>\n",
       "      <td>orange_churn</td>\n",
       "      <td>50000</td>\n",
       "      <td>213</td>\n",
       "      <td>174</td>\n",
       "      <td>38</td>\n",
       "      <td>3672</td>\n",
       "      <td>0.0734</td>\n",
       "      <td>churn</td>\n",
       "      <td>organic</td>\n",
       "      <td>212.0</td>\n",
       "      <td>...</td>\n",
       "      <td>0.15</td>\n",
       "      <td>0.02</td>\n",
       "      <td>0.02</td>\n",
       "      <td>0.04</td>\n",
       "      <td>0.04</td>\n",
       "      <td>1.0</td>\n",
       "      <td>1.0</td>\n",
       "      <td>1.0</td>\n",
       "      <td>1.0</td>\n",
       "      <td>1.0</td>\n",
       "    </tr>\n",
       "    <tr>\n",
       "      <th>4</th>\n",
       "      <td>orange_up</td>\n",
       "      <td>50000</td>\n",
       "      <td>213</td>\n",
       "      <td>174</td>\n",
       "      <td>38</td>\n",
       "      <td>3682</td>\n",
       "      <td>0.0736</td>\n",
       "      <td>product recommendation</td>\n",
       "      <td>organic</td>\n",
       "      <td>212.0</td>\n",
       "      <td>...</td>\n",
       "      <td>0.45</td>\n",
       "      <td>0.43</td>\n",
       "      <td>0.43</td>\n",
       "      <td>0.45</td>\n",
       "      <td>0.45</td>\n",
       "      <td>1.0</td>\n",
       "      <td>1.0</td>\n",
       "      <td>1.0</td>\n",
       "      <td>1.0</td>\n",
       "      <td>1.0</td>\n",
       "    </tr>\n",
       "    <tr>\n",
       "      <th>5</th>\n",
       "      <td>bank_marketing</td>\n",
       "      <td>4118</td>\n",
       "      <td>21</td>\n",
       "      <td>10</td>\n",
       "      <td>10</td>\n",
       "      <td>451</td>\n",
       "      <td>0.1095</td>\n",
       "      <td>product_recommendation</td>\n",
       "      <td>organic</td>\n",
       "      <td>20.0</td>\n",
       "      <td>...</td>\n",
       "      <td>0.53</td>\n",
       "      <td>0.36</td>\n",
       "      <td>0.48</td>\n",
       "      <td>0.48</td>\n",
       "      <td>0.48</td>\n",
       "      <td>1.0</td>\n",
       "      <td>1.0</td>\n",
       "      <td>1.0</td>\n",
       "      <td>1.0</td>\n",
       "      <td>1.0</td>\n",
       "    </tr>\n",
       "    <tr>\n",
       "      <th>6</th>\n",
       "      <td>telco_churn</td>\n",
       "      <td>3333</td>\n",
       "      <td>20</td>\n",
       "      <td>16</td>\n",
       "      <td>3</td>\n",
       "      <td>483</td>\n",
       "      <td>0.1449</td>\n",
       "      <td>churn</td>\n",
       "      <td>organic</td>\n",
       "      <td>19.0</td>\n",
       "      <td>...</td>\n",
       "      <td>0.77</td>\n",
       "      <td>0.60</td>\n",
       "      <td>0.77</td>\n",
       "      <td>0.77</td>\n",
       "      <td>0.77</td>\n",
       "      <td>1.0</td>\n",
       "      <td>1.0</td>\n",
       "      <td>1.0</td>\n",
       "      <td>1.0</td>\n",
       "      <td>1.0</td>\n",
       "    </tr>\n",
       "    <tr>\n",
       "      <th>7</th>\n",
       "      <td>taiwan_credit</td>\n",
       "      <td>30000</td>\n",
       "      <td>24</td>\n",
       "      <td>14</td>\n",
       "      <td>9</td>\n",
       "      <td>6636</td>\n",
       "      <td>0.2212</td>\n",
       "      <td>credit</td>\n",
       "      <td>organic</td>\n",
       "      <td>23.0</td>\n",
       "      <td>...</td>\n",
       "      <td>0.42</td>\n",
       "      <td>0.32</td>\n",
       "      <td>0.32</td>\n",
       "      <td>0.33</td>\n",
       "      <td>0.33</td>\n",
       "      <td>1.0</td>\n",
       "      <td>1.0</td>\n",
       "      <td>1.0</td>\n",
       "      <td>1.0</td>\n",
       "      <td>1.0</td>\n",
       "    </tr>\n",
       "    <tr>\n",
       "      <th>8</th>\n",
       "      <td>adult</td>\n",
       "      <td>32561</td>\n",
       "      <td>13</td>\n",
       "      <td>4</td>\n",
       "      <td>8</td>\n",
       "      <td>7841</td>\n",
       "      <td>0.2408</td>\n",
       "      <td>income_prediction</td>\n",
       "      <td>organic</td>\n",
       "      <td>12.0</td>\n",
       "      <td>...</td>\n",
       "      <td>0.85</td>\n",
       "      <td>0.85</td>\n",
       "      <td>0.85</td>\n",
       "      <td>0.85</td>\n",
       "      <td>0.85</td>\n",
       "      <td>1.0</td>\n",
       "      <td>1.0</td>\n",
       "      <td>1.0</td>\n",
       "      <td>1.0</td>\n",
       "      <td>1.0</td>\n",
       "    </tr>\n",
       "    <tr>\n",
       "      <th>9</th>\n",
       "      <td>house</td>\n",
       "      <td>22784</td>\n",
       "      <td>17</td>\n",
       "      <td>16</td>\n",
       "      <td>0</td>\n",
       "      <td>6744</td>\n",
       "      <td>0.2960</td>\n",
       "      <td>price_prediction</td>\n",
       "      <td>organic</td>\n",
       "      <td>16.0</td>\n",
       "      <td>...</td>\n",
       "      <td>0.91</td>\n",
       "      <td>0.91</td>\n",
       "      <td>0.91</td>\n",
       "      <td>0.91</td>\n",
       "      <td>0.91</td>\n",
       "      <td>1.0</td>\n",
       "      <td>1.0</td>\n",
       "      <td>1.0</td>\n",
       "      <td>1.0</td>\n",
       "      <td>1.0</td>\n",
       "    </tr>\n",
       "    <tr>\n",
       "      <th>10</th>\n",
       "      <td>german_credit</td>\n",
       "      <td>1000</td>\n",
       "      <td>21</td>\n",
       "      <td>7</td>\n",
       "      <td>13</td>\n",
       "      <td>300</td>\n",
       "      <td>0.3000</td>\n",
       "      <td>credit</td>\n",
       "      <td>organic</td>\n",
       "      <td>20.0</td>\n",
       "      <td>...</td>\n",
       "      <td>0.62</td>\n",
       "      <td>0.33</td>\n",
       "      <td>0.51</td>\n",
       "      <td>0.62</td>\n",
       "      <td>0.62</td>\n",
       "      <td>1.0</td>\n",
       "      <td>1.0</td>\n",
       "      <td>1.0</td>\n",
       "      <td>1.0</td>\n",
       "      <td>1.0</td>\n",
       "    </tr>\n",
       "    <tr>\n",
       "      <th>11</th>\n",
       "      <td>bike_mean</td>\n",
       "      <td>8760</td>\n",
       "      <td>14</td>\n",
       "      <td>9</td>\n",
       "      <td>4</td>\n",
       "      <td>3523</td>\n",
       "      <td>0.4022</td>\n",
       "      <td>demand-prediction</td>\n",
       "      <td>organic</td>\n",
       "      <td>13.0</td>\n",
       "      <td>...</td>\n",
       "      <td>0.92</td>\n",
       "      <td>0.92</td>\n",
       "      <td>0.92</td>\n",
       "      <td>0.92</td>\n",
       "      <td>0.92</td>\n",
       "      <td>1.0</td>\n",
       "      <td>1.0</td>\n",
       "      <td>1.0</td>\n",
       "      <td>1.0</td>\n",
       "      <td>1.0</td>\n",
       "    </tr>\n",
       "    <tr>\n",
       "      <th>12</th>\n",
       "      <td>boston</td>\n",
       "      <td>506</td>\n",
       "      <td>14</td>\n",
       "      <td>13</td>\n",
       "      <td>0</td>\n",
       "      <td>209</td>\n",
       "      <td>0.4130</td>\n",
       "      <td>price_prediction</td>\n",
       "      <td>organic</td>\n",
       "      <td>13.0</td>\n",
       "      <td>...</td>\n",
       "      <td>0.90</td>\n",
       "      <td>0.86</td>\n",
       "      <td>0.90</td>\n",
       "      <td>0.90</td>\n",
       "      <td>0.90</td>\n",
       "      <td>1.0</td>\n",
       "      <td>1.0</td>\n",
       "      <td>1.0</td>\n",
       "      <td>1.0</td>\n",
       "      <td>1.0</td>\n",
       "    </tr>\n",
       "    <tr>\n",
       "      <th>13</th>\n",
       "      <td>electricity</td>\n",
       "      <td>45312</td>\n",
       "      <td>9</td>\n",
       "      <td>8</td>\n",
       "      <td>0</td>\n",
       "      <td>19237</td>\n",
       "      <td>0.4245</td>\n",
       "      <td>price_sensitivity</td>\n",
       "      <td>organic</td>\n",
       "      <td>8.0</td>\n",
       "      <td>...</td>\n",
       "      <td>0.86</td>\n",
       "      <td>0.67</td>\n",
       "      <td>0.67</td>\n",
       "      <td>0.67</td>\n",
       "      <td>0.67</td>\n",
       "      <td>1.0</td>\n",
       "      <td>1.0</td>\n",
       "      <td>1.0</td>\n",
       "      <td>1.0</td>\n",
       "      <td>1.0</td>\n",
       "    </tr>\n",
       "    <tr>\n",
       "      <th>14</th>\n",
       "      <td>compas</td>\n",
       "      <td>7210</td>\n",
       "      <td>8</td>\n",
       "      <td>0</td>\n",
       "      <td>7</td>\n",
       "      <td>3250</td>\n",
       "      <td>0.4508</td>\n",
       "      <td>recidivism</td>\n",
       "      <td>organic</td>\n",
       "      <td>7.0</td>\n",
       "      <td>...</td>\n",
       "      <td>0.56</td>\n",
       "      <td>0.56</td>\n",
       "      <td>0.56</td>\n",
       "      <td>0.56</td>\n",
       "      <td>0.56</td>\n",
       "      <td>1.0</td>\n",
       "      <td>1.0</td>\n",
       "      <td>1.0</td>\n",
       "      <td>1.0</td>\n",
       "      <td>1.0</td>\n",
       "    </tr>\n",
       "    <tr>\n",
       "      <th>15</th>\n",
       "      <td>heloc</td>\n",
       "      <td>10459</td>\n",
       "      <td>24</td>\n",
       "      <td>23</td>\n",
       "      <td>0</td>\n",
       "      <td>5000</td>\n",
       "      <td>0.4781</td>\n",
       "      <td>credit</td>\n",
       "      <td>organic</td>\n",
       "      <td>23.0</td>\n",
       "      <td>...</td>\n",
       "      <td>0.99</td>\n",
       "      <td>0.99</td>\n",
       "      <td>0.99</td>\n",
       "      <td>0.99</td>\n",
       "      <td>0.99</td>\n",
       "      <td>1.0</td>\n",
       "      <td>1.0</td>\n",
       "      <td>1.0</td>\n",
       "      <td>1.0</td>\n",
       "      <td>1.0</td>\n",
       "    </tr>\n",
       "    <tr>\n",
       "      <th>16</th>\n",
       "      <td>telco_churn_2</td>\n",
       "      <td>2000</td>\n",
       "      <td>14</td>\n",
       "      <td>9</td>\n",
       "      <td>4</td>\n",
       "      <td>1000</td>\n",
       "      <td>0.5000</td>\n",
       "      <td>churn</td>\n",
       "      <td>organic</td>\n",
       "      <td>13.0</td>\n",
       "      <td>...</td>\n",
       "      <td>0.94</td>\n",
       "      <td>0.94</td>\n",
       "      <td>0.94</td>\n",
       "      <td>0.94</td>\n",
       "      <td>0.94</td>\n",
       "      <td>1.0</td>\n",
       "      <td>1.0</td>\n",
       "      <td>1.0</td>\n",
       "      <td>1.0</td>\n",
       "      <td>1.0</td>\n",
       "    </tr>\n",
       "  </tbody>\n",
       "</table>\n",
       "<p>17 rows × 267 columns</p>\n",
       "</div>"
      ],
      "text/plain": [
       "           data_set  nof_rows  nof_col  nof_num_features  nof_cat_features  \\\n",
       "0   fraud_detection    284807       31                30                 0   \n",
       "1           bike_75      8760       14                 9                 4   \n",
       "2      fraud_oracle     15420       33                 8                24   \n",
       "3      orange_churn     50000      213               174                38   \n",
       "4         orange_up     50000      213               174                38   \n",
       "5    bank_marketing      4118       21                10                10   \n",
       "6       telco_churn      3333       20                16                 3   \n",
       "7     taiwan_credit     30000       24                14                 9   \n",
       "8             adult     32561       13                 4                 8   \n",
       "9             house     22784       17                16                 0   \n",
       "10    german_credit      1000       21                 7                13   \n",
       "11        bike_mean      8760       14                 9                 4   \n",
       "12           boston       506       14                13                 0   \n",
       "13      electricity     45312        9                 8                 0   \n",
       "14           compas      7210        8                 0                 7   \n",
       "15            heloc     10459       24                23                 0   \n",
       "16    telco_churn_2      2000       14                 9                 4   \n",
       "\n",
       "    nof_pos  pos_ratio                use_case   origin  LENC_nof_bin_cols  \\\n",
       "0       492     0.0017       transaction-fraud  organic               30.0   \n",
       "1        61     0.0070       demand-prediction  organic               13.0   \n",
       "2       923     0.0599         insurance-fraud  organic               32.0   \n",
       "3      3672     0.0734                   churn  organic              212.0   \n",
       "4      3682     0.0736  product recommendation  organic              212.0   \n",
       "5       451     0.1095  product_recommendation  organic               20.0   \n",
       "6       483     0.1449                   churn  organic               19.0   \n",
       "7      6636     0.2212                  credit  organic               23.0   \n",
       "8      7841     0.2408       income_prediction  organic               12.0   \n",
       "9      6744     0.2960        price_prediction  organic               16.0   \n",
       "10      300     0.3000                  credit  organic               20.0   \n",
       "11     3523     0.4022       demand-prediction  organic               13.0   \n",
       "12      209     0.4130        price_prediction  organic               13.0   \n",
       "13    19237     0.4245       price_sensitivity  organic                8.0   \n",
       "14     3250     0.4508              recidivism  organic                7.0   \n",
       "15     5000     0.4781                  credit  organic               23.0   \n",
       "16     1000     0.5000                   churn  organic               13.0   \n",
       "\n",
       "    ...  maxRI_recall  maxRI5_recall  maxRI10_recall  maxRI25_recall  \\\n",
       "0   ...          0.73           0.67            0.73            0.73   \n",
       "1   ...          0.93           0.93            0.93            0.93   \n",
       "2   ...          0.98           0.05            0.05            0.98   \n",
       "3   ...          0.15           0.02            0.02            0.04   \n",
       "4   ...          0.45           0.43            0.43            0.45   \n",
       "5   ...          0.53           0.36            0.48            0.48   \n",
       "6   ...          0.77           0.60            0.77            0.77   \n",
       "7   ...          0.42           0.32            0.32            0.33   \n",
       "8   ...          0.85           0.85            0.85            0.85   \n",
       "9   ...          0.91           0.91            0.91            0.91   \n",
       "10  ...          0.62           0.33            0.51            0.62   \n",
       "11  ...          0.92           0.92            0.92            0.92   \n",
       "12  ...          0.90           0.86            0.90            0.90   \n",
       "13  ...          0.86           0.67            0.67            0.67   \n",
       "14  ...          0.56           0.56            0.56            0.56   \n",
       "15  ...          0.99           0.99            0.99            0.99   \n",
       "16  ...          0.94           0.94            0.94            0.94   \n",
       "\n",
       "    maxRI50_recall  maxRI_precision  maxRI5_precision  maxRI10_precision  \\\n",
       "0             0.73              1.0               1.0                1.0   \n",
       "1             0.93              1.0               1.0                1.0   \n",
       "2             0.98              1.0               1.0                1.0   \n",
       "3             0.04              1.0               1.0                1.0   \n",
       "4             0.45              1.0               1.0                1.0   \n",
       "5             0.48              1.0               1.0                1.0   \n",
       "6             0.77              1.0               1.0                1.0   \n",
       "7             0.33              1.0               1.0                1.0   \n",
       "8             0.85              1.0               1.0                1.0   \n",
       "9             0.91              1.0               1.0                1.0   \n",
       "10            0.62              1.0               1.0                1.0   \n",
       "11            0.92              1.0               1.0                1.0   \n",
       "12            0.90              1.0               1.0                1.0   \n",
       "13            0.67              1.0               1.0                1.0   \n",
       "14            0.56              1.0               1.0                1.0   \n",
       "15            0.99              1.0               1.0                1.0   \n",
       "16            0.94              1.0               1.0                1.0   \n",
       "\n",
       "    maxRI25_precision  maxRI50_precision  \n",
       "0                 1.0                1.0  \n",
       "1                 1.0                1.0  \n",
       "2                 1.0                1.0  \n",
       "3                 1.0                1.0  \n",
       "4                 1.0                1.0  \n",
       "5                 1.0                1.0  \n",
       "6                 1.0                1.0  \n",
       "7                 1.0                1.0  \n",
       "8                 1.0                1.0  \n",
       "9                 1.0                1.0  \n",
       "10                1.0                1.0  \n",
       "11                1.0                1.0  \n",
       "12                1.0                1.0  \n",
       "13                1.0                1.0  \n",
       "14                1.0                1.0  \n",
       "15                1.0                1.0  \n",
       "16                1.0                1.0  \n",
       "\n",
       "[17 rows x 267 columns]"
      ]
     },
     "execution_count": 1044,
     "metadata": {},
     "output_type": "execute_result"
    }
   ],
   "source": [
    "df_core_suite = full_df[(full_df['origin']=='organic') & (full_df['use_case']!='other')]\n",
    "df_core_suite = df_core_suite.sort_values('pos_ratio', ignore_index=True)\n",
    "\n",
    "df_core_suite"
   ]
  },
  {
   "cell_type": "code",
   "execution_count": 1045,
   "metadata": {},
   "outputs": [
    {
     "data": {
      "text/html": [
       "<div>\n",
       "<style scoped>\n",
       "    .dataframe tbody tr th:only-of-type {\n",
       "        vertical-align: middle;\n",
       "    }\n",
       "\n",
       "    .dataframe tbody tr th {\n",
       "        vertical-align: top;\n",
       "    }\n",
       "\n",
       "    .dataframe thead th {\n",
       "        text-align: right;\n",
       "    }\n",
       "</style>\n",
       "<table border=\"1\" class=\"dataframe\">\n",
       "  <thead>\n",
       "    <tr style=\"text-align: right;\">\n",
       "      <th></th>\n",
       "      <th>data_set</th>\n",
       "      <th>use_case</th>\n",
       "      <th>nof_rows</th>\n",
       "      <th>nof_col</th>\n",
       "      <th>nof_num_features</th>\n",
       "      <th>nof_cat_features</th>\n",
       "      <th>pos_ratio</th>\n",
       "      <th>LENC-XGB_f2</th>\n",
       "    </tr>\n",
       "  </thead>\n",
       "  <tbody>\n",
       "    <tr>\n",
       "      <th>0</th>\n",
       "      <td>orange_churn</td>\n",
       "      <td>churn</td>\n",
       "      <td>50000</td>\n",
       "      <td>213</td>\n",
       "      <td>174</td>\n",
       "      <td>38</td>\n",
       "      <td>0.0734</td>\n",
       "      <td>0.03</td>\n",
       "    </tr>\n",
       "    <tr>\n",
       "      <th>1</th>\n",
       "      <td>fraud_oracle</td>\n",
       "      <td>insurance-fraud</td>\n",
       "      <td>15420</td>\n",
       "      <td>33</td>\n",
       "      <td>8</td>\n",
       "      <td>24</td>\n",
       "      <td>0.0599</td>\n",
       "      <td>0.36</td>\n",
       "    </tr>\n",
       "    <tr>\n",
       "      <th>2</th>\n",
       "      <td>taiwan_credit</td>\n",
       "      <td>credit</td>\n",
       "      <td>30000</td>\n",
       "      <td>24</td>\n",
       "      <td>14</td>\n",
       "      <td>9</td>\n",
       "      <td>0.2212</td>\n",
       "      <td>0.40</td>\n",
       "    </tr>\n",
       "    <tr>\n",
       "      <th>3</th>\n",
       "      <td>german_credit</td>\n",
       "      <td>credit</td>\n",
       "      <td>1000</td>\n",
       "      <td>21</td>\n",
       "      <td>7</td>\n",
       "      <td>13</td>\n",
       "      <td>0.3000</td>\n",
       "      <td>0.44</td>\n",
       "    </tr>\n",
       "    <tr>\n",
       "      <th>4</th>\n",
       "      <td>orange_up</td>\n",
       "      <td>product recommendation</td>\n",
       "      <td>50000</td>\n",
       "      <td>213</td>\n",
       "      <td>174</td>\n",
       "      <td>38</td>\n",
       "      <td>0.0736</td>\n",
       "      <td>0.47</td>\n",
       "    </tr>\n",
       "    <tr>\n",
       "      <th>5</th>\n",
       "      <td>bike_75</td>\n",
       "      <td>demand-prediction</td>\n",
       "      <td>8760</td>\n",
       "      <td>14</td>\n",
       "      <td>9</td>\n",
       "      <td>4</td>\n",
       "      <td>0.0070</td>\n",
       "      <td>0.48</td>\n",
       "    </tr>\n",
       "    <tr>\n",
       "      <th>6</th>\n",
       "      <td>bank_marketing</td>\n",
       "      <td>product_recommendation</td>\n",
       "      <td>4118</td>\n",
       "      <td>21</td>\n",
       "      <td>10</td>\n",
       "      <td>10</td>\n",
       "      <td>0.1095</td>\n",
       "      <td>0.49</td>\n",
       "    </tr>\n",
       "    <tr>\n",
       "      <th>7</th>\n",
       "      <td>compas</td>\n",
       "      <td>recidivism</td>\n",
       "      <td>7210</td>\n",
       "      <td>8</td>\n",
       "      <td>0</td>\n",
       "      <td>7</td>\n",
       "      <td>0.4508</td>\n",
       "      <td>0.57</td>\n",
       "    </tr>\n",
       "    <tr>\n",
       "      <th>8</th>\n",
       "      <td>heloc</td>\n",
       "      <td>credit</td>\n",
       "      <td>10459</td>\n",
       "      <td>24</td>\n",
       "      <td>23</td>\n",
       "      <td>0</td>\n",
       "      <td>0.4781</td>\n",
       "      <td>0.67</td>\n",
       "    </tr>\n",
       "    <tr>\n",
       "      <th>9</th>\n",
       "      <td>telco_churn_2</td>\n",
       "      <td>churn</td>\n",
       "      <td>2000</td>\n",
       "      <td>14</td>\n",
       "      <td>9</td>\n",
       "      <td>4</td>\n",
       "      <td>0.5000</td>\n",
       "      <td>0.68</td>\n",
       "    </tr>\n",
       "    <tr>\n",
       "      <th>10</th>\n",
       "      <td>adult</td>\n",
       "      <td>income_prediction</td>\n",
       "      <td>32561</td>\n",
       "      <td>13</td>\n",
       "      <td>4</td>\n",
       "      <td>8</td>\n",
       "      <td>0.2408</td>\n",
       "      <td>0.69</td>\n",
       "    </tr>\n",
       "    <tr>\n",
       "      <th>11</th>\n",
       "      <td>fraud_detection</td>\n",
       "      <td>transaction-fraud</td>\n",
       "      <td>284807</td>\n",
       "      <td>31</td>\n",
       "      <td>30</td>\n",
       "      <td>0</td>\n",
       "      <td>0.0017</td>\n",
       "      <td>0.79</td>\n",
       "    </tr>\n",
       "    <tr>\n",
       "      <th>12</th>\n",
       "      <td>telco_churn</td>\n",
       "      <td>churn</td>\n",
       "      <td>3333</td>\n",
       "      <td>20</td>\n",
       "      <td>16</td>\n",
       "      <td>3</td>\n",
       "      <td>0.1449</td>\n",
       "      <td>0.80</td>\n",
       "    </tr>\n",
       "    <tr>\n",
       "      <th>13</th>\n",
       "      <td>house</td>\n",
       "      <td>price_prediction</td>\n",
       "      <td>22784</td>\n",
       "      <td>17</td>\n",
       "      <td>16</td>\n",
       "      <td>0</td>\n",
       "      <td>0.2960</td>\n",
       "      <td>0.81</td>\n",
       "    </tr>\n",
       "    <tr>\n",
       "      <th>14</th>\n",
       "      <td>boston</td>\n",
       "      <td>price_prediction</td>\n",
       "      <td>506</td>\n",
       "      <td>14</td>\n",
       "      <td>13</td>\n",
       "      <td>0</td>\n",
       "      <td>0.4130</td>\n",
       "      <td>0.86</td>\n",
       "    </tr>\n",
       "    <tr>\n",
       "      <th>15</th>\n",
       "      <td>electricity</td>\n",
       "      <td>price_sensitivity</td>\n",
       "      <td>45312</td>\n",
       "      <td>9</td>\n",
       "      <td>8</td>\n",
       "      <td>0</td>\n",
       "      <td>0.4245</td>\n",
       "      <td>0.89</td>\n",
       "    </tr>\n",
       "    <tr>\n",
       "      <th>16</th>\n",
       "      <td>bike_mean</td>\n",
       "      <td>demand-prediction</td>\n",
       "      <td>8760</td>\n",
       "      <td>14</td>\n",
       "      <td>9</td>\n",
       "      <td>4</td>\n",
       "      <td>0.4022</td>\n",
       "      <td>0.92</td>\n",
       "    </tr>\n",
       "  </tbody>\n",
       "</table>\n",
       "</div>"
      ],
      "text/plain": [
       "           data_set                use_case  nof_rows  nof_col  \\\n",
       "0      orange_churn                   churn     50000      213   \n",
       "1      fraud_oracle         insurance-fraud     15420       33   \n",
       "2     taiwan_credit                  credit     30000       24   \n",
       "3     german_credit                  credit      1000       21   \n",
       "4         orange_up  product recommendation     50000      213   \n",
       "5           bike_75       demand-prediction      8760       14   \n",
       "6    bank_marketing  product_recommendation      4118       21   \n",
       "7            compas              recidivism      7210        8   \n",
       "8             heloc                  credit     10459       24   \n",
       "9     telco_churn_2                   churn      2000       14   \n",
       "10            adult       income_prediction     32561       13   \n",
       "11  fraud_detection       transaction-fraud    284807       31   \n",
       "12      telco_churn                   churn      3333       20   \n",
       "13            house        price_prediction     22784       17   \n",
       "14           boston        price_prediction       506       14   \n",
       "15      electricity       price_sensitivity     45312        9   \n",
       "16        bike_mean       demand-prediction      8760       14   \n",
       "\n",
       "    nof_num_features  nof_cat_features  pos_ratio  LENC-XGB_f2  \n",
       "0                174                38     0.0734         0.03  \n",
       "1                  8                24     0.0599         0.36  \n",
       "2                 14                 9     0.2212         0.40  \n",
       "3                  7                13     0.3000         0.44  \n",
       "4                174                38     0.0736         0.47  \n",
       "5                  9                 4     0.0070         0.48  \n",
       "6                 10                10     0.1095         0.49  \n",
       "7                  0                 7     0.4508         0.57  \n",
       "8                 23                 0     0.4781         0.67  \n",
       "9                  9                 4     0.5000         0.68  \n",
       "10                 4                 8     0.2408         0.69  \n",
       "11                30                 0     0.0017         0.79  \n",
       "12                16                 3     0.1449         0.80  \n",
       "13                16                 0     0.2960         0.81  \n",
       "14                13                 0     0.4130         0.86  \n",
       "15                 8                 0     0.4245         0.89  \n",
       "16                 9                 4     0.4022         0.92  "
      ]
     },
     "execution_count": 1045,
     "metadata": {},
     "output_type": "execute_result"
    }
   ],
   "source": [
    "df_basic_stats = df_core_suite[['data_set', 'use_case', 'nof_rows', 'nof_col', 'nof_num_features', 'nof_cat_features', 'pos_ratio', 'LENC-XGB_f2']]\n",
    "df_basic_stats = df_basic_stats.sort_values('LENC-XGB_f2', ignore_index=True)\n",
    "df_basic_stats\n",
    "# latex_table = df_basic_stats.to_latex(index=False)\n",
    "# latex_table = latex_table.replace('\\_', ' ')\n",
    "# latex_table = latex_table.replace('-', ' ')\n",
    "# print(latex_table)\n",
    "\n",
    "# for x in trans_map:\n",
    "#         latex_table = latex_table.replace(x, trans_map[x])"
   ]
  },
  {
   "cell_type": "code",
   "execution_count": 1046,
   "metadata": {},
   "outputs": [
    {
     "data": {
      "application/vnd.plotly.v1+json": {
       "config": {
        "plotlyServerURL": "https://plot.ly"
       },
       "data": [
        {
         "hovertemplate": "variable=pos_ratio<br>data_set=%{x}<br>value=%{y}<extra></extra>",
         "legendgroup": "pos_ratio",
         "line": {
          "color": "#636efa",
          "dash": "solid"
         },
         "marker": {
          "symbol": "circle"
         },
         "mode": "markers+lines",
         "name": "pos_ratio",
         "orientation": "v",
         "showlegend": true,
         "type": "scatter",
         "x": [
          "fraud_detection",
          "bike_75",
          "fraud_oracle",
          "orange_churn",
          "orange_up",
          "bank_marketing",
          "telco_churn",
          "taiwan_credit",
          "adult",
          "house",
          "german_credit",
          "bike_mean",
          "boston",
          "electricity",
          "compas",
          "heloc",
          "telco_churn_2"
         ],
         "xaxis": "x",
         "y": [
          0.0017,
          0.007,
          0.0599,
          0.0734,
          0.0736,
          0.1095,
          0.1449,
          0.2212,
          0.2408,
          0.296,
          0.3,
          0.4022,
          0.413,
          0.4245,
          0.4508,
          0.4781,
          0.5
         ],
         "yaxis": "y"
        }
       ],
       "layout": {
        "height": 500,
        "legend": {
         "title": {
          "text": "variable"
         },
         "tracegroupgap": 0
        },
        "template": {
         "data": {
          "bar": [
           {
            "error_x": {
             "color": "#2a3f5f"
            },
            "error_y": {
             "color": "#2a3f5f"
            },
            "marker": {
             "line": {
              "color": "#E5ECF6",
              "width": 0.5
             },
             "pattern": {
              "fillmode": "overlay",
              "size": 10,
              "solidity": 0.2
             }
            },
            "type": "bar"
           }
          ],
          "barpolar": [
           {
            "marker": {
             "line": {
              "color": "#E5ECF6",
              "width": 0.5
             },
             "pattern": {
              "fillmode": "overlay",
              "size": 10,
              "solidity": 0.2
             }
            },
            "type": "barpolar"
           }
          ],
          "carpet": [
           {
            "aaxis": {
             "endlinecolor": "#2a3f5f",
             "gridcolor": "white",
             "linecolor": "white",
             "minorgridcolor": "white",
             "startlinecolor": "#2a3f5f"
            },
            "baxis": {
             "endlinecolor": "#2a3f5f",
             "gridcolor": "white",
             "linecolor": "white",
             "minorgridcolor": "white",
             "startlinecolor": "#2a3f5f"
            },
            "type": "carpet"
           }
          ],
          "choropleth": [
           {
            "colorbar": {
             "outlinewidth": 0,
             "ticks": ""
            },
            "type": "choropleth"
           }
          ],
          "contour": [
           {
            "colorbar": {
             "outlinewidth": 0,
             "ticks": ""
            },
            "colorscale": [
             [
              0,
              "#0d0887"
             ],
             [
              0.1111111111111111,
              "#46039f"
             ],
             [
              0.2222222222222222,
              "#7201a8"
             ],
             [
              0.3333333333333333,
              "#9c179e"
             ],
             [
              0.4444444444444444,
              "#bd3786"
             ],
             [
              0.5555555555555556,
              "#d8576b"
             ],
             [
              0.6666666666666666,
              "#ed7953"
             ],
             [
              0.7777777777777778,
              "#fb9f3a"
             ],
             [
              0.8888888888888888,
              "#fdca26"
             ],
             [
              1,
              "#f0f921"
             ]
            ],
            "type": "contour"
           }
          ],
          "contourcarpet": [
           {
            "colorbar": {
             "outlinewidth": 0,
             "ticks": ""
            },
            "type": "contourcarpet"
           }
          ],
          "heatmap": [
           {
            "colorbar": {
             "outlinewidth": 0,
             "ticks": ""
            },
            "colorscale": [
             [
              0,
              "#0d0887"
             ],
             [
              0.1111111111111111,
              "#46039f"
             ],
             [
              0.2222222222222222,
              "#7201a8"
             ],
             [
              0.3333333333333333,
              "#9c179e"
             ],
             [
              0.4444444444444444,
              "#bd3786"
             ],
             [
              0.5555555555555556,
              "#d8576b"
             ],
             [
              0.6666666666666666,
              "#ed7953"
             ],
             [
              0.7777777777777778,
              "#fb9f3a"
             ],
             [
              0.8888888888888888,
              "#fdca26"
             ],
             [
              1,
              "#f0f921"
             ]
            ],
            "type": "heatmap"
           }
          ],
          "heatmapgl": [
           {
            "colorbar": {
             "outlinewidth": 0,
             "ticks": ""
            },
            "colorscale": [
             [
              0,
              "#0d0887"
             ],
             [
              0.1111111111111111,
              "#46039f"
             ],
             [
              0.2222222222222222,
              "#7201a8"
             ],
             [
              0.3333333333333333,
              "#9c179e"
             ],
             [
              0.4444444444444444,
              "#bd3786"
             ],
             [
              0.5555555555555556,
              "#d8576b"
             ],
             [
              0.6666666666666666,
              "#ed7953"
             ],
             [
              0.7777777777777778,
              "#fb9f3a"
             ],
             [
              0.8888888888888888,
              "#fdca26"
             ],
             [
              1,
              "#f0f921"
             ]
            ],
            "type": "heatmapgl"
           }
          ],
          "histogram": [
           {
            "marker": {
             "pattern": {
              "fillmode": "overlay",
              "size": 10,
              "solidity": 0.2
             }
            },
            "type": "histogram"
           }
          ],
          "histogram2d": [
           {
            "colorbar": {
             "outlinewidth": 0,
             "ticks": ""
            },
            "colorscale": [
             [
              0,
              "#0d0887"
             ],
             [
              0.1111111111111111,
              "#46039f"
             ],
             [
              0.2222222222222222,
              "#7201a8"
             ],
             [
              0.3333333333333333,
              "#9c179e"
             ],
             [
              0.4444444444444444,
              "#bd3786"
             ],
             [
              0.5555555555555556,
              "#d8576b"
             ],
             [
              0.6666666666666666,
              "#ed7953"
             ],
             [
              0.7777777777777778,
              "#fb9f3a"
             ],
             [
              0.8888888888888888,
              "#fdca26"
             ],
             [
              1,
              "#f0f921"
             ]
            ],
            "type": "histogram2d"
           }
          ],
          "histogram2dcontour": [
           {
            "colorbar": {
             "outlinewidth": 0,
             "ticks": ""
            },
            "colorscale": [
             [
              0,
              "#0d0887"
             ],
             [
              0.1111111111111111,
              "#46039f"
             ],
             [
              0.2222222222222222,
              "#7201a8"
             ],
             [
              0.3333333333333333,
              "#9c179e"
             ],
             [
              0.4444444444444444,
              "#bd3786"
             ],
             [
              0.5555555555555556,
              "#d8576b"
             ],
             [
              0.6666666666666666,
              "#ed7953"
             ],
             [
              0.7777777777777778,
              "#fb9f3a"
             ],
             [
              0.8888888888888888,
              "#fdca26"
             ],
             [
              1,
              "#f0f921"
             ]
            ],
            "type": "histogram2dcontour"
           }
          ],
          "mesh3d": [
           {
            "colorbar": {
             "outlinewidth": 0,
             "ticks": ""
            },
            "type": "mesh3d"
           }
          ],
          "parcoords": [
           {
            "line": {
             "colorbar": {
              "outlinewidth": 0,
              "ticks": ""
             }
            },
            "type": "parcoords"
           }
          ],
          "pie": [
           {
            "automargin": true,
            "type": "pie"
           }
          ],
          "scatter": [
           {
            "fillpattern": {
             "fillmode": "overlay",
             "size": 10,
             "solidity": 0.2
            },
            "type": "scatter"
           }
          ],
          "scatter3d": [
           {
            "line": {
             "colorbar": {
              "outlinewidth": 0,
              "ticks": ""
             }
            },
            "marker": {
             "colorbar": {
              "outlinewidth": 0,
              "ticks": ""
             }
            },
            "type": "scatter3d"
           }
          ],
          "scattercarpet": [
           {
            "marker": {
             "colorbar": {
              "outlinewidth": 0,
              "ticks": ""
             }
            },
            "type": "scattercarpet"
           }
          ],
          "scattergeo": [
           {
            "marker": {
             "colorbar": {
              "outlinewidth": 0,
              "ticks": ""
             }
            },
            "type": "scattergeo"
           }
          ],
          "scattergl": [
           {
            "marker": {
             "colorbar": {
              "outlinewidth": 0,
              "ticks": ""
             }
            },
            "type": "scattergl"
           }
          ],
          "scattermapbox": [
           {
            "marker": {
             "colorbar": {
              "outlinewidth": 0,
              "ticks": ""
             }
            },
            "type": "scattermapbox"
           }
          ],
          "scatterpolar": [
           {
            "marker": {
             "colorbar": {
              "outlinewidth": 0,
              "ticks": ""
             }
            },
            "type": "scatterpolar"
           }
          ],
          "scatterpolargl": [
           {
            "marker": {
             "colorbar": {
              "outlinewidth": 0,
              "ticks": ""
             }
            },
            "type": "scatterpolargl"
           }
          ],
          "scatterternary": [
           {
            "marker": {
             "colorbar": {
              "outlinewidth": 0,
              "ticks": ""
             }
            },
            "type": "scatterternary"
           }
          ],
          "surface": [
           {
            "colorbar": {
             "outlinewidth": 0,
             "ticks": ""
            },
            "colorscale": [
             [
              0,
              "#0d0887"
             ],
             [
              0.1111111111111111,
              "#46039f"
             ],
             [
              0.2222222222222222,
              "#7201a8"
             ],
             [
              0.3333333333333333,
              "#9c179e"
             ],
             [
              0.4444444444444444,
              "#bd3786"
             ],
             [
              0.5555555555555556,
              "#d8576b"
             ],
             [
              0.6666666666666666,
              "#ed7953"
             ],
             [
              0.7777777777777778,
              "#fb9f3a"
             ],
             [
              0.8888888888888888,
              "#fdca26"
             ],
             [
              1,
              "#f0f921"
             ]
            ],
            "type": "surface"
           }
          ],
          "table": [
           {
            "cells": {
             "fill": {
              "color": "#EBF0F8"
             },
             "line": {
              "color": "white"
             }
            },
            "header": {
             "fill": {
              "color": "#C8D4E3"
             },
             "line": {
              "color": "white"
             }
            },
            "type": "table"
           }
          ]
         },
         "layout": {
          "annotationdefaults": {
           "arrowcolor": "#2a3f5f",
           "arrowhead": 0,
           "arrowwidth": 1
          },
          "autotypenumbers": "strict",
          "coloraxis": {
           "colorbar": {
            "outlinewidth": 0,
            "ticks": ""
           }
          },
          "colorscale": {
           "diverging": [
            [
             0,
             "#8e0152"
            ],
            [
             0.1,
             "#c51b7d"
            ],
            [
             0.2,
             "#de77ae"
            ],
            [
             0.3,
             "#f1b6da"
            ],
            [
             0.4,
             "#fde0ef"
            ],
            [
             0.5,
             "#f7f7f7"
            ],
            [
             0.6,
             "#e6f5d0"
            ],
            [
             0.7,
             "#b8e186"
            ],
            [
             0.8,
             "#7fbc41"
            ],
            [
             0.9,
             "#4d9221"
            ],
            [
             1,
             "#276419"
            ]
           ],
           "sequential": [
            [
             0,
             "#0d0887"
            ],
            [
             0.1111111111111111,
             "#46039f"
            ],
            [
             0.2222222222222222,
             "#7201a8"
            ],
            [
             0.3333333333333333,
             "#9c179e"
            ],
            [
             0.4444444444444444,
             "#bd3786"
            ],
            [
             0.5555555555555556,
             "#d8576b"
            ],
            [
             0.6666666666666666,
             "#ed7953"
            ],
            [
             0.7777777777777778,
             "#fb9f3a"
            ],
            [
             0.8888888888888888,
             "#fdca26"
            ],
            [
             1,
             "#f0f921"
            ]
           ],
           "sequentialminus": [
            [
             0,
             "#0d0887"
            ],
            [
             0.1111111111111111,
             "#46039f"
            ],
            [
             0.2222222222222222,
             "#7201a8"
            ],
            [
             0.3333333333333333,
             "#9c179e"
            ],
            [
             0.4444444444444444,
             "#bd3786"
            ],
            [
             0.5555555555555556,
             "#d8576b"
            ],
            [
             0.6666666666666666,
             "#ed7953"
            ],
            [
             0.7777777777777778,
             "#fb9f3a"
            ],
            [
             0.8888888888888888,
             "#fdca26"
            ],
            [
             1,
             "#f0f921"
            ]
           ]
          },
          "colorway": [
           "#636efa",
           "#EF553B",
           "#00cc96",
           "#ab63fa",
           "#FFA15A",
           "#19d3f3",
           "#FF6692",
           "#B6E880",
           "#FF97FF",
           "#FECB52"
          ],
          "font": {
           "color": "#2a3f5f"
          },
          "geo": {
           "bgcolor": "white",
           "lakecolor": "white",
           "landcolor": "#E5ECF6",
           "showlakes": true,
           "showland": true,
           "subunitcolor": "white"
          },
          "hoverlabel": {
           "align": "left"
          },
          "hovermode": "closest",
          "mapbox": {
           "style": "light"
          },
          "paper_bgcolor": "white",
          "plot_bgcolor": "#E5ECF6",
          "polar": {
           "angularaxis": {
            "gridcolor": "white",
            "linecolor": "white",
            "ticks": ""
           },
           "bgcolor": "#E5ECF6",
           "radialaxis": {
            "gridcolor": "white",
            "linecolor": "white",
            "ticks": ""
           }
          },
          "scene": {
           "xaxis": {
            "backgroundcolor": "#E5ECF6",
            "gridcolor": "white",
            "gridwidth": 2,
            "linecolor": "white",
            "showbackground": true,
            "ticks": "",
            "zerolinecolor": "white"
           },
           "yaxis": {
            "backgroundcolor": "#E5ECF6",
            "gridcolor": "white",
            "gridwidth": 2,
            "linecolor": "white",
            "showbackground": true,
            "ticks": "",
            "zerolinecolor": "white"
           },
           "zaxis": {
            "backgroundcolor": "#E5ECF6",
            "gridcolor": "white",
            "gridwidth": 2,
            "linecolor": "white",
            "showbackground": true,
            "ticks": "",
            "zerolinecolor": "white"
           }
          },
          "shapedefaults": {
           "line": {
            "color": "#2a3f5f"
           }
          },
          "ternary": {
           "aaxis": {
            "gridcolor": "white",
            "linecolor": "white",
            "ticks": ""
           },
           "baxis": {
            "gridcolor": "white",
            "linecolor": "white",
            "ticks": ""
           },
           "bgcolor": "#E5ECF6",
           "caxis": {
            "gridcolor": "white",
            "linecolor": "white",
            "ticks": ""
           }
          },
          "title": {
           "x": 0.05
          },
          "xaxis": {
           "automargin": true,
           "gridcolor": "white",
           "linecolor": "white",
           "ticks": "",
           "title": {
            "standoff": 15
           },
           "zerolinecolor": "white",
           "zerolinewidth": 2
          },
          "yaxis": {
           "automargin": true,
           "gridcolor": "white",
           "linecolor": "white",
           "ticks": "",
           "title": {
            "standoff": 15
           },
           "zerolinecolor": "white",
           "zerolinewidth": 2
          }
         }
        },
        "title": {
         "text": "Core Suite: Imbalance"
        },
        "width": 1000,
        "xaxis": {
         "anchor": "y",
         "domain": [
          0,
          1
         ],
         "title": {
          "text": "data_set"
         }
        },
        "yaxis": {
         "anchor": "x",
         "domain": [
          0,
          1
         ],
         "title": {
          "text": "value"
         },
         "type": "log"
        }
       }
      }
     },
     "metadata": {},
     "output_type": "display_data"
    }
   ],
   "source": [
    "fig = px.line(df_core_suite, x='data_set', y=['pos_ratio'], log_y=True, title='Core Suite: Imbalance')\n",
    "fig.update_traces(mode='markers+lines')\n",
    "fig.update_layout(height=500, width=1000)\n",
    "fig.show()"
   ]
  },
  {
   "attachments": {},
   "cell_type": "markdown",
   "metadata": {},
   "source": [
    "## General Performance on Core Suite"
   ]
  },
  {
   "attachments": {},
   "cell_type": "markdown",
   "metadata": {},
   "source": [
    "### Result Table"
   ]
  },
  {
   "cell_type": "code",
   "execution_count": 1047,
   "metadata": {},
   "outputs": [
    {
     "data": {
      "text/html": [
       "<div>\n",
       "<style scoped>\n",
       "    .dataframe tbody tr th:only-of-type {\n",
       "        vertical-align: middle;\n",
       "    }\n",
       "\n",
       "    .dataframe tbody tr th {\n",
       "        vertical-align: top;\n",
       "    }\n",
       "\n",
       "    .dataframe thead th {\n",
       "        text-align: right;\n",
       "    }\n",
       "</style>\n",
       "<table border=\"1\" class=\"dataframe\">\n",
       "  <thead>\n",
       "    <tr style=\"text-align: right;\">\n",
       "      <th></th>\n",
       "      <th>data_set</th>\n",
       "      <th>NATIVE-RIPPER_f2</th>\n",
       "      <th>LENC-CART:4_f2</th>\n",
       "      <th>TREES-BRCG_f2</th>\n",
       "      <th>TREES-CORELS_f2</th>\n",
       "      <th>NATIVE-R2N_f2</th>\n",
       "      <th>LENC-XGB_f2</th>\n",
       "      <th>NATIVE-RIPPER_recall</th>\n",
       "      <th>LENC-CART:4_recall</th>\n",
       "      <th>TREES-BRCG_recall</th>\n",
       "      <th>...</th>\n",
       "      <th>TREES-BRCG_precision</th>\n",
       "      <th>TREES-CORELS_precision</th>\n",
       "      <th>NATIVE-R2N_precision</th>\n",
       "      <th>LENC-XGB_precision</th>\n",
       "      <th>NATIVE-RIPPER_adj_bal_acc</th>\n",
       "      <th>LENC-CART:4_adj_bal_acc</th>\n",
       "      <th>TREES-BRCG_adj_bal_acc</th>\n",
       "      <th>TREES-CORELS_adj_bal_acc</th>\n",
       "      <th>NATIVE-R2N_adj_bal_acc</th>\n",
       "      <th>LENC-XGB_adj_bal_acc</th>\n",
       "    </tr>\n",
       "  </thead>\n",
       "  <tbody>\n",
       "    <tr>\n",
       "      <th>0</th>\n",
       "      <td>orange_churn</td>\n",
       "      <td>0.00</td>\n",
       "      <td>0.02</td>\n",
       "      <td>0.00</td>\n",
       "      <td>0.00</td>\n",
       "      <td>NaN</td>\n",
       "      <td>0.03</td>\n",
       "      <td>0.00</td>\n",
       "      <td>0.02</td>\n",
       "      <td>0.00</td>\n",
       "      <td>...</td>\n",
       "      <td>1.00</td>\n",
       "      <td>1.00</td>\n",
       "      <td>NaN</td>\n",
       "      <td>0.47</td>\n",
       "      <td>0.00</td>\n",
       "      <td>0.02</td>\n",
       "      <td>0.00</td>\n",
       "      <td>0.00</td>\n",
       "      <td>NaN</td>\n",
       "      <td>0.03</td>\n",
       "    </tr>\n",
       "    <tr>\n",
       "      <th>1</th>\n",
       "      <td>fraud_oracle</td>\n",
       "      <td>0.00</td>\n",
       "      <td>0.04</td>\n",
       "      <td>0.00</td>\n",
       "      <td>0.00</td>\n",
       "      <td>0.00</td>\n",
       "      <td>0.36</td>\n",
       "      <td>0.00</td>\n",
       "      <td>0.04</td>\n",
       "      <td>0.00</td>\n",
       "      <td>...</td>\n",
       "      <td>1.00</td>\n",
       "      <td>1.00</td>\n",
       "      <td>1.00</td>\n",
       "      <td>0.80</td>\n",
       "      <td>0.00</td>\n",
       "      <td>0.03</td>\n",
       "      <td>0.00</td>\n",
       "      <td>0.00</td>\n",
       "      <td>0.00</td>\n",
       "      <td>0.31</td>\n",
       "    </tr>\n",
       "    <tr>\n",
       "      <th>2</th>\n",
       "      <td>taiwan_credit</td>\n",
       "      <td>0.37</td>\n",
       "      <td>0.33</td>\n",
       "      <td>0.34</td>\n",
       "      <td>0.34</td>\n",
       "      <td>0.33</td>\n",
       "      <td>0.40</td>\n",
       "      <td>0.33</td>\n",
       "      <td>0.30</td>\n",
       "      <td>0.30</td>\n",
       "      <td>...</td>\n",
       "      <td>0.70</td>\n",
       "      <td>0.70</td>\n",
       "      <td>0.70</td>\n",
       "      <td>0.66</td>\n",
       "      <td>0.28</td>\n",
       "      <td>0.26</td>\n",
       "      <td>0.26</td>\n",
       "      <td>0.26</td>\n",
       "      <td>0.26</td>\n",
       "      <td>0.31</td>\n",
       "    </tr>\n",
       "    <tr>\n",
       "      <th>3</th>\n",
       "      <td>german_credit</td>\n",
       "      <td>0.20</td>\n",
       "      <td>0.52</td>\n",
       "      <td>0.23</td>\n",
       "      <td>0.11</td>\n",
       "      <td>0.00</td>\n",
       "      <td>0.44</td>\n",
       "      <td>0.17</td>\n",
       "      <td>0.51</td>\n",
       "      <td>0.20</td>\n",
       "      <td>...</td>\n",
       "      <td>0.68</td>\n",
       "      <td>0.67</td>\n",
       "      <td>1.00</td>\n",
       "      <td>0.51</td>\n",
       "      <td>0.12</td>\n",
       "      <td>0.36</td>\n",
       "      <td>0.16</td>\n",
       "      <td>0.07</td>\n",
       "      <td>0.00</td>\n",
       "      <td>0.26</td>\n",
       "    </tr>\n",
       "    <tr>\n",
       "      <th>4</th>\n",
       "      <td>orange_up</td>\n",
       "      <td>0.45</td>\n",
       "      <td>0.48</td>\n",
       "      <td>0.48</td>\n",
       "      <td>0.48</td>\n",
       "      <td>NaN</td>\n",
       "      <td>0.47</td>\n",
       "      <td>0.41</td>\n",
       "      <td>0.43</td>\n",
       "      <td>0.43</td>\n",
       "      <td>...</td>\n",
       "      <td>0.81</td>\n",
       "      <td>0.80</td>\n",
       "      <td>NaN</td>\n",
       "      <td>0.84</td>\n",
       "      <td>0.40</td>\n",
       "      <td>0.42</td>\n",
       "      <td>0.42</td>\n",
       "      <td>0.42</td>\n",
       "      <td>NaN</td>\n",
       "      <td>0.41</td>\n",
       "    </tr>\n",
       "    <tr>\n",
       "      <th>5</th>\n",
       "      <td>bike_75</td>\n",
       "      <td>0.57</td>\n",
       "      <td>0.56</td>\n",
       "      <td>0.00</td>\n",
       "      <td>0.00</td>\n",
       "      <td>0.00</td>\n",
       "      <td>0.48</td>\n",
       "      <td>0.60</td>\n",
       "      <td>0.60</td>\n",
       "      <td>0.00</td>\n",
       "      <td>...</td>\n",
       "      <td>1.00</td>\n",
       "      <td>1.00</td>\n",
       "      <td>1.00</td>\n",
       "      <td>0.54</td>\n",
       "      <td>0.60</td>\n",
       "      <td>0.60</td>\n",
       "      <td>0.00</td>\n",
       "      <td>0.00</td>\n",
       "      <td>0.00</td>\n",
       "      <td>0.46</td>\n",
       "    </tr>\n",
       "    <tr>\n",
       "      <th>6</th>\n",
       "      <td>bank_marketing</td>\n",
       "      <td>0.42</td>\n",
       "      <td>0.41</td>\n",
       "      <td>0.37</td>\n",
       "      <td>0.37</td>\n",
       "      <td>0.32</td>\n",
       "      <td>0.49</td>\n",
       "      <td>0.40</td>\n",
       "      <td>0.39</td>\n",
       "      <td>0.34</td>\n",
       "      <td>...</td>\n",
       "      <td>0.56</td>\n",
       "      <td>0.58</td>\n",
       "      <td>0.62</td>\n",
       "      <td>0.54</td>\n",
       "      <td>0.35</td>\n",
       "      <td>0.35</td>\n",
       "      <td>0.31</td>\n",
       "      <td>0.31</td>\n",
       "      <td>0.27</td>\n",
       "      <td>0.43</td>\n",
       "    </tr>\n",
       "    <tr>\n",
       "      <th>7</th>\n",
       "      <td>compas</td>\n",
       "      <td>0.00</td>\n",
       "      <td>0.57</td>\n",
       "      <td>0.57</td>\n",
       "      <td>0.52</td>\n",
       "      <td>0.52</td>\n",
       "      <td>0.57</td>\n",
       "      <td>0.00</td>\n",
       "      <td>0.55</td>\n",
       "      <td>0.55</td>\n",
       "      <td>...</td>\n",
       "      <td>0.68</td>\n",
       "      <td>0.67</td>\n",
       "      <td>0.67</td>\n",
       "      <td>0.68</td>\n",
       "      <td>0.00</td>\n",
       "      <td>0.32</td>\n",
       "      <td>0.33</td>\n",
       "      <td>0.28</td>\n",
       "      <td>0.28</td>\n",
       "      <td>0.33</td>\n",
       "    </tr>\n",
       "    <tr>\n",
       "      <th>8</th>\n",
       "      <td>heloc</td>\n",
       "      <td>0.70</td>\n",
       "      <td>0.65</td>\n",
       "      <td>0.63</td>\n",
       "      <td>0.63</td>\n",
       "      <td>0.82</td>\n",
       "      <td>0.67</td>\n",
       "      <td>0.71</td>\n",
       "      <td>0.64</td>\n",
       "      <td>0.61</td>\n",
       "      <td>...</td>\n",
       "      <td>0.74</td>\n",
       "      <td>0.74</td>\n",
       "      <td>0.49</td>\n",
       "      <td>0.71</td>\n",
       "      <td>0.42</td>\n",
       "      <td>0.42</td>\n",
       "      <td>0.41</td>\n",
       "      <td>0.41</td>\n",
       "      <td>0.02</td>\n",
       "      <td>0.41</td>\n",
       "    </tr>\n",
       "    <tr>\n",
       "      <th>9</th>\n",
       "      <td>telco_churn_2</td>\n",
       "      <td>0.66</td>\n",
       "      <td>0.61</td>\n",
       "      <td>0.63</td>\n",
       "      <td>0.65</td>\n",
       "      <td>0.84</td>\n",
       "      <td>0.68</td>\n",
       "      <td>0.65</td>\n",
       "      <td>0.58</td>\n",
       "      <td>0.61</td>\n",
       "      <td>...</td>\n",
       "      <td>0.77</td>\n",
       "      <td>0.75</td>\n",
       "      <td>0.58</td>\n",
       "      <td>0.76</td>\n",
       "      <td>0.37</td>\n",
       "      <td>0.42</td>\n",
       "      <td>0.42</td>\n",
       "      <td>0.42</td>\n",
       "      <td>0.25</td>\n",
       "      <td>0.45</td>\n",
       "    </tr>\n",
       "    <tr>\n",
       "      <th>10</th>\n",
       "      <td>adult</td>\n",
       "      <td>0.59</td>\n",
       "      <td>0.30</td>\n",
       "      <td>0.48</td>\n",
       "      <td>0.32</td>\n",
       "      <td>0.71</td>\n",
       "      <td>0.69</td>\n",
       "      <td>0.57</td>\n",
       "      <td>0.26</td>\n",
       "      <td>0.44</td>\n",
       "      <td>...</td>\n",
       "      <td>0.75</td>\n",
       "      <td>0.84</td>\n",
       "      <td>0.43</td>\n",
       "      <td>0.75</td>\n",
       "      <td>0.50</td>\n",
       "      <td>0.26</td>\n",
       "      <td>0.40</td>\n",
       "      <td>0.26</td>\n",
       "      <td>0.52</td>\n",
       "      <td>0.61</td>\n",
       "    </tr>\n",
       "    <tr>\n",
       "      <th>11</th>\n",
       "      <td>fraud_detection</td>\n",
       "      <td>0.73</td>\n",
       "      <td>0.74</td>\n",
       "      <td>0.00</td>\n",
       "      <td>0.00</td>\n",
       "      <td>0.00</td>\n",
       "      <td>0.79</td>\n",
       "      <td>0.70</td>\n",
       "      <td>0.73</td>\n",
       "      <td>0.00</td>\n",
       "      <td>...</td>\n",
       "      <td>1.00</td>\n",
       "      <td>1.00</td>\n",
       "      <td>1.00</td>\n",
       "      <td>0.94</td>\n",
       "      <td>0.70</td>\n",
       "      <td>0.73</td>\n",
       "      <td>0.00</td>\n",
       "      <td>0.00</td>\n",
       "      <td>0.00</td>\n",
       "      <td>0.76</td>\n",
       "    </tr>\n",
       "    <tr>\n",
       "      <th>12</th>\n",
       "      <td>telco_churn</td>\n",
       "      <td>0.80</td>\n",
       "      <td>0.58</td>\n",
       "      <td>0.56</td>\n",
       "      <td>0.38</td>\n",
       "      <td>0.49</td>\n",
       "      <td>0.80</td>\n",
       "      <td>0.77</td>\n",
       "      <td>0.54</td>\n",
       "      <td>0.51</td>\n",
       "      <td>...</td>\n",
       "      <td>0.89</td>\n",
       "      <td>0.85</td>\n",
       "      <td>0.57</td>\n",
       "      <td>0.91</td>\n",
       "      <td>0.76</td>\n",
       "      <td>0.52</td>\n",
       "      <td>0.50</td>\n",
       "      <td>0.33</td>\n",
       "      <td>0.41</td>\n",
       "      <td>0.76</td>\n",
       "    </tr>\n",
       "    <tr>\n",
       "      <th>13</th>\n",
       "      <td>house</td>\n",
       "      <td>0.74</td>\n",
       "      <td>0.69</td>\n",
       "      <td>0.66</td>\n",
       "      <td>0.55</td>\n",
       "      <td>0.75</td>\n",
       "      <td>0.81</td>\n",
       "      <td>0.73</td>\n",
       "      <td>0.68</td>\n",
       "      <td>0.63</td>\n",
       "      <td>...</td>\n",
       "      <td>0.78</td>\n",
       "      <td>0.73</td>\n",
       "      <td>0.45</td>\n",
       "      <td>0.84</td>\n",
       "      <td>0.66</td>\n",
       "      <td>0.57</td>\n",
       "      <td>0.56</td>\n",
       "      <td>0.44</td>\n",
       "      <td>0.45</td>\n",
       "      <td>0.74</td>\n",
       "    </tr>\n",
       "    <tr>\n",
       "      <th>14</th>\n",
       "      <td>boston</td>\n",
       "      <td>0.88</td>\n",
       "      <td>0.82</td>\n",
       "      <td>0.79</td>\n",
       "      <td>0.86</td>\n",
       "      <td>0.85</td>\n",
       "      <td>0.86</td>\n",
       "      <td>0.90</td>\n",
       "      <td>0.82</td>\n",
       "      <td>0.76</td>\n",
       "      <td>...</td>\n",
       "      <td>0.93</td>\n",
       "      <td>0.87</td>\n",
       "      <td>0.88</td>\n",
       "      <td>0.92</td>\n",
       "      <td>0.73</td>\n",
       "      <td>0.69</td>\n",
       "      <td>0.71</td>\n",
       "      <td>0.75</td>\n",
       "      <td>0.75</td>\n",
       "      <td>0.78</td>\n",
       "    </tr>\n",
       "    <tr>\n",
       "      <th>15</th>\n",
       "      <td>electricity</td>\n",
       "      <td>0.81</td>\n",
       "      <td>0.60</td>\n",
       "      <td>0.68</td>\n",
       "      <td>0.61</td>\n",
       "      <td>0.52</td>\n",
       "      <td>0.89</td>\n",
       "      <td>0.81</td>\n",
       "      <td>0.56</td>\n",
       "      <td>0.67</td>\n",
       "      <td>...</td>\n",
       "      <td>0.76</td>\n",
       "      <td>0.80</td>\n",
       "      <td>0.87</td>\n",
       "      <td>0.90</td>\n",
       "      <td>0.67</td>\n",
       "      <td>0.47</td>\n",
       "      <td>0.51</td>\n",
       "      <td>0.47</td>\n",
       "      <td>0.42</td>\n",
       "      <td>0.81</td>\n",
       "    </tr>\n",
       "    <tr>\n",
       "      <th>16</th>\n",
       "      <td>bike_mean</td>\n",
       "      <td>0.88</td>\n",
       "      <td>0.90</td>\n",
       "      <td>0.90</td>\n",
       "      <td>0.83</td>\n",
       "      <td>0.70</td>\n",
       "      <td>0.92</td>\n",
       "      <td>0.87</td>\n",
       "      <td>0.92</td>\n",
       "      <td>0.92</td>\n",
       "      <td>...</td>\n",
       "      <td>0.84</td>\n",
       "      <td>0.80</td>\n",
       "      <td>0.63</td>\n",
       "      <td>0.91</td>\n",
       "      <td>0.81</td>\n",
       "      <td>0.79</td>\n",
       "      <td>0.80</td>\n",
       "      <td>0.69</td>\n",
       "      <td>0.43</td>\n",
       "      <td>0.86</td>\n",
       "    </tr>\n",
       "  </tbody>\n",
       "</table>\n",
       "<p>17 rows × 25 columns</p>\n",
       "</div>"
      ],
      "text/plain": [
       "           data_set  NATIVE-RIPPER_f2  LENC-CART:4_f2  TREES-BRCG_f2  \\\n",
       "0      orange_churn              0.00            0.02           0.00   \n",
       "1      fraud_oracle              0.00            0.04           0.00   \n",
       "2     taiwan_credit              0.37            0.33           0.34   \n",
       "3     german_credit              0.20            0.52           0.23   \n",
       "4         orange_up              0.45            0.48           0.48   \n",
       "5           bike_75              0.57            0.56           0.00   \n",
       "6    bank_marketing              0.42            0.41           0.37   \n",
       "7            compas              0.00            0.57           0.57   \n",
       "8             heloc              0.70            0.65           0.63   \n",
       "9     telco_churn_2              0.66            0.61           0.63   \n",
       "10            adult              0.59            0.30           0.48   \n",
       "11  fraud_detection              0.73            0.74           0.00   \n",
       "12      telco_churn              0.80            0.58           0.56   \n",
       "13            house              0.74            0.69           0.66   \n",
       "14           boston              0.88            0.82           0.79   \n",
       "15      electricity              0.81            0.60           0.68   \n",
       "16        bike_mean              0.88            0.90           0.90   \n",
       "\n",
       "    TREES-CORELS_f2  NATIVE-R2N_f2  LENC-XGB_f2  NATIVE-RIPPER_recall  \\\n",
       "0              0.00            NaN         0.03                  0.00   \n",
       "1              0.00           0.00         0.36                  0.00   \n",
       "2              0.34           0.33         0.40                  0.33   \n",
       "3              0.11           0.00         0.44                  0.17   \n",
       "4              0.48            NaN         0.47                  0.41   \n",
       "5              0.00           0.00         0.48                  0.60   \n",
       "6              0.37           0.32         0.49                  0.40   \n",
       "7              0.52           0.52         0.57                  0.00   \n",
       "8              0.63           0.82         0.67                  0.71   \n",
       "9              0.65           0.84         0.68                  0.65   \n",
       "10             0.32           0.71         0.69                  0.57   \n",
       "11             0.00           0.00         0.79                  0.70   \n",
       "12             0.38           0.49         0.80                  0.77   \n",
       "13             0.55           0.75         0.81                  0.73   \n",
       "14             0.86           0.85         0.86                  0.90   \n",
       "15             0.61           0.52         0.89                  0.81   \n",
       "16             0.83           0.70         0.92                  0.87   \n",
       "\n",
       "    LENC-CART:4_recall  TREES-BRCG_recall  ...  TREES-BRCG_precision  \\\n",
       "0                 0.02               0.00  ...                  1.00   \n",
       "1                 0.04               0.00  ...                  1.00   \n",
       "2                 0.30               0.30  ...                  0.70   \n",
       "3                 0.51               0.20  ...                  0.68   \n",
       "4                 0.43               0.43  ...                  0.81   \n",
       "5                 0.60               0.00  ...                  1.00   \n",
       "6                 0.39               0.34  ...                  0.56   \n",
       "7                 0.55               0.55  ...                  0.68   \n",
       "8                 0.64               0.61  ...                  0.74   \n",
       "9                 0.58               0.61  ...                  0.77   \n",
       "10                0.26               0.44  ...                  0.75   \n",
       "11                0.73               0.00  ...                  1.00   \n",
       "12                0.54               0.51  ...                  0.89   \n",
       "13                0.68               0.63  ...                  0.78   \n",
       "14                0.82               0.76  ...                  0.93   \n",
       "15                0.56               0.67  ...                  0.76   \n",
       "16                0.92               0.92  ...                  0.84   \n",
       "\n",
       "    TREES-CORELS_precision  NATIVE-R2N_precision  LENC-XGB_precision  \\\n",
       "0                     1.00                   NaN                0.47   \n",
       "1                     1.00                  1.00                0.80   \n",
       "2                     0.70                  0.70                0.66   \n",
       "3                     0.67                  1.00                0.51   \n",
       "4                     0.80                   NaN                0.84   \n",
       "5                     1.00                  1.00                0.54   \n",
       "6                     0.58                  0.62                0.54   \n",
       "7                     0.67                  0.67                0.68   \n",
       "8                     0.74                  0.49                0.71   \n",
       "9                     0.75                  0.58                0.76   \n",
       "10                    0.84                  0.43                0.75   \n",
       "11                    1.00                  1.00                0.94   \n",
       "12                    0.85                  0.57                0.91   \n",
       "13                    0.73                  0.45                0.84   \n",
       "14                    0.87                  0.88                0.92   \n",
       "15                    0.80                  0.87                0.90   \n",
       "16                    0.80                  0.63                0.91   \n",
       "\n",
       "    NATIVE-RIPPER_adj_bal_acc  LENC-CART:4_adj_bal_acc  \\\n",
       "0                        0.00                     0.02   \n",
       "1                        0.00                     0.03   \n",
       "2                        0.28                     0.26   \n",
       "3                        0.12                     0.36   \n",
       "4                        0.40                     0.42   \n",
       "5                        0.60                     0.60   \n",
       "6                        0.35                     0.35   \n",
       "7                        0.00                     0.32   \n",
       "8                        0.42                     0.42   \n",
       "9                        0.37                     0.42   \n",
       "10                       0.50                     0.26   \n",
       "11                       0.70                     0.73   \n",
       "12                       0.76                     0.52   \n",
       "13                       0.66                     0.57   \n",
       "14                       0.73                     0.69   \n",
       "15                       0.67                     0.47   \n",
       "16                       0.81                     0.79   \n",
       "\n",
       "    TREES-BRCG_adj_bal_acc  TREES-CORELS_adj_bal_acc  NATIVE-R2N_adj_bal_acc  \\\n",
       "0                     0.00                      0.00                     NaN   \n",
       "1                     0.00                      0.00                    0.00   \n",
       "2                     0.26                      0.26                    0.26   \n",
       "3                     0.16                      0.07                    0.00   \n",
       "4                     0.42                      0.42                     NaN   \n",
       "5                     0.00                      0.00                    0.00   \n",
       "6                     0.31                      0.31                    0.27   \n",
       "7                     0.33                      0.28                    0.28   \n",
       "8                     0.41                      0.41                    0.02   \n",
       "9                     0.42                      0.42                    0.25   \n",
       "10                    0.40                      0.26                    0.52   \n",
       "11                    0.00                      0.00                    0.00   \n",
       "12                    0.50                      0.33                    0.41   \n",
       "13                    0.56                      0.44                    0.45   \n",
       "14                    0.71                      0.75                    0.75   \n",
       "15                    0.51                      0.47                    0.42   \n",
       "16                    0.80                      0.69                    0.43   \n",
       "\n",
       "    LENC-XGB_adj_bal_acc  \n",
       "0                   0.03  \n",
       "1                   0.31  \n",
       "2                   0.31  \n",
       "3                   0.26  \n",
       "4                   0.41  \n",
       "5                   0.46  \n",
       "6                   0.43  \n",
       "7                   0.33  \n",
       "8                   0.41  \n",
       "9                   0.45  \n",
       "10                  0.61  \n",
       "11                  0.76  \n",
       "12                  0.76  \n",
       "13                  0.74  \n",
       "14                  0.78  \n",
       "15                  0.81  \n",
       "16                  0.86  \n",
       "\n",
       "[17 rows x 25 columns]"
      ]
     },
     "execution_count": 1047,
     "metadata": {},
     "output_type": "execute_result"
    }
   ],
   "source": [
    "trans_map = {\n",
    "    'LENC-XGB': 'xgb/',\n",
    "    'NATIVE-RIPPER': 'rip/',\n",
    "    'TREES-BRCG': 'brcg/',\n",
    "    'TREES-CORELS': 'cor/',\n",
    "    'NATIVE-R2N': 'r2n/',\n",
    "    '\\_f2': 'f2',\n",
    "    '\\_recall': 're',\n",
    "    '\\_precision': 'pr',\n",
    "    '\\_adj\\_bal\\_acc': 'ba',\n",
    "    '\\_acc': 'acc',\n",
    "    '\\_nof\\_rules': 'nor',\n",
    "    '\\_sum\\_preds': 'sop'\n",
    "}\n",
    "\n",
    "# Create table\n",
    "pipelines = DEFAULT_PIPELINES\n",
    "metrics = ['f2', 'recall', 'precision', 'adj_bal_acc']  # 'f', 'acc'\n",
    "cols = ['data_set'] + [p+'_'+m for m in metrics for p in pipelines]\n",
    "df = df_core_suite[cols]\n",
    "df = df.sort_values('LENC-XGB_f2', ignore_index=True)\n",
    "# latex_table = df.to_latex(index=False, longtable=True)\n",
    "# for x in trans_map:\n",
    "#         latex_table = latex_table.replace(x, trans_map[x])\n",
    "# # print(latex_table)\n",
    "df"
   ]
  },
  {
   "attachments": {},
   "cell_type": "markdown",
   "metadata": {},
   "source": [
    "### Performance of rule induction vs. XGBoost"
   ]
  },
  {
   "cell_type": "code",
   "execution_count": 1048,
   "metadata": {},
   "outputs": [
    {
     "data": {
      "application/vnd.plotly.v1+json": {
       "config": {
        "plotlyServerURL": "https://plot.ly"
       },
       "data": [
        {
         "line": {
          "color": "gray",
          "dash": "solid",
          "width": 2
         },
         "marker": {
          "symbol": "circle"
         },
         "mode": "markers+lines",
         "name": "xgb",
         "showlegend": true,
         "type": "scatter",
         "x": [
          "orange_churn",
          "fraud_oracle",
          "taiwan_credit",
          "german_credit",
          "bike_75",
          "bank_marketing",
          "orange_up",
          "compas",
          "heloc",
          "adult",
          "telco_churn_2",
          "house",
          "telco_churn",
          "fraud_detection",
          "boston",
          "electricity",
          "bike_mean"
         ],
         "y": [
          0.05,
          0.45,
          0.47,
          0.47,
          0.5,
          0.51,
          0.56,
          0.61,
          0.68,
          0.71,
          0.71,
          0.82,
          0.84,
          0.84,
          0.88,
          0.89,
          0.92
         ]
        },
        {
         "line": {
          "color": "darkkhaki",
          "dash": "solid",
          "width": 2
         },
         "marker": {
          "symbol": "cross"
         },
         "mode": "markers+lines",
         "name": "NATIVE-CONST",
         "showlegend": true,
         "type": "scatter",
         "x": [
          "orange_churn",
          "fraud_oracle",
          "taiwan_credit",
          "german_credit",
          "bike_75",
          "bank_marketing",
          "orange_up",
          "compas",
          "heloc",
          "adult",
          "telco_churn_2",
          "house",
          "telco_churn",
          "fraud_detection",
          "boston",
          "electricity",
          "bike_mean"
         ],
         "y": [
          0.14,
          0.13,
          0.36,
          0.45,
          0.01,
          0.19,
          0.13,
          0.63,
          0.65,
          0.37,
          0.67,
          0.45,
          0.26,
          0,
          0.64,
          0.59,
          0.59
         ]
        },
        {
         "line": {
          "color": "crimson",
          "dash": "solid",
          "width": 2
         },
         "marker": {
          "symbol": "cross"
         },
         "mode": "markers+lines",
         "name": "maxRI",
         "showlegend": true,
         "type": "scatter",
         "x": [
          "orange_churn",
          "fraud_oracle",
          "taiwan_credit",
          "german_credit",
          "bike_75",
          "bank_marketing",
          "orange_up",
          "compas",
          "heloc",
          "adult",
          "telco_churn_2",
          "house",
          "telco_churn",
          "fraud_detection",
          "boston",
          "electricity",
          "bike_mean"
         ],
         "y": [
          0.14,
          0.29,
          0.45,
          0.59,
          0.53,
          0.5,
          0.57,
          0.61,
          0.71,
          0.63,
          0.72,
          0.77,
          0.84,
          0.79,
          0.87,
          0.86,
          0.89
         ]
        },
        {
         "line": {
          "color": "orangered",
          "dash": "solid",
          "width": 2
         },
         "marker": {
          "symbol": "cross"
         },
         "mode": "markers+lines",
         "name": "maxRI50",
         "showlegend": true,
         "type": "scatter",
         "x": [
          "orange_churn",
          "fraud_oracle",
          "taiwan_credit",
          "german_credit",
          "bike_75",
          "bank_marketing",
          "orange_up",
          "compas",
          "heloc",
          "adult",
          "telco_churn_2",
          "house",
          "telco_churn",
          "fraud_detection",
          "boston",
          "electricity",
          "bike_mean"
         ],
         "y": [
          0.07,
          0.17,
          0.45,
          0.59,
          0.53,
          0.5,
          0.57,
          0.61,
          0.71,
          0.63,
          0.72,
          0.77,
          0.84,
          0.79,
          0.87,
          0.71,
          0.89
         ]
        },
        {
         "line": {
          "color": "darkorange",
          "dash": "solid",
          "width": 2
         },
         "marker": {
          "symbol": "cross"
         },
         "mode": "markers+lines",
         "name": "maxRI25",
         "showlegend": true,
         "type": "scatter",
         "x": [
          "orange_churn",
          "fraud_oracle",
          "taiwan_credit",
          "german_credit",
          "bike_75",
          "bank_marketing",
          "orange_up",
          "compas",
          "heloc",
          "adult",
          "telco_churn_2",
          "house",
          "telco_churn",
          "fraud_detection",
          "boston",
          "electricity",
          "bike_mean"
         ],
         "y": [
          0.07,
          0.17,
          0.45,
          0.59,
          0.53,
          0.5,
          0.57,
          0.61,
          0.71,
          0.62,
          0.72,
          0.7,
          0.84,
          0.79,
          0.87,
          0.71,
          0.89
         ]
        },
        {
         "line": {
          "color": "gold",
          "dash": "solid",
          "width": 2
         },
         "marker": {
          "symbol": "cross"
         },
         "mode": "markers+lines",
         "name": "maxRI10",
         "showlegend": true,
         "type": "scatter",
         "x": [
          "orange_churn",
          "fraud_oracle",
          "taiwan_credit",
          "german_credit",
          "bike_75",
          "bank_marketing",
          "orange_up",
          "compas",
          "heloc",
          "adult",
          "telco_churn_2",
          "house",
          "telco_churn",
          "fraud_detection",
          "boston",
          "electricity",
          "bike_mean"
         ],
         "y": [
          0.03,
          0.1,
          0.44,
          0.54,
          0.53,
          0.5,
          0.56,
          0.61,
          0.71,
          0.62,
          0.72,
          0.7,
          0.84,
          0.78,
          0.87,
          0.71,
          0.88
         ]
        },
        {
         "line": {
          "color": "palegoldenrod",
          "dash": "solid",
          "width": 2
         },
         "marker": {
          "symbol": "cross"
         },
         "mode": "markers+lines",
         "name": "maxRI5",
         "showlegend": true,
         "type": "scatter",
         "x": [
          "orange_churn",
          "fraud_oracle",
          "taiwan_credit",
          "german_credit",
          "bike_75",
          "bank_marketing",
          "orange_up",
          "compas",
          "heloc",
          "adult",
          "telco_churn_2",
          "house",
          "telco_churn",
          "fraud_detection",
          "boston",
          "electricity",
          "bike_mean"
         ],
         "y": [
          0.03,
          0.1,
          0.44,
          0.42,
          0.51,
          0.44,
          0.56,
          0.61,
          0.71,
          0.62,
          0.72,
          0.7,
          0.72,
          0.75,
          0.87,
          0.71,
          0.88
         ]
        }
       ],
       "layout": {
        "height": 400,
        "plot_bgcolor": "whitesmoke",
        "template": {
         "data": {
          "bar": [
           {
            "error_x": {
             "color": "#2a3f5f"
            },
            "error_y": {
             "color": "#2a3f5f"
            },
            "marker": {
             "line": {
              "color": "#E5ECF6",
              "width": 0.5
             },
             "pattern": {
              "fillmode": "overlay",
              "size": 10,
              "solidity": 0.2
             }
            },
            "type": "bar"
           }
          ],
          "barpolar": [
           {
            "marker": {
             "line": {
              "color": "#E5ECF6",
              "width": 0.5
             },
             "pattern": {
              "fillmode": "overlay",
              "size": 10,
              "solidity": 0.2
             }
            },
            "type": "barpolar"
           }
          ],
          "carpet": [
           {
            "aaxis": {
             "endlinecolor": "#2a3f5f",
             "gridcolor": "white",
             "linecolor": "white",
             "minorgridcolor": "white",
             "startlinecolor": "#2a3f5f"
            },
            "baxis": {
             "endlinecolor": "#2a3f5f",
             "gridcolor": "white",
             "linecolor": "white",
             "minorgridcolor": "white",
             "startlinecolor": "#2a3f5f"
            },
            "type": "carpet"
           }
          ],
          "choropleth": [
           {
            "colorbar": {
             "outlinewidth": 0,
             "ticks": ""
            },
            "type": "choropleth"
           }
          ],
          "contour": [
           {
            "colorbar": {
             "outlinewidth": 0,
             "ticks": ""
            },
            "colorscale": [
             [
              0,
              "#0d0887"
             ],
             [
              0.1111111111111111,
              "#46039f"
             ],
             [
              0.2222222222222222,
              "#7201a8"
             ],
             [
              0.3333333333333333,
              "#9c179e"
             ],
             [
              0.4444444444444444,
              "#bd3786"
             ],
             [
              0.5555555555555556,
              "#d8576b"
             ],
             [
              0.6666666666666666,
              "#ed7953"
             ],
             [
              0.7777777777777778,
              "#fb9f3a"
             ],
             [
              0.8888888888888888,
              "#fdca26"
             ],
             [
              1,
              "#f0f921"
             ]
            ],
            "type": "contour"
           }
          ],
          "contourcarpet": [
           {
            "colorbar": {
             "outlinewidth": 0,
             "ticks": ""
            },
            "type": "contourcarpet"
           }
          ],
          "heatmap": [
           {
            "colorbar": {
             "outlinewidth": 0,
             "ticks": ""
            },
            "colorscale": [
             [
              0,
              "#0d0887"
             ],
             [
              0.1111111111111111,
              "#46039f"
             ],
             [
              0.2222222222222222,
              "#7201a8"
             ],
             [
              0.3333333333333333,
              "#9c179e"
             ],
             [
              0.4444444444444444,
              "#bd3786"
             ],
             [
              0.5555555555555556,
              "#d8576b"
             ],
             [
              0.6666666666666666,
              "#ed7953"
             ],
             [
              0.7777777777777778,
              "#fb9f3a"
             ],
             [
              0.8888888888888888,
              "#fdca26"
             ],
             [
              1,
              "#f0f921"
             ]
            ],
            "type": "heatmap"
           }
          ],
          "heatmapgl": [
           {
            "colorbar": {
             "outlinewidth": 0,
             "ticks": ""
            },
            "colorscale": [
             [
              0,
              "#0d0887"
             ],
             [
              0.1111111111111111,
              "#46039f"
             ],
             [
              0.2222222222222222,
              "#7201a8"
             ],
             [
              0.3333333333333333,
              "#9c179e"
             ],
             [
              0.4444444444444444,
              "#bd3786"
             ],
             [
              0.5555555555555556,
              "#d8576b"
             ],
             [
              0.6666666666666666,
              "#ed7953"
             ],
             [
              0.7777777777777778,
              "#fb9f3a"
             ],
             [
              0.8888888888888888,
              "#fdca26"
             ],
             [
              1,
              "#f0f921"
             ]
            ],
            "type": "heatmapgl"
           }
          ],
          "histogram": [
           {
            "marker": {
             "pattern": {
              "fillmode": "overlay",
              "size": 10,
              "solidity": 0.2
             }
            },
            "type": "histogram"
           }
          ],
          "histogram2d": [
           {
            "colorbar": {
             "outlinewidth": 0,
             "ticks": ""
            },
            "colorscale": [
             [
              0,
              "#0d0887"
             ],
             [
              0.1111111111111111,
              "#46039f"
             ],
             [
              0.2222222222222222,
              "#7201a8"
             ],
             [
              0.3333333333333333,
              "#9c179e"
             ],
             [
              0.4444444444444444,
              "#bd3786"
             ],
             [
              0.5555555555555556,
              "#d8576b"
             ],
             [
              0.6666666666666666,
              "#ed7953"
             ],
             [
              0.7777777777777778,
              "#fb9f3a"
             ],
             [
              0.8888888888888888,
              "#fdca26"
             ],
             [
              1,
              "#f0f921"
             ]
            ],
            "type": "histogram2d"
           }
          ],
          "histogram2dcontour": [
           {
            "colorbar": {
             "outlinewidth": 0,
             "ticks": ""
            },
            "colorscale": [
             [
              0,
              "#0d0887"
             ],
             [
              0.1111111111111111,
              "#46039f"
             ],
             [
              0.2222222222222222,
              "#7201a8"
             ],
             [
              0.3333333333333333,
              "#9c179e"
             ],
             [
              0.4444444444444444,
              "#bd3786"
             ],
             [
              0.5555555555555556,
              "#d8576b"
             ],
             [
              0.6666666666666666,
              "#ed7953"
             ],
             [
              0.7777777777777778,
              "#fb9f3a"
             ],
             [
              0.8888888888888888,
              "#fdca26"
             ],
             [
              1,
              "#f0f921"
             ]
            ],
            "type": "histogram2dcontour"
           }
          ],
          "mesh3d": [
           {
            "colorbar": {
             "outlinewidth": 0,
             "ticks": ""
            },
            "type": "mesh3d"
           }
          ],
          "parcoords": [
           {
            "line": {
             "colorbar": {
              "outlinewidth": 0,
              "ticks": ""
             }
            },
            "type": "parcoords"
           }
          ],
          "pie": [
           {
            "automargin": true,
            "type": "pie"
           }
          ],
          "scatter": [
           {
            "fillpattern": {
             "fillmode": "overlay",
             "size": 10,
             "solidity": 0.2
            },
            "type": "scatter"
           }
          ],
          "scatter3d": [
           {
            "line": {
             "colorbar": {
              "outlinewidth": 0,
              "ticks": ""
             }
            },
            "marker": {
             "colorbar": {
              "outlinewidth": 0,
              "ticks": ""
             }
            },
            "type": "scatter3d"
           }
          ],
          "scattercarpet": [
           {
            "marker": {
             "colorbar": {
              "outlinewidth": 0,
              "ticks": ""
             }
            },
            "type": "scattercarpet"
           }
          ],
          "scattergeo": [
           {
            "marker": {
             "colorbar": {
              "outlinewidth": 0,
              "ticks": ""
             }
            },
            "type": "scattergeo"
           }
          ],
          "scattergl": [
           {
            "marker": {
             "colorbar": {
              "outlinewidth": 0,
              "ticks": ""
             }
            },
            "type": "scattergl"
           }
          ],
          "scattermapbox": [
           {
            "marker": {
             "colorbar": {
              "outlinewidth": 0,
              "ticks": ""
             }
            },
            "type": "scattermapbox"
           }
          ],
          "scatterpolar": [
           {
            "marker": {
             "colorbar": {
              "outlinewidth": 0,
              "ticks": ""
             }
            },
            "type": "scatterpolar"
           }
          ],
          "scatterpolargl": [
           {
            "marker": {
             "colorbar": {
              "outlinewidth": 0,
              "ticks": ""
             }
            },
            "type": "scatterpolargl"
           }
          ],
          "scatterternary": [
           {
            "marker": {
             "colorbar": {
              "outlinewidth": 0,
              "ticks": ""
             }
            },
            "type": "scatterternary"
           }
          ],
          "surface": [
           {
            "colorbar": {
             "outlinewidth": 0,
             "ticks": ""
            },
            "colorscale": [
             [
              0,
              "#0d0887"
             ],
             [
              0.1111111111111111,
              "#46039f"
             ],
             [
              0.2222222222222222,
              "#7201a8"
             ],
             [
              0.3333333333333333,
              "#9c179e"
             ],
             [
              0.4444444444444444,
              "#bd3786"
             ],
             [
              0.5555555555555556,
              "#d8576b"
             ],
             [
              0.6666666666666666,
              "#ed7953"
             ],
             [
              0.7777777777777778,
              "#fb9f3a"
             ],
             [
              0.8888888888888888,
              "#fdca26"
             ],
             [
              1,
              "#f0f921"
             ]
            ],
            "type": "surface"
           }
          ],
          "table": [
           {
            "cells": {
             "fill": {
              "color": "#EBF0F8"
             },
             "line": {
              "color": "white"
             }
            },
            "header": {
             "fill": {
              "color": "#C8D4E3"
             },
             "line": {
              "color": "white"
             }
            },
            "type": "table"
           }
          ]
         },
         "layout": {
          "annotationdefaults": {
           "arrowcolor": "#2a3f5f",
           "arrowhead": 0,
           "arrowwidth": 1
          },
          "autotypenumbers": "strict",
          "coloraxis": {
           "colorbar": {
            "outlinewidth": 0,
            "ticks": ""
           }
          },
          "colorscale": {
           "diverging": [
            [
             0,
             "#8e0152"
            ],
            [
             0.1,
             "#c51b7d"
            ],
            [
             0.2,
             "#de77ae"
            ],
            [
             0.3,
             "#f1b6da"
            ],
            [
             0.4,
             "#fde0ef"
            ],
            [
             0.5,
             "#f7f7f7"
            ],
            [
             0.6,
             "#e6f5d0"
            ],
            [
             0.7,
             "#b8e186"
            ],
            [
             0.8,
             "#7fbc41"
            ],
            [
             0.9,
             "#4d9221"
            ],
            [
             1,
             "#276419"
            ]
           ],
           "sequential": [
            [
             0,
             "#0d0887"
            ],
            [
             0.1111111111111111,
             "#46039f"
            ],
            [
             0.2222222222222222,
             "#7201a8"
            ],
            [
             0.3333333333333333,
             "#9c179e"
            ],
            [
             0.4444444444444444,
             "#bd3786"
            ],
            [
             0.5555555555555556,
             "#d8576b"
            ],
            [
             0.6666666666666666,
             "#ed7953"
            ],
            [
             0.7777777777777778,
             "#fb9f3a"
            ],
            [
             0.8888888888888888,
             "#fdca26"
            ],
            [
             1,
             "#f0f921"
            ]
           ],
           "sequentialminus": [
            [
             0,
             "#0d0887"
            ],
            [
             0.1111111111111111,
             "#46039f"
            ],
            [
             0.2222222222222222,
             "#7201a8"
            ],
            [
             0.3333333333333333,
             "#9c179e"
            ],
            [
             0.4444444444444444,
             "#bd3786"
            ],
            [
             0.5555555555555556,
             "#d8576b"
            ],
            [
             0.6666666666666666,
             "#ed7953"
            ],
            [
             0.7777777777777778,
             "#fb9f3a"
            ],
            [
             0.8888888888888888,
             "#fdca26"
            ],
            [
             1,
             "#f0f921"
            ]
           ]
          },
          "colorway": [
           "#636efa",
           "#EF553B",
           "#00cc96",
           "#ab63fa",
           "#FFA15A",
           "#19d3f3",
           "#FF6692",
           "#B6E880",
           "#FF97FF",
           "#FECB52"
          ],
          "font": {
           "color": "#2a3f5f"
          },
          "geo": {
           "bgcolor": "white",
           "lakecolor": "white",
           "landcolor": "#E5ECF6",
           "showlakes": true,
           "showland": true,
           "subunitcolor": "white"
          },
          "hoverlabel": {
           "align": "left"
          },
          "hovermode": "closest",
          "mapbox": {
           "style": "light"
          },
          "paper_bgcolor": "white",
          "plot_bgcolor": "#E5ECF6",
          "polar": {
           "angularaxis": {
            "gridcolor": "white",
            "linecolor": "white",
            "ticks": ""
           },
           "bgcolor": "#E5ECF6",
           "radialaxis": {
            "gridcolor": "white",
            "linecolor": "white",
            "ticks": ""
           }
          },
          "scene": {
           "xaxis": {
            "backgroundcolor": "#E5ECF6",
            "gridcolor": "white",
            "gridwidth": 2,
            "linecolor": "white",
            "showbackground": true,
            "ticks": "",
            "zerolinecolor": "white"
           },
           "yaxis": {
            "backgroundcolor": "#E5ECF6",
            "gridcolor": "white",
            "gridwidth": 2,
            "linecolor": "white",
            "showbackground": true,
            "ticks": "",
            "zerolinecolor": "white"
           },
           "zaxis": {
            "backgroundcolor": "#E5ECF6",
            "gridcolor": "white",
            "gridwidth": 2,
            "linecolor": "white",
            "showbackground": true,
            "ticks": "",
            "zerolinecolor": "white"
           }
          },
          "shapedefaults": {
           "line": {
            "color": "#2a3f5f"
           }
          },
          "ternary": {
           "aaxis": {
            "gridcolor": "white",
            "linecolor": "white",
            "ticks": ""
           },
           "baxis": {
            "gridcolor": "white",
            "linecolor": "white",
            "ticks": ""
           },
           "bgcolor": "#E5ECF6",
           "caxis": {
            "gridcolor": "white",
            "linecolor": "white",
            "ticks": ""
           }
          },
          "title": {
           "x": 0.05
          },
          "xaxis": {
           "automargin": true,
           "gridcolor": "white",
           "linecolor": "white",
           "ticks": "",
           "title": {
            "standoff": 15
           },
           "zerolinecolor": "white",
           "zerolinewidth": 2
          },
          "yaxis": {
           "automargin": true,
           "gridcolor": "white",
           "linecolor": "white",
           "ticks": "",
           "title": {
            "standoff": 15
           },
           "zerolinecolor": "white",
           "zerolinewidth": 2
          }
         }
        },
        "title": {
         "text": "f-score on core suite"
        },
        "width": 1000,
        "yaxis": {
         "title": {
          "text": "f-score"
         }
        }
       }
      }
     },
     "metadata": {},
     "output_type": "display_data"
    }
   ],
   "source": [
    "main_metric = 'f'\n",
    "sorted_df = df_core_suite.sort_values('LENC-XGB_'+main_metric, ignore_index=True)\n",
    "single_chart(pipelines=['LENC-XGB', 'NATIVE-CONST', 'maxRI', 'maxRI50', 'maxRI25', 'maxRI10', 'maxRI5'], metric=main_metric, df=sorted_df, df_long_name='core suite')"
   ]
  },
  {
   "cell_type": "code",
   "execution_count": 1049,
   "metadata": {},
   "outputs": [
    {
     "data": {
      "application/vnd.plotly.v1+json": {
       "config": {
        "plotlyServerURL": "https://plot.ly"
       },
       "data": [
        {
         "line": {
          "color": "gray",
          "dash": "solid",
          "width": 2
         },
         "marker": {
          "symbol": "circle"
         },
         "mode": "markers+lines",
         "name": "xgb",
         "showlegend": true,
         "type": "scatter",
         "x": [
          "orange_churn",
          "german_credit",
          "fraud_oracle",
          "taiwan_credit",
          "compas",
          "orange_up",
          "heloc",
          "bank_marketing",
          "telco_churn_2",
          "bike_75",
          "adult",
          "house",
          "telco_churn",
          "fraud_detection",
          "boston",
          "electricity",
          "bike_mean"
         ],
         "y": [
          0.03,
          0.26,
          0.31,
          0.31,
          0.33,
          0.41,
          0.41,
          0.43,
          0.45,
          0.46,
          0.61,
          0.74,
          0.76,
          0.76,
          0.78,
          0.81,
          0.86
         ]
        },
        {
         "line": {
          "color": "darkkhaki",
          "dash": "solid",
          "width": 2
         },
         "marker": {
          "symbol": "cross"
         },
         "mode": "markers+lines",
         "name": "NATIVE-CONST",
         "showlegend": true,
         "type": "scatter",
         "x": [
          "orange_churn",
          "german_credit",
          "fraud_oracle",
          "taiwan_credit",
          "compas",
          "orange_up",
          "heloc",
          "bank_marketing",
          "telco_churn_2",
          "bike_75",
          "adult",
          "house",
          "telco_churn",
          "fraud_detection",
          "boston",
          "electricity",
          "bike_mean"
         ],
         "y": [
          0,
          0,
          0,
          0,
          0,
          0,
          0,
          0,
          0,
          0,
          0,
          0,
          0,
          0,
          0,
          0,
          0
         ]
        },
        {
         "line": {
          "color": "crimson",
          "dash": "solid",
          "width": 2
         },
         "marker": {
          "symbol": "cross"
         },
         "mode": "markers+lines",
         "name": "maxRI",
         "showlegend": true,
         "type": "scatter",
         "x": [
          "orange_churn",
          "german_credit",
          "fraud_oracle",
          "taiwan_credit",
          "compas",
          "orange_up",
          "heloc",
          "bank_marketing",
          "telco_churn_2",
          "bike_75",
          "adult",
          "house",
          "telco_churn",
          "fraud_detection",
          "boston",
          "electricity",
          "bike_mean"
         ],
         "y": [
          0.07,
          0.42,
          0.3,
          0.29,
          0.33,
          0.44,
          0.44,
          0.45,
          0.45,
          0.87,
          0.52,
          0.67,
          0.76,
          0.73,
          0.75,
          0.75,
          0.82
         ]
        },
        {
         "line": {
          "color": "orangered",
          "dash": "solid",
          "width": 2
         },
         "marker": {
          "symbol": "cross"
         },
         "mode": "markers+lines",
         "name": "maxRI50",
         "showlegend": true,
         "type": "scatter",
         "x": [
          "orange_churn",
          "german_credit",
          "fraud_oracle",
          "taiwan_credit",
          "compas",
          "orange_up",
          "heloc",
          "bank_marketing",
          "telco_churn_2",
          "bike_75",
          "adult",
          "house",
          "telco_churn",
          "fraud_detection",
          "boston",
          "electricity",
          "bike_mean"
         ],
         "y": [
          0.03,
          0.42,
          0.3,
          0.29,
          0.33,
          0.44,
          0.44,
          0.43,
          0.45,
          0.87,
          0.52,
          0.67,
          0.76,
          0.73,
          0.75,
          0.52,
          0.82
         ]
        },
        {
         "line": {
          "color": "darkorange",
          "dash": "solid",
          "width": 2
         },
         "marker": {
          "symbol": "cross"
         },
         "mode": "markers+lines",
         "name": "maxRI25",
         "showlegend": true,
         "type": "scatter",
         "x": [
          "orange_churn",
          "german_credit",
          "fraud_oracle",
          "taiwan_credit",
          "compas",
          "orange_up",
          "heloc",
          "bank_marketing",
          "telco_churn_2",
          "bike_75",
          "adult",
          "house",
          "telco_churn",
          "fraud_detection",
          "boston",
          "electricity",
          "bike_mean"
         ],
         "y": [
          0.03,
          0.42,
          0.3,
          0.29,
          0.33,
          0.44,
          0.44,
          0.43,
          0.45,
          0.87,
          0.52,
          0.57,
          0.76,
          0.73,
          0.75,
          0.51,
          0.82
         ]
        },
        {
         "line": {
          "color": "gold",
          "dash": "solid",
          "width": 2
         },
         "marker": {
          "symbol": "cross"
         },
         "mode": "markers+lines",
         "name": "maxRI10",
         "showlegend": true,
         "type": "scatter",
         "x": [
          "orange_churn",
          "german_credit",
          "fraud_oracle",
          "taiwan_credit",
          "compas",
          "orange_up",
          "heloc",
          "bank_marketing",
          "telco_churn_2",
          "bike_75",
          "adult",
          "house",
          "telco_churn",
          "fraud_detection",
          "boston",
          "electricity",
          "bike_mean"
         ],
         "y": [
          0.02,
          0.36,
          0.05,
          0.28,
          0.33,
          0.42,
          0.44,
          0.43,
          0.45,
          0.87,
          0.52,
          0.57,
          0.76,
          0.73,
          0.75,
          0.51,
          0.8
         ]
        },
        {
         "line": {
          "color": "palegoldenrod",
          "dash": "solid",
          "width": 2
         },
         "marker": {
          "symbol": "cross"
         },
         "mode": "markers+lines",
         "name": "maxRI5",
         "showlegend": true,
         "type": "scatter",
         "x": [
          "orange_churn",
          "german_credit",
          "fraud_oracle",
          "taiwan_credit",
          "compas",
          "orange_up",
          "heloc",
          "bank_marketing",
          "telco_churn_2",
          "bike_75",
          "adult",
          "house",
          "telco_churn",
          "fraud_detection",
          "boston",
          "electricity",
          "bike_mean"
         ],
         "y": [
          0.02,
          0.24,
          0.05,
          0.28,
          0.33,
          0.42,
          0.44,
          0.33,
          0.45,
          0.87,
          0.52,
          0.57,
          0.59,
          0.67,
          0.75,
          0.51,
          0.8
         ]
        }
       ],
       "layout": {
        "height": 400,
        "plot_bgcolor": "whitesmoke",
        "template": {
         "data": {
          "bar": [
           {
            "error_x": {
             "color": "#2a3f5f"
            },
            "error_y": {
             "color": "#2a3f5f"
            },
            "marker": {
             "line": {
              "color": "#E5ECF6",
              "width": 0.5
             },
             "pattern": {
              "fillmode": "overlay",
              "size": 10,
              "solidity": 0.2
             }
            },
            "type": "bar"
           }
          ],
          "barpolar": [
           {
            "marker": {
             "line": {
              "color": "#E5ECF6",
              "width": 0.5
             },
             "pattern": {
              "fillmode": "overlay",
              "size": 10,
              "solidity": 0.2
             }
            },
            "type": "barpolar"
           }
          ],
          "carpet": [
           {
            "aaxis": {
             "endlinecolor": "#2a3f5f",
             "gridcolor": "white",
             "linecolor": "white",
             "minorgridcolor": "white",
             "startlinecolor": "#2a3f5f"
            },
            "baxis": {
             "endlinecolor": "#2a3f5f",
             "gridcolor": "white",
             "linecolor": "white",
             "minorgridcolor": "white",
             "startlinecolor": "#2a3f5f"
            },
            "type": "carpet"
           }
          ],
          "choropleth": [
           {
            "colorbar": {
             "outlinewidth": 0,
             "ticks": ""
            },
            "type": "choropleth"
           }
          ],
          "contour": [
           {
            "colorbar": {
             "outlinewidth": 0,
             "ticks": ""
            },
            "colorscale": [
             [
              0,
              "#0d0887"
             ],
             [
              0.1111111111111111,
              "#46039f"
             ],
             [
              0.2222222222222222,
              "#7201a8"
             ],
             [
              0.3333333333333333,
              "#9c179e"
             ],
             [
              0.4444444444444444,
              "#bd3786"
             ],
             [
              0.5555555555555556,
              "#d8576b"
             ],
             [
              0.6666666666666666,
              "#ed7953"
             ],
             [
              0.7777777777777778,
              "#fb9f3a"
             ],
             [
              0.8888888888888888,
              "#fdca26"
             ],
             [
              1,
              "#f0f921"
             ]
            ],
            "type": "contour"
           }
          ],
          "contourcarpet": [
           {
            "colorbar": {
             "outlinewidth": 0,
             "ticks": ""
            },
            "type": "contourcarpet"
           }
          ],
          "heatmap": [
           {
            "colorbar": {
             "outlinewidth": 0,
             "ticks": ""
            },
            "colorscale": [
             [
              0,
              "#0d0887"
             ],
             [
              0.1111111111111111,
              "#46039f"
             ],
             [
              0.2222222222222222,
              "#7201a8"
             ],
             [
              0.3333333333333333,
              "#9c179e"
             ],
             [
              0.4444444444444444,
              "#bd3786"
             ],
             [
              0.5555555555555556,
              "#d8576b"
             ],
             [
              0.6666666666666666,
              "#ed7953"
             ],
             [
              0.7777777777777778,
              "#fb9f3a"
             ],
             [
              0.8888888888888888,
              "#fdca26"
             ],
             [
              1,
              "#f0f921"
             ]
            ],
            "type": "heatmap"
           }
          ],
          "heatmapgl": [
           {
            "colorbar": {
             "outlinewidth": 0,
             "ticks": ""
            },
            "colorscale": [
             [
              0,
              "#0d0887"
             ],
             [
              0.1111111111111111,
              "#46039f"
             ],
             [
              0.2222222222222222,
              "#7201a8"
             ],
             [
              0.3333333333333333,
              "#9c179e"
             ],
             [
              0.4444444444444444,
              "#bd3786"
             ],
             [
              0.5555555555555556,
              "#d8576b"
             ],
             [
              0.6666666666666666,
              "#ed7953"
             ],
             [
              0.7777777777777778,
              "#fb9f3a"
             ],
             [
              0.8888888888888888,
              "#fdca26"
             ],
             [
              1,
              "#f0f921"
             ]
            ],
            "type": "heatmapgl"
           }
          ],
          "histogram": [
           {
            "marker": {
             "pattern": {
              "fillmode": "overlay",
              "size": 10,
              "solidity": 0.2
             }
            },
            "type": "histogram"
           }
          ],
          "histogram2d": [
           {
            "colorbar": {
             "outlinewidth": 0,
             "ticks": ""
            },
            "colorscale": [
             [
              0,
              "#0d0887"
             ],
             [
              0.1111111111111111,
              "#46039f"
             ],
             [
              0.2222222222222222,
              "#7201a8"
             ],
             [
              0.3333333333333333,
              "#9c179e"
             ],
             [
              0.4444444444444444,
              "#bd3786"
             ],
             [
              0.5555555555555556,
              "#d8576b"
             ],
             [
              0.6666666666666666,
              "#ed7953"
             ],
             [
              0.7777777777777778,
              "#fb9f3a"
             ],
             [
              0.8888888888888888,
              "#fdca26"
             ],
             [
              1,
              "#f0f921"
             ]
            ],
            "type": "histogram2d"
           }
          ],
          "histogram2dcontour": [
           {
            "colorbar": {
             "outlinewidth": 0,
             "ticks": ""
            },
            "colorscale": [
             [
              0,
              "#0d0887"
             ],
             [
              0.1111111111111111,
              "#46039f"
             ],
             [
              0.2222222222222222,
              "#7201a8"
             ],
             [
              0.3333333333333333,
              "#9c179e"
             ],
             [
              0.4444444444444444,
              "#bd3786"
             ],
             [
              0.5555555555555556,
              "#d8576b"
             ],
             [
              0.6666666666666666,
              "#ed7953"
             ],
             [
              0.7777777777777778,
              "#fb9f3a"
             ],
             [
              0.8888888888888888,
              "#fdca26"
             ],
             [
              1,
              "#f0f921"
             ]
            ],
            "type": "histogram2dcontour"
           }
          ],
          "mesh3d": [
           {
            "colorbar": {
             "outlinewidth": 0,
             "ticks": ""
            },
            "type": "mesh3d"
           }
          ],
          "parcoords": [
           {
            "line": {
             "colorbar": {
              "outlinewidth": 0,
              "ticks": ""
             }
            },
            "type": "parcoords"
           }
          ],
          "pie": [
           {
            "automargin": true,
            "type": "pie"
           }
          ],
          "scatter": [
           {
            "fillpattern": {
             "fillmode": "overlay",
             "size": 10,
             "solidity": 0.2
            },
            "type": "scatter"
           }
          ],
          "scatter3d": [
           {
            "line": {
             "colorbar": {
              "outlinewidth": 0,
              "ticks": ""
             }
            },
            "marker": {
             "colorbar": {
              "outlinewidth": 0,
              "ticks": ""
             }
            },
            "type": "scatter3d"
           }
          ],
          "scattercarpet": [
           {
            "marker": {
             "colorbar": {
              "outlinewidth": 0,
              "ticks": ""
             }
            },
            "type": "scattercarpet"
           }
          ],
          "scattergeo": [
           {
            "marker": {
             "colorbar": {
              "outlinewidth": 0,
              "ticks": ""
             }
            },
            "type": "scattergeo"
           }
          ],
          "scattergl": [
           {
            "marker": {
             "colorbar": {
              "outlinewidth": 0,
              "ticks": ""
             }
            },
            "type": "scattergl"
           }
          ],
          "scattermapbox": [
           {
            "marker": {
             "colorbar": {
              "outlinewidth": 0,
              "ticks": ""
             }
            },
            "type": "scattermapbox"
           }
          ],
          "scatterpolar": [
           {
            "marker": {
             "colorbar": {
              "outlinewidth": 0,
              "ticks": ""
             }
            },
            "type": "scatterpolar"
           }
          ],
          "scatterpolargl": [
           {
            "marker": {
             "colorbar": {
              "outlinewidth": 0,
              "ticks": ""
             }
            },
            "type": "scatterpolargl"
           }
          ],
          "scatterternary": [
           {
            "marker": {
             "colorbar": {
              "outlinewidth": 0,
              "ticks": ""
             }
            },
            "type": "scatterternary"
           }
          ],
          "surface": [
           {
            "colorbar": {
             "outlinewidth": 0,
             "ticks": ""
            },
            "colorscale": [
             [
              0,
              "#0d0887"
             ],
             [
              0.1111111111111111,
              "#46039f"
             ],
             [
              0.2222222222222222,
              "#7201a8"
             ],
             [
              0.3333333333333333,
              "#9c179e"
             ],
             [
              0.4444444444444444,
              "#bd3786"
             ],
             [
              0.5555555555555556,
              "#d8576b"
             ],
             [
              0.6666666666666666,
              "#ed7953"
             ],
             [
              0.7777777777777778,
              "#fb9f3a"
             ],
             [
              0.8888888888888888,
              "#fdca26"
             ],
             [
              1,
              "#f0f921"
             ]
            ],
            "type": "surface"
           }
          ],
          "table": [
           {
            "cells": {
             "fill": {
              "color": "#EBF0F8"
             },
             "line": {
              "color": "white"
             }
            },
            "header": {
             "fill": {
              "color": "#C8D4E3"
             },
             "line": {
              "color": "white"
             }
            },
            "type": "table"
           }
          ]
         },
         "layout": {
          "annotationdefaults": {
           "arrowcolor": "#2a3f5f",
           "arrowhead": 0,
           "arrowwidth": 1
          },
          "autotypenumbers": "strict",
          "coloraxis": {
           "colorbar": {
            "outlinewidth": 0,
            "ticks": ""
           }
          },
          "colorscale": {
           "diverging": [
            [
             0,
             "#8e0152"
            ],
            [
             0.1,
             "#c51b7d"
            ],
            [
             0.2,
             "#de77ae"
            ],
            [
             0.3,
             "#f1b6da"
            ],
            [
             0.4,
             "#fde0ef"
            ],
            [
             0.5,
             "#f7f7f7"
            ],
            [
             0.6,
             "#e6f5d0"
            ],
            [
             0.7,
             "#b8e186"
            ],
            [
             0.8,
             "#7fbc41"
            ],
            [
             0.9,
             "#4d9221"
            ],
            [
             1,
             "#276419"
            ]
           ],
           "sequential": [
            [
             0,
             "#0d0887"
            ],
            [
             0.1111111111111111,
             "#46039f"
            ],
            [
             0.2222222222222222,
             "#7201a8"
            ],
            [
             0.3333333333333333,
             "#9c179e"
            ],
            [
             0.4444444444444444,
             "#bd3786"
            ],
            [
             0.5555555555555556,
             "#d8576b"
            ],
            [
             0.6666666666666666,
             "#ed7953"
            ],
            [
             0.7777777777777778,
             "#fb9f3a"
            ],
            [
             0.8888888888888888,
             "#fdca26"
            ],
            [
             1,
             "#f0f921"
            ]
           ],
           "sequentialminus": [
            [
             0,
             "#0d0887"
            ],
            [
             0.1111111111111111,
             "#46039f"
            ],
            [
             0.2222222222222222,
             "#7201a8"
            ],
            [
             0.3333333333333333,
             "#9c179e"
            ],
            [
             0.4444444444444444,
             "#bd3786"
            ],
            [
             0.5555555555555556,
             "#d8576b"
            ],
            [
             0.6666666666666666,
             "#ed7953"
            ],
            [
             0.7777777777777778,
             "#fb9f3a"
            ],
            [
             0.8888888888888888,
             "#fdca26"
            ],
            [
             1,
             "#f0f921"
            ]
           ]
          },
          "colorway": [
           "#636efa",
           "#EF553B",
           "#00cc96",
           "#ab63fa",
           "#FFA15A",
           "#19d3f3",
           "#FF6692",
           "#B6E880",
           "#FF97FF",
           "#FECB52"
          ],
          "font": {
           "color": "#2a3f5f"
          },
          "geo": {
           "bgcolor": "white",
           "lakecolor": "white",
           "landcolor": "#E5ECF6",
           "showlakes": true,
           "showland": true,
           "subunitcolor": "white"
          },
          "hoverlabel": {
           "align": "left"
          },
          "hovermode": "closest",
          "mapbox": {
           "style": "light"
          },
          "paper_bgcolor": "white",
          "plot_bgcolor": "#E5ECF6",
          "polar": {
           "angularaxis": {
            "gridcolor": "white",
            "linecolor": "white",
            "ticks": ""
           },
           "bgcolor": "#E5ECF6",
           "radialaxis": {
            "gridcolor": "white",
            "linecolor": "white",
            "ticks": ""
           }
          },
          "scene": {
           "xaxis": {
            "backgroundcolor": "#E5ECF6",
            "gridcolor": "white",
            "gridwidth": 2,
            "linecolor": "white",
            "showbackground": true,
            "ticks": "",
            "zerolinecolor": "white"
           },
           "yaxis": {
            "backgroundcolor": "#E5ECF6",
            "gridcolor": "white",
            "gridwidth": 2,
            "linecolor": "white",
            "showbackground": true,
            "ticks": "",
            "zerolinecolor": "white"
           },
           "zaxis": {
            "backgroundcolor": "#E5ECF6",
            "gridcolor": "white",
            "gridwidth": 2,
            "linecolor": "white",
            "showbackground": true,
            "ticks": "",
            "zerolinecolor": "white"
           }
          },
          "shapedefaults": {
           "line": {
            "color": "#2a3f5f"
           }
          },
          "ternary": {
           "aaxis": {
            "gridcolor": "white",
            "linecolor": "white",
            "ticks": ""
           },
           "baxis": {
            "gridcolor": "white",
            "linecolor": "white",
            "ticks": ""
           },
           "bgcolor": "#E5ECF6",
           "caxis": {
            "gridcolor": "white",
            "linecolor": "white",
            "ticks": ""
           }
          },
          "title": {
           "x": 0.05
          },
          "xaxis": {
           "automargin": true,
           "gridcolor": "white",
           "linecolor": "white",
           "ticks": "",
           "title": {
            "standoff": 15
           },
           "zerolinecolor": "white",
           "zerolinewidth": 2
          },
          "yaxis": {
           "automargin": true,
           "gridcolor": "white",
           "linecolor": "white",
           "ticks": "",
           "title": {
            "standoff": 15
           },
           "zerolinecolor": "white",
           "zerolinewidth": 2
          }
         }
        },
        "title": {
         "text": "balanced accuracy on core suite"
        },
        "width": 1000,
        "yaxis": {
         "title": {
          "text": "balanced accuracy"
         }
        }
       }
      }
     },
     "metadata": {},
     "output_type": "display_data"
    }
   ],
   "source": [
    "sorted_df = df_core_suite.sort_values('LENC-XGB_adj_bal_acc', ignore_index=True)\n",
    "single_chart(pipelines=['LENC-XGB', 'NATIVE-CONST', 'maxRI', 'maxRI50', 'maxRI25', 'maxRI10', 'maxRI5'], metric='adj_bal_acc', df=sorted_df, df_long_name='core suite')"
   ]
  },
  {
   "cell_type": "code",
   "execution_count": 1050,
   "metadata": {},
   "outputs": [
    {
     "data": {
      "application/vnd.plotly.v1+json": {
       "config": {
        "plotlyServerURL": "https://plot.ly"
       },
       "data": [
        {
         "line": {
          "color": "gray",
          "dash": "solid",
          "width": 2
         },
         "marker": {
          "symbol": "circle"
         },
         "mode": "markers+lines",
         "name": "xgb",
         "showlegend": true,
         "type": "scatter",
         "x": [
          "orange_churn",
          "fraud_oracle",
          "taiwan_credit",
          "german_credit",
          "orange_up",
          "bike_75",
          "bank_marketing",
          "compas",
          "heloc",
          "telco_churn_2",
          "adult",
          "fraud_detection",
          "telco_churn",
          "house",
          "boston",
          "electricity",
          "bike_mean"
         ],
         "y": [
          0.03,
          0.36,
          0.4,
          0.44,
          0.47,
          0.48,
          0.49,
          0.57,
          0.67,
          0.68,
          0.69,
          0.79,
          0.8,
          0.81,
          0.86,
          0.89,
          0.92
         ]
        },
        {
         "line": {
          "color": "darkkhaki",
          "dash": "solid",
          "width": 2
         },
         "marker": {
          "symbol": "cross"
         },
         "mode": "markers+lines",
         "name": "NATIVE-CONST",
         "showlegend": true,
         "type": "scatter",
         "x": [
          "orange_churn",
          "fraud_oracle",
          "taiwan_credit",
          "german_credit",
          "orange_up",
          "bike_75",
          "bank_marketing",
          "compas",
          "heloc",
          "telco_churn_2",
          "adult",
          "fraud_detection",
          "telco_churn",
          "house",
          "boston",
          "electricity",
          "bike_mean"
         ],
         "y": [
          0.29,
          0.26,
          0.59,
          0.67,
          0.28,
          0.03,
          0.36,
          0.81,
          0.82,
          0.84,
          0.6,
          0.01,
          0.47,
          0.67,
          0.81,
          0.79,
          0.78
         ]
        },
        {
         "line": {
          "color": "crimson",
          "dash": "solid",
          "width": 2
         },
         "marker": {
          "symbol": "cross"
         },
         "mode": "markers+lines",
         "name": "maxRI",
         "showlegend": true,
         "type": "scatter",
         "x": [
          "orange_churn",
          "fraud_oracle",
          "taiwan_credit",
          "german_credit",
          "orange_up",
          "bike_75",
          "bank_marketing",
          "compas",
          "heloc",
          "telco_churn_2",
          "adult",
          "fraud_detection",
          "telco_churn",
          "house",
          "boston",
          "electricity",
          "bike_mean"
         ],
         "y": [
          0.15,
          0.34,
          0.41,
          0.61,
          0.49,
          0.57,
          0.51,
          0.58,
          0.82,
          0.84,
          0.71,
          0.75,
          0.8,
          0.76,
          0.88,
          0.86,
          0.91
         ]
        },
        {
         "line": {
          "color": "orangered",
          "dash": "solid",
          "width": 2
         },
         "marker": {
          "symbol": "cross"
         },
         "mode": "markers+lines",
         "name": "maxRI50",
         "showlegend": true,
         "type": "scatter",
         "x": [
          "orange_churn",
          "fraud_oracle",
          "taiwan_credit",
          "german_credit",
          "orange_up",
          "bike_75",
          "bank_marketing",
          "compas",
          "heloc",
          "telco_churn_2",
          "adult",
          "fraud_detection",
          "telco_churn",
          "house",
          "boston",
          "electricity",
          "bike_mean"
         ],
         "y": [
          0.05,
          0.34,
          0.37,
          0.61,
          0.49,
          0.57,
          0.49,
          0.58,
          0.82,
          0.84,
          0.71,
          0.75,
          0.8,
          0.76,
          0.88,
          0.68,
          0.91
         ]
        },
        {
         "line": {
          "color": "darkorange",
          "dash": "solid",
          "width": 2
         },
         "marker": {
          "symbol": "cross"
         },
         "mode": "markers+lines",
         "name": "maxRI25",
         "showlegend": true,
         "type": "scatter",
         "x": [
          "orange_churn",
          "fraud_oracle",
          "taiwan_credit",
          "german_credit",
          "orange_up",
          "bike_75",
          "bank_marketing",
          "compas",
          "heloc",
          "telco_churn_2",
          "adult",
          "fraud_detection",
          "telco_churn",
          "house",
          "boston",
          "electricity",
          "bike_mean"
         ],
         "y": [
          0.05,
          0.34,
          0.37,
          0.61,
          0.49,
          0.57,
          0.49,
          0.58,
          0.82,
          0.84,
          0.71,
          0.75,
          0.8,
          0.75,
          0.88,
          0.68,
          0.91
         ]
        },
        {
         "line": {
          "color": "gold",
          "dash": "solid",
          "width": 2
         },
         "marker": {
          "symbol": "cross"
         },
         "mode": "markers+lines",
         "name": "maxRI10",
         "showlegend": true,
         "type": "scatter",
         "x": [
          "orange_churn",
          "fraud_oracle",
          "taiwan_credit",
          "german_credit",
          "orange_up",
          "bike_75",
          "bank_marketing",
          "compas",
          "heloc",
          "telco_churn_2",
          "adult",
          "fraud_detection",
          "telco_churn",
          "house",
          "boston",
          "electricity",
          "bike_mean"
         ],
         "y": [
          0.02,
          0.06,
          0.36,
          0.52,
          0.48,
          0.57,
          0.49,
          0.58,
          0.82,
          0.84,
          0.71,
          0.74,
          0.8,
          0.75,
          0.88,
          0.68,
          0.9
         ]
        },
        {
         "line": {
          "color": "palegoldenrod",
          "dash": "solid",
          "width": 2
         },
         "marker": {
          "symbol": "cross"
         },
         "mode": "markers+lines",
         "name": "maxRI5",
         "showlegend": true,
         "type": "scatter",
         "x": [
          "orange_churn",
          "fraud_oracle",
          "taiwan_credit",
          "german_credit",
          "orange_up",
          "bike_75",
          "bank_marketing",
          "compas",
          "heloc",
          "telco_churn_2",
          "adult",
          "fraud_detection",
          "telco_churn",
          "house",
          "boston",
          "electricity",
          "bike_mean"
         ],
         "y": [
          0.02,
          0.06,
          0.36,
          0.36,
          0.48,
          0.56,
          0.39,
          0.58,
          0.82,
          0.84,
          0.71,
          0.7,
          0.65,
          0.75,
          0.86,
          0.68,
          0.9
         ]
        }
       ],
       "layout": {
        "height": 400,
        "plot_bgcolor": "whitesmoke",
        "template": {
         "data": {
          "bar": [
           {
            "error_x": {
             "color": "#2a3f5f"
            },
            "error_y": {
             "color": "#2a3f5f"
            },
            "marker": {
             "line": {
              "color": "#E5ECF6",
              "width": 0.5
             },
             "pattern": {
              "fillmode": "overlay",
              "size": 10,
              "solidity": 0.2
             }
            },
            "type": "bar"
           }
          ],
          "barpolar": [
           {
            "marker": {
             "line": {
              "color": "#E5ECF6",
              "width": 0.5
             },
             "pattern": {
              "fillmode": "overlay",
              "size": 10,
              "solidity": 0.2
             }
            },
            "type": "barpolar"
           }
          ],
          "carpet": [
           {
            "aaxis": {
             "endlinecolor": "#2a3f5f",
             "gridcolor": "white",
             "linecolor": "white",
             "minorgridcolor": "white",
             "startlinecolor": "#2a3f5f"
            },
            "baxis": {
             "endlinecolor": "#2a3f5f",
             "gridcolor": "white",
             "linecolor": "white",
             "minorgridcolor": "white",
             "startlinecolor": "#2a3f5f"
            },
            "type": "carpet"
           }
          ],
          "choropleth": [
           {
            "colorbar": {
             "outlinewidth": 0,
             "ticks": ""
            },
            "type": "choropleth"
           }
          ],
          "contour": [
           {
            "colorbar": {
             "outlinewidth": 0,
             "ticks": ""
            },
            "colorscale": [
             [
              0,
              "#0d0887"
             ],
             [
              0.1111111111111111,
              "#46039f"
             ],
             [
              0.2222222222222222,
              "#7201a8"
             ],
             [
              0.3333333333333333,
              "#9c179e"
             ],
             [
              0.4444444444444444,
              "#bd3786"
             ],
             [
              0.5555555555555556,
              "#d8576b"
             ],
             [
              0.6666666666666666,
              "#ed7953"
             ],
             [
              0.7777777777777778,
              "#fb9f3a"
             ],
             [
              0.8888888888888888,
              "#fdca26"
             ],
             [
              1,
              "#f0f921"
             ]
            ],
            "type": "contour"
           }
          ],
          "contourcarpet": [
           {
            "colorbar": {
             "outlinewidth": 0,
             "ticks": ""
            },
            "type": "contourcarpet"
           }
          ],
          "heatmap": [
           {
            "colorbar": {
             "outlinewidth": 0,
             "ticks": ""
            },
            "colorscale": [
             [
              0,
              "#0d0887"
             ],
             [
              0.1111111111111111,
              "#46039f"
             ],
             [
              0.2222222222222222,
              "#7201a8"
             ],
             [
              0.3333333333333333,
              "#9c179e"
             ],
             [
              0.4444444444444444,
              "#bd3786"
             ],
             [
              0.5555555555555556,
              "#d8576b"
             ],
             [
              0.6666666666666666,
              "#ed7953"
             ],
             [
              0.7777777777777778,
              "#fb9f3a"
             ],
             [
              0.8888888888888888,
              "#fdca26"
             ],
             [
              1,
              "#f0f921"
             ]
            ],
            "type": "heatmap"
           }
          ],
          "heatmapgl": [
           {
            "colorbar": {
             "outlinewidth": 0,
             "ticks": ""
            },
            "colorscale": [
             [
              0,
              "#0d0887"
             ],
             [
              0.1111111111111111,
              "#46039f"
             ],
             [
              0.2222222222222222,
              "#7201a8"
             ],
             [
              0.3333333333333333,
              "#9c179e"
             ],
             [
              0.4444444444444444,
              "#bd3786"
             ],
             [
              0.5555555555555556,
              "#d8576b"
             ],
             [
              0.6666666666666666,
              "#ed7953"
             ],
             [
              0.7777777777777778,
              "#fb9f3a"
             ],
             [
              0.8888888888888888,
              "#fdca26"
             ],
             [
              1,
              "#f0f921"
             ]
            ],
            "type": "heatmapgl"
           }
          ],
          "histogram": [
           {
            "marker": {
             "pattern": {
              "fillmode": "overlay",
              "size": 10,
              "solidity": 0.2
             }
            },
            "type": "histogram"
           }
          ],
          "histogram2d": [
           {
            "colorbar": {
             "outlinewidth": 0,
             "ticks": ""
            },
            "colorscale": [
             [
              0,
              "#0d0887"
             ],
             [
              0.1111111111111111,
              "#46039f"
             ],
             [
              0.2222222222222222,
              "#7201a8"
             ],
             [
              0.3333333333333333,
              "#9c179e"
             ],
             [
              0.4444444444444444,
              "#bd3786"
             ],
             [
              0.5555555555555556,
              "#d8576b"
             ],
             [
              0.6666666666666666,
              "#ed7953"
             ],
             [
              0.7777777777777778,
              "#fb9f3a"
             ],
             [
              0.8888888888888888,
              "#fdca26"
             ],
             [
              1,
              "#f0f921"
             ]
            ],
            "type": "histogram2d"
           }
          ],
          "histogram2dcontour": [
           {
            "colorbar": {
             "outlinewidth": 0,
             "ticks": ""
            },
            "colorscale": [
             [
              0,
              "#0d0887"
             ],
             [
              0.1111111111111111,
              "#46039f"
             ],
             [
              0.2222222222222222,
              "#7201a8"
             ],
             [
              0.3333333333333333,
              "#9c179e"
             ],
             [
              0.4444444444444444,
              "#bd3786"
             ],
             [
              0.5555555555555556,
              "#d8576b"
             ],
             [
              0.6666666666666666,
              "#ed7953"
             ],
             [
              0.7777777777777778,
              "#fb9f3a"
             ],
             [
              0.8888888888888888,
              "#fdca26"
             ],
             [
              1,
              "#f0f921"
             ]
            ],
            "type": "histogram2dcontour"
           }
          ],
          "mesh3d": [
           {
            "colorbar": {
             "outlinewidth": 0,
             "ticks": ""
            },
            "type": "mesh3d"
           }
          ],
          "parcoords": [
           {
            "line": {
             "colorbar": {
              "outlinewidth": 0,
              "ticks": ""
             }
            },
            "type": "parcoords"
           }
          ],
          "pie": [
           {
            "automargin": true,
            "type": "pie"
           }
          ],
          "scatter": [
           {
            "fillpattern": {
             "fillmode": "overlay",
             "size": 10,
             "solidity": 0.2
            },
            "type": "scatter"
           }
          ],
          "scatter3d": [
           {
            "line": {
             "colorbar": {
              "outlinewidth": 0,
              "ticks": ""
             }
            },
            "marker": {
             "colorbar": {
              "outlinewidth": 0,
              "ticks": ""
             }
            },
            "type": "scatter3d"
           }
          ],
          "scattercarpet": [
           {
            "marker": {
             "colorbar": {
              "outlinewidth": 0,
              "ticks": ""
             }
            },
            "type": "scattercarpet"
           }
          ],
          "scattergeo": [
           {
            "marker": {
             "colorbar": {
              "outlinewidth": 0,
              "ticks": ""
             }
            },
            "type": "scattergeo"
           }
          ],
          "scattergl": [
           {
            "marker": {
             "colorbar": {
              "outlinewidth": 0,
              "ticks": ""
             }
            },
            "type": "scattergl"
           }
          ],
          "scattermapbox": [
           {
            "marker": {
             "colorbar": {
              "outlinewidth": 0,
              "ticks": ""
             }
            },
            "type": "scattermapbox"
           }
          ],
          "scatterpolar": [
           {
            "marker": {
             "colorbar": {
              "outlinewidth": 0,
              "ticks": ""
             }
            },
            "type": "scatterpolar"
           }
          ],
          "scatterpolargl": [
           {
            "marker": {
             "colorbar": {
              "outlinewidth": 0,
              "ticks": ""
             }
            },
            "type": "scatterpolargl"
           }
          ],
          "scatterternary": [
           {
            "marker": {
             "colorbar": {
              "outlinewidth": 0,
              "ticks": ""
             }
            },
            "type": "scatterternary"
           }
          ],
          "surface": [
           {
            "colorbar": {
             "outlinewidth": 0,
             "ticks": ""
            },
            "colorscale": [
             [
              0,
              "#0d0887"
             ],
             [
              0.1111111111111111,
              "#46039f"
             ],
             [
              0.2222222222222222,
              "#7201a8"
             ],
             [
              0.3333333333333333,
              "#9c179e"
             ],
             [
              0.4444444444444444,
              "#bd3786"
             ],
             [
              0.5555555555555556,
              "#d8576b"
             ],
             [
              0.6666666666666666,
              "#ed7953"
             ],
             [
              0.7777777777777778,
              "#fb9f3a"
             ],
             [
              0.8888888888888888,
              "#fdca26"
             ],
             [
              1,
              "#f0f921"
             ]
            ],
            "type": "surface"
           }
          ],
          "table": [
           {
            "cells": {
             "fill": {
              "color": "#EBF0F8"
             },
             "line": {
              "color": "white"
             }
            },
            "header": {
             "fill": {
              "color": "#C8D4E3"
             },
             "line": {
              "color": "white"
             }
            },
            "type": "table"
           }
          ]
         },
         "layout": {
          "annotationdefaults": {
           "arrowcolor": "#2a3f5f",
           "arrowhead": 0,
           "arrowwidth": 1
          },
          "autotypenumbers": "strict",
          "coloraxis": {
           "colorbar": {
            "outlinewidth": 0,
            "ticks": ""
           }
          },
          "colorscale": {
           "diverging": [
            [
             0,
             "#8e0152"
            ],
            [
             0.1,
             "#c51b7d"
            ],
            [
             0.2,
             "#de77ae"
            ],
            [
             0.3,
             "#f1b6da"
            ],
            [
             0.4,
             "#fde0ef"
            ],
            [
             0.5,
             "#f7f7f7"
            ],
            [
             0.6,
             "#e6f5d0"
            ],
            [
             0.7,
             "#b8e186"
            ],
            [
             0.8,
             "#7fbc41"
            ],
            [
             0.9,
             "#4d9221"
            ],
            [
             1,
             "#276419"
            ]
           ],
           "sequential": [
            [
             0,
             "#0d0887"
            ],
            [
             0.1111111111111111,
             "#46039f"
            ],
            [
             0.2222222222222222,
             "#7201a8"
            ],
            [
             0.3333333333333333,
             "#9c179e"
            ],
            [
             0.4444444444444444,
             "#bd3786"
            ],
            [
             0.5555555555555556,
             "#d8576b"
            ],
            [
             0.6666666666666666,
             "#ed7953"
            ],
            [
             0.7777777777777778,
             "#fb9f3a"
            ],
            [
             0.8888888888888888,
             "#fdca26"
            ],
            [
             1,
             "#f0f921"
            ]
           ],
           "sequentialminus": [
            [
             0,
             "#0d0887"
            ],
            [
             0.1111111111111111,
             "#46039f"
            ],
            [
             0.2222222222222222,
             "#7201a8"
            ],
            [
             0.3333333333333333,
             "#9c179e"
            ],
            [
             0.4444444444444444,
             "#bd3786"
            ],
            [
             0.5555555555555556,
             "#d8576b"
            ],
            [
             0.6666666666666666,
             "#ed7953"
            ],
            [
             0.7777777777777778,
             "#fb9f3a"
            ],
            [
             0.8888888888888888,
             "#fdca26"
            ],
            [
             1,
             "#f0f921"
            ]
           ]
          },
          "colorway": [
           "#636efa",
           "#EF553B",
           "#00cc96",
           "#ab63fa",
           "#FFA15A",
           "#19d3f3",
           "#FF6692",
           "#B6E880",
           "#FF97FF",
           "#FECB52"
          ],
          "font": {
           "color": "#2a3f5f"
          },
          "geo": {
           "bgcolor": "white",
           "lakecolor": "white",
           "landcolor": "#E5ECF6",
           "showlakes": true,
           "showland": true,
           "subunitcolor": "white"
          },
          "hoverlabel": {
           "align": "left"
          },
          "hovermode": "closest",
          "mapbox": {
           "style": "light"
          },
          "paper_bgcolor": "white",
          "plot_bgcolor": "#E5ECF6",
          "polar": {
           "angularaxis": {
            "gridcolor": "white",
            "linecolor": "white",
            "ticks": ""
           },
           "bgcolor": "#E5ECF6",
           "radialaxis": {
            "gridcolor": "white",
            "linecolor": "white",
            "ticks": ""
           }
          },
          "scene": {
           "xaxis": {
            "backgroundcolor": "#E5ECF6",
            "gridcolor": "white",
            "gridwidth": 2,
            "linecolor": "white",
            "showbackground": true,
            "ticks": "",
            "zerolinecolor": "white"
           },
           "yaxis": {
            "backgroundcolor": "#E5ECF6",
            "gridcolor": "white",
            "gridwidth": 2,
            "linecolor": "white",
            "showbackground": true,
            "ticks": "",
            "zerolinecolor": "white"
           },
           "zaxis": {
            "backgroundcolor": "#E5ECF6",
            "gridcolor": "white",
            "gridwidth": 2,
            "linecolor": "white",
            "showbackground": true,
            "ticks": "",
            "zerolinecolor": "white"
           }
          },
          "shapedefaults": {
           "line": {
            "color": "#2a3f5f"
           }
          },
          "ternary": {
           "aaxis": {
            "gridcolor": "white",
            "linecolor": "white",
            "ticks": ""
           },
           "baxis": {
            "gridcolor": "white",
            "linecolor": "white",
            "ticks": ""
           },
           "bgcolor": "#E5ECF6",
           "caxis": {
            "gridcolor": "white",
            "linecolor": "white",
            "ticks": ""
           }
          },
          "title": {
           "x": 0.05
          },
          "xaxis": {
           "automargin": true,
           "gridcolor": "white",
           "linecolor": "white",
           "ticks": "",
           "title": {
            "standoff": 15
           },
           "zerolinecolor": "white",
           "zerolinewidth": 2
          },
          "yaxis": {
           "automargin": true,
           "gridcolor": "white",
           "linecolor": "white",
           "ticks": "",
           "title": {
            "standoff": 15
           },
           "zerolinecolor": "white",
           "zerolinewidth": 2
          }
         }
        },
        "title": {
         "text": "f2-score on core suite"
        },
        "width": 1000,
        "yaxis": {
         "title": {
          "text": "f2-score"
         }
        }
       }
      }
     },
     "metadata": {},
     "output_type": "display_data"
    }
   ],
   "source": [
    "sorted_df = df_core_suite.sort_values('LENC-XGB_f2', ignore_index=True)\n",
    "single_chart(pipelines=['LENC-XGB', 'NATIVE-CONST', 'maxRI', 'maxRI50', 'maxRI25', 'maxRI10', 'maxRI5'], metric='f2', df=sorted_df, df_long_name='core suite')"
   ]
  },
  {
   "attachments": {},
   "cell_type": "markdown",
   "metadata": {},
   "source": [
    "### Pipelines with standard settings on core suite"
   ]
  },
  {
   "cell_type": "code",
   "execution_count": 1051,
   "metadata": {},
   "outputs": [
    {
     "data": {
      "application/vnd.plotly.v1+json": {
       "config": {
        "plotlyServerURL": "https://plot.ly"
       },
       "data": [
        {
         "line": {
          "color": "gray",
          "dash": "solid",
          "width": 2
         },
         "marker": {
          "symbol": "circle"
         },
         "mode": "markers+lines",
         "name": "LENC-XGB",
         "showlegend": true,
         "type": "scatter",
         "x": [
          "orange_churn",
          "fraud_oracle",
          "taiwan_credit",
          "german_credit",
          "bike_75",
          "bank_marketing",
          "orange_up",
          "compas",
          "heloc",
          "adult",
          "telco_churn_2",
          "house",
          "telco_churn",
          "fraud_detection",
          "boston",
          "electricity",
          "bike_mean"
         ],
         "xaxis": "x3",
         "y": [
          0.05,
          0.45,
          0.47,
          0.47,
          0.5,
          0.51,
          0.56,
          0.61,
          0.68,
          0.71,
          0.71,
          0.82,
          0.84,
          0.84,
          0.88,
          0.89,
          0.92
         ],
         "yaxis": "y3"
        },
        {
         "line": {
          "color": "darkkhaki",
          "dash": "solid",
          "width": 2
         },
         "marker": {
          "symbol": "cross"
         },
         "mode": "markers+lines",
         "name": "NATIVE-CONST",
         "showlegend": true,
         "type": "scatter",
         "x": [
          "orange_churn",
          "fraud_oracle",
          "taiwan_credit",
          "german_credit",
          "bike_75",
          "bank_marketing",
          "orange_up",
          "compas",
          "heloc",
          "adult",
          "telco_churn_2",
          "house",
          "telco_churn",
          "fraud_detection",
          "boston",
          "electricity",
          "bike_mean"
         ],
         "xaxis": "x3",
         "y": [
          0.14,
          0.13,
          0.36,
          0.45,
          0.01,
          0.19,
          0.13,
          0.63,
          0.65,
          0.37,
          0.67,
          0.45,
          0.26,
          0,
          0.64,
          0.59,
          0.59
         ],
         "yaxis": "y3"
        },
        {
         "line": {
          "color": "crimson",
          "dash": "longdash",
          "width": 2
         },
         "marker": {
          "symbol": "diamond"
         },
         "mode": "markers+lines",
         "name": "NATIVE-RIPPER",
         "showlegend": true,
         "type": "scatter",
         "x": [
          "orange_churn",
          "fraud_oracle",
          "taiwan_credit",
          "german_credit",
          "bike_75",
          "bank_marketing",
          "orange_up",
          "compas",
          "heloc",
          "adult",
          "telco_churn_2",
          "house",
          "telco_churn",
          "fraud_detection",
          "boston",
          "electricity",
          "bike_mean"
         ],
         "xaxis": "x3",
         "y": [
          0,
          0,
          0.44,
          0.27,
          0.53,
          0.45,
          0.54,
          0,
          0.7,
          0.63,
          0.68,
          0.77,
          0.84,
          0.78,
          0.86,
          0.81,
          0.89
         ],
         "yaxis": "y3"
        },
        {
         "line": {
          "color": "mediumblue",
          "dash": "dot",
          "width": 2
         },
         "marker": {
          "symbol": "arrow-right"
         },
         "mode": "markers+lines",
         "name": "LENC-CART:4",
         "showlegend": true,
         "type": "scatter",
         "x": [
          "orange_churn",
          "fraud_oracle",
          "taiwan_credit",
          "german_credit",
          "bike_75",
          "bank_marketing",
          "orange_up",
          "compas",
          "heloc",
          "adult",
          "telco_churn_2",
          "house",
          "telco_churn",
          "fraud_detection",
          "boston",
          "electricity",
          "bike_mean"
         ],
         "xaxis": "x3",
         "y": [
          0.03,
          0.07,
          0.42,
          0.54,
          0.51,
          0.46,
          0.56,
          0.6,
          0.68,
          0.41,
          0.67,
          0.7,
          0.66,
          0.77,
          0.83,
          0.67,
          0.88
         ],
         "yaxis": "y3"
        },
        {
         "line": {
          "color": "lime",
          "dash": "dash",
          "width": 2
         },
         "marker": {
          "symbol": "cross"
         },
         "mode": "markers+lines",
         "name": "TREES-BRCG",
         "showlegend": true,
         "type": "scatter",
         "x": [
          "orange_churn",
          "fraud_oracle",
          "taiwan_credit",
          "german_credit",
          "bike_75",
          "bank_marketing",
          "orange_up",
          "compas",
          "heloc",
          "adult",
          "telco_churn_2",
          "house",
          "telco_churn",
          "fraud_detection",
          "boston",
          "electricity",
          "bike_mean"
         ],
         "xaxis": "x3",
         "y": [
          0,
          0,
          0.42,
          0.31,
          0,
          0.42,
          0.56,
          0.61,
          0.67,
          0.55,
          0.68,
          0.7,
          0.65,
          0,
          0.84,
          0.71,
          0.88
         ],
         "yaxis": "y3"
        },
        {
         "line": {
          "color": "gold",
          "dash": "dashdot",
          "width": 2
         },
         "marker": {
          "symbol": "star"
         },
         "mode": "markers+lines",
         "name": "TREES-CORELS",
         "showlegend": true,
         "type": "scatter",
         "x": [
          "orange_churn",
          "fraud_oracle",
          "taiwan_credit",
          "german_credit",
          "bike_75",
          "bank_marketing",
          "orange_up",
          "compas",
          "heloc",
          "adult",
          "telco_churn_2",
          "house",
          "telco_churn",
          "fraud_detection",
          "boston",
          "electricity",
          "bike_mean"
         ],
         "xaxis": "x3",
         "y": [
          0,
          0,
          0.42,
          0.16,
          0,
          0.43,
          0.56,
          0.56,
          0.67,
          0.42,
          0.69,
          0.61,
          0.48,
          0,
          0.87,
          0.67,
          0.82
         ],
         "yaxis": "y3"
        },
        {
         "line": {
          "color": "silver",
          "dash": "dot",
          "width": 2
         },
         "marker": {
          "symbol": "square"
         },
         "mode": "markers+lines",
         "name": "NATIVE-R2N",
         "showlegend": true,
         "type": "scatter",
         "x": [
          "orange_churn",
          "fraud_oracle",
          "taiwan_credit",
          "german_credit",
          "bike_75",
          "bank_marketing",
          "orange_up",
          "compas",
          "heloc",
          "adult",
          "telco_churn_2",
          "house",
          "telco_churn",
          "fraud_detection",
          "boston",
          "electricity",
          "bike_mean"
         ],
         "xaxis": "x3",
         "y": [
          null,
          0,
          0.41,
          0,
          0,
          0.39,
          null,
          0.56,
          0.65,
          0.57,
          0.72,
          0.6,
          0.52,
          0,
          0.86,
          0.61,
          0.68
         ],
         "yaxis": "y3"
        },
        {
         "line": {
          "color": "crimson",
          "dash": "longdash",
          "width": 2
         },
         "marker": {
          "symbol": "diamond"
         },
         "mode": "markers+lines",
         "name": "NATIVE-RIPPER",
         "showlegend": false,
         "type": "scatter",
         "x": [
          "orange_churn",
          "fraud_oracle",
          "taiwan_credit",
          "german_credit",
          "bike_75",
          "bank_marketing",
          "orange_up",
          "compas",
          "heloc",
          "adult",
          "telco_churn_2",
          "house",
          "telco_churn",
          "fraud_detection",
          "boston",
          "electricity",
          "bike_mean"
         ],
         "xaxis": "x2",
         "y": [
          1,
          1,
          12,
          3,
          10,
          7,
          9,
          1,
          17,
          39,
          8,
          38,
          10,
          7,
          10,
          61,
          19
         ],
         "yaxis": "y2"
        },
        {
         "line": {
          "color": "mediumblue",
          "dash": "dot",
          "width": 2
         },
         "marker": {
          "symbol": "arrow-right"
         },
         "mode": "markers+lines",
         "name": "LENC-CART:4",
         "showlegend": false,
         "type": "scatter",
         "x": [
          "orange_churn",
          "fraud_oracle",
          "taiwan_credit",
          "german_credit",
          "bike_75",
          "bank_marketing",
          "orange_up",
          "compas",
          "heloc",
          "adult",
          "telco_churn_2",
          "house",
          "telco_churn",
          "fraud_detection",
          "boston",
          "electricity",
          "bike_mean"
         ],
         "xaxis": "x2",
         "y": [
          6,
          5,
          4,
          8,
          2,
          7,
          4,
          11,
          10,
          8,
          11,
          9,
          8,
          7,
          8,
          8,
          4
         ],
         "yaxis": "y2"
        },
        {
         "line": {
          "color": "lime",
          "dash": "dash",
          "width": 2
         },
         "marker": {
          "symbol": "cross"
         },
         "mode": "markers+lines",
         "name": "TREES-BRCG",
         "showlegend": false,
         "type": "scatter",
         "x": [
          "orange_churn",
          "fraud_oracle",
          "taiwan_credit",
          "german_credit",
          "bike_75",
          "bank_marketing",
          "orange_up",
          "compas",
          "heloc",
          "adult",
          "telco_churn_2",
          "house",
          "telco_churn",
          "fraud_detection",
          "boston",
          "electricity",
          "bike_mean"
         ],
         "xaxis": "x2",
         "y": [
          1,
          1,
          3,
          4,
          1,
          4,
          2,
          4,
          2,
          4,
          4,
          5,
          4,
          1,
          6,
          3,
          4
         ],
         "yaxis": "y2"
        },
        {
         "line": {
          "color": "gold",
          "dash": "dashdot",
          "width": 2
         },
         "marker": {
          "symbol": "star"
         },
         "mode": "markers+lines",
         "name": "TREES-CORELS",
         "showlegend": false,
         "type": "scatter",
         "x": [
          "orange_churn",
          "fraud_oracle",
          "taiwan_credit",
          "german_credit",
          "bike_75",
          "bank_marketing",
          "orange_up",
          "compas",
          "heloc",
          "adult",
          "telco_churn_2",
          "house",
          "telco_churn",
          "fraud_detection",
          "boston",
          "electricity",
          "bike_mean"
         ],
         "xaxis": "x2",
         "y": [
          1,
          1,
          3,
          3,
          1,
          2,
          3,
          3,
          2,
          3,
          3,
          2,
          3,
          1,
          2,
          2,
          3
         ],
         "yaxis": "y2"
        },
        {
         "line": {
          "color": "silver",
          "dash": "dot",
          "width": 2
         },
         "marker": {
          "symbol": "square"
         },
         "mode": "markers+lines",
         "name": "NATIVE-R2N",
         "showlegend": false,
         "type": "scatter",
         "x": [
          "orange_churn",
          "fraud_oracle",
          "taiwan_credit",
          "german_credit",
          "bike_75",
          "bank_marketing",
          "orange_up",
          "compas",
          "heloc",
          "adult",
          "telco_churn_2",
          "house",
          "telco_churn",
          "fraud_detection",
          "boston",
          "electricity",
          "bike_mean"
         ],
         "xaxis": "x2",
         "y": [
          null,
          1,
          3,
          4,
          1,
          3,
          null,
          3,
          4,
          3,
          5,
          4,
          3,
          1,
          5,
          4,
          3
         ],
         "yaxis": "y2"
        },
        {
         "line": {
          "color": "gray",
          "dash": "solid",
          "width": 2
         },
         "marker": {
          "symbol": "circle"
         },
         "mode": "markers+lines",
         "name": "LENC-XGB",
         "showlegend": false,
         "type": "scatter",
         "x": [
          "orange_churn",
          "fraud_oracle",
          "taiwan_credit",
          "german_credit",
          "bike_75",
          "bank_marketing",
          "orange_up",
          "compas",
          "heloc",
          "adult",
          "telco_churn_2",
          "house",
          "telco_churn",
          "fraud_detection",
          "boston",
          "electricity",
          "bike_mean"
         ],
         "xaxis": "x",
         "y": [
          5.1,
          1.48,
          1.9300000000000002,
          1.05,
          1.1400000000000001,
          1.13,
          5.07,
          1.09,
          1.28,
          1.48,
          1.09,
          1.79,
          1.12,
          11.1,
          1.03,
          1.62,
          1.2
         ],
         "yaxis": "y"
        },
        {
         "line": {
          "color": "crimson",
          "dash": "longdash",
          "width": 2
         },
         "marker": {
          "symbol": "diamond"
         },
         "mode": "markers+lines",
         "name": "NATIVE-RIPPER",
         "showlegend": false,
         "type": "scatter",
         "x": [
          "orange_churn",
          "fraud_oracle",
          "taiwan_credit",
          "german_credit",
          "bike_75",
          "bank_marketing",
          "orange_up",
          "compas",
          "heloc",
          "adult",
          "telco_churn_2",
          "house",
          "telco_churn",
          "fraud_detection",
          "boston",
          "electricity",
          "bike_mean"
         ],
         "xaxis": "x",
         "y": [
          4.220000000000001,
          1.12,
          7.55,
          1.05,
          1.42,
          1.11,
          25.94,
          1.01,
          1.96,
          9.98,
          1.09,
          19.06,
          1.17,
          1128.56,
          1.04,
          20.9,
          1.94
         ],
         "yaxis": "y"
        },
        {
         "line": {
          "color": "mediumblue",
          "dash": "dot",
          "width": 2
         },
         "marker": {
          "symbol": "arrow-right"
         },
         "mode": "markers+lines",
         "name": "LENC-CART:4",
         "showlegend": false,
         "type": "scatter",
         "x": [
          "orange_churn",
          "fraud_oracle",
          "taiwan_credit",
          "german_credit",
          "bike_75",
          "bank_marketing",
          "orange_up",
          "compas",
          "heloc",
          "adult",
          "telco_churn_2",
          "house",
          "telco_churn",
          "fraud_detection",
          "boston",
          "electricity",
          "bike_mean"
         ],
         "xaxis": "x",
         "y": [
          1.73,
          1.08,
          1.1,
          1.01,
          1.01,
          1.01,
          1.74,
          1.01,
          1.02,
          1.04,
          1,
          1.06,
          1.01,
          3.24,
          1,
          1.04,
          1.01
         ],
         "yaxis": "y"
        },
        {
         "line": {
          "color": "lime",
          "dash": "dash",
          "width": 2
         },
         "marker": {
          "symbol": "cross"
         },
         "mode": "markers+lines",
         "name": "TREES-BRCG",
         "showlegend": false,
         "type": "scatter",
         "x": [
          "orange_churn",
          "fraud_oracle",
          "taiwan_credit",
          "german_credit",
          "bike_75",
          "bank_marketing",
          "orange_up",
          "compas",
          "heloc",
          "adult",
          "telco_churn_2",
          "house",
          "telco_churn",
          "fraud_detection",
          "boston",
          "electricity",
          "bike_mean"
         ],
         "xaxis": "x",
         "y": [
          101.76,
          1.53,
          2.49,
          3.15,
          1.12,
          1.8,
          104.14,
          2.2,
          2.96,
          3.51,
          2.7800000000000002,
          4.49,
          1.73,
          3.72,
          2.1399999999999997,
          6.11,
          3.31
         ],
         "yaxis": "y"
        },
        {
         "line": {
          "color": "gold",
          "dash": "dashdot",
          "width": 2
         },
         "marker": {
          "symbol": "star"
         },
         "mode": "markers+lines",
         "name": "TREES-CORELS",
         "showlegend": false,
         "type": "scatter",
         "x": [
          "orange_churn",
          "fraud_oracle",
          "taiwan_credit",
          "german_credit",
          "bike_75",
          "bank_marketing",
          "orange_up",
          "compas",
          "heloc",
          "adult",
          "telco_churn_2",
          "house",
          "telco_churn",
          "fraud_detection",
          "boston",
          "electricity",
          "bike_mean"
         ],
         "xaxis": "x",
         "y": [
          102.9,
          1.19,
          3.7,
          1.04,
          1.07,
          1.08,
          104.28,
          1.09,
          1.12,
          1.41,
          1.04,
          1.26,
          1.06,
          6.1,
          1.02,
          1.54,
          1.13
         ],
         "yaxis": "y"
        },
        {
         "line": {
          "color": "silver",
          "dash": "dot",
          "width": 2
         },
         "marker": {
          "symbol": "square"
         },
         "mode": "markers+lines",
         "name": "NATIVE-R2N",
         "showlegend": false,
         "type": "scatter",
         "x": [
          "orange_churn",
          "fraud_oracle",
          "taiwan_credit",
          "german_credit",
          "bike_75",
          "bank_marketing",
          "orange_up",
          "compas",
          "heloc",
          "adult",
          "telco_churn_2",
          "house",
          "telco_churn",
          "fraud_detection",
          "boston",
          "electricity",
          "bike_mean"
         ],
         "xaxis": "x",
         "y": [
          null,
          76.28,
          144.79,
          5.66,
          58.58,
          19.32,
          null,
          26.65,
          45.47,
          153.52,
          9.88,
          96.81,
          16.369999999999997,
          1230.67,
          3.45,
          187.68,
          67.01
         ],
         "yaxis": "y"
        }
       ],
       "layout": {
        "height": 600,
        "plot_bgcolor": "whitesmoke",
        "template": {
         "data": {
          "bar": [
           {
            "error_x": {
             "color": "#2a3f5f"
            },
            "error_y": {
             "color": "#2a3f5f"
            },
            "marker": {
             "line": {
              "color": "#E5ECF6",
              "width": 0.5
             },
             "pattern": {
              "fillmode": "overlay",
              "size": 10,
              "solidity": 0.2
             }
            },
            "type": "bar"
           }
          ],
          "barpolar": [
           {
            "marker": {
             "line": {
              "color": "#E5ECF6",
              "width": 0.5
             },
             "pattern": {
              "fillmode": "overlay",
              "size": 10,
              "solidity": 0.2
             }
            },
            "type": "barpolar"
           }
          ],
          "carpet": [
           {
            "aaxis": {
             "endlinecolor": "#2a3f5f",
             "gridcolor": "white",
             "linecolor": "white",
             "minorgridcolor": "white",
             "startlinecolor": "#2a3f5f"
            },
            "baxis": {
             "endlinecolor": "#2a3f5f",
             "gridcolor": "white",
             "linecolor": "white",
             "minorgridcolor": "white",
             "startlinecolor": "#2a3f5f"
            },
            "type": "carpet"
           }
          ],
          "choropleth": [
           {
            "colorbar": {
             "outlinewidth": 0,
             "ticks": ""
            },
            "type": "choropleth"
           }
          ],
          "contour": [
           {
            "colorbar": {
             "outlinewidth": 0,
             "ticks": ""
            },
            "colorscale": [
             [
              0,
              "#0d0887"
             ],
             [
              0.1111111111111111,
              "#46039f"
             ],
             [
              0.2222222222222222,
              "#7201a8"
             ],
             [
              0.3333333333333333,
              "#9c179e"
             ],
             [
              0.4444444444444444,
              "#bd3786"
             ],
             [
              0.5555555555555556,
              "#d8576b"
             ],
             [
              0.6666666666666666,
              "#ed7953"
             ],
             [
              0.7777777777777778,
              "#fb9f3a"
             ],
             [
              0.8888888888888888,
              "#fdca26"
             ],
             [
              1,
              "#f0f921"
             ]
            ],
            "type": "contour"
           }
          ],
          "contourcarpet": [
           {
            "colorbar": {
             "outlinewidth": 0,
             "ticks": ""
            },
            "type": "contourcarpet"
           }
          ],
          "heatmap": [
           {
            "colorbar": {
             "outlinewidth": 0,
             "ticks": ""
            },
            "colorscale": [
             [
              0,
              "#0d0887"
             ],
             [
              0.1111111111111111,
              "#46039f"
             ],
             [
              0.2222222222222222,
              "#7201a8"
             ],
             [
              0.3333333333333333,
              "#9c179e"
             ],
             [
              0.4444444444444444,
              "#bd3786"
             ],
             [
              0.5555555555555556,
              "#d8576b"
             ],
             [
              0.6666666666666666,
              "#ed7953"
             ],
             [
              0.7777777777777778,
              "#fb9f3a"
             ],
             [
              0.8888888888888888,
              "#fdca26"
             ],
             [
              1,
              "#f0f921"
             ]
            ],
            "type": "heatmap"
           }
          ],
          "heatmapgl": [
           {
            "colorbar": {
             "outlinewidth": 0,
             "ticks": ""
            },
            "colorscale": [
             [
              0,
              "#0d0887"
             ],
             [
              0.1111111111111111,
              "#46039f"
             ],
             [
              0.2222222222222222,
              "#7201a8"
             ],
             [
              0.3333333333333333,
              "#9c179e"
             ],
             [
              0.4444444444444444,
              "#bd3786"
             ],
             [
              0.5555555555555556,
              "#d8576b"
             ],
             [
              0.6666666666666666,
              "#ed7953"
             ],
             [
              0.7777777777777778,
              "#fb9f3a"
             ],
             [
              0.8888888888888888,
              "#fdca26"
             ],
             [
              1,
              "#f0f921"
             ]
            ],
            "type": "heatmapgl"
           }
          ],
          "histogram": [
           {
            "marker": {
             "pattern": {
              "fillmode": "overlay",
              "size": 10,
              "solidity": 0.2
             }
            },
            "type": "histogram"
           }
          ],
          "histogram2d": [
           {
            "colorbar": {
             "outlinewidth": 0,
             "ticks": ""
            },
            "colorscale": [
             [
              0,
              "#0d0887"
             ],
             [
              0.1111111111111111,
              "#46039f"
             ],
             [
              0.2222222222222222,
              "#7201a8"
             ],
             [
              0.3333333333333333,
              "#9c179e"
             ],
             [
              0.4444444444444444,
              "#bd3786"
             ],
             [
              0.5555555555555556,
              "#d8576b"
             ],
             [
              0.6666666666666666,
              "#ed7953"
             ],
             [
              0.7777777777777778,
              "#fb9f3a"
             ],
             [
              0.8888888888888888,
              "#fdca26"
             ],
             [
              1,
              "#f0f921"
             ]
            ],
            "type": "histogram2d"
           }
          ],
          "histogram2dcontour": [
           {
            "colorbar": {
             "outlinewidth": 0,
             "ticks": ""
            },
            "colorscale": [
             [
              0,
              "#0d0887"
             ],
             [
              0.1111111111111111,
              "#46039f"
             ],
             [
              0.2222222222222222,
              "#7201a8"
             ],
             [
              0.3333333333333333,
              "#9c179e"
             ],
             [
              0.4444444444444444,
              "#bd3786"
             ],
             [
              0.5555555555555556,
              "#d8576b"
             ],
             [
              0.6666666666666666,
              "#ed7953"
             ],
             [
              0.7777777777777778,
              "#fb9f3a"
             ],
             [
              0.8888888888888888,
              "#fdca26"
             ],
             [
              1,
              "#f0f921"
             ]
            ],
            "type": "histogram2dcontour"
           }
          ],
          "mesh3d": [
           {
            "colorbar": {
             "outlinewidth": 0,
             "ticks": ""
            },
            "type": "mesh3d"
           }
          ],
          "parcoords": [
           {
            "line": {
             "colorbar": {
              "outlinewidth": 0,
              "ticks": ""
             }
            },
            "type": "parcoords"
           }
          ],
          "pie": [
           {
            "automargin": true,
            "type": "pie"
           }
          ],
          "scatter": [
           {
            "fillpattern": {
             "fillmode": "overlay",
             "size": 10,
             "solidity": 0.2
            },
            "type": "scatter"
           }
          ],
          "scatter3d": [
           {
            "line": {
             "colorbar": {
              "outlinewidth": 0,
              "ticks": ""
             }
            },
            "marker": {
             "colorbar": {
              "outlinewidth": 0,
              "ticks": ""
             }
            },
            "type": "scatter3d"
           }
          ],
          "scattercarpet": [
           {
            "marker": {
             "colorbar": {
              "outlinewidth": 0,
              "ticks": ""
             }
            },
            "type": "scattercarpet"
           }
          ],
          "scattergeo": [
           {
            "marker": {
             "colorbar": {
              "outlinewidth": 0,
              "ticks": ""
             }
            },
            "type": "scattergeo"
           }
          ],
          "scattergl": [
           {
            "marker": {
             "colorbar": {
              "outlinewidth": 0,
              "ticks": ""
             }
            },
            "type": "scattergl"
           }
          ],
          "scattermapbox": [
           {
            "marker": {
             "colorbar": {
              "outlinewidth": 0,
              "ticks": ""
             }
            },
            "type": "scattermapbox"
           }
          ],
          "scatterpolar": [
           {
            "marker": {
             "colorbar": {
              "outlinewidth": 0,
              "ticks": ""
             }
            },
            "type": "scatterpolar"
           }
          ],
          "scatterpolargl": [
           {
            "marker": {
             "colorbar": {
              "outlinewidth": 0,
              "ticks": ""
             }
            },
            "type": "scatterpolargl"
           }
          ],
          "scatterternary": [
           {
            "marker": {
             "colorbar": {
              "outlinewidth": 0,
              "ticks": ""
             }
            },
            "type": "scatterternary"
           }
          ],
          "surface": [
           {
            "colorbar": {
             "outlinewidth": 0,
             "ticks": ""
            },
            "colorscale": [
             [
              0,
              "#0d0887"
             ],
             [
              0.1111111111111111,
              "#46039f"
             ],
             [
              0.2222222222222222,
              "#7201a8"
             ],
             [
              0.3333333333333333,
              "#9c179e"
             ],
             [
              0.4444444444444444,
              "#bd3786"
             ],
             [
              0.5555555555555556,
              "#d8576b"
             ],
             [
              0.6666666666666666,
              "#ed7953"
             ],
             [
              0.7777777777777778,
              "#fb9f3a"
             ],
             [
              0.8888888888888888,
              "#fdca26"
             ],
             [
              1,
              "#f0f921"
             ]
            ],
            "type": "surface"
           }
          ],
          "table": [
           {
            "cells": {
             "fill": {
              "color": "#EBF0F8"
             },
             "line": {
              "color": "white"
             }
            },
            "header": {
             "fill": {
              "color": "#C8D4E3"
             },
             "line": {
              "color": "white"
             }
            },
            "type": "table"
           }
          ]
         },
         "layout": {
          "annotationdefaults": {
           "arrowcolor": "#2a3f5f",
           "arrowhead": 0,
           "arrowwidth": 1
          },
          "autotypenumbers": "strict",
          "coloraxis": {
           "colorbar": {
            "outlinewidth": 0,
            "ticks": ""
           }
          },
          "colorscale": {
           "diverging": [
            [
             0,
             "#8e0152"
            ],
            [
             0.1,
             "#c51b7d"
            ],
            [
             0.2,
             "#de77ae"
            ],
            [
             0.3,
             "#f1b6da"
            ],
            [
             0.4,
             "#fde0ef"
            ],
            [
             0.5,
             "#f7f7f7"
            ],
            [
             0.6,
             "#e6f5d0"
            ],
            [
             0.7,
             "#b8e186"
            ],
            [
             0.8,
             "#7fbc41"
            ],
            [
             0.9,
             "#4d9221"
            ],
            [
             1,
             "#276419"
            ]
           ],
           "sequential": [
            [
             0,
             "#0d0887"
            ],
            [
             0.1111111111111111,
             "#46039f"
            ],
            [
             0.2222222222222222,
             "#7201a8"
            ],
            [
             0.3333333333333333,
             "#9c179e"
            ],
            [
             0.4444444444444444,
             "#bd3786"
            ],
            [
             0.5555555555555556,
             "#d8576b"
            ],
            [
             0.6666666666666666,
             "#ed7953"
            ],
            [
             0.7777777777777778,
             "#fb9f3a"
            ],
            [
             0.8888888888888888,
             "#fdca26"
            ],
            [
             1,
             "#f0f921"
            ]
           ],
           "sequentialminus": [
            [
             0,
             "#0d0887"
            ],
            [
             0.1111111111111111,
             "#46039f"
            ],
            [
             0.2222222222222222,
             "#7201a8"
            ],
            [
             0.3333333333333333,
             "#9c179e"
            ],
            [
             0.4444444444444444,
             "#bd3786"
            ],
            [
             0.5555555555555556,
             "#d8576b"
            ],
            [
             0.6666666666666666,
             "#ed7953"
            ],
            [
             0.7777777777777778,
             "#fb9f3a"
            ],
            [
             0.8888888888888888,
             "#fdca26"
            ],
            [
             1,
             "#f0f921"
            ]
           ]
          },
          "colorway": [
           "#636efa",
           "#EF553B",
           "#00cc96",
           "#ab63fa",
           "#FFA15A",
           "#19d3f3",
           "#FF6692",
           "#B6E880",
           "#FF97FF",
           "#FECB52"
          ],
          "font": {
           "color": "#2a3f5f"
          },
          "geo": {
           "bgcolor": "white",
           "lakecolor": "white",
           "landcolor": "#E5ECF6",
           "showlakes": true,
           "showland": true,
           "subunitcolor": "white"
          },
          "hoverlabel": {
           "align": "left"
          },
          "hovermode": "closest",
          "mapbox": {
           "style": "light"
          },
          "paper_bgcolor": "white",
          "plot_bgcolor": "#E5ECF6",
          "polar": {
           "angularaxis": {
            "gridcolor": "white",
            "linecolor": "white",
            "ticks": ""
           },
           "bgcolor": "#E5ECF6",
           "radialaxis": {
            "gridcolor": "white",
            "linecolor": "white",
            "ticks": ""
           }
          },
          "scene": {
           "xaxis": {
            "backgroundcolor": "#E5ECF6",
            "gridcolor": "white",
            "gridwidth": 2,
            "linecolor": "white",
            "showbackground": true,
            "ticks": "",
            "zerolinecolor": "white"
           },
           "yaxis": {
            "backgroundcolor": "#E5ECF6",
            "gridcolor": "white",
            "gridwidth": 2,
            "linecolor": "white",
            "showbackground": true,
            "ticks": "",
            "zerolinecolor": "white"
           },
           "zaxis": {
            "backgroundcolor": "#E5ECF6",
            "gridcolor": "white",
            "gridwidth": 2,
            "linecolor": "white",
            "showbackground": true,
            "ticks": "",
            "zerolinecolor": "white"
           }
          },
          "shapedefaults": {
           "line": {
            "color": "#2a3f5f"
           }
          },
          "ternary": {
           "aaxis": {
            "gridcolor": "white",
            "linecolor": "white",
            "ticks": ""
           },
           "baxis": {
            "gridcolor": "white",
            "linecolor": "white",
            "ticks": ""
           },
           "bgcolor": "#E5ECF6",
           "caxis": {
            "gridcolor": "white",
            "linecolor": "white",
            "ticks": ""
           }
          },
          "title": {
           "x": 0.05
          },
          "xaxis": {
           "automargin": true,
           "gridcolor": "white",
           "linecolor": "white",
           "ticks": "",
           "title": {
            "standoff": 15
           },
           "zerolinecolor": "white",
           "zerolinewidth": 2
          },
          "yaxis": {
           "automargin": true,
           "gridcolor": "white",
           "linecolor": "white",
           "ticks": "",
           "title": {
            "standoff": 15
           },
           "zerolinecolor": "white",
           "zerolinewidth": 2
          }
         }
        },
        "title": {
         "text": "f-score, number of rules and training time on core suite"
        },
        "width": 1000,
        "xaxis": {
         "anchor": "y",
         "domain": [
          0,
          1
         ],
         "matches": "x3",
         "showticklabels": false
        },
        "xaxis2": {
         "anchor": "y2",
         "domain": [
          0,
          1
         ],
         "matches": "x3",
         "showticklabels": false
        },
        "xaxis3": {
         "anchor": "y3",
         "domain": [
          0,
          1
         ]
        },
        "yaxis": {
         "anchor": "x",
         "domain": [
          0.68,
          1
         ],
         "title": {
          "text": "time (secs)"
         },
         "type": "log"
        },
        "yaxis2": {
         "anchor": "x2",
         "domain": [
          0.34,
          0.66
         ],
         "title": {
          "text": "number of rules"
         },
         "type": "log"
        },
        "yaxis3": {
         "anchor": "x3",
         "domain": [
          0,
          0.32
         ],
         "title": {
          "text": "f-score"
         }
        }
       }
      }
     },
     "metadata": {},
     "output_type": "display_data"
    }
   ],
   "source": [
    "perf_metric = 'f'\n",
    "sorted_df = df_core_suite.sort_values('LENC-XGB_'+perf_metric, ignore_index=True)\n",
    "triple_chart(pipelines=DEFAULT_RI_PIPELINES, performance_metric=perf_metric, complexity_metric='nof_rules', df=sorted_df, df_long_name='core suite')"
   ]
  },
  {
   "cell_type": "code",
   "execution_count": 1052,
   "metadata": {},
   "outputs": [
    {
     "data": {
      "application/vnd.plotly.v1+json": {
       "config": {
        "plotlyServerURL": "https://plot.ly"
       },
       "data": [
        {
         "line": {
          "color": "gray",
          "dash": "solid",
          "width": 2
         },
         "marker": {
          "symbol": "circle"
         },
         "mode": "markers+lines",
         "name": "LENC-XGB",
         "showlegend": true,
         "type": "scatter",
         "x": [
          "orange_churn",
          "fraud_oracle",
          "taiwan_credit",
          "orange_up",
          "german_credit",
          "bike_75",
          "bank_marketing",
          "compas",
          "heloc",
          "telco_churn_2",
          "adult",
          "fraud_detection",
          "telco_churn",
          "house",
          "boston",
          "electricity",
          "bike_mean"
         ],
         "xaxis": "x4",
         "y": [
          0.03,
          0.31,
          0.37,
          0.42,
          0.43,
          0.47,
          0.48,
          0.55,
          0.65,
          0.66,
          0.68,
          0.76,
          0.77,
          0.8,
          0.85,
          0.88,
          0.92
         ],
         "yaxis": "y4"
        },
        {
         "line": {
          "color": "darkkhaki",
          "dash": "solid",
          "width": 2
         },
         "marker": {
          "symbol": "cross"
         },
         "mode": "markers+lines",
         "name": "NATIVE-CONST",
         "showlegend": true,
         "type": "scatter",
         "x": [
          "orange_churn",
          "fraud_oracle",
          "taiwan_credit",
          "orange_up",
          "german_credit",
          "bike_75",
          "bank_marketing",
          "compas",
          "heloc",
          "telco_churn_2",
          "adult",
          "fraud_detection",
          "telco_churn",
          "house",
          "boston",
          "electricity",
          "bike_mean"
         ],
         "xaxis": "x4",
         "y": [
          1,
          1,
          1,
          1,
          1,
          1,
          1,
          1,
          1,
          1,
          1,
          1,
          1,
          1,
          1,
          1,
          1
         ],
         "yaxis": "y4"
        },
        {
         "line": {
          "color": "crimson",
          "dash": "longdash",
          "width": 2
         },
         "marker": {
          "symbol": "diamond"
         },
         "mode": "markers+lines",
         "name": "NATIVE-RIPPER",
         "showlegend": true,
         "type": "scatter",
         "x": [
          "orange_churn",
          "fraud_oracle",
          "taiwan_credit",
          "orange_up",
          "german_credit",
          "bike_75",
          "bank_marketing",
          "compas",
          "heloc",
          "telco_churn_2",
          "adult",
          "fraud_detection",
          "telco_churn",
          "house",
          "boston",
          "electricity",
          "bike_mean"
         ],
         "xaxis": "x4",
         "y": [
          0,
          0,
          0.33,
          0.41,
          0.17,
          0.6,
          0.4,
          0,
          0.71,
          0.65,
          0.57,
          0.7,
          0.77,
          0.73,
          0.9,
          0.81,
          0.87
         ],
         "yaxis": "y4"
        },
        {
         "line": {
          "color": "mediumblue",
          "dash": "dot",
          "width": 2
         },
         "marker": {
          "symbol": "arrow-right"
         },
         "mode": "markers+lines",
         "name": "LENC-CART:4",
         "showlegend": true,
         "type": "scatter",
         "x": [
          "orange_churn",
          "fraud_oracle",
          "taiwan_credit",
          "orange_up",
          "german_credit",
          "bike_75",
          "bank_marketing",
          "compas",
          "heloc",
          "telco_churn_2",
          "adult",
          "fraud_detection",
          "telco_churn",
          "house",
          "boston",
          "electricity",
          "bike_mean"
         ],
         "xaxis": "x4",
         "y": [
          0.02,
          0.04,
          0.3,
          0.43,
          0.51,
          0.6,
          0.39,
          0.55,
          0.64,
          0.58,
          0.26,
          0.73,
          0.54,
          0.68,
          0.82,
          0.56,
          0.92
         ],
         "yaxis": "y4"
        },
        {
         "line": {
          "color": "lime",
          "dash": "dash",
          "width": 2
         },
         "marker": {
          "symbol": "cross"
         },
         "mode": "markers+lines",
         "name": "TREES-BRCG",
         "showlegend": true,
         "type": "scatter",
         "x": [
          "orange_churn",
          "fraud_oracle",
          "taiwan_credit",
          "orange_up",
          "german_credit",
          "bike_75",
          "bank_marketing",
          "compas",
          "heloc",
          "telco_churn_2",
          "adult",
          "fraud_detection",
          "telco_churn",
          "house",
          "boston",
          "electricity",
          "bike_mean"
         ],
         "xaxis": "x4",
         "y": [
          0,
          0,
          0.3,
          0.43,
          0.2,
          0,
          0.34,
          0.55,
          0.61,
          0.61,
          0.44,
          0,
          0.51,
          0.63,
          0.76,
          0.67,
          0.92
         ],
         "yaxis": "y4"
        },
        {
         "line": {
          "color": "gold",
          "dash": "dashdot",
          "width": 2
         },
         "marker": {
          "symbol": "star"
         },
         "mode": "markers+lines",
         "name": "TREES-CORELS",
         "showlegend": true,
         "type": "scatter",
         "x": [
          "orange_churn",
          "fraud_oracle",
          "taiwan_credit",
          "orange_up",
          "german_credit",
          "bike_75",
          "bank_marketing",
          "compas",
          "heloc",
          "telco_churn_2",
          "adult",
          "fraud_detection",
          "telco_churn",
          "house",
          "boston",
          "electricity",
          "bike_mean"
         ],
         "xaxis": "x4",
         "y": [
          0,
          0,
          0.3,
          0.43,
          0.09,
          0,
          0.34,
          0.49,
          0.61,
          0.63,
          0.28,
          0,
          0.34,
          0.52,
          0.86,
          0.57,
          0.84
         ],
         "yaxis": "y4"
        },
        {
         "line": {
          "color": "silver",
          "dash": "dot",
          "width": 2
         },
         "marker": {
          "symbol": "square"
         },
         "mode": "markers+lines",
         "name": "NATIVE-R2N",
         "showlegend": true,
         "type": "scatter",
         "x": [
          "orange_churn",
          "fraud_oracle",
          "taiwan_credit",
          "orange_up",
          "german_credit",
          "bike_75",
          "bank_marketing",
          "compas",
          "heloc",
          "telco_churn_2",
          "adult",
          "fraud_detection",
          "telco_churn",
          "house",
          "boston",
          "electricity",
          "bike_mean"
         ],
         "xaxis": "x4",
         "y": [
          null,
          0,
          0.29,
          null,
          0,
          0,
          0.29,
          0.49,
          0.99,
          0.94,
          0.85,
          0,
          0.48,
          0.91,
          0.85,
          0.47,
          0.72
         ],
         "yaxis": "y4"
        },
        {
         "line": {
          "color": "gray",
          "dash": "solid",
          "width": 2
         },
         "marker": {
          "symbol": "circle"
         },
         "mode": "markers+lines",
         "name": "LENC-XGB",
         "showlegend": false,
         "type": "scatter",
         "x": [
          "orange_churn",
          "fraud_oracle",
          "taiwan_credit",
          "orange_up",
          "german_credit",
          "bike_75",
          "bank_marketing",
          "compas",
          "heloc",
          "telco_churn_2",
          "adult",
          "fraud_detection",
          "telco_churn",
          "house",
          "boston",
          "electricity",
          "bike_mean"
         ],
         "xaxis": "x3",
         "y": [
          0.47,
          0.8,
          0.66,
          0.84,
          0.51,
          0.54,
          0.54,
          0.68,
          0.71,
          0.76,
          0.75,
          0.94,
          0.91,
          0.84,
          0.92,
          0.9,
          0.91
         ],
         "yaxis": "y3"
        },
        {
         "line": {
          "color": "darkkhaki",
          "dash": "solid",
          "width": 2
         },
         "marker": {
          "symbol": "cross"
         },
         "mode": "markers+lines",
         "name": "NATIVE-CONST",
         "showlegend": false,
         "type": "scatter",
         "x": [
          "orange_churn",
          "fraud_oracle",
          "taiwan_credit",
          "orange_up",
          "german_credit",
          "bike_75",
          "bank_marketing",
          "compas",
          "heloc",
          "telco_churn_2",
          "adult",
          "fraud_detection",
          "telco_churn",
          "house",
          "boston",
          "electricity",
          "bike_mean"
         ],
         "xaxis": "x3",
         "y": [
          0.08,
          0.07,
          0.22,
          0.07,
          0.29,
          0.01,
          0.1,
          0.46,
          0.48,
          0.51,
          0.23,
          0,
          0.15,
          0.29,
          0.47,
          0.42,
          0.42
         ],
         "yaxis": "y3"
        },
        {
         "line": {
          "color": "crimson",
          "dash": "longdash",
          "width": 2
         },
         "marker": {
          "symbol": "diamond"
         },
         "mode": "markers+lines",
         "name": "NATIVE-RIPPER",
         "showlegend": false,
         "type": "scatter",
         "x": [
          "orange_churn",
          "fraud_oracle",
          "taiwan_credit",
          "orange_up",
          "german_credit",
          "bike_75",
          "bank_marketing",
          "compas",
          "heloc",
          "telco_churn_2",
          "adult",
          "fraud_detection",
          "telco_churn",
          "house",
          "boston",
          "electricity",
          "bike_mean"
         ],
         "xaxis": "x3",
         "y": [
          1,
          1,
          0.66,
          0.8,
          0.58,
          0.47,
          0.51,
          1,
          0.7,
          0.7,
          0.71,
          0.88,
          0.91,
          0.81,
          0.82,
          0.81,
          0.91
         ],
         "yaxis": "y3"
        },
        {
         "line": {
          "color": "mediumblue",
          "dash": "dot",
          "width": 2
         },
         "marker": {
          "symbol": "arrow-right"
         },
         "mode": "markers+lines",
         "name": "LENC-CART:4",
         "showlegend": false,
         "type": "scatter",
         "x": [
          "orange_churn",
          "fraud_oracle",
          "taiwan_credit",
          "orange_up",
          "german_credit",
          "bike_75",
          "bank_marketing",
          "compas",
          "heloc",
          "telco_churn_2",
          "adult",
          "fraud_detection",
          "telco_churn",
          "house",
          "boston",
          "electricity",
          "bike_mean"
         ],
         "xaxis": "x3",
         "y": [
          0.48,
          0.48,
          0.7,
          0.81,
          0.58,
          0.45,
          0.56,
          0.67,
          0.73,
          0.79,
          0.95,
          0.82,
          0.83,
          0.73,
          0.85,
          0.82,
          0.84
         ],
         "yaxis": "y3"
        },
        {
         "line": {
          "color": "lime",
          "dash": "dash",
          "width": 2
         },
         "marker": {
          "symbol": "cross"
         },
         "mode": "markers+lines",
         "name": "TREES-BRCG",
         "showlegend": false,
         "type": "scatter",
         "x": [
          "orange_churn",
          "fraud_oracle",
          "taiwan_credit",
          "orange_up",
          "german_credit",
          "bike_75",
          "bank_marketing",
          "compas",
          "heloc",
          "telco_churn_2",
          "adult",
          "fraud_detection",
          "telco_churn",
          "house",
          "boston",
          "electricity",
          "bike_mean"
         ],
         "xaxis": "x3",
         "y": [
          1,
          1,
          0.7,
          0.81,
          0.68,
          1,
          0.56,
          0.68,
          0.74,
          0.77,
          0.75,
          1,
          0.89,
          0.78,
          0.93,
          0.76,
          0.84
         ],
         "yaxis": "y3"
        },
        {
         "line": {
          "color": "gold",
          "dash": "dashdot",
          "width": 2
         },
         "marker": {
          "symbol": "star"
         },
         "mode": "markers+lines",
         "name": "TREES-CORELS",
         "showlegend": false,
         "type": "scatter",
         "x": [
          "orange_churn",
          "fraud_oracle",
          "taiwan_credit",
          "orange_up",
          "german_credit",
          "bike_75",
          "bank_marketing",
          "compas",
          "heloc",
          "telco_churn_2",
          "adult",
          "fraud_detection",
          "telco_churn",
          "house",
          "boston",
          "electricity",
          "bike_mean"
         ],
         "xaxis": "x3",
         "y": [
          1,
          1,
          0.7,
          0.8,
          0.67,
          1,
          0.58,
          0.67,
          0.74,
          0.75,
          0.84,
          1,
          0.85,
          0.73,
          0.87,
          0.8,
          0.8
         ],
         "yaxis": "y3"
        },
        {
         "line": {
          "color": "silver",
          "dash": "dot",
          "width": 2
         },
         "marker": {
          "symbol": "square"
         },
         "mode": "markers+lines",
         "name": "NATIVE-R2N",
         "showlegend": false,
         "type": "scatter",
         "x": [
          "orange_churn",
          "fraud_oracle",
          "taiwan_credit",
          "orange_up",
          "german_credit",
          "bike_75",
          "bank_marketing",
          "compas",
          "heloc",
          "telco_churn_2",
          "adult",
          "fraud_detection",
          "telco_churn",
          "house",
          "boston",
          "electricity",
          "bike_mean"
         ],
         "xaxis": "x3",
         "y": [
          null,
          1,
          0.7,
          null,
          1,
          1,
          0.62,
          0.67,
          0.49,
          0.58,
          0.43,
          1,
          0.57,
          0.45,
          0.88,
          0.87,
          0.63
         ],
         "yaxis": "y3"
        },
        {
         "line": {
          "color": "crimson",
          "dash": "longdash",
          "width": 2
         },
         "marker": {
          "symbol": "diamond"
         },
         "mode": "markers+lines",
         "name": "NATIVE-RIPPER",
         "showlegend": false,
         "type": "scatter",
         "x": [
          "orange_churn",
          "fraud_oracle",
          "taiwan_credit",
          "orange_up",
          "german_credit",
          "bike_75",
          "bank_marketing",
          "compas",
          "heloc",
          "telco_churn_2",
          "adult",
          "fraud_detection",
          "telco_churn",
          "house",
          "boston",
          "electricity",
          "bike_mean"
         ],
         "xaxis": "x2",
         "y": [
          1,
          1,
          12,
          9,
          3,
          10,
          7,
          1,
          17,
          8,
          39,
          7,
          10,
          38,
          10,
          61,
          19
         ],
         "yaxis": "y2"
        },
        {
         "line": {
          "color": "mediumblue",
          "dash": "dot",
          "width": 2
         },
         "marker": {
          "symbol": "arrow-right"
         },
         "mode": "markers+lines",
         "name": "LENC-CART:4",
         "showlegend": false,
         "type": "scatter",
         "x": [
          "orange_churn",
          "fraud_oracle",
          "taiwan_credit",
          "orange_up",
          "german_credit",
          "bike_75",
          "bank_marketing",
          "compas",
          "heloc",
          "telco_churn_2",
          "adult",
          "fraud_detection",
          "telco_churn",
          "house",
          "boston",
          "electricity",
          "bike_mean"
         ],
         "xaxis": "x2",
         "y": [
          6,
          5,
          4,
          4,
          8,
          2,
          7,
          11,
          10,
          11,
          8,
          7,
          8,
          9,
          8,
          8,
          4
         ],
         "yaxis": "y2"
        },
        {
         "line": {
          "color": "lime",
          "dash": "dash",
          "width": 2
         },
         "marker": {
          "symbol": "cross"
         },
         "mode": "markers+lines",
         "name": "TREES-BRCG",
         "showlegend": false,
         "type": "scatter",
         "x": [
          "orange_churn",
          "fraud_oracle",
          "taiwan_credit",
          "orange_up",
          "german_credit",
          "bike_75",
          "bank_marketing",
          "compas",
          "heloc",
          "telco_churn_2",
          "adult",
          "fraud_detection",
          "telco_churn",
          "house",
          "boston",
          "electricity",
          "bike_mean"
         ],
         "xaxis": "x2",
         "y": [
          1,
          1,
          3,
          2,
          4,
          1,
          4,
          4,
          2,
          4,
          4,
          1,
          4,
          5,
          6,
          3,
          4
         ],
         "yaxis": "y2"
        },
        {
         "line": {
          "color": "gold",
          "dash": "dashdot",
          "width": 2
         },
         "marker": {
          "symbol": "star"
         },
         "mode": "markers+lines",
         "name": "TREES-CORELS",
         "showlegend": false,
         "type": "scatter",
         "x": [
          "orange_churn",
          "fraud_oracle",
          "taiwan_credit",
          "orange_up",
          "german_credit",
          "bike_75",
          "bank_marketing",
          "compas",
          "heloc",
          "telco_churn_2",
          "adult",
          "fraud_detection",
          "telco_churn",
          "house",
          "boston",
          "electricity",
          "bike_mean"
         ],
         "xaxis": "x2",
         "y": [
          1,
          1,
          3,
          3,
          3,
          1,
          2,
          3,
          2,
          3,
          3,
          1,
          3,
          2,
          2,
          2,
          3
         ],
         "yaxis": "y2"
        },
        {
         "line": {
          "color": "silver",
          "dash": "dot",
          "width": 2
         },
         "marker": {
          "symbol": "square"
         },
         "mode": "markers+lines",
         "name": "NATIVE-R2N",
         "showlegend": false,
         "type": "scatter",
         "x": [
          "orange_churn",
          "fraud_oracle",
          "taiwan_credit",
          "orange_up",
          "german_credit",
          "bike_75",
          "bank_marketing",
          "compas",
          "heloc",
          "telco_churn_2",
          "adult",
          "fraud_detection",
          "telco_churn",
          "house",
          "boston",
          "electricity",
          "bike_mean"
         ],
         "xaxis": "x2",
         "y": [
          null,
          1,
          3,
          null,
          4,
          1,
          3,
          3,
          4,
          5,
          3,
          1,
          3,
          4,
          5,
          4,
          3
         ],
         "yaxis": "y2"
        },
        {
         "line": {
          "color": "gray",
          "dash": "solid",
          "width": 2
         },
         "marker": {
          "symbol": "circle"
         },
         "mode": "markers+lines",
         "name": "LENC-XGB",
         "showlegend": false,
         "type": "scatter",
         "x": [
          "orange_churn",
          "fraud_oracle",
          "taiwan_credit",
          "orange_up",
          "german_credit",
          "bike_75",
          "bank_marketing",
          "compas",
          "heloc",
          "telco_churn_2",
          "adult",
          "fraud_detection",
          "telco_churn",
          "house",
          "boston",
          "electricity",
          "bike_mean"
         ],
         "xaxis": "x",
         "y": [
          5.1,
          1.48,
          1.9300000000000002,
          5.07,
          1.05,
          1.1400000000000001,
          1.13,
          1.09,
          1.28,
          1.09,
          1.48,
          11.1,
          1.12,
          1.79,
          1.03,
          1.62,
          1.2
         ],
         "yaxis": "y"
        },
        {
         "line": {
          "color": "crimson",
          "dash": "longdash",
          "width": 2
         },
         "marker": {
          "symbol": "diamond"
         },
         "mode": "markers+lines",
         "name": "NATIVE-RIPPER",
         "showlegend": false,
         "type": "scatter",
         "x": [
          "orange_churn",
          "fraud_oracle",
          "taiwan_credit",
          "orange_up",
          "german_credit",
          "bike_75",
          "bank_marketing",
          "compas",
          "heloc",
          "telco_churn_2",
          "adult",
          "fraud_detection",
          "telco_churn",
          "house",
          "boston",
          "electricity",
          "bike_mean"
         ],
         "xaxis": "x",
         "y": [
          4.220000000000001,
          1.12,
          7.55,
          25.94,
          1.05,
          1.42,
          1.11,
          1.01,
          1.96,
          1.09,
          9.98,
          1128.56,
          1.17,
          19.06,
          1.04,
          20.9,
          1.94
         ],
         "yaxis": "y"
        },
        {
         "line": {
          "color": "mediumblue",
          "dash": "dot",
          "width": 2
         },
         "marker": {
          "symbol": "arrow-right"
         },
         "mode": "markers+lines",
         "name": "LENC-CART:4",
         "showlegend": false,
         "type": "scatter",
         "x": [
          "orange_churn",
          "fraud_oracle",
          "taiwan_credit",
          "orange_up",
          "german_credit",
          "bike_75",
          "bank_marketing",
          "compas",
          "heloc",
          "telco_churn_2",
          "adult",
          "fraud_detection",
          "telco_churn",
          "house",
          "boston",
          "electricity",
          "bike_mean"
         ],
         "xaxis": "x",
         "y": [
          1.73,
          1.08,
          1.1,
          1.74,
          1.01,
          1.01,
          1.01,
          1.01,
          1.02,
          1,
          1.04,
          3.24,
          1.01,
          1.06,
          1,
          1.04,
          1.01
         ],
         "yaxis": "y"
        },
        {
         "line": {
          "color": "lime",
          "dash": "dash",
          "width": 2
         },
         "marker": {
          "symbol": "cross"
         },
         "mode": "markers+lines",
         "name": "TREES-BRCG",
         "showlegend": false,
         "type": "scatter",
         "x": [
          "orange_churn",
          "fraud_oracle",
          "taiwan_credit",
          "orange_up",
          "german_credit",
          "bike_75",
          "bank_marketing",
          "compas",
          "heloc",
          "telco_churn_2",
          "adult",
          "fraud_detection",
          "telco_churn",
          "house",
          "boston",
          "electricity",
          "bike_mean"
         ],
         "xaxis": "x",
         "y": [
          101.76,
          1.53,
          2.49,
          104.14,
          3.15,
          1.12,
          1.8,
          2.2,
          2.96,
          2.7800000000000002,
          3.51,
          3.72,
          1.73,
          4.49,
          2.1399999999999997,
          6.11,
          3.31
         ],
         "yaxis": "y"
        },
        {
         "line": {
          "color": "gold",
          "dash": "dashdot",
          "width": 2
         },
         "marker": {
          "symbol": "star"
         },
         "mode": "markers+lines",
         "name": "TREES-CORELS",
         "showlegend": false,
         "type": "scatter",
         "x": [
          "orange_churn",
          "fraud_oracle",
          "taiwan_credit",
          "orange_up",
          "german_credit",
          "bike_75",
          "bank_marketing",
          "compas",
          "heloc",
          "telco_churn_2",
          "adult",
          "fraud_detection",
          "telco_churn",
          "house",
          "boston",
          "electricity",
          "bike_mean"
         ],
         "xaxis": "x",
         "y": [
          102.9,
          1.19,
          3.7,
          104.28,
          1.04,
          1.07,
          1.08,
          1.09,
          1.12,
          1.04,
          1.41,
          6.1,
          1.06,
          1.26,
          1.02,
          1.54,
          1.13
         ],
         "yaxis": "y"
        },
        {
         "line": {
          "color": "silver",
          "dash": "dot",
          "width": 2
         },
         "marker": {
          "symbol": "square"
         },
         "mode": "markers+lines",
         "name": "NATIVE-R2N",
         "showlegend": false,
         "type": "scatter",
         "x": [
          "orange_churn",
          "fraud_oracle",
          "taiwan_credit",
          "orange_up",
          "german_credit",
          "bike_75",
          "bank_marketing",
          "compas",
          "heloc",
          "telco_churn_2",
          "adult",
          "fraud_detection",
          "telco_churn",
          "house",
          "boston",
          "electricity",
          "bike_mean"
         ],
         "xaxis": "x",
         "y": [
          null,
          76.28,
          144.79,
          null,
          5.66,
          58.58,
          19.32,
          26.65,
          45.47,
          9.88,
          153.52,
          1230.67,
          16.369999999999997,
          96.81,
          3.45,
          187.68,
          67.01
         ],
         "yaxis": "y"
        }
       ],
       "layout": {
        "height": 600,
        "plot_bgcolor": "whitesmoke",
        "template": {
         "data": {
          "bar": [
           {
            "error_x": {
             "color": "#2a3f5f"
            },
            "error_y": {
             "color": "#2a3f5f"
            },
            "marker": {
             "line": {
              "color": "#E5ECF6",
              "width": 0.5
             },
             "pattern": {
              "fillmode": "overlay",
              "size": 10,
              "solidity": 0.2
             }
            },
            "type": "bar"
           }
          ],
          "barpolar": [
           {
            "marker": {
             "line": {
              "color": "#E5ECF6",
              "width": 0.5
             },
             "pattern": {
              "fillmode": "overlay",
              "size": 10,
              "solidity": 0.2
             }
            },
            "type": "barpolar"
           }
          ],
          "carpet": [
           {
            "aaxis": {
             "endlinecolor": "#2a3f5f",
             "gridcolor": "white",
             "linecolor": "white",
             "minorgridcolor": "white",
             "startlinecolor": "#2a3f5f"
            },
            "baxis": {
             "endlinecolor": "#2a3f5f",
             "gridcolor": "white",
             "linecolor": "white",
             "minorgridcolor": "white",
             "startlinecolor": "#2a3f5f"
            },
            "type": "carpet"
           }
          ],
          "choropleth": [
           {
            "colorbar": {
             "outlinewidth": 0,
             "ticks": ""
            },
            "type": "choropleth"
           }
          ],
          "contour": [
           {
            "colorbar": {
             "outlinewidth": 0,
             "ticks": ""
            },
            "colorscale": [
             [
              0,
              "#0d0887"
             ],
             [
              0.1111111111111111,
              "#46039f"
             ],
             [
              0.2222222222222222,
              "#7201a8"
             ],
             [
              0.3333333333333333,
              "#9c179e"
             ],
             [
              0.4444444444444444,
              "#bd3786"
             ],
             [
              0.5555555555555556,
              "#d8576b"
             ],
             [
              0.6666666666666666,
              "#ed7953"
             ],
             [
              0.7777777777777778,
              "#fb9f3a"
             ],
             [
              0.8888888888888888,
              "#fdca26"
             ],
             [
              1,
              "#f0f921"
             ]
            ],
            "type": "contour"
           }
          ],
          "contourcarpet": [
           {
            "colorbar": {
             "outlinewidth": 0,
             "ticks": ""
            },
            "type": "contourcarpet"
           }
          ],
          "heatmap": [
           {
            "colorbar": {
             "outlinewidth": 0,
             "ticks": ""
            },
            "colorscale": [
             [
              0,
              "#0d0887"
             ],
             [
              0.1111111111111111,
              "#46039f"
             ],
             [
              0.2222222222222222,
              "#7201a8"
             ],
             [
              0.3333333333333333,
              "#9c179e"
             ],
             [
              0.4444444444444444,
              "#bd3786"
             ],
             [
              0.5555555555555556,
              "#d8576b"
             ],
             [
              0.6666666666666666,
              "#ed7953"
             ],
             [
              0.7777777777777778,
              "#fb9f3a"
             ],
             [
              0.8888888888888888,
              "#fdca26"
             ],
             [
              1,
              "#f0f921"
             ]
            ],
            "type": "heatmap"
           }
          ],
          "heatmapgl": [
           {
            "colorbar": {
             "outlinewidth": 0,
             "ticks": ""
            },
            "colorscale": [
             [
              0,
              "#0d0887"
             ],
             [
              0.1111111111111111,
              "#46039f"
             ],
             [
              0.2222222222222222,
              "#7201a8"
             ],
             [
              0.3333333333333333,
              "#9c179e"
             ],
             [
              0.4444444444444444,
              "#bd3786"
             ],
             [
              0.5555555555555556,
              "#d8576b"
             ],
             [
              0.6666666666666666,
              "#ed7953"
             ],
             [
              0.7777777777777778,
              "#fb9f3a"
             ],
             [
              0.8888888888888888,
              "#fdca26"
             ],
             [
              1,
              "#f0f921"
             ]
            ],
            "type": "heatmapgl"
           }
          ],
          "histogram": [
           {
            "marker": {
             "pattern": {
              "fillmode": "overlay",
              "size": 10,
              "solidity": 0.2
             }
            },
            "type": "histogram"
           }
          ],
          "histogram2d": [
           {
            "colorbar": {
             "outlinewidth": 0,
             "ticks": ""
            },
            "colorscale": [
             [
              0,
              "#0d0887"
             ],
             [
              0.1111111111111111,
              "#46039f"
             ],
             [
              0.2222222222222222,
              "#7201a8"
             ],
             [
              0.3333333333333333,
              "#9c179e"
             ],
             [
              0.4444444444444444,
              "#bd3786"
             ],
             [
              0.5555555555555556,
              "#d8576b"
             ],
             [
              0.6666666666666666,
              "#ed7953"
             ],
             [
              0.7777777777777778,
              "#fb9f3a"
             ],
             [
              0.8888888888888888,
              "#fdca26"
             ],
             [
              1,
              "#f0f921"
             ]
            ],
            "type": "histogram2d"
           }
          ],
          "histogram2dcontour": [
           {
            "colorbar": {
             "outlinewidth": 0,
             "ticks": ""
            },
            "colorscale": [
             [
              0,
              "#0d0887"
             ],
             [
              0.1111111111111111,
              "#46039f"
             ],
             [
              0.2222222222222222,
              "#7201a8"
             ],
             [
              0.3333333333333333,
              "#9c179e"
             ],
             [
              0.4444444444444444,
              "#bd3786"
             ],
             [
              0.5555555555555556,
              "#d8576b"
             ],
             [
              0.6666666666666666,
              "#ed7953"
             ],
             [
              0.7777777777777778,
              "#fb9f3a"
             ],
             [
              0.8888888888888888,
              "#fdca26"
             ],
             [
              1,
              "#f0f921"
             ]
            ],
            "type": "histogram2dcontour"
           }
          ],
          "mesh3d": [
           {
            "colorbar": {
             "outlinewidth": 0,
             "ticks": ""
            },
            "type": "mesh3d"
           }
          ],
          "parcoords": [
           {
            "line": {
             "colorbar": {
              "outlinewidth": 0,
              "ticks": ""
             }
            },
            "type": "parcoords"
           }
          ],
          "pie": [
           {
            "automargin": true,
            "type": "pie"
           }
          ],
          "scatter": [
           {
            "fillpattern": {
             "fillmode": "overlay",
             "size": 10,
             "solidity": 0.2
            },
            "type": "scatter"
           }
          ],
          "scatter3d": [
           {
            "line": {
             "colorbar": {
              "outlinewidth": 0,
              "ticks": ""
             }
            },
            "marker": {
             "colorbar": {
              "outlinewidth": 0,
              "ticks": ""
             }
            },
            "type": "scatter3d"
           }
          ],
          "scattercarpet": [
           {
            "marker": {
             "colorbar": {
              "outlinewidth": 0,
              "ticks": ""
             }
            },
            "type": "scattercarpet"
           }
          ],
          "scattergeo": [
           {
            "marker": {
             "colorbar": {
              "outlinewidth": 0,
              "ticks": ""
             }
            },
            "type": "scattergeo"
           }
          ],
          "scattergl": [
           {
            "marker": {
             "colorbar": {
              "outlinewidth": 0,
              "ticks": ""
             }
            },
            "type": "scattergl"
           }
          ],
          "scattermapbox": [
           {
            "marker": {
             "colorbar": {
              "outlinewidth": 0,
              "ticks": ""
             }
            },
            "type": "scattermapbox"
           }
          ],
          "scatterpolar": [
           {
            "marker": {
             "colorbar": {
              "outlinewidth": 0,
              "ticks": ""
             }
            },
            "type": "scatterpolar"
           }
          ],
          "scatterpolargl": [
           {
            "marker": {
             "colorbar": {
              "outlinewidth": 0,
              "ticks": ""
             }
            },
            "type": "scatterpolargl"
           }
          ],
          "scatterternary": [
           {
            "marker": {
             "colorbar": {
              "outlinewidth": 0,
              "ticks": ""
             }
            },
            "type": "scatterternary"
           }
          ],
          "surface": [
           {
            "colorbar": {
             "outlinewidth": 0,
             "ticks": ""
            },
            "colorscale": [
             [
              0,
              "#0d0887"
             ],
             [
              0.1111111111111111,
              "#46039f"
             ],
             [
              0.2222222222222222,
              "#7201a8"
             ],
             [
              0.3333333333333333,
              "#9c179e"
             ],
             [
              0.4444444444444444,
              "#bd3786"
             ],
             [
              0.5555555555555556,
              "#d8576b"
             ],
             [
              0.6666666666666666,
              "#ed7953"
             ],
             [
              0.7777777777777778,
              "#fb9f3a"
             ],
             [
              0.8888888888888888,
              "#fdca26"
             ],
             [
              1,
              "#f0f921"
             ]
            ],
            "type": "surface"
           }
          ],
          "table": [
           {
            "cells": {
             "fill": {
              "color": "#EBF0F8"
             },
             "line": {
              "color": "white"
             }
            },
            "header": {
             "fill": {
              "color": "#C8D4E3"
             },
             "line": {
              "color": "white"
             }
            },
            "type": "table"
           }
          ]
         },
         "layout": {
          "annotationdefaults": {
           "arrowcolor": "#2a3f5f",
           "arrowhead": 0,
           "arrowwidth": 1
          },
          "autotypenumbers": "strict",
          "coloraxis": {
           "colorbar": {
            "outlinewidth": 0,
            "ticks": ""
           }
          },
          "colorscale": {
           "diverging": [
            [
             0,
             "#8e0152"
            ],
            [
             0.1,
             "#c51b7d"
            ],
            [
             0.2,
             "#de77ae"
            ],
            [
             0.3,
             "#f1b6da"
            ],
            [
             0.4,
             "#fde0ef"
            ],
            [
             0.5,
             "#f7f7f7"
            ],
            [
             0.6,
             "#e6f5d0"
            ],
            [
             0.7,
             "#b8e186"
            ],
            [
             0.8,
             "#7fbc41"
            ],
            [
             0.9,
             "#4d9221"
            ],
            [
             1,
             "#276419"
            ]
           ],
           "sequential": [
            [
             0,
             "#0d0887"
            ],
            [
             0.1111111111111111,
             "#46039f"
            ],
            [
             0.2222222222222222,
             "#7201a8"
            ],
            [
             0.3333333333333333,
             "#9c179e"
            ],
            [
             0.4444444444444444,
             "#bd3786"
            ],
            [
             0.5555555555555556,
             "#d8576b"
            ],
            [
             0.6666666666666666,
             "#ed7953"
            ],
            [
             0.7777777777777778,
             "#fb9f3a"
            ],
            [
             0.8888888888888888,
             "#fdca26"
            ],
            [
             1,
             "#f0f921"
            ]
           ],
           "sequentialminus": [
            [
             0,
             "#0d0887"
            ],
            [
             0.1111111111111111,
             "#46039f"
            ],
            [
             0.2222222222222222,
             "#7201a8"
            ],
            [
             0.3333333333333333,
             "#9c179e"
            ],
            [
             0.4444444444444444,
             "#bd3786"
            ],
            [
             0.5555555555555556,
             "#d8576b"
            ],
            [
             0.6666666666666666,
             "#ed7953"
            ],
            [
             0.7777777777777778,
             "#fb9f3a"
            ],
            [
             0.8888888888888888,
             "#fdca26"
            ],
            [
             1,
             "#f0f921"
            ]
           ]
          },
          "colorway": [
           "#636efa",
           "#EF553B",
           "#00cc96",
           "#ab63fa",
           "#FFA15A",
           "#19d3f3",
           "#FF6692",
           "#B6E880",
           "#FF97FF",
           "#FECB52"
          ],
          "font": {
           "color": "#2a3f5f"
          },
          "geo": {
           "bgcolor": "white",
           "lakecolor": "white",
           "landcolor": "#E5ECF6",
           "showlakes": true,
           "showland": true,
           "subunitcolor": "white"
          },
          "hoverlabel": {
           "align": "left"
          },
          "hovermode": "closest",
          "mapbox": {
           "style": "light"
          },
          "paper_bgcolor": "white",
          "plot_bgcolor": "#E5ECF6",
          "polar": {
           "angularaxis": {
            "gridcolor": "white",
            "linecolor": "white",
            "ticks": ""
           },
           "bgcolor": "#E5ECF6",
           "radialaxis": {
            "gridcolor": "white",
            "linecolor": "white",
            "ticks": ""
           }
          },
          "scene": {
           "xaxis": {
            "backgroundcolor": "#E5ECF6",
            "gridcolor": "white",
            "gridwidth": 2,
            "linecolor": "white",
            "showbackground": true,
            "ticks": "",
            "zerolinecolor": "white"
           },
           "yaxis": {
            "backgroundcolor": "#E5ECF6",
            "gridcolor": "white",
            "gridwidth": 2,
            "linecolor": "white",
            "showbackground": true,
            "ticks": "",
            "zerolinecolor": "white"
           },
           "zaxis": {
            "backgroundcolor": "#E5ECF6",
            "gridcolor": "white",
            "gridwidth": 2,
            "linecolor": "white",
            "showbackground": true,
            "ticks": "",
            "zerolinecolor": "white"
           }
          },
          "shapedefaults": {
           "line": {
            "color": "#2a3f5f"
           }
          },
          "ternary": {
           "aaxis": {
            "gridcolor": "white",
            "linecolor": "white",
            "ticks": ""
           },
           "baxis": {
            "gridcolor": "white",
            "linecolor": "white",
            "ticks": ""
           },
           "bgcolor": "#E5ECF6",
           "caxis": {
            "gridcolor": "white",
            "linecolor": "white",
            "ticks": ""
           }
          },
          "title": {
           "x": 0.05
          },
          "xaxis": {
           "automargin": true,
           "gridcolor": "white",
           "linecolor": "white",
           "ticks": "",
           "title": {
            "standoff": 15
           },
           "zerolinecolor": "white",
           "zerolinewidth": 2
          },
          "yaxis": {
           "automargin": true,
           "gridcolor": "white",
           "linecolor": "white",
           "ticks": "",
           "title": {
            "standoff": 15
           },
           "zerolinecolor": "white",
           "zerolinewidth": 2
          }
         }
        },
        "title": {
         "text": "recall, precision, number of rules and training time on core suite"
        },
        "width": 1000,
        "xaxis": {
         "anchor": "y",
         "domain": [
          0,
          1
         ],
         "matches": "x4",
         "showticklabels": false
        },
        "xaxis2": {
         "anchor": "y2",
         "domain": [
          0,
          1
         ],
         "matches": "x4",
         "showticklabels": false
        },
        "xaxis3": {
         "anchor": "y3",
         "domain": [
          0,
          1
         ],
         "matches": "x4",
         "showticklabels": false
        },
        "xaxis4": {
         "anchor": "y4",
         "domain": [
          0,
          1
         ]
        },
        "yaxis": {
         "anchor": "x",
         "domain": [
          0.7649999999999999,
          0.9999999999999999
         ],
         "title": {
          "text": "time (secs)"
         },
         "type": "log"
        },
        "yaxis2": {
         "anchor": "x2",
         "domain": [
          0.51,
          0.745
         ],
         "title": {
          "text": "number of rules"
         },
         "type": "log"
        },
        "yaxis3": {
         "anchor": "x3",
         "domain": [
          0.255,
          0.49
         ],
         "title": {
          "text": "precision"
         }
        },
        "yaxis4": {
         "anchor": "x4",
         "domain": [
          0,
          0.235
         ],
         "title": {
          "text": "recall"
         }
        }
       }
      }
     },
     "metadata": {},
     "output_type": "display_data"
    }
   ],
   "source": [
    "main_metric = 'recall'\n",
    "sorted_df = df_core_suite.sort_values('LENC-XGB_'+main_metric, ignore_index=True)\n",
    "quad_chart(pipelines=DEFAULT_RI_PIPELINES, performance_metric_1=main_metric, performance_metric_2='precision', complexity_metric='nof_rules', df=sorted_df, df_long_name='core suite')"
   ]
  },
  {
   "cell_type": "code",
   "execution_count": 1053,
   "metadata": {},
   "outputs": [
    {
     "data": {
      "application/vnd.plotly.v1+json": {
       "config": {
        "plotlyServerURL": "https://plot.ly"
       },
       "data": [
        {
         "line": {
          "color": "gray",
          "dash": "solid",
          "width": 2
         },
         "marker": {
          "symbol": "circle"
         },
         "mode": "markers+lines",
         "name": "LENC-XGB",
         "showlegend": true,
         "type": "scatter",
         "x": [
          "orange_churn",
          "fraud_oracle",
          "taiwan_credit",
          "german_credit",
          "orange_up",
          "bike_75",
          "bank_marketing",
          "compas",
          "heloc",
          "telco_churn_2",
          "adult",
          "fraud_detection",
          "telco_churn",
          "house",
          "boston",
          "electricity",
          "bike_mean"
         ],
         "xaxis": "x3",
         "y": [
          0.03,
          0.36,
          0.4,
          0.44,
          0.47,
          0.48,
          0.49,
          0.57,
          0.67,
          0.68,
          0.69,
          0.79,
          0.8,
          0.81,
          0.86,
          0.89,
          0.92
         ],
         "yaxis": "y3"
        },
        {
         "line": {
          "color": "darkkhaki",
          "dash": "solid",
          "width": 2
         },
         "marker": {
          "symbol": "cross"
         },
         "mode": "markers+lines",
         "name": "NATIVE-CONST",
         "showlegend": true,
         "type": "scatter",
         "x": [
          "orange_churn",
          "fraud_oracle",
          "taiwan_credit",
          "german_credit",
          "orange_up",
          "bike_75",
          "bank_marketing",
          "compas",
          "heloc",
          "telco_churn_2",
          "adult",
          "fraud_detection",
          "telco_churn",
          "house",
          "boston",
          "electricity",
          "bike_mean"
         ],
         "xaxis": "x3",
         "y": [
          0.29,
          0.26,
          0.59,
          0.67,
          0.28,
          0.03,
          0.36,
          0.81,
          0.82,
          0.84,
          0.6,
          0.01,
          0.47,
          0.67,
          0.81,
          0.79,
          0.78
         ],
         "yaxis": "y3"
        },
        {
         "line": {
          "color": "crimson",
          "dash": "longdash",
          "width": 2
         },
         "marker": {
          "symbol": "diamond"
         },
         "mode": "markers+lines",
         "name": "NATIVE-RIPPER",
         "showlegend": true,
         "type": "scatter",
         "x": [
          "orange_churn",
          "fraud_oracle",
          "taiwan_credit",
          "german_credit",
          "orange_up",
          "bike_75",
          "bank_marketing",
          "compas",
          "heloc",
          "telco_churn_2",
          "adult",
          "fraud_detection",
          "telco_churn",
          "house",
          "boston",
          "electricity",
          "bike_mean"
         ],
         "xaxis": "x3",
         "y": [
          0,
          0,
          0.37,
          0.2,
          0.45,
          0.57,
          0.42,
          0,
          0.7,
          0.66,
          0.59,
          0.73,
          0.8,
          0.74,
          0.88,
          0.81,
          0.88
         ],
         "yaxis": "y3"
        },
        {
         "line": {
          "color": "mediumblue",
          "dash": "dot",
          "width": 2
         },
         "marker": {
          "symbol": "arrow-right"
         },
         "mode": "markers+lines",
         "name": "LENC-CART:4",
         "showlegend": true,
         "type": "scatter",
         "x": [
          "orange_churn",
          "fraud_oracle",
          "taiwan_credit",
          "german_credit",
          "orange_up",
          "bike_75",
          "bank_marketing",
          "compas",
          "heloc",
          "telco_churn_2",
          "adult",
          "fraud_detection",
          "telco_churn",
          "house",
          "boston",
          "electricity",
          "bike_mean"
         ],
         "xaxis": "x3",
         "y": [
          0.02,
          0.04,
          0.33,
          0.52,
          0.48,
          0.56,
          0.41,
          0.57,
          0.65,
          0.61,
          0.3,
          0.74,
          0.58,
          0.69,
          0.82,
          0.6,
          0.9
         ],
         "yaxis": "y3"
        },
        {
         "line": {
          "color": "lime",
          "dash": "dash",
          "width": 2
         },
         "marker": {
          "symbol": "cross"
         },
         "mode": "markers+lines",
         "name": "TREES-BRCG",
         "showlegend": true,
         "type": "scatter",
         "x": [
          "orange_churn",
          "fraud_oracle",
          "taiwan_credit",
          "german_credit",
          "orange_up",
          "bike_75",
          "bank_marketing",
          "compas",
          "heloc",
          "telco_churn_2",
          "adult",
          "fraud_detection",
          "telco_churn",
          "house",
          "boston",
          "electricity",
          "bike_mean"
         ],
         "xaxis": "x3",
         "y": [
          0,
          0,
          0.34,
          0.23,
          0.48,
          0,
          0.37,
          0.57,
          0.63,
          0.63,
          0.48,
          0,
          0.56,
          0.66,
          0.79,
          0.68,
          0.9
         ],
         "yaxis": "y3"
        },
        {
         "line": {
          "color": "gold",
          "dash": "dashdot",
          "width": 2
         },
         "marker": {
          "symbol": "star"
         },
         "mode": "markers+lines",
         "name": "TREES-CORELS",
         "showlegend": true,
         "type": "scatter",
         "x": [
          "orange_churn",
          "fraud_oracle",
          "taiwan_credit",
          "german_credit",
          "orange_up",
          "bike_75",
          "bank_marketing",
          "compas",
          "heloc",
          "telco_churn_2",
          "adult",
          "fraud_detection",
          "telco_churn",
          "house",
          "boston",
          "electricity",
          "bike_mean"
         ],
         "xaxis": "x3",
         "y": [
          0,
          0,
          0.34,
          0.11,
          0.48,
          0,
          0.37,
          0.52,
          0.63,
          0.65,
          0.32,
          0,
          0.38,
          0.55,
          0.86,
          0.61,
          0.83
         ],
         "yaxis": "y3"
        },
        {
         "line": {
          "color": "silver",
          "dash": "dot",
          "width": 2
         },
         "marker": {
          "symbol": "square"
         },
         "mode": "markers+lines",
         "name": "NATIVE-R2N",
         "showlegend": true,
         "type": "scatter",
         "x": [
          "orange_churn",
          "fraud_oracle",
          "taiwan_credit",
          "german_credit",
          "orange_up",
          "bike_75",
          "bank_marketing",
          "compas",
          "heloc",
          "telco_churn_2",
          "adult",
          "fraud_detection",
          "telco_churn",
          "house",
          "boston",
          "electricity",
          "bike_mean"
         ],
         "xaxis": "x3",
         "y": [
          null,
          0,
          0.33,
          0,
          null,
          0,
          0.32,
          0.52,
          0.82,
          0.84,
          0.71,
          0,
          0.49,
          0.75,
          0.85,
          0.52,
          0.7
         ],
         "yaxis": "y3"
        },
        {
         "line": {
          "color": "crimson",
          "dash": "longdash",
          "width": 2
         },
         "marker": {
          "symbol": "diamond"
         },
         "mode": "markers+lines",
         "name": "NATIVE-RIPPER",
         "showlegend": false,
         "type": "scatter",
         "x": [
          "orange_churn",
          "fraud_oracle",
          "taiwan_credit",
          "german_credit",
          "orange_up",
          "bike_75",
          "bank_marketing",
          "compas",
          "heloc",
          "telco_churn_2",
          "adult",
          "fraud_detection",
          "telco_churn",
          "house",
          "boston",
          "electricity",
          "bike_mean"
         ],
         "xaxis": "x2",
         "y": [
          1,
          1,
          12,
          3,
          9,
          10,
          7,
          1,
          17,
          8,
          39,
          7,
          10,
          38,
          10,
          61,
          19
         ],
         "yaxis": "y2"
        },
        {
         "line": {
          "color": "mediumblue",
          "dash": "dot",
          "width": 2
         },
         "marker": {
          "symbol": "arrow-right"
         },
         "mode": "markers+lines",
         "name": "LENC-CART:4",
         "showlegend": false,
         "type": "scatter",
         "x": [
          "orange_churn",
          "fraud_oracle",
          "taiwan_credit",
          "german_credit",
          "orange_up",
          "bike_75",
          "bank_marketing",
          "compas",
          "heloc",
          "telco_churn_2",
          "adult",
          "fraud_detection",
          "telco_churn",
          "house",
          "boston",
          "electricity",
          "bike_mean"
         ],
         "xaxis": "x2",
         "y": [
          6,
          5,
          4,
          8,
          4,
          2,
          7,
          11,
          10,
          11,
          8,
          7,
          8,
          9,
          8,
          8,
          4
         ],
         "yaxis": "y2"
        },
        {
         "line": {
          "color": "lime",
          "dash": "dash",
          "width": 2
         },
         "marker": {
          "symbol": "cross"
         },
         "mode": "markers+lines",
         "name": "TREES-BRCG",
         "showlegend": false,
         "type": "scatter",
         "x": [
          "orange_churn",
          "fraud_oracle",
          "taiwan_credit",
          "german_credit",
          "orange_up",
          "bike_75",
          "bank_marketing",
          "compas",
          "heloc",
          "telco_churn_2",
          "adult",
          "fraud_detection",
          "telco_churn",
          "house",
          "boston",
          "electricity",
          "bike_mean"
         ],
         "xaxis": "x2",
         "y": [
          1,
          1,
          3,
          4,
          2,
          1,
          4,
          4,
          2,
          4,
          4,
          1,
          4,
          5,
          6,
          3,
          4
         ],
         "yaxis": "y2"
        },
        {
         "line": {
          "color": "gold",
          "dash": "dashdot",
          "width": 2
         },
         "marker": {
          "symbol": "star"
         },
         "mode": "markers+lines",
         "name": "TREES-CORELS",
         "showlegend": false,
         "type": "scatter",
         "x": [
          "orange_churn",
          "fraud_oracle",
          "taiwan_credit",
          "german_credit",
          "orange_up",
          "bike_75",
          "bank_marketing",
          "compas",
          "heloc",
          "telco_churn_2",
          "adult",
          "fraud_detection",
          "telco_churn",
          "house",
          "boston",
          "electricity",
          "bike_mean"
         ],
         "xaxis": "x2",
         "y": [
          1,
          1,
          3,
          3,
          3,
          1,
          2,
          3,
          2,
          3,
          3,
          1,
          3,
          2,
          2,
          2,
          3
         ],
         "yaxis": "y2"
        },
        {
         "line": {
          "color": "silver",
          "dash": "dot",
          "width": 2
         },
         "marker": {
          "symbol": "square"
         },
         "mode": "markers+lines",
         "name": "NATIVE-R2N",
         "showlegend": false,
         "type": "scatter",
         "x": [
          "orange_churn",
          "fraud_oracle",
          "taiwan_credit",
          "german_credit",
          "orange_up",
          "bike_75",
          "bank_marketing",
          "compas",
          "heloc",
          "telco_churn_2",
          "adult",
          "fraud_detection",
          "telco_churn",
          "house",
          "boston",
          "electricity",
          "bike_mean"
         ],
         "xaxis": "x2",
         "y": [
          null,
          1,
          3,
          4,
          null,
          1,
          3,
          3,
          4,
          5,
          3,
          1,
          3,
          4,
          5,
          4,
          3
         ],
         "yaxis": "y2"
        },
        {
         "line": {
          "color": "gray",
          "dash": "solid",
          "width": 2
         },
         "marker": {
          "symbol": "circle"
         },
         "mode": "markers+lines",
         "name": "LENC-XGB",
         "showlegend": false,
         "type": "scatter",
         "x": [
          "orange_churn",
          "fraud_oracle",
          "taiwan_credit",
          "german_credit",
          "orange_up",
          "bike_75",
          "bank_marketing",
          "compas",
          "heloc",
          "telco_churn_2",
          "adult",
          "fraud_detection",
          "telco_churn",
          "house",
          "boston",
          "electricity",
          "bike_mean"
         ],
         "xaxis": "x",
         "y": [
          5.1,
          1.48,
          1.9300000000000002,
          1.05,
          5.07,
          1.1400000000000001,
          1.13,
          1.09,
          1.28,
          1.09,
          1.48,
          11.1,
          1.12,
          1.79,
          1.03,
          1.62,
          1.2
         ],
         "yaxis": "y"
        },
        {
         "line": {
          "color": "crimson",
          "dash": "longdash",
          "width": 2
         },
         "marker": {
          "symbol": "diamond"
         },
         "mode": "markers+lines",
         "name": "NATIVE-RIPPER",
         "showlegend": false,
         "type": "scatter",
         "x": [
          "orange_churn",
          "fraud_oracle",
          "taiwan_credit",
          "german_credit",
          "orange_up",
          "bike_75",
          "bank_marketing",
          "compas",
          "heloc",
          "telco_churn_2",
          "adult",
          "fraud_detection",
          "telco_churn",
          "house",
          "boston",
          "electricity",
          "bike_mean"
         ],
         "xaxis": "x",
         "y": [
          4.220000000000001,
          1.12,
          7.55,
          1.05,
          25.94,
          1.42,
          1.11,
          1.01,
          1.96,
          1.09,
          9.98,
          1128.56,
          1.17,
          19.06,
          1.04,
          20.9,
          1.94
         ],
         "yaxis": "y"
        },
        {
         "line": {
          "color": "mediumblue",
          "dash": "dot",
          "width": 2
         },
         "marker": {
          "symbol": "arrow-right"
         },
         "mode": "markers+lines",
         "name": "LENC-CART:4",
         "showlegend": false,
         "type": "scatter",
         "x": [
          "orange_churn",
          "fraud_oracle",
          "taiwan_credit",
          "german_credit",
          "orange_up",
          "bike_75",
          "bank_marketing",
          "compas",
          "heloc",
          "telco_churn_2",
          "adult",
          "fraud_detection",
          "telco_churn",
          "house",
          "boston",
          "electricity",
          "bike_mean"
         ],
         "xaxis": "x",
         "y": [
          1.73,
          1.08,
          1.1,
          1.01,
          1.74,
          1.01,
          1.01,
          1.01,
          1.02,
          1,
          1.04,
          3.24,
          1.01,
          1.06,
          1,
          1.04,
          1.01
         ],
         "yaxis": "y"
        },
        {
         "line": {
          "color": "lime",
          "dash": "dash",
          "width": 2
         },
         "marker": {
          "symbol": "cross"
         },
         "mode": "markers+lines",
         "name": "TREES-BRCG",
         "showlegend": false,
         "type": "scatter",
         "x": [
          "orange_churn",
          "fraud_oracle",
          "taiwan_credit",
          "german_credit",
          "orange_up",
          "bike_75",
          "bank_marketing",
          "compas",
          "heloc",
          "telco_churn_2",
          "adult",
          "fraud_detection",
          "telco_churn",
          "house",
          "boston",
          "electricity",
          "bike_mean"
         ],
         "xaxis": "x",
         "y": [
          101.76,
          1.53,
          2.49,
          3.15,
          104.14,
          1.12,
          1.8,
          2.2,
          2.96,
          2.7800000000000002,
          3.51,
          3.72,
          1.73,
          4.49,
          2.1399999999999997,
          6.11,
          3.31
         ],
         "yaxis": "y"
        },
        {
         "line": {
          "color": "gold",
          "dash": "dashdot",
          "width": 2
         },
         "marker": {
          "symbol": "star"
         },
         "mode": "markers+lines",
         "name": "TREES-CORELS",
         "showlegend": false,
         "type": "scatter",
         "x": [
          "orange_churn",
          "fraud_oracle",
          "taiwan_credit",
          "german_credit",
          "orange_up",
          "bike_75",
          "bank_marketing",
          "compas",
          "heloc",
          "telco_churn_2",
          "adult",
          "fraud_detection",
          "telco_churn",
          "house",
          "boston",
          "electricity",
          "bike_mean"
         ],
         "xaxis": "x",
         "y": [
          102.9,
          1.19,
          3.7,
          1.04,
          104.28,
          1.07,
          1.08,
          1.09,
          1.12,
          1.04,
          1.41,
          6.1,
          1.06,
          1.26,
          1.02,
          1.54,
          1.13
         ],
         "yaxis": "y"
        },
        {
         "line": {
          "color": "silver",
          "dash": "dot",
          "width": 2
         },
         "marker": {
          "symbol": "square"
         },
         "mode": "markers+lines",
         "name": "NATIVE-R2N",
         "showlegend": false,
         "type": "scatter",
         "x": [
          "orange_churn",
          "fraud_oracle",
          "taiwan_credit",
          "german_credit",
          "orange_up",
          "bike_75",
          "bank_marketing",
          "compas",
          "heloc",
          "telco_churn_2",
          "adult",
          "fraud_detection",
          "telco_churn",
          "house",
          "boston",
          "electricity",
          "bike_mean"
         ],
         "xaxis": "x",
         "y": [
          null,
          76.28,
          144.79,
          5.66,
          null,
          58.58,
          19.32,
          26.65,
          45.47,
          9.88,
          153.52,
          1230.67,
          16.369999999999997,
          96.81,
          3.45,
          187.68,
          67.01
         ],
         "yaxis": "y"
        }
       ],
       "layout": {
        "height": 600,
        "plot_bgcolor": "whitesmoke",
        "template": {
         "data": {
          "bar": [
           {
            "error_x": {
             "color": "#2a3f5f"
            },
            "error_y": {
             "color": "#2a3f5f"
            },
            "marker": {
             "line": {
              "color": "#E5ECF6",
              "width": 0.5
             },
             "pattern": {
              "fillmode": "overlay",
              "size": 10,
              "solidity": 0.2
             }
            },
            "type": "bar"
           }
          ],
          "barpolar": [
           {
            "marker": {
             "line": {
              "color": "#E5ECF6",
              "width": 0.5
             },
             "pattern": {
              "fillmode": "overlay",
              "size": 10,
              "solidity": 0.2
             }
            },
            "type": "barpolar"
           }
          ],
          "carpet": [
           {
            "aaxis": {
             "endlinecolor": "#2a3f5f",
             "gridcolor": "white",
             "linecolor": "white",
             "minorgridcolor": "white",
             "startlinecolor": "#2a3f5f"
            },
            "baxis": {
             "endlinecolor": "#2a3f5f",
             "gridcolor": "white",
             "linecolor": "white",
             "minorgridcolor": "white",
             "startlinecolor": "#2a3f5f"
            },
            "type": "carpet"
           }
          ],
          "choropleth": [
           {
            "colorbar": {
             "outlinewidth": 0,
             "ticks": ""
            },
            "type": "choropleth"
           }
          ],
          "contour": [
           {
            "colorbar": {
             "outlinewidth": 0,
             "ticks": ""
            },
            "colorscale": [
             [
              0,
              "#0d0887"
             ],
             [
              0.1111111111111111,
              "#46039f"
             ],
             [
              0.2222222222222222,
              "#7201a8"
             ],
             [
              0.3333333333333333,
              "#9c179e"
             ],
             [
              0.4444444444444444,
              "#bd3786"
             ],
             [
              0.5555555555555556,
              "#d8576b"
             ],
             [
              0.6666666666666666,
              "#ed7953"
             ],
             [
              0.7777777777777778,
              "#fb9f3a"
             ],
             [
              0.8888888888888888,
              "#fdca26"
             ],
             [
              1,
              "#f0f921"
             ]
            ],
            "type": "contour"
           }
          ],
          "contourcarpet": [
           {
            "colorbar": {
             "outlinewidth": 0,
             "ticks": ""
            },
            "type": "contourcarpet"
           }
          ],
          "heatmap": [
           {
            "colorbar": {
             "outlinewidth": 0,
             "ticks": ""
            },
            "colorscale": [
             [
              0,
              "#0d0887"
             ],
             [
              0.1111111111111111,
              "#46039f"
             ],
             [
              0.2222222222222222,
              "#7201a8"
             ],
             [
              0.3333333333333333,
              "#9c179e"
             ],
             [
              0.4444444444444444,
              "#bd3786"
             ],
             [
              0.5555555555555556,
              "#d8576b"
             ],
             [
              0.6666666666666666,
              "#ed7953"
             ],
             [
              0.7777777777777778,
              "#fb9f3a"
             ],
             [
              0.8888888888888888,
              "#fdca26"
             ],
             [
              1,
              "#f0f921"
             ]
            ],
            "type": "heatmap"
           }
          ],
          "heatmapgl": [
           {
            "colorbar": {
             "outlinewidth": 0,
             "ticks": ""
            },
            "colorscale": [
             [
              0,
              "#0d0887"
             ],
             [
              0.1111111111111111,
              "#46039f"
             ],
             [
              0.2222222222222222,
              "#7201a8"
             ],
             [
              0.3333333333333333,
              "#9c179e"
             ],
             [
              0.4444444444444444,
              "#bd3786"
             ],
             [
              0.5555555555555556,
              "#d8576b"
             ],
             [
              0.6666666666666666,
              "#ed7953"
             ],
             [
              0.7777777777777778,
              "#fb9f3a"
             ],
             [
              0.8888888888888888,
              "#fdca26"
             ],
             [
              1,
              "#f0f921"
             ]
            ],
            "type": "heatmapgl"
           }
          ],
          "histogram": [
           {
            "marker": {
             "pattern": {
              "fillmode": "overlay",
              "size": 10,
              "solidity": 0.2
             }
            },
            "type": "histogram"
           }
          ],
          "histogram2d": [
           {
            "colorbar": {
             "outlinewidth": 0,
             "ticks": ""
            },
            "colorscale": [
             [
              0,
              "#0d0887"
             ],
             [
              0.1111111111111111,
              "#46039f"
             ],
             [
              0.2222222222222222,
              "#7201a8"
             ],
             [
              0.3333333333333333,
              "#9c179e"
             ],
             [
              0.4444444444444444,
              "#bd3786"
             ],
             [
              0.5555555555555556,
              "#d8576b"
             ],
             [
              0.6666666666666666,
              "#ed7953"
             ],
             [
              0.7777777777777778,
              "#fb9f3a"
             ],
             [
              0.8888888888888888,
              "#fdca26"
             ],
             [
              1,
              "#f0f921"
             ]
            ],
            "type": "histogram2d"
           }
          ],
          "histogram2dcontour": [
           {
            "colorbar": {
             "outlinewidth": 0,
             "ticks": ""
            },
            "colorscale": [
             [
              0,
              "#0d0887"
             ],
             [
              0.1111111111111111,
              "#46039f"
             ],
             [
              0.2222222222222222,
              "#7201a8"
             ],
             [
              0.3333333333333333,
              "#9c179e"
             ],
             [
              0.4444444444444444,
              "#bd3786"
             ],
             [
              0.5555555555555556,
              "#d8576b"
             ],
             [
              0.6666666666666666,
              "#ed7953"
             ],
             [
              0.7777777777777778,
              "#fb9f3a"
             ],
             [
              0.8888888888888888,
              "#fdca26"
             ],
             [
              1,
              "#f0f921"
             ]
            ],
            "type": "histogram2dcontour"
           }
          ],
          "mesh3d": [
           {
            "colorbar": {
             "outlinewidth": 0,
             "ticks": ""
            },
            "type": "mesh3d"
           }
          ],
          "parcoords": [
           {
            "line": {
             "colorbar": {
              "outlinewidth": 0,
              "ticks": ""
             }
            },
            "type": "parcoords"
           }
          ],
          "pie": [
           {
            "automargin": true,
            "type": "pie"
           }
          ],
          "scatter": [
           {
            "fillpattern": {
             "fillmode": "overlay",
             "size": 10,
             "solidity": 0.2
            },
            "type": "scatter"
           }
          ],
          "scatter3d": [
           {
            "line": {
             "colorbar": {
              "outlinewidth": 0,
              "ticks": ""
             }
            },
            "marker": {
             "colorbar": {
              "outlinewidth": 0,
              "ticks": ""
             }
            },
            "type": "scatter3d"
           }
          ],
          "scattercarpet": [
           {
            "marker": {
             "colorbar": {
              "outlinewidth": 0,
              "ticks": ""
             }
            },
            "type": "scattercarpet"
           }
          ],
          "scattergeo": [
           {
            "marker": {
             "colorbar": {
              "outlinewidth": 0,
              "ticks": ""
             }
            },
            "type": "scattergeo"
           }
          ],
          "scattergl": [
           {
            "marker": {
             "colorbar": {
              "outlinewidth": 0,
              "ticks": ""
             }
            },
            "type": "scattergl"
           }
          ],
          "scattermapbox": [
           {
            "marker": {
             "colorbar": {
              "outlinewidth": 0,
              "ticks": ""
             }
            },
            "type": "scattermapbox"
           }
          ],
          "scatterpolar": [
           {
            "marker": {
             "colorbar": {
              "outlinewidth": 0,
              "ticks": ""
             }
            },
            "type": "scatterpolar"
           }
          ],
          "scatterpolargl": [
           {
            "marker": {
             "colorbar": {
              "outlinewidth": 0,
              "ticks": ""
             }
            },
            "type": "scatterpolargl"
           }
          ],
          "scatterternary": [
           {
            "marker": {
             "colorbar": {
              "outlinewidth": 0,
              "ticks": ""
             }
            },
            "type": "scatterternary"
           }
          ],
          "surface": [
           {
            "colorbar": {
             "outlinewidth": 0,
             "ticks": ""
            },
            "colorscale": [
             [
              0,
              "#0d0887"
             ],
             [
              0.1111111111111111,
              "#46039f"
             ],
             [
              0.2222222222222222,
              "#7201a8"
             ],
             [
              0.3333333333333333,
              "#9c179e"
             ],
             [
              0.4444444444444444,
              "#bd3786"
             ],
             [
              0.5555555555555556,
              "#d8576b"
             ],
             [
              0.6666666666666666,
              "#ed7953"
             ],
             [
              0.7777777777777778,
              "#fb9f3a"
             ],
             [
              0.8888888888888888,
              "#fdca26"
             ],
             [
              1,
              "#f0f921"
             ]
            ],
            "type": "surface"
           }
          ],
          "table": [
           {
            "cells": {
             "fill": {
              "color": "#EBF0F8"
             },
             "line": {
              "color": "white"
             }
            },
            "header": {
             "fill": {
              "color": "#C8D4E3"
             },
             "line": {
              "color": "white"
             }
            },
            "type": "table"
           }
          ]
         },
         "layout": {
          "annotationdefaults": {
           "arrowcolor": "#2a3f5f",
           "arrowhead": 0,
           "arrowwidth": 1
          },
          "autotypenumbers": "strict",
          "coloraxis": {
           "colorbar": {
            "outlinewidth": 0,
            "ticks": ""
           }
          },
          "colorscale": {
           "diverging": [
            [
             0,
             "#8e0152"
            ],
            [
             0.1,
             "#c51b7d"
            ],
            [
             0.2,
             "#de77ae"
            ],
            [
             0.3,
             "#f1b6da"
            ],
            [
             0.4,
             "#fde0ef"
            ],
            [
             0.5,
             "#f7f7f7"
            ],
            [
             0.6,
             "#e6f5d0"
            ],
            [
             0.7,
             "#b8e186"
            ],
            [
             0.8,
             "#7fbc41"
            ],
            [
             0.9,
             "#4d9221"
            ],
            [
             1,
             "#276419"
            ]
           ],
           "sequential": [
            [
             0,
             "#0d0887"
            ],
            [
             0.1111111111111111,
             "#46039f"
            ],
            [
             0.2222222222222222,
             "#7201a8"
            ],
            [
             0.3333333333333333,
             "#9c179e"
            ],
            [
             0.4444444444444444,
             "#bd3786"
            ],
            [
             0.5555555555555556,
             "#d8576b"
            ],
            [
             0.6666666666666666,
             "#ed7953"
            ],
            [
             0.7777777777777778,
             "#fb9f3a"
            ],
            [
             0.8888888888888888,
             "#fdca26"
            ],
            [
             1,
             "#f0f921"
            ]
           ],
           "sequentialminus": [
            [
             0,
             "#0d0887"
            ],
            [
             0.1111111111111111,
             "#46039f"
            ],
            [
             0.2222222222222222,
             "#7201a8"
            ],
            [
             0.3333333333333333,
             "#9c179e"
            ],
            [
             0.4444444444444444,
             "#bd3786"
            ],
            [
             0.5555555555555556,
             "#d8576b"
            ],
            [
             0.6666666666666666,
             "#ed7953"
            ],
            [
             0.7777777777777778,
             "#fb9f3a"
            ],
            [
             0.8888888888888888,
             "#fdca26"
            ],
            [
             1,
             "#f0f921"
            ]
           ]
          },
          "colorway": [
           "#636efa",
           "#EF553B",
           "#00cc96",
           "#ab63fa",
           "#FFA15A",
           "#19d3f3",
           "#FF6692",
           "#B6E880",
           "#FF97FF",
           "#FECB52"
          ],
          "font": {
           "color": "#2a3f5f"
          },
          "geo": {
           "bgcolor": "white",
           "lakecolor": "white",
           "landcolor": "#E5ECF6",
           "showlakes": true,
           "showland": true,
           "subunitcolor": "white"
          },
          "hoverlabel": {
           "align": "left"
          },
          "hovermode": "closest",
          "mapbox": {
           "style": "light"
          },
          "paper_bgcolor": "white",
          "plot_bgcolor": "#E5ECF6",
          "polar": {
           "angularaxis": {
            "gridcolor": "white",
            "linecolor": "white",
            "ticks": ""
           },
           "bgcolor": "#E5ECF6",
           "radialaxis": {
            "gridcolor": "white",
            "linecolor": "white",
            "ticks": ""
           }
          },
          "scene": {
           "xaxis": {
            "backgroundcolor": "#E5ECF6",
            "gridcolor": "white",
            "gridwidth": 2,
            "linecolor": "white",
            "showbackground": true,
            "ticks": "",
            "zerolinecolor": "white"
           },
           "yaxis": {
            "backgroundcolor": "#E5ECF6",
            "gridcolor": "white",
            "gridwidth": 2,
            "linecolor": "white",
            "showbackground": true,
            "ticks": "",
            "zerolinecolor": "white"
           },
           "zaxis": {
            "backgroundcolor": "#E5ECF6",
            "gridcolor": "white",
            "gridwidth": 2,
            "linecolor": "white",
            "showbackground": true,
            "ticks": "",
            "zerolinecolor": "white"
           }
          },
          "shapedefaults": {
           "line": {
            "color": "#2a3f5f"
           }
          },
          "ternary": {
           "aaxis": {
            "gridcolor": "white",
            "linecolor": "white",
            "ticks": ""
           },
           "baxis": {
            "gridcolor": "white",
            "linecolor": "white",
            "ticks": ""
           },
           "bgcolor": "#E5ECF6",
           "caxis": {
            "gridcolor": "white",
            "linecolor": "white",
            "ticks": ""
           }
          },
          "title": {
           "x": 0.05
          },
          "xaxis": {
           "automargin": true,
           "gridcolor": "white",
           "linecolor": "white",
           "ticks": "",
           "title": {
            "standoff": 15
           },
           "zerolinecolor": "white",
           "zerolinewidth": 2
          },
          "yaxis": {
           "automargin": true,
           "gridcolor": "white",
           "linecolor": "white",
           "ticks": "",
           "title": {
            "standoff": 15
           },
           "zerolinecolor": "white",
           "zerolinewidth": 2
          }
         }
        },
        "title": {
         "text": "f2-score, number of rules and training time on core suite"
        },
        "width": 1000,
        "xaxis": {
         "anchor": "y",
         "domain": [
          0,
          1
         ],
         "matches": "x3",
         "showticklabels": false
        },
        "xaxis2": {
         "anchor": "y2",
         "domain": [
          0,
          1
         ],
         "matches": "x3",
         "showticklabels": false
        },
        "xaxis3": {
         "anchor": "y3",
         "domain": [
          0,
          1
         ]
        },
        "yaxis": {
         "anchor": "x",
         "domain": [
          0.68,
          1
         ],
         "title": {
          "text": "time (secs)"
         },
         "type": "log"
        },
        "yaxis2": {
         "anchor": "x2",
         "domain": [
          0.34,
          0.66
         ],
         "title": {
          "text": "number of rules"
         },
         "type": "log"
        },
        "yaxis3": {
         "anchor": "x3",
         "domain": [
          0,
          0.32
         ],
         "title": {
          "text": "f2-score"
         }
        }
       }
      }
     },
     "metadata": {},
     "output_type": "display_data"
    }
   ],
   "source": [
    "perf_metric = 'f2'\n",
    "sorted_df = df_core_suite.sort_values('LENC-XGB_'+perf_metric, ignore_index=True)\n",
    "triple_chart(pipelines=DEFAULT_RI_PIPELINES, performance_metric=perf_metric, complexity_metric='nof_rules', df=sorted_df, df_long_name='core suite')"
   ]
  },
  {
   "cell_type": "code",
   "execution_count": 1054,
   "metadata": {},
   "outputs": [
    {
     "data": {
      "application/vnd.plotly.v1+json": {
       "config": {
        "plotlyServerURL": "https://plot.ly"
       },
       "data": [
        {
         "line": {
          "color": "gray",
          "dash": "solid",
          "width": 2
         },
         "marker": {
          "symbol": "circle"
         },
         "mode": "markers+lines",
         "name": "LENC-XGB",
         "showlegend": true,
         "type": "scatter",
         "x": [
          "orange_churn",
          "german_credit",
          "fraud_oracle",
          "taiwan_credit",
          "compas",
          "orange_up",
          "heloc",
          "bank_marketing",
          "telco_churn_2",
          "bike_75",
          "adult",
          "house",
          "telco_churn",
          "fraud_detection",
          "boston",
          "electricity",
          "bike_mean"
         ],
         "xaxis": "x3",
         "y": [
          0.03,
          0.26,
          0.31,
          0.31,
          0.33,
          0.41,
          0.41,
          0.43,
          0.45,
          0.46,
          0.61,
          0.74,
          0.76,
          0.76,
          0.78,
          0.81,
          0.86
         ],
         "yaxis": "y3"
        },
        {
         "line": {
          "color": "darkkhaki",
          "dash": "solid",
          "width": 2
         },
         "marker": {
          "symbol": "cross"
         },
         "mode": "markers+lines",
         "name": "NATIVE-CONST",
         "showlegend": true,
         "type": "scatter",
         "x": [
          "orange_churn",
          "german_credit",
          "fraud_oracle",
          "taiwan_credit",
          "compas",
          "orange_up",
          "heloc",
          "bank_marketing",
          "telco_churn_2",
          "bike_75",
          "adult",
          "house",
          "telco_churn",
          "fraud_detection",
          "boston",
          "electricity",
          "bike_mean"
         ],
         "xaxis": "x3",
         "y": [
          0,
          0,
          0,
          0,
          0,
          0,
          0,
          0,
          0,
          0,
          0,
          0,
          0,
          0,
          0,
          0,
          0
         ],
         "yaxis": "y3"
        },
        {
         "line": {
          "color": "crimson",
          "dash": "longdash",
          "width": 2
         },
         "marker": {
          "symbol": "diamond"
         },
         "mode": "markers+lines",
         "name": "NATIVE-RIPPER",
         "showlegend": true,
         "type": "scatter",
         "x": [
          "orange_churn",
          "german_credit",
          "fraud_oracle",
          "taiwan_credit",
          "compas",
          "orange_up",
          "heloc",
          "bank_marketing",
          "telco_churn_2",
          "bike_75",
          "adult",
          "house",
          "telco_churn",
          "fraud_detection",
          "boston",
          "electricity",
          "bike_mean"
         ],
         "xaxis": "x3",
         "y": [
          0,
          0.12,
          0,
          0.28,
          0,
          0.4,
          0.42,
          0.35,
          0.37,
          0.6,
          0.5,
          0.66,
          0.76,
          0.7,
          0.73,
          0.67,
          0.81
         ],
         "yaxis": "y3"
        },
        {
         "line": {
          "color": "mediumblue",
          "dash": "dot",
          "width": 2
         },
         "marker": {
          "symbol": "arrow-right"
         },
         "mode": "markers+lines",
         "name": "LENC-CART:4",
         "showlegend": true,
         "type": "scatter",
         "x": [
          "orange_churn",
          "german_credit",
          "fraud_oracle",
          "taiwan_credit",
          "compas",
          "orange_up",
          "heloc",
          "bank_marketing",
          "telco_churn_2",
          "bike_75",
          "adult",
          "house",
          "telco_churn",
          "fraud_detection",
          "boston",
          "electricity",
          "bike_mean"
         ],
         "xaxis": "x3",
         "y": [
          0.02,
          0.36,
          0.03,
          0.26,
          0.32,
          0.42,
          0.42,
          0.35,
          0.42,
          0.6,
          0.26,
          0.57,
          0.52,
          0.73,
          0.69,
          0.47,
          0.79
         ],
         "yaxis": "y3"
        },
        {
         "line": {
          "color": "lime",
          "dash": "dash",
          "width": 2
         },
         "marker": {
          "symbol": "cross"
         },
         "mode": "markers+lines",
         "name": "TREES-BRCG",
         "showlegend": true,
         "type": "scatter",
         "x": [
          "orange_churn",
          "german_credit",
          "fraud_oracle",
          "taiwan_credit",
          "compas",
          "orange_up",
          "heloc",
          "bank_marketing",
          "telco_churn_2",
          "bike_75",
          "adult",
          "house",
          "telco_churn",
          "fraud_detection",
          "boston",
          "electricity",
          "bike_mean"
         ],
         "xaxis": "x3",
         "y": [
          0,
          0.16,
          0,
          0.26,
          0.33,
          0.42,
          0.41,
          0.31,
          0.42,
          0,
          0.4,
          0.56,
          0.5,
          0,
          0.71,
          0.51,
          0.8
         ],
         "yaxis": "y3"
        },
        {
         "line": {
          "color": "gold",
          "dash": "dashdot",
          "width": 2
         },
         "marker": {
          "symbol": "star"
         },
         "mode": "markers+lines",
         "name": "TREES-CORELS",
         "showlegend": true,
         "type": "scatter",
         "x": [
          "orange_churn",
          "german_credit",
          "fraud_oracle",
          "taiwan_credit",
          "compas",
          "orange_up",
          "heloc",
          "bank_marketing",
          "telco_churn_2",
          "bike_75",
          "adult",
          "house",
          "telco_churn",
          "fraud_detection",
          "boston",
          "electricity",
          "bike_mean"
         ],
         "xaxis": "x3",
         "y": [
          0,
          0.07,
          0,
          0.26,
          0.28,
          0.42,
          0.41,
          0.31,
          0.42,
          0,
          0.26,
          0.44,
          0.33,
          0,
          0.75,
          0.47,
          0.69
         ],
         "yaxis": "y3"
        },
        {
         "line": {
          "color": "silver",
          "dash": "dot",
          "width": 2
         },
         "marker": {
          "symbol": "square"
         },
         "mode": "markers+lines",
         "name": "NATIVE-R2N",
         "showlegend": true,
         "type": "scatter",
         "x": [
          "orange_churn",
          "german_credit",
          "fraud_oracle",
          "taiwan_credit",
          "compas",
          "orange_up",
          "heloc",
          "bank_marketing",
          "telco_churn_2",
          "bike_75",
          "adult",
          "house",
          "telco_churn",
          "fraud_detection",
          "boston",
          "electricity",
          "bike_mean"
         ],
         "xaxis": "x3",
         "y": [
          null,
          0,
          0,
          0.26,
          0.28,
          null,
          0.02,
          0.27,
          0.25,
          0,
          0.52,
          0.45,
          0.41,
          0,
          0.75,
          0.42,
          0.43
         ],
         "yaxis": "y3"
        },
        {
         "line": {
          "color": "crimson",
          "dash": "longdash",
          "width": 2
         },
         "marker": {
          "symbol": "diamond"
         },
         "mode": "markers+lines",
         "name": "NATIVE-RIPPER",
         "showlegend": false,
         "type": "scatter",
         "x": [
          "orange_churn",
          "german_credit",
          "fraud_oracle",
          "taiwan_credit",
          "compas",
          "orange_up",
          "heloc",
          "bank_marketing",
          "telco_churn_2",
          "bike_75",
          "adult",
          "house",
          "telco_churn",
          "fraud_detection",
          "boston",
          "electricity",
          "bike_mean"
         ],
         "xaxis": "x2",
         "y": [
          1,
          3,
          1,
          12,
          1,
          9,
          17,
          7,
          8,
          10,
          39,
          38,
          10,
          7,
          10,
          61,
          19
         ],
         "yaxis": "y2"
        },
        {
         "line": {
          "color": "mediumblue",
          "dash": "dot",
          "width": 2
         },
         "marker": {
          "symbol": "arrow-right"
         },
         "mode": "markers+lines",
         "name": "LENC-CART:4",
         "showlegend": false,
         "type": "scatter",
         "x": [
          "orange_churn",
          "german_credit",
          "fraud_oracle",
          "taiwan_credit",
          "compas",
          "orange_up",
          "heloc",
          "bank_marketing",
          "telco_churn_2",
          "bike_75",
          "adult",
          "house",
          "telco_churn",
          "fraud_detection",
          "boston",
          "electricity",
          "bike_mean"
         ],
         "xaxis": "x2",
         "y": [
          6,
          8,
          5,
          4,
          11,
          4,
          10,
          7,
          11,
          2,
          8,
          9,
          8,
          7,
          8,
          8,
          4
         ],
         "yaxis": "y2"
        },
        {
         "line": {
          "color": "lime",
          "dash": "dash",
          "width": 2
         },
         "marker": {
          "symbol": "cross"
         },
         "mode": "markers+lines",
         "name": "TREES-BRCG",
         "showlegend": false,
         "type": "scatter",
         "x": [
          "orange_churn",
          "german_credit",
          "fraud_oracle",
          "taiwan_credit",
          "compas",
          "orange_up",
          "heloc",
          "bank_marketing",
          "telco_churn_2",
          "bike_75",
          "adult",
          "house",
          "telco_churn",
          "fraud_detection",
          "boston",
          "electricity",
          "bike_mean"
         ],
         "xaxis": "x2",
         "y": [
          1,
          4,
          1,
          3,
          4,
          2,
          2,
          4,
          4,
          1,
          4,
          5,
          4,
          1,
          6,
          3,
          4
         ],
         "yaxis": "y2"
        },
        {
         "line": {
          "color": "gold",
          "dash": "dashdot",
          "width": 2
         },
         "marker": {
          "symbol": "star"
         },
         "mode": "markers+lines",
         "name": "TREES-CORELS",
         "showlegend": false,
         "type": "scatter",
         "x": [
          "orange_churn",
          "german_credit",
          "fraud_oracle",
          "taiwan_credit",
          "compas",
          "orange_up",
          "heloc",
          "bank_marketing",
          "telco_churn_2",
          "bike_75",
          "adult",
          "house",
          "telco_churn",
          "fraud_detection",
          "boston",
          "electricity",
          "bike_mean"
         ],
         "xaxis": "x2",
         "y": [
          1,
          3,
          1,
          3,
          3,
          3,
          2,
          2,
          3,
          1,
          3,
          2,
          3,
          1,
          2,
          2,
          3
         ],
         "yaxis": "y2"
        },
        {
         "line": {
          "color": "silver",
          "dash": "dot",
          "width": 2
         },
         "marker": {
          "symbol": "square"
         },
         "mode": "markers+lines",
         "name": "NATIVE-R2N",
         "showlegend": false,
         "type": "scatter",
         "x": [
          "orange_churn",
          "german_credit",
          "fraud_oracle",
          "taiwan_credit",
          "compas",
          "orange_up",
          "heloc",
          "bank_marketing",
          "telco_churn_2",
          "bike_75",
          "adult",
          "house",
          "telco_churn",
          "fraud_detection",
          "boston",
          "electricity",
          "bike_mean"
         ],
         "xaxis": "x2",
         "y": [
          null,
          4,
          1,
          3,
          3,
          null,
          4,
          3,
          5,
          1,
          3,
          4,
          3,
          1,
          5,
          4,
          3
         ],
         "yaxis": "y2"
        },
        {
         "line": {
          "color": "gray",
          "dash": "solid",
          "width": 2
         },
         "marker": {
          "symbol": "circle"
         },
         "mode": "markers+lines",
         "name": "LENC-XGB",
         "showlegend": false,
         "type": "scatter",
         "x": [
          "orange_churn",
          "german_credit",
          "fraud_oracle",
          "taiwan_credit",
          "compas",
          "orange_up",
          "heloc",
          "bank_marketing",
          "telco_churn_2",
          "bike_75",
          "adult",
          "house",
          "telco_churn",
          "fraud_detection",
          "boston",
          "electricity",
          "bike_mean"
         ],
         "xaxis": "x",
         "y": [
          5.1,
          1.05,
          1.48,
          1.9300000000000002,
          1.09,
          5.07,
          1.28,
          1.13,
          1.09,
          1.1400000000000001,
          1.48,
          1.79,
          1.12,
          11.1,
          1.03,
          1.62,
          1.2
         ],
         "yaxis": "y"
        },
        {
         "line": {
          "color": "crimson",
          "dash": "longdash",
          "width": 2
         },
         "marker": {
          "symbol": "diamond"
         },
         "mode": "markers+lines",
         "name": "NATIVE-RIPPER",
         "showlegend": false,
         "type": "scatter",
         "x": [
          "orange_churn",
          "german_credit",
          "fraud_oracle",
          "taiwan_credit",
          "compas",
          "orange_up",
          "heloc",
          "bank_marketing",
          "telco_churn_2",
          "bike_75",
          "adult",
          "house",
          "telco_churn",
          "fraud_detection",
          "boston",
          "electricity",
          "bike_mean"
         ],
         "xaxis": "x",
         "y": [
          4.220000000000001,
          1.05,
          1.12,
          7.55,
          1.01,
          25.94,
          1.96,
          1.11,
          1.09,
          1.42,
          9.98,
          19.06,
          1.17,
          1128.56,
          1.04,
          20.9,
          1.94
         ],
         "yaxis": "y"
        },
        {
         "line": {
          "color": "mediumblue",
          "dash": "dot",
          "width": 2
         },
         "marker": {
          "symbol": "arrow-right"
         },
         "mode": "markers+lines",
         "name": "LENC-CART:4",
         "showlegend": false,
         "type": "scatter",
         "x": [
          "orange_churn",
          "german_credit",
          "fraud_oracle",
          "taiwan_credit",
          "compas",
          "orange_up",
          "heloc",
          "bank_marketing",
          "telco_churn_2",
          "bike_75",
          "adult",
          "house",
          "telco_churn",
          "fraud_detection",
          "boston",
          "electricity",
          "bike_mean"
         ],
         "xaxis": "x",
         "y": [
          1.73,
          1.01,
          1.08,
          1.1,
          1.01,
          1.74,
          1.02,
          1.01,
          1,
          1.01,
          1.04,
          1.06,
          1.01,
          3.24,
          1,
          1.04,
          1.01
         ],
         "yaxis": "y"
        },
        {
         "line": {
          "color": "lime",
          "dash": "dash",
          "width": 2
         },
         "marker": {
          "symbol": "cross"
         },
         "mode": "markers+lines",
         "name": "TREES-BRCG",
         "showlegend": false,
         "type": "scatter",
         "x": [
          "orange_churn",
          "german_credit",
          "fraud_oracle",
          "taiwan_credit",
          "compas",
          "orange_up",
          "heloc",
          "bank_marketing",
          "telco_churn_2",
          "bike_75",
          "adult",
          "house",
          "telco_churn",
          "fraud_detection",
          "boston",
          "electricity",
          "bike_mean"
         ],
         "xaxis": "x",
         "y": [
          101.76,
          3.15,
          1.53,
          2.49,
          2.2,
          104.14,
          2.96,
          1.8,
          2.7800000000000002,
          1.12,
          3.51,
          4.49,
          1.73,
          3.72,
          2.1399999999999997,
          6.11,
          3.31
         ],
         "yaxis": "y"
        },
        {
         "line": {
          "color": "gold",
          "dash": "dashdot",
          "width": 2
         },
         "marker": {
          "symbol": "star"
         },
         "mode": "markers+lines",
         "name": "TREES-CORELS",
         "showlegend": false,
         "type": "scatter",
         "x": [
          "orange_churn",
          "german_credit",
          "fraud_oracle",
          "taiwan_credit",
          "compas",
          "orange_up",
          "heloc",
          "bank_marketing",
          "telco_churn_2",
          "bike_75",
          "adult",
          "house",
          "telco_churn",
          "fraud_detection",
          "boston",
          "electricity",
          "bike_mean"
         ],
         "xaxis": "x",
         "y": [
          102.9,
          1.04,
          1.19,
          3.7,
          1.09,
          104.28,
          1.12,
          1.08,
          1.04,
          1.07,
          1.41,
          1.26,
          1.06,
          6.1,
          1.02,
          1.54,
          1.13
         ],
         "yaxis": "y"
        },
        {
         "line": {
          "color": "silver",
          "dash": "dot",
          "width": 2
         },
         "marker": {
          "symbol": "square"
         },
         "mode": "markers+lines",
         "name": "NATIVE-R2N",
         "showlegend": false,
         "type": "scatter",
         "x": [
          "orange_churn",
          "german_credit",
          "fraud_oracle",
          "taiwan_credit",
          "compas",
          "orange_up",
          "heloc",
          "bank_marketing",
          "telco_churn_2",
          "bike_75",
          "adult",
          "house",
          "telco_churn",
          "fraud_detection",
          "boston",
          "electricity",
          "bike_mean"
         ],
         "xaxis": "x",
         "y": [
          null,
          5.66,
          76.28,
          144.79,
          26.65,
          null,
          45.47,
          19.32,
          9.88,
          58.58,
          153.52,
          96.81,
          16.369999999999997,
          1230.67,
          3.45,
          187.68,
          67.01
         ],
         "yaxis": "y"
        }
       ],
       "layout": {
        "height": 600,
        "plot_bgcolor": "whitesmoke",
        "template": {
         "data": {
          "bar": [
           {
            "error_x": {
             "color": "#2a3f5f"
            },
            "error_y": {
             "color": "#2a3f5f"
            },
            "marker": {
             "line": {
              "color": "#E5ECF6",
              "width": 0.5
             },
             "pattern": {
              "fillmode": "overlay",
              "size": 10,
              "solidity": 0.2
             }
            },
            "type": "bar"
           }
          ],
          "barpolar": [
           {
            "marker": {
             "line": {
              "color": "#E5ECF6",
              "width": 0.5
             },
             "pattern": {
              "fillmode": "overlay",
              "size": 10,
              "solidity": 0.2
             }
            },
            "type": "barpolar"
           }
          ],
          "carpet": [
           {
            "aaxis": {
             "endlinecolor": "#2a3f5f",
             "gridcolor": "white",
             "linecolor": "white",
             "minorgridcolor": "white",
             "startlinecolor": "#2a3f5f"
            },
            "baxis": {
             "endlinecolor": "#2a3f5f",
             "gridcolor": "white",
             "linecolor": "white",
             "minorgridcolor": "white",
             "startlinecolor": "#2a3f5f"
            },
            "type": "carpet"
           }
          ],
          "choropleth": [
           {
            "colorbar": {
             "outlinewidth": 0,
             "ticks": ""
            },
            "type": "choropleth"
           }
          ],
          "contour": [
           {
            "colorbar": {
             "outlinewidth": 0,
             "ticks": ""
            },
            "colorscale": [
             [
              0,
              "#0d0887"
             ],
             [
              0.1111111111111111,
              "#46039f"
             ],
             [
              0.2222222222222222,
              "#7201a8"
             ],
             [
              0.3333333333333333,
              "#9c179e"
             ],
             [
              0.4444444444444444,
              "#bd3786"
             ],
             [
              0.5555555555555556,
              "#d8576b"
             ],
             [
              0.6666666666666666,
              "#ed7953"
             ],
             [
              0.7777777777777778,
              "#fb9f3a"
             ],
             [
              0.8888888888888888,
              "#fdca26"
             ],
             [
              1,
              "#f0f921"
             ]
            ],
            "type": "contour"
           }
          ],
          "contourcarpet": [
           {
            "colorbar": {
             "outlinewidth": 0,
             "ticks": ""
            },
            "type": "contourcarpet"
           }
          ],
          "heatmap": [
           {
            "colorbar": {
             "outlinewidth": 0,
             "ticks": ""
            },
            "colorscale": [
             [
              0,
              "#0d0887"
             ],
             [
              0.1111111111111111,
              "#46039f"
             ],
             [
              0.2222222222222222,
              "#7201a8"
             ],
             [
              0.3333333333333333,
              "#9c179e"
             ],
             [
              0.4444444444444444,
              "#bd3786"
             ],
             [
              0.5555555555555556,
              "#d8576b"
             ],
             [
              0.6666666666666666,
              "#ed7953"
             ],
             [
              0.7777777777777778,
              "#fb9f3a"
             ],
             [
              0.8888888888888888,
              "#fdca26"
             ],
             [
              1,
              "#f0f921"
             ]
            ],
            "type": "heatmap"
           }
          ],
          "heatmapgl": [
           {
            "colorbar": {
             "outlinewidth": 0,
             "ticks": ""
            },
            "colorscale": [
             [
              0,
              "#0d0887"
             ],
             [
              0.1111111111111111,
              "#46039f"
             ],
             [
              0.2222222222222222,
              "#7201a8"
             ],
             [
              0.3333333333333333,
              "#9c179e"
             ],
             [
              0.4444444444444444,
              "#bd3786"
             ],
             [
              0.5555555555555556,
              "#d8576b"
             ],
             [
              0.6666666666666666,
              "#ed7953"
             ],
             [
              0.7777777777777778,
              "#fb9f3a"
             ],
             [
              0.8888888888888888,
              "#fdca26"
             ],
             [
              1,
              "#f0f921"
             ]
            ],
            "type": "heatmapgl"
           }
          ],
          "histogram": [
           {
            "marker": {
             "pattern": {
              "fillmode": "overlay",
              "size": 10,
              "solidity": 0.2
             }
            },
            "type": "histogram"
           }
          ],
          "histogram2d": [
           {
            "colorbar": {
             "outlinewidth": 0,
             "ticks": ""
            },
            "colorscale": [
             [
              0,
              "#0d0887"
             ],
             [
              0.1111111111111111,
              "#46039f"
             ],
             [
              0.2222222222222222,
              "#7201a8"
             ],
             [
              0.3333333333333333,
              "#9c179e"
             ],
             [
              0.4444444444444444,
              "#bd3786"
             ],
             [
              0.5555555555555556,
              "#d8576b"
             ],
             [
              0.6666666666666666,
              "#ed7953"
             ],
             [
              0.7777777777777778,
              "#fb9f3a"
             ],
             [
              0.8888888888888888,
              "#fdca26"
             ],
             [
              1,
              "#f0f921"
             ]
            ],
            "type": "histogram2d"
           }
          ],
          "histogram2dcontour": [
           {
            "colorbar": {
             "outlinewidth": 0,
             "ticks": ""
            },
            "colorscale": [
             [
              0,
              "#0d0887"
             ],
             [
              0.1111111111111111,
              "#46039f"
             ],
             [
              0.2222222222222222,
              "#7201a8"
             ],
             [
              0.3333333333333333,
              "#9c179e"
             ],
             [
              0.4444444444444444,
              "#bd3786"
             ],
             [
              0.5555555555555556,
              "#d8576b"
             ],
             [
              0.6666666666666666,
              "#ed7953"
             ],
             [
              0.7777777777777778,
              "#fb9f3a"
             ],
             [
              0.8888888888888888,
              "#fdca26"
             ],
             [
              1,
              "#f0f921"
             ]
            ],
            "type": "histogram2dcontour"
           }
          ],
          "mesh3d": [
           {
            "colorbar": {
             "outlinewidth": 0,
             "ticks": ""
            },
            "type": "mesh3d"
           }
          ],
          "parcoords": [
           {
            "line": {
             "colorbar": {
              "outlinewidth": 0,
              "ticks": ""
             }
            },
            "type": "parcoords"
           }
          ],
          "pie": [
           {
            "automargin": true,
            "type": "pie"
           }
          ],
          "scatter": [
           {
            "fillpattern": {
             "fillmode": "overlay",
             "size": 10,
             "solidity": 0.2
            },
            "type": "scatter"
           }
          ],
          "scatter3d": [
           {
            "line": {
             "colorbar": {
              "outlinewidth": 0,
              "ticks": ""
             }
            },
            "marker": {
             "colorbar": {
              "outlinewidth": 0,
              "ticks": ""
             }
            },
            "type": "scatter3d"
           }
          ],
          "scattercarpet": [
           {
            "marker": {
             "colorbar": {
              "outlinewidth": 0,
              "ticks": ""
             }
            },
            "type": "scattercarpet"
           }
          ],
          "scattergeo": [
           {
            "marker": {
             "colorbar": {
              "outlinewidth": 0,
              "ticks": ""
             }
            },
            "type": "scattergeo"
           }
          ],
          "scattergl": [
           {
            "marker": {
             "colorbar": {
              "outlinewidth": 0,
              "ticks": ""
             }
            },
            "type": "scattergl"
           }
          ],
          "scattermapbox": [
           {
            "marker": {
             "colorbar": {
              "outlinewidth": 0,
              "ticks": ""
             }
            },
            "type": "scattermapbox"
           }
          ],
          "scatterpolar": [
           {
            "marker": {
             "colorbar": {
              "outlinewidth": 0,
              "ticks": ""
             }
            },
            "type": "scatterpolar"
           }
          ],
          "scatterpolargl": [
           {
            "marker": {
             "colorbar": {
              "outlinewidth": 0,
              "ticks": ""
             }
            },
            "type": "scatterpolargl"
           }
          ],
          "scatterternary": [
           {
            "marker": {
             "colorbar": {
              "outlinewidth": 0,
              "ticks": ""
             }
            },
            "type": "scatterternary"
           }
          ],
          "surface": [
           {
            "colorbar": {
             "outlinewidth": 0,
             "ticks": ""
            },
            "colorscale": [
             [
              0,
              "#0d0887"
             ],
             [
              0.1111111111111111,
              "#46039f"
             ],
             [
              0.2222222222222222,
              "#7201a8"
             ],
             [
              0.3333333333333333,
              "#9c179e"
             ],
             [
              0.4444444444444444,
              "#bd3786"
             ],
             [
              0.5555555555555556,
              "#d8576b"
             ],
             [
              0.6666666666666666,
              "#ed7953"
             ],
             [
              0.7777777777777778,
              "#fb9f3a"
             ],
             [
              0.8888888888888888,
              "#fdca26"
             ],
             [
              1,
              "#f0f921"
             ]
            ],
            "type": "surface"
           }
          ],
          "table": [
           {
            "cells": {
             "fill": {
              "color": "#EBF0F8"
             },
             "line": {
              "color": "white"
             }
            },
            "header": {
             "fill": {
              "color": "#C8D4E3"
             },
             "line": {
              "color": "white"
             }
            },
            "type": "table"
           }
          ]
         },
         "layout": {
          "annotationdefaults": {
           "arrowcolor": "#2a3f5f",
           "arrowhead": 0,
           "arrowwidth": 1
          },
          "autotypenumbers": "strict",
          "coloraxis": {
           "colorbar": {
            "outlinewidth": 0,
            "ticks": ""
           }
          },
          "colorscale": {
           "diverging": [
            [
             0,
             "#8e0152"
            ],
            [
             0.1,
             "#c51b7d"
            ],
            [
             0.2,
             "#de77ae"
            ],
            [
             0.3,
             "#f1b6da"
            ],
            [
             0.4,
             "#fde0ef"
            ],
            [
             0.5,
             "#f7f7f7"
            ],
            [
             0.6,
             "#e6f5d0"
            ],
            [
             0.7,
             "#b8e186"
            ],
            [
             0.8,
             "#7fbc41"
            ],
            [
             0.9,
             "#4d9221"
            ],
            [
             1,
             "#276419"
            ]
           ],
           "sequential": [
            [
             0,
             "#0d0887"
            ],
            [
             0.1111111111111111,
             "#46039f"
            ],
            [
             0.2222222222222222,
             "#7201a8"
            ],
            [
             0.3333333333333333,
             "#9c179e"
            ],
            [
             0.4444444444444444,
             "#bd3786"
            ],
            [
             0.5555555555555556,
             "#d8576b"
            ],
            [
             0.6666666666666666,
             "#ed7953"
            ],
            [
             0.7777777777777778,
             "#fb9f3a"
            ],
            [
             0.8888888888888888,
             "#fdca26"
            ],
            [
             1,
             "#f0f921"
            ]
           ],
           "sequentialminus": [
            [
             0,
             "#0d0887"
            ],
            [
             0.1111111111111111,
             "#46039f"
            ],
            [
             0.2222222222222222,
             "#7201a8"
            ],
            [
             0.3333333333333333,
             "#9c179e"
            ],
            [
             0.4444444444444444,
             "#bd3786"
            ],
            [
             0.5555555555555556,
             "#d8576b"
            ],
            [
             0.6666666666666666,
             "#ed7953"
            ],
            [
             0.7777777777777778,
             "#fb9f3a"
            ],
            [
             0.8888888888888888,
             "#fdca26"
            ],
            [
             1,
             "#f0f921"
            ]
           ]
          },
          "colorway": [
           "#636efa",
           "#EF553B",
           "#00cc96",
           "#ab63fa",
           "#FFA15A",
           "#19d3f3",
           "#FF6692",
           "#B6E880",
           "#FF97FF",
           "#FECB52"
          ],
          "font": {
           "color": "#2a3f5f"
          },
          "geo": {
           "bgcolor": "white",
           "lakecolor": "white",
           "landcolor": "#E5ECF6",
           "showlakes": true,
           "showland": true,
           "subunitcolor": "white"
          },
          "hoverlabel": {
           "align": "left"
          },
          "hovermode": "closest",
          "mapbox": {
           "style": "light"
          },
          "paper_bgcolor": "white",
          "plot_bgcolor": "#E5ECF6",
          "polar": {
           "angularaxis": {
            "gridcolor": "white",
            "linecolor": "white",
            "ticks": ""
           },
           "bgcolor": "#E5ECF6",
           "radialaxis": {
            "gridcolor": "white",
            "linecolor": "white",
            "ticks": ""
           }
          },
          "scene": {
           "xaxis": {
            "backgroundcolor": "#E5ECF6",
            "gridcolor": "white",
            "gridwidth": 2,
            "linecolor": "white",
            "showbackground": true,
            "ticks": "",
            "zerolinecolor": "white"
           },
           "yaxis": {
            "backgroundcolor": "#E5ECF6",
            "gridcolor": "white",
            "gridwidth": 2,
            "linecolor": "white",
            "showbackground": true,
            "ticks": "",
            "zerolinecolor": "white"
           },
           "zaxis": {
            "backgroundcolor": "#E5ECF6",
            "gridcolor": "white",
            "gridwidth": 2,
            "linecolor": "white",
            "showbackground": true,
            "ticks": "",
            "zerolinecolor": "white"
           }
          },
          "shapedefaults": {
           "line": {
            "color": "#2a3f5f"
           }
          },
          "ternary": {
           "aaxis": {
            "gridcolor": "white",
            "linecolor": "white",
            "ticks": ""
           },
           "baxis": {
            "gridcolor": "white",
            "linecolor": "white",
            "ticks": ""
           },
           "bgcolor": "#E5ECF6",
           "caxis": {
            "gridcolor": "white",
            "linecolor": "white",
            "ticks": ""
           }
          },
          "title": {
           "x": 0.05
          },
          "xaxis": {
           "automargin": true,
           "gridcolor": "white",
           "linecolor": "white",
           "ticks": "",
           "title": {
            "standoff": 15
           },
           "zerolinecolor": "white",
           "zerolinewidth": 2
          },
          "yaxis": {
           "automargin": true,
           "gridcolor": "white",
           "linecolor": "white",
           "ticks": "",
           "title": {
            "standoff": 15
           },
           "zerolinecolor": "white",
           "zerolinewidth": 2
          }
         }
        },
        "title": {
         "text": "balanced accuracy, number of rules and training time on core suite"
        },
        "width": 1000,
        "xaxis": {
         "anchor": "y",
         "domain": [
          0,
          1
         ],
         "matches": "x3",
         "showticklabels": false
        },
        "xaxis2": {
         "anchor": "y2",
         "domain": [
          0,
          1
         ],
         "matches": "x3",
         "showticklabels": false
        },
        "xaxis3": {
         "anchor": "y3",
         "domain": [
          0,
          1
         ]
        },
        "yaxis": {
         "anchor": "x",
         "domain": [
          0.68,
          1
         ],
         "title": {
          "text": "time (secs)"
         },
         "type": "log"
        },
        "yaxis2": {
         "anchor": "x2",
         "domain": [
          0.34,
          0.66
         ],
         "title": {
          "text": "number of rules"
         },
         "type": "log"
        },
        "yaxis3": {
         "anchor": "x3",
         "domain": [
          0,
          0.32
         ],
         "title": {
          "text": "balanced accuracy"
         }
        }
       }
      }
     },
     "metadata": {},
     "output_type": "display_data"
    }
   ],
   "source": [
    "perf_metric = 'adj_bal_acc'\n",
    "sorted_df = df_core_suite.sort_values('LENC-XGB_'+perf_metric, ignore_index=True)\n",
    "triple_chart(pipelines=DEFAULT_RI_PIPELINES, performance_metric=perf_metric, complexity_metric='nof_rules', df=sorted_df, df_long_name='core suite')"
   ]
  },
  {
   "cell_type": "code",
   "execution_count": 1055,
   "metadata": {},
   "outputs": [
    {
     "data": {
      "application/vnd.plotly.v1+json": {
       "config": {
        "plotlyServerURL": "https://plot.ly"
       },
       "data": [
        {
         "line": {
          "color": "gray",
          "dash": "solid",
          "width": 2
         },
         "marker": {
          "symbol": "circle"
         },
         "mode": "markers+lines",
         "name": "LENC-XGB",
         "showlegend": true,
         "type": "scatter",
         "x": [
          "orange_churn",
          "fraud_oracle",
          "taiwan_credit",
          "german_credit",
          "bike_75",
          "bank_marketing",
          "orange_up",
          "compas",
          "heloc",
          "adult",
          "telco_churn_2",
          "house",
          "telco_churn",
          "fraud_detection",
          "boston",
          "electricity",
          "bike_mean"
         ],
         "xaxis": "x3",
         "y": [
          0.05,
          0.45,
          0.47,
          0.47,
          0.5,
          0.51,
          0.56,
          0.61,
          0.68,
          0.71,
          0.71,
          0.82,
          0.84,
          0.84,
          0.88,
          0.89,
          0.92
         ],
         "yaxis": "y3"
        },
        {
         "line": {
          "color": "darkkhaki",
          "dash": "solid",
          "width": 2
         },
         "marker": {
          "symbol": "cross"
         },
         "mode": "markers+lines",
         "name": "NATIVE-CONST",
         "showlegend": true,
         "type": "scatter",
         "x": [
          "orange_churn",
          "fraud_oracle",
          "taiwan_credit",
          "german_credit",
          "bike_75",
          "bank_marketing",
          "orange_up",
          "compas",
          "heloc",
          "adult",
          "telco_churn_2",
          "house",
          "telco_churn",
          "fraud_detection",
          "boston",
          "electricity",
          "bike_mean"
         ],
         "xaxis": "x3",
         "y": [
          0.14,
          0.13,
          0.36,
          0.45,
          0.01,
          0.19,
          0.13,
          0.63,
          0.65,
          0.37,
          0.67,
          0.45,
          0.26,
          0,
          0.64,
          0.59,
          0.59
         ],
         "yaxis": "y3"
        },
        {
         "line": {
          "color": "crimson",
          "dash": "longdash",
          "width": 2
         },
         "marker": {
          "symbol": "diamond"
         },
         "mode": "markers+lines",
         "name": "NATIVE-RIPPER",
         "showlegend": true,
         "type": "scatter",
         "x": [
          "orange_churn",
          "fraud_oracle",
          "taiwan_credit",
          "german_credit",
          "bike_75",
          "bank_marketing",
          "orange_up",
          "compas",
          "heloc",
          "adult",
          "telco_churn_2",
          "house",
          "telco_churn",
          "fraud_detection",
          "boston",
          "electricity",
          "bike_mean"
         ],
         "xaxis": "x3",
         "y": [
          0,
          0,
          0.44,
          0.27,
          0.53,
          0.45,
          0.54,
          0,
          0.7,
          0.63,
          0.68,
          0.77,
          0.84,
          0.78,
          0.86,
          0.81,
          0.89
         ],
         "yaxis": "y3"
        },
        {
         "line": {
          "color": "mediumblue",
          "dash": "dot",
          "width": 2
         },
         "marker": {
          "symbol": "arrow-right"
         },
         "mode": "markers+lines",
         "name": "LENC-CART:4",
         "showlegend": true,
         "type": "scatter",
         "x": [
          "orange_churn",
          "fraud_oracle",
          "taiwan_credit",
          "german_credit",
          "bike_75",
          "bank_marketing",
          "orange_up",
          "compas",
          "heloc",
          "adult",
          "telco_churn_2",
          "house",
          "telco_churn",
          "fraud_detection",
          "boston",
          "electricity",
          "bike_mean"
         ],
         "xaxis": "x3",
         "y": [
          0.03,
          0.07,
          0.42,
          0.54,
          0.51,
          0.46,
          0.56,
          0.6,
          0.68,
          0.41,
          0.67,
          0.7,
          0.66,
          0.77,
          0.83,
          0.67,
          0.88
         ],
         "yaxis": "y3"
        },
        {
         "line": {
          "color": "lime",
          "dash": "dash",
          "width": 2
         },
         "marker": {
          "symbol": "cross"
         },
         "mode": "markers+lines",
         "name": "TREES-BRCG",
         "showlegend": true,
         "type": "scatter",
         "x": [
          "orange_churn",
          "fraud_oracle",
          "taiwan_credit",
          "german_credit",
          "bike_75",
          "bank_marketing",
          "orange_up",
          "compas",
          "heloc",
          "adult",
          "telco_churn_2",
          "house",
          "telco_churn",
          "fraud_detection",
          "boston",
          "electricity",
          "bike_mean"
         ],
         "xaxis": "x3",
         "y": [
          0,
          0,
          0.42,
          0.31,
          0,
          0.42,
          0.56,
          0.61,
          0.67,
          0.55,
          0.68,
          0.7,
          0.65,
          0,
          0.84,
          0.71,
          0.88
         ],
         "yaxis": "y3"
        },
        {
         "line": {
          "color": "gold",
          "dash": "dashdot",
          "width": 2
         },
         "marker": {
          "symbol": "star"
         },
         "mode": "markers+lines",
         "name": "TREES-CORELS",
         "showlegend": true,
         "type": "scatter",
         "x": [
          "orange_churn",
          "fraud_oracle",
          "taiwan_credit",
          "german_credit",
          "bike_75",
          "bank_marketing",
          "orange_up",
          "compas",
          "heloc",
          "adult",
          "telco_churn_2",
          "house",
          "telco_churn",
          "fraud_detection",
          "boston",
          "electricity",
          "bike_mean"
         ],
         "xaxis": "x3",
         "y": [
          0,
          0,
          0.42,
          0.16,
          0,
          0.43,
          0.56,
          0.56,
          0.67,
          0.42,
          0.69,
          0.61,
          0.48,
          0,
          0.87,
          0.67,
          0.82
         ],
         "yaxis": "y3"
        },
        {
         "line": {
          "color": "silver",
          "dash": "dot",
          "width": 2
         },
         "marker": {
          "symbol": "square"
         },
         "mode": "markers+lines",
         "name": "NATIVE-R2N",
         "showlegend": true,
         "type": "scatter",
         "x": [
          "orange_churn",
          "fraud_oracle",
          "taiwan_credit",
          "german_credit",
          "bike_75",
          "bank_marketing",
          "orange_up",
          "compas",
          "heloc",
          "adult",
          "telco_churn_2",
          "house",
          "telco_churn",
          "fraud_detection",
          "boston",
          "electricity",
          "bike_mean"
         ],
         "xaxis": "x3",
         "y": [
          null,
          0,
          0.41,
          0,
          0,
          0.39,
          null,
          0.56,
          0.65,
          0.57,
          0.72,
          0.6,
          0.52,
          0,
          0.86,
          0.61,
          0.68
         ],
         "yaxis": "y3"
        },
        {
         "line": {
          "color": "crimson",
          "dash": "longdash",
          "width": 2
         },
         "marker": {
          "symbol": "diamond"
         },
         "mode": "markers+lines",
         "name": "NATIVE-RIPPER",
         "showlegend": false,
         "type": "scatter",
         "x": [
          "orange_churn",
          "fraud_oracle",
          "taiwan_credit",
          "german_credit",
          "bike_75",
          "bank_marketing",
          "orange_up",
          "compas",
          "heloc",
          "adult",
          "telco_churn_2",
          "house",
          "telco_churn",
          "fraud_detection",
          "boston",
          "electricity",
          "bike_mean"
         ],
         "xaxis": "x2",
         "y": [
          1,
          1,
          48,
          7,
          43,
          19,
          35,
          1,
          76,
          208,
          20,
          191,
          30,
          24,
          21,
          276,
          99
         ],
         "yaxis": "y2"
        },
        {
         "line": {
          "color": "mediumblue",
          "dash": "dot",
          "width": 2
         },
         "marker": {
          "symbol": "arrow-right"
         },
         "mode": "markers+lines",
         "name": "LENC-CART:4",
         "showlegend": false,
         "type": "scatter",
         "x": [
          "orange_churn",
          "fraud_oracle",
          "taiwan_credit",
          "german_credit",
          "bike_75",
          "bank_marketing",
          "orange_up",
          "compas",
          "heloc",
          "adult",
          "telco_churn_2",
          "house",
          "telco_churn",
          "fraud_detection",
          "boston",
          "electricity",
          "bike_mean"
         ],
         "xaxis": "x2",
         "y": [
          21,
          15,
          13,
          29,
          5,
          25,
          12,
          41,
          37,
          29,
          41,
          33,
          29,
          24,
          26,
          29,
          13
         ],
         "yaxis": "y2"
        },
        {
         "line": {
          "color": "lime",
          "dash": "dash",
          "width": 2
         },
         "marker": {
          "symbol": "cross"
         },
         "mode": "markers+lines",
         "name": "TREES-BRCG",
         "showlegend": false,
         "type": "scatter",
         "x": [
          "orange_churn",
          "fraud_oracle",
          "taiwan_credit",
          "german_credit",
          "bike_75",
          "bank_marketing",
          "orange_up",
          "compas",
          "heloc",
          "adult",
          "telco_churn_2",
          "house",
          "telco_churn",
          "fraud_detection",
          "boston",
          "electricity",
          "bike_mean"
         ],
         "xaxis": "x2",
         "y": [
          1,
          1,
          3,
          11,
          1,
          8,
          5,
          6,
          3,
          7,
          12,
          12,
          8,
          1,
          12,
          6,
          12
         ],
         "yaxis": "y2"
        },
        {
         "line": {
          "color": "gold",
          "dash": "dashdot",
          "width": 2
         },
         "marker": {
          "symbol": "star"
         },
         "mode": "markers+lines",
         "name": "TREES-CORELS",
         "showlegend": false,
         "type": "scatter",
         "x": [
          "orange_churn",
          "fraud_oracle",
          "taiwan_credit",
          "german_credit",
          "bike_75",
          "bank_marketing",
          "orange_up",
          "compas",
          "heloc",
          "adult",
          "telco_churn_2",
          "house",
          "telco_churn",
          "fraud_detection",
          "boston",
          "electricity",
          "bike_mean"
         ],
         "xaxis": "x2",
         "y": [
          1,
          1,
          5,
          5,
          1,
          3,
          7,
          5,
          3,
          5,
          5,
          3,
          5,
          1,
          3,
          3,
          7
         ],
         "yaxis": "y2"
        },
        {
         "line": {
          "color": "silver",
          "dash": "dot",
          "width": 2
         },
         "marker": {
          "symbol": "square"
         },
         "mode": "markers+lines",
         "name": "NATIVE-R2N",
         "showlegend": false,
         "type": "scatter",
         "x": [
          "orange_churn",
          "fraud_oracle",
          "taiwan_credit",
          "german_credit",
          "bike_75",
          "bank_marketing",
          "orange_up",
          "compas",
          "heloc",
          "adult",
          "telco_churn_2",
          "house",
          "telco_churn",
          "fraud_detection",
          "boston",
          "electricity",
          "bike_mean"
         ],
         "xaxis": "x2",
         "y": [
          null,
          1,
          4,
          20,
          1,
          3,
          null,
          3,
          8,
          4,
          9,
          7,
          4,
          1,
          7,
          8,
          4
         ],
         "yaxis": "y2"
        },
        {
         "line": {
          "color": "gray",
          "dash": "solid",
          "width": 2
         },
         "marker": {
          "symbol": "circle"
         },
         "mode": "markers+lines",
         "name": "LENC-XGB",
         "showlegend": false,
         "type": "scatter",
         "x": [
          "orange_churn",
          "fraud_oracle",
          "taiwan_credit",
          "german_credit",
          "bike_75",
          "bank_marketing",
          "orange_up",
          "compas",
          "heloc",
          "adult",
          "telco_churn_2",
          "house",
          "telco_churn",
          "fraud_detection",
          "boston",
          "electricity",
          "bike_mean"
         ],
         "xaxis": "x",
         "y": [
          5.1,
          1.48,
          1.9300000000000002,
          1.05,
          1.1400000000000001,
          1.13,
          5.07,
          1.09,
          1.28,
          1.48,
          1.09,
          1.79,
          1.12,
          11.1,
          1.03,
          1.62,
          1.2
         ],
         "yaxis": "y"
        },
        {
         "line": {
          "color": "crimson",
          "dash": "longdash",
          "width": 2
         },
         "marker": {
          "symbol": "diamond"
         },
         "mode": "markers+lines",
         "name": "NATIVE-RIPPER",
         "showlegend": false,
         "type": "scatter",
         "x": [
          "orange_churn",
          "fraud_oracle",
          "taiwan_credit",
          "german_credit",
          "bike_75",
          "bank_marketing",
          "orange_up",
          "compas",
          "heloc",
          "adult",
          "telco_churn_2",
          "house",
          "telco_churn",
          "fraud_detection",
          "boston",
          "electricity",
          "bike_mean"
         ],
         "xaxis": "x",
         "y": [
          4.220000000000001,
          1.12,
          7.55,
          1.05,
          1.42,
          1.11,
          25.94,
          1.01,
          1.96,
          9.98,
          1.09,
          19.06,
          1.17,
          1128.56,
          1.04,
          20.9,
          1.94
         ],
         "yaxis": "y"
        },
        {
         "line": {
          "color": "mediumblue",
          "dash": "dot",
          "width": 2
         },
         "marker": {
          "symbol": "arrow-right"
         },
         "mode": "markers+lines",
         "name": "LENC-CART:4",
         "showlegend": false,
         "type": "scatter",
         "x": [
          "orange_churn",
          "fraud_oracle",
          "taiwan_credit",
          "german_credit",
          "bike_75",
          "bank_marketing",
          "orange_up",
          "compas",
          "heloc",
          "adult",
          "telco_churn_2",
          "house",
          "telco_churn",
          "fraud_detection",
          "boston",
          "electricity",
          "bike_mean"
         ],
         "xaxis": "x",
         "y": [
          1.73,
          1.08,
          1.1,
          1.01,
          1.01,
          1.01,
          1.74,
          1.01,
          1.02,
          1.04,
          1,
          1.06,
          1.01,
          3.24,
          1,
          1.04,
          1.01
         ],
         "yaxis": "y"
        },
        {
         "line": {
          "color": "lime",
          "dash": "dash",
          "width": 2
         },
         "marker": {
          "symbol": "cross"
         },
         "mode": "markers+lines",
         "name": "TREES-BRCG",
         "showlegend": false,
         "type": "scatter",
         "x": [
          "orange_churn",
          "fraud_oracle",
          "taiwan_credit",
          "german_credit",
          "bike_75",
          "bank_marketing",
          "orange_up",
          "compas",
          "heloc",
          "adult",
          "telco_churn_2",
          "house",
          "telco_churn",
          "fraud_detection",
          "boston",
          "electricity",
          "bike_mean"
         ],
         "xaxis": "x",
         "y": [
          101.76,
          1.53,
          2.49,
          3.15,
          1.12,
          1.8,
          104.14,
          2.2,
          2.96,
          3.51,
          2.7800000000000002,
          4.49,
          1.73,
          3.72,
          2.1399999999999997,
          6.11,
          3.31
         ],
         "yaxis": "y"
        },
        {
         "line": {
          "color": "gold",
          "dash": "dashdot",
          "width": 2
         },
         "marker": {
          "symbol": "star"
         },
         "mode": "markers+lines",
         "name": "TREES-CORELS",
         "showlegend": false,
         "type": "scatter",
         "x": [
          "orange_churn",
          "fraud_oracle",
          "taiwan_credit",
          "german_credit",
          "bike_75",
          "bank_marketing",
          "orange_up",
          "compas",
          "heloc",
          "adult",
          "telco_churn_2",
          "house",
          "telco_churn",
          "fraud_detection",
          "boston",
          "electricity",
          "bike_mean"
         ],
         "xaxis": "x",
         "y": [
          102.9,
          1.19,
          3.7,
          1.04,
          1.07,
          1.08,
          104.28,
          1.09,
          1.12,
          1.41,
          1.04,
          1.26,
          1.06,
          6.1,
          1.02,
          1.54,
          1.13
         ],
         "yaxis": "y"
        },
        {
         "line": {
          "color": "silver",
          "dash": "dot",
          "width": 2
         },
         "marker": {
          "symbol": "square"
         },
         "mode": "markers+lines",
         "name": "NATIVE-R2N",
         "showlegend": false,
         "type": "scatter",
         "x": [
          "orange_churn",
          "fraud_oracle",
          "taiwan_credit",
          "german_credit",
          "bike_75",
          "bank_marketing",
          "orange_up",
          "compas",
          "heloc",
          "adult",
          "telco_churn_2",
          "house",
          "telco_churn",
          "fraud_detection",
          "boston",
          "electricity",
          "bike_mean"
         ],
         "xaxis": "x",
         "y": [
          null,
          76.28,
          144.79,
          5.66,
          58.58,
          19.32,
          null,
          26.65,
          45.47,
          153.52,
          9.88,
          96.81,
          16.369999999999997,
          1230.67,
          3.45,
          187.68,
          67.01
         ],
         "yaxis": "y"
        }
       ],
       "layout": {
        "height": 600,
        "plot_bgcolor": "whitesmoke",
        "template": {
         "data": {
          "bar": [
           {
            "error_x": {
             "color": "#2a3f5f"
            },
            "error_y": {
             "color": "#2a3f5f"
            },
            "marker": {
             "line": {
              "color": "#E5ECF6",
              "width": 0.5
             },
             "pattern": {
              "fillmode": "overlay",
              "size": 10,
              "solidity": 0.2
             }
            },
            "type": "bar"
           }
          ],
          "barpolar": [
           {
            "marker": {
             "line": {
              "color": "#E5ECF6",
              "width": 0.5
             },
             "pattern": {
              "fillmode": "overlay",
              "size": 10,
              "solidity": 0.2
             }
            },
            "type": "barpolar"
           }
          ],
          "carpet": [
           {
            "aaxis": {
             "endlinecolor": "#2a3f5f",
             "gridcolor": "white",
             "linecolor": "white",
             "minorgridcolor": "white",
             "startlinecolor": "#2a3f5f"
            },
            "baxis": {
             "endlinecolor": "#2a3f5f",
             "gridcolor": "white",
             "linecolor": "white",
             "minorgridcolor": "white",
             "startlinecolor": "#2a3f5f"
            },
            "type": "carpet"
           }
          ],
          "choropleth": [
           {
            "colorbar": {
             "outlinewidth": 0,
             "ticks": ""
            },
            "type": "choropleth"
           }
          ],
          "contour": [
           {
            "colorbar": {
             "outlinewidth": 0,
             "ticks": ""
            },
            "colorscale": [
             [
              0,
              "#0d0887"
             ],
             [
              0.1111111111111111,
              "#46039f"
             ],
             [
              0.2222222222222222,
              "#7201a8"
             ],
             [
              0.3333333333333333,
              "#9c179e"
             ],
             [
              0.4444444444444444,
              "#bd3786"
             ],
             [
              0.5555555555555556,
              "#d8576b"
             ],
             [
              0.6666666666666666,
              "#ed7953"
             ],
             [
              0.7777777777777778,
              "#fb9f3a"
             ],
             [
              0.8888888888888888,
              "#fdca26"
             ],
             [
              1,
              "#f0f921"
             ]
            ],
            "type": "contour"
           }
          ],
          "contourcarpet": [
           {
            "colorbar": {
             "outlinewidth": 0,
             "ticks": ""
            },
            "type": "contourcarpet"
           }
          ],
          "heatmap": [
           {
            "colorbar": {
             "outlinewidth": 0,
             "ticks": ""
            },
            "colorscale": [
             [
              0,
              "#0d0887"
             ],
             [
              0.1111111111111111,
              "#46039f"
             ],
             [
              0.2222222222222222,
              "#7201a8"
             ],
             [
              0.3333333333333333,
              "#9c179e"
             ],
             [
              0.4444444444444444,
              "#bd3786"
             ],
             [
              0.5555555555555556,
              "#d8576b"
             ],
             [
              0.6666666666666666,
              "#ed7953"
             ],
             [
              0.7777777777777778,
              "#fb9f3a"
             ],
             [
              0.8888888888888888,
              "#fdca26"
             ],
             [
              1,
              "#f0f921"
             ]
            ],
            "type": "heatmap"
           }
          ],
          "heatmapgl": [
           {
            "colorbar": {
             "outlinewidth": 0,
             "ticks": ""
            },
            "colorscale": [
             [
              0,
              "#0d0887"
             ],
             [
              0.1111111111111111,
              "#46039f"
             ],
             [
              0.2222222222222222,
              "#7201a8"
             ],
             [
              0.3333333333333333,
              "#9c179e"
             ],
             [
              0.4444444444444444,
              "#bd3786"
             ],
             [
              0.5555555555555556,
              "#d8576b"
             ],
             [
              0.6666666666666666,
              "#ed7953"
             ],
             [
              0.7777777777777778,
              "#fb9f3a"
             ],
             [
              0.8888888888888888,
              "#fdca26"
             ],
             [
              1,
              "#f0f921"
             ]
            ],
            "type": "heatmapgl"
           }
          ],
          "histogram": [
           {
            "marker": {
             "pattern": {
              "fillmode": "overlay",
              "size": 10,
              "solidity": 0.2
             }
            },
            "type": "histogram"
           }
          ],
          "histogram2d": [
           {
            "colorbar": {
             "outlinewidth": 0,
             "ticks": ""
            },
            "colorscale": [
             [
              0,
              "#0d0887"
             ],
             [
              0.1111111111111111,
              "#46039f"
             ],
             [
              0.2222222222222222,
              "#7201a8"
             ],
             [
              0.3333333333333333,
              "#9c179e"
             ],
             [
              0.4444444444444444,
              "#bd3786"
             ],
             [
              0.5555555555555556,
              "#d8576b"
             ],
             [
              0.6666666666666666,
              "#ed7953"
             ],
             [
              0.7777777777777778,
              "#fb9f3a"
             ],
             [
              0.8888888888888888,
              "#fdca26"
             ],
             [
              1,
              "#f0f921"
             ]
            ],
            "type": "histogram2d"
           }
          ],
          "histogram2dcontour": [
           {
            "colorbar": {
             "outlinewidth": 0,
             "ticks": ""
            },
            "colorscale": [
             [
              0,
              "#0d0887"
             ],
             [
              0.1111111111111111,
              "#46039f"
             ],
             [
              0.2222222222222222,
              "#7201a8"
             ],
             [
              0.3333333333333333,
              "#9c179e"
             ],
             [
              0.4444444444444444,
              "#bd3786"
             ],
             [
              0.5555555555555556,
              "#d8576b"
             ],
             [
              0.6666666666666666,
              "#ed7953"
             ],
             [
              0.7777777777777778,
              "#fb9f3a"
             ],
             [
              0.8888888888888888,
              "#fdca26"
             ],
             [
              1,
              "#f0f921"
             ]
            ],
            "type": "histogram2dcontour"
           }
          ],
          "mesh3d": [
           {
            "colorbar": {
             "outlinewidth": 0,
             "ticks": ""
            },
            "type": "mesh3d"
           }
          ],
          "parcoords": [
           {
            "line": {
             "colorbar": {
              "outlinewidth": 0,
              "ticks": ""
             }
            },
            "type": "parcoords"
           }
          ],
          "pie": [
           {
            "automargin": true,
            "type": "pie"
           }
          ],
          "scatter": [
           {
            "fillpattern": {
             "fillmode": "overlay",
             "size": 10,
             "solidity": 0.2
            },
            "type": "scatter"
           }
          ],
          "scatter3d": [
           {
            "line": {
             "colorbar": {
              "outlinewidth": 0,
              "ticks": ""
             }
            },
            "marker": {
             "colorbar": {
              "outlinewidth": 0,
              "ticks": ""
             }
            },
            "type": "scatter3d"
           }
          ],
          "scattercarpet": [
           {
            "marker": {
             "colorbar": {
              "outlinewidth": 0,
              "ticks": ""
             }
            },
            "type": "scattercarpet"
           }
          ],
          "scattergeo": [
           {
            "marker": {
             "colorbar": {
              "outlinewidth": 0,
              "ticks": ""
             }
            },
            "type": "scattergeo"
           }
          ],
          "scattergl": [
           {
            "marker": {
             "colorbar": {
              "outlinewidth": 0,
              "ticks": ""
             }
            },
            "type": "scattergl"
           }
          ],
          "scattermapbox": [
           {
            "marker": {
             "colorbar": {
              "outlinewidth": 0,
              "ticks": ""
             }
            },
            "type": "scattermapbox"
           }
          ],
          "scatterpolar": [
           {
            "marker": {
             "colorbar": {
              "outlinewidth": 0,
              "ticks": ""
             }
            },
            "type": "scatterpolar"
           }
          ],
          "scatterpolargl": [
           {
            "marker": {
             "colorbar": {
              "outlinewidth": 0,
              "ticks": ""
             }
            },
            "type": "scatterpolargl"
           }
          ],
          "scatterternary": [
           {
            "marker": {
             "colorbar": {
              "outlinewidth": 0,
              "ticks": ""
             }
            },
            "type": "scatterternary"
           }
          ],
          "surface": [
           {
            "colorbar": {
             "outlinewidth": 0,
             "ticks": ""
            },
            "colorscale": [
             [
              0,
              "#0d0887"
             ],
             [
              0.1111111111111111,
              "#46039f"
             ],
             [
              0.2222222222222222,
              "#7201a8"
             ],
             [
              0.3333333333333333,
              "#9c179e"
             ],
             [
              0.4444444444444444,
              "#bd3786"
             ],
             [
              0.5555555555555556,
              "#d8576b"
             ],
             [
              0.6666666666666666,
              "#ed7953"
             ],
             [
              0.7777777777777778,
              "#fb9f3a"
             ],
             [
              0.8888888888888888,
              "#fdca26"
             ],
             [
              1,
              "#f0f921"
             ]
            ],
            "type": "surface"
           }
          ],
          "table": [
           {
            "cells": {
             "fill": {
              "color": "#EBF0F8"
             },
             "line": {
              "color": "white"
             }
            },
            "header": {
             "fill": {
              "color": "#C8D4E3"
             },
             "line": {
              "color": "white"
             }
            },
            "type": "table"
           }
          ]
         },
         "layout": {
          "annotationdefaults": {
           "arrowcolor": "#2a3f5f",
           "arrowhead": 0,
           "arrowwidth": 1
          },
          "autotypenumbers": "strict",
          "coloraxis": {
           "colorbar": {
            "outlinewidth": 0,
            "ticks": ""
           }
          },
          "colorscale": {
           "diverging": [
            [
             0,
             "#8e0152"
            ],
            [
             0.1,
             "#c51b7d"
            ],
            [
             0.2,
             "#de77ae"
            ],
            [
             0.3,
             "#f1b6da"
            ],
            [
             0.4,
             "#fde0ef"
            ],
            [
             0.5,
             "#f7f7f7"
            ],
            [
             0.6,
             "#e6f5d0"
            ],
            [
             0.7,
             "#b8e186"
            ],
            [
             0.8,
             "#7fbc41"
            ],
            [
             0.9,
             "#4d9221"
            ],
            [
             1,
             "#276419"
            ]
           ],
           "sequential": [
            [
             0,
             "#0d0887"
            ],
            [
             0.1111111111111111,
             "#46039f"
            ],
            [
             0.2222222222222222,
             "#7201a8"
            ],
            [
             0.3333333333333333,
             "#9c179e"
            ],
            [
             0.4444444444444444,
             "#bd3786"
            ],
            [
             0.5555555555555556,
             "#d8576b"
            ],
            [
             0.6666666666666666,
             "#ed7953"
            ],
            [
             0.7777777777777778,
             "#fb9f3a"
            ],
            [
             0.8888888888888888,
             "#fdca26"
            ],
            [
             1,
             "#f0f921"
            ]
           ],
           "sequentialminus": [
            [
             0,
             "#0d0887"
            ],
            [
             0.1111111111111111,
             "#46039f"
            ],
            [
             0.2222222222222222,
             "#7201a8"
            ],
            [
             0.3333333333333333,
             "#9c179e"
            ],
            [
             0.4444444444444444,
             "#bd3786"
            ],
            [
             0.5555555555555556,
             "#d8576b"
            ],
            [
             0.6666666666666666,
             "#ed7953"
            ],
            [
             0.7777777777777778,
             "#fb9f3a"
            ],
            [
             0.8888888888888888,
             "#fdca26"
            ],
            [
             1,
             "#f0f921"
            ]
           ]
          },
          "colorway": [
           "#636efa",
           "#EF553B",
           "#00cc96",
           "#ab63fa",
           "#FFA15A",
           "#19d3f3",
           "#FF6692",
           "#B6E880",
           "#FF97FF",
           "#FECB52"
          ],
          "font": {
           "color": "#2a3f5f"
          },
          "geo": {
           "bgcolor": "white",
           "lakecolor": "white",
           "landcolor": "#E5ECF6",
           "showlakes": true,
           "showland": true,
           "subunitcolor": "white"
          },
          "hoverlabel": {
           "align": "left"
          },
          "hovermode": "closest",
          "mapbox": {
           "style": "light"
          },
          "paper_bgcolor": "white",
          "plot_bgcolor": "#E5ECF6",
          "polar": {
           "angularaxis": {
            "gridcolor": "white",
            "linecolor": "white",
            "ticks": ""
           },
           "bgcolor": "#E5ECF6",
           "radialaxis": {
            "gridcolor": "white",
            "linecolor": "white",
            "ticks": ""
           }
          },
          "scene": {
           "xaxis": {
            "backgroundcolor": "#E5ECF6",
            "gridcolor": "white",
            "gridwidth": 2,
            "linecolor": "white",
            "showbackground": true,
            "ticks": "",
            "zerolinecolor": "white"
           },
           "yaxis": {
            "backgroundcolor": "#E5ECF6",
            "gridcolor": "white",
            "gridwidth": 2,
            "linecolor": "white",
            "showbackground": true,
            "ticks": "",
            "zerolinecolor": "white"
           },
           "zaxis": {
            "backgroundcolor": "#E5ECF6",
            "gridcolor": "white",
            "gridwidth": 2,
            "linecolor": "white",
            "showbackground": true,
            "ticks": "",
            "zerolinecolor": "white"
           }
          },
          "shapedefaults": {
           "line": {
            "color": "#2a3f5f"
           }
          },
          "ternary": {
           "aaxis": {
            "gridcolor": "white",
            "linecolor": "white",
            "ticks": ""
           },
           "baxis": {
            "gridcolor": "white",
            "linecolor": "white",
            "ticks": ""
           },
           "bgcolor": "#E5ECF6",
           "caxis": {
            "gridcolor": "white",
            "linecolor": "white",
            "ticks": ""
           }
          },
          "title": {
           "x": 0.05
          },
          "xaxis": {
           "automargin": true,
           "gridcolor": "white",
           "linecolor": "white",
           "ticks": "",
           "title": {
            "standoff": 15
           },
           "zerolinecolor": "white",
           "zerolinewidth": 2
          },
          "yaxis": {
           "automargin": true,
           "gridcolor": "white",
           "linecolor": "white",
           "ticks": "",
           "title": {
            "standoff": 15
           },
           "zerolinecolor": "white",
           "zerolinewidth": 2
          }
         }
        },
        "title": {
         "text": "f-score, sum of predicates and training time on core suite"
        },
        "width": 1000,
        "xaxis": {
         "anchor": "y",
         "domain": [
          0,
          1
         ],
         "matches": "x3",
         "showticklabels": false
        },
        "xaxis2": {
         "anchor": "y2",
         "domain": [
          0,
          1
         ],
         "matches": "x3",
         "showticklabels": false
        },
        "xaxis3": {
         "anchor": "y3",
         "domain": [
          0,
          1
         ]
        },
        "yaxis": {
         "anchor": "x",
         "domain": [
          0.68,
          1
         ],
         "title": {
          "text": "time (secs)"
         },
         "type": "log"
        },
        "yaxis2": {
         "anchor": "x2",
         "domain": [
          0.34,
          0.66
         ],
         "title": {
          "text": "sum of predicates"
         },
         "type": "log"
        },
        "yaxis3": {
         "anchor": "x3",
         "domain": [
          0,
          0.32
         ],
         "title": {
          "text": "f-score"
         }
        }
       }
      }
     },
     "metadata": {},
     "output_type": "display_data"
    }
   ],
   "source": [
    "perf_metric = 'f'\n",
    "sorted_df = df_core_suite.sort_values('LENC-XGB_'+perf_metric, ignore_index=True)\n",
    "triple_chart(pipelines=DEFAULT_RI_PIPELINES, performance_metric=perf_metric, complexity_metric='sum_preds', df=sorted_df, df_long_name='core suite')"
   ]
  },
  {
   "cell_type": "code",
   "execution_count": 1056,
   "metadata": {},
   "outputs": [
    {
     "data": {
      "application/vnd.plotly.v1+json": {
       "config": {
        "plotlyServerURL": "https://plot.ly"
       },
       "data": [
        {
         "line": {
          "color": "gray",
          "dash": "solid",
          "width": 2
         },
         "marker": {
          "symbol": "circle"
         },
         "mode": "markers+lines",
         "name": "LENC-XGB",
         "showlegend": true,
         "type": "scatter",
         "x": [
          "orange_churn",
          "fraud_oracle",
          "taiwan_credit",
          "german_credit",
          "bike_75",
          "bank_marketing",
          "orange_up",
          "compas",
          "heloc",
          "adult",
          "telco_churn_2",
          "house",
          "telco_churn",
          "fraud_detection",
          "boston",
          "electricity",
          "bike_mean"
         ],
         "xaxis": "x3",
         "y": [
          0.05,
          0.45,
          0.47,
          0.47,
          0.5,
          0.51,
          0.56,
          0.61,
          0.68,
          0.71,
          0.71,
          0.82,
          0.84,
          0.84,
          0.88,
          0.89,
          0.92
         ],
         "yaxis": "y3"
        },
        {
         "line": {
          "color": "darkkhaki",
          "dash": "solid",
          "width": 2
         },
         "marker": {
          "symbol": "cross"
         },
         "mode": "markers+lines",
         "name": "NATIVE-CONST",
         "showlegend": true,
         "type": "scatter",
         "x": [
          "orange_churn",
          "fraud_oracle",
          "taiwan_credit",
          "german_credit",
          "bike_75",
          "bank_marketing",
          "orange_up",
          "compas",
          "heloc",
          "adult",
          "telco_churn_2",
          "house",
          "telco_churn",
          "fraud_detection",
          "boston",
          "electricity",
          "bike_mean"
         ],
         "xaxis": "x3",
         "y": [
          0.14,
          0.13,
          0.36,
          0.45,
          0.01,
          0.19,
          0.13,
          0.63,
          0.65,
          0.37,
          0.67,
          0.45,
          0.26,
          0,
          0.64,
          0.59,
          0.59
         ],
         "yaxis": "y3"
        },
        {
         "line": {
          "color": "crimson",
          "dash": "longdash",
          "width": 2
         },
         "marker": {
          "symbol": "diamond"
         },
         "mode": "markers+lines",
         "name": "NATIVE-RIPPER",
         "showlegend": true,
         "type": "scatter",
         "x": [
          "orange_churn",
          "fraud_oracle",
          "taiwan_credit",
          "german_credit",
          "bike_75",
          "bank_marketing",
          "orange_up",
          "compas",
          "heloc",
          "adult",
          "telco_churn_2",
          "house",
          "telco_churn",
          "fraud_detection",
          "boston",
          "electricity",
          "bike_mean"
         ],
         "xaxis": "x3",
         "y": [
          0,
          0,
          0.44,
          0.27,
          0.53,
          0.45,
          0.54,
          0,
          0.7,
          0.63,
          0.68,
          0.77,
          0.84,
          0.78,
          0.86,
          0.81,
          0.89
         ],
         "yaxis": "y3"
        },
        {
         "line": {
          "color": "mediumblue",
          "dash": "dot",
          "width": 2
         },
         "marker": {
          "symbol": "arrow-right"
         },
         "mode": "markers+lines",
         "name": "LENC-CART:4",
         "showlegend": true,
         "type": "scatter",
         "x": [
          "orange_churn",
          "fraud_oracle",
          "taiwan_credit",
          "german_credit",
          "bike_75",
          "bank_marketing",
          "orange_up",
          "compas",
          "heloc",
          "adult",
          "telco_churn_2",
          "house",
          "telco_churn",
          "fraud_detection",
          "boston",
          "electricity",
          "bike_mean"
         ],
         "xaxis": "x3",
         "y": [
          0.03,
          0.07,
          0.42,
          0.54,
          0.51,
          0.46,
          0.56,
          0.6,
          0.68,
          0.41,
          0.67,
          0.7,
          0.66,
          0.77,
          0.83,
          0.67,
          0.88
         ],
         "yaxis": "y3"
        },
        {
         "line": {
          "color": "lime",
          "dash": "dash",
          "width": 2
         },
         "marker": {
          "symbol": "cross"
         },
         "mode": "markers+lines",
         "name": "TREES-BRCG",
         "showlegend": true,
         "type": "scatter",
         "x": [
          "orange_churn",
          "fraud_oracle",
          "taiwan_credit",
          "german_credit",
          "bike_75",
          "bank_marketing",
          "orange_up",
          "compas",
          "heloc",
          "adult",
          "telco_churn_2",
          "house",
          "telco_churn",
          "fraud_detection",
          "boston",
          "electricity",
          "bike_mean"
         ],
         "xaxis": "x3",
         "y": [
          0,
          0,
          0.42,
          0.31,
          0,
          0.42,
          0.56,
          0.61,
          0.67,
          0.55,
          0.68,
          0.7,
          0.65,
          0,
          0.84,
          0.71,
          0.88
         ],
         "yaxis": "y3"
        },
        {
         "line": {
          "color": "gold",
          "dash": "dashdot",
          "width": 2
         },
         "marker": {
          "symbol": "star"
         },
         "mode": "markers+lines",
         "name": "TREES-CORELS",
         "showlegend": true,
         "type": "scatter",
         "x": [
          "orange_churn",
          "fraud_oracle",
          "taiwan_credit",
          "german_credit",
          "bike_75",
          "bank_marketing",
          "orange_up",
          "compas",
          "heloc",
          "adult",
          "telco_churn_2",
          "house",
          "telco_churn",
          "fraud_detection",
          "boston",
          "electricity",
          "bike_mean"
         ],
         "xaxis": "x3",
         "y": [
          0,
          0,
          0.42,
          0.16,
          0,
          0.43,
          0.56,
          0.56,
          0.67,
          0.42,
          0.69,
          0.61,
          0.48,
          0,
          0.87,
          0.67,
          0.82
         ],
         "yaxis": "y3"
        },
        {
         "line": {
          "color": "silver",
          "dash": "dot",
          "width": 2
         },
         "marker": {
          "symbol": "square"
         },
         "mode": "markers+lines",
         "name": "NATIVE-R2N",
         "showlegend": true,
         "type": "scatter",
         "x": [
          "orange_churn",
          "fraud_oracle",
          "taiwan_credit",
          "german_credit",
          "bike_75",
          "bank_marketing",
          "orange_up",
          "compas",
          "heloc",
          "adult",
          "telco_churn_2",
          "house",
          "telco_churn",
          "fraud_detection",
          "boston",
          "electricity",
          "bike_mean"
         ],
         "xaxis": "x3",
         "y": [
          null,
          0,
          0.41,
          0,
          0,
          0.39,
          null,
          0.56,
          0.65,
          0.57,
          0.72,
          0.6,
          0.52,
          0,
          0.86,
          0.61,
          0.68
         ],
         "yaxis": "y3"
        },
        {
         "line": {
          "color": "crimson",
          "dash": "longdash",
          "width": 2
         },
         "marker": {
          "symbol": "diamond"
         },
         "mode": "markers+lines",
         "name": "NATIVE-RIPPER",
         "showlegend": false,
         "type": "scatter",
         "x": [
          "orange_churn",
          "fraud_oracle",
          "taiwan_credit",
          "german_credit",
          "bike_75",
          "bank_marketing",
          "orange_up",
          "compas",
          "heloc",
          "adult",
          "telco_churn_2",
          "house",
          "telco_churn",
          "fraud_detection",
          "boston",
          "electricity",
          "bike_mean"
         ],
         "xaxis": "x2",
         "y": [
          1,
          1,
          5.27,
          4,
          5.67,
          4,
          5.25,
          1,
          5.69,
          6.45,
          3.71,
          6.14,
          4.220000000000001,
          4.83,
          3.22,
          5.58,
          6.44
         ],
         "yaxis": "y2"
        },
        {
         "line": {
          "color": "mediumblue",
          "dash": "dot",
          "width": 2
         },
         "marker": {
          "symbol": "arrow-right"
         },
         "mode": "markers+lines",
         "name": "LENC-CART:4",
         "showlegend": false,
         "type": "scatter",
         "x": [
          "orange_churn",
          "fraud_oracle",
          "taiwan_credit",
          "german_credit",
          "bike_75",
          "bank_marketing",
          "orange_up",
          "compas",
          "heloc",
          "adult",
          "telco_churn_2",
          "house",
          "telco_churn",
          "fraud_detection",
          "boston",
          "electricity",
          "bike_mean"
         ],
         "xaxis": "x2",
         "y": [
          5,
          4.5,
          5,
          5,
          5,
          5,
          4.67,
          5,
          5,
          5,
          5,
          5,
          5,
          4.83,
          4.57,
          5,
          5
         ],
         "yaxis": "y2"
        },
        {
         "line": {
          "color": "lime",
          "dash": "dash",
          "width": 2
         },
         "marker": {
          "symbol": "cross"
         },
         "mode": "markers+lines",
         "name": "TREES-BRCG",
         "showlegend": false,
         "type": "scatter",
         "x": [
          "orange_churn",
          "fraud_oracle",
          "taiwan_credit",
          "german_credit",
          "bike_75",
          "bank_marketing",
          "orange_up",
          "compas",
          "heloc",
          "adult",
          "telco_churn_2",
          "house",
          "telco_churn",
          "fraud_detection",
          "boston",
          "electricity",
          "bike_mean"
         ],
         "xaxis": "x2",
         "y": [
          1,
          1,
          2,
          4.33,
          1,
          3.33,
          5,
          2.67,
          3,
          3,
          4.67,
          3.75,
          3.33,
          1,
          3.2,
          3.5,
          4.67
         ],
         "yaxis": "y2"
        },
        {
         "line": {
          "color": "gold",
          "dash": "dashdot",
          "width": 2
         },
         "marker": {
          "symbol": "star"
         },
         "mode": "markers+lines",
         "name": "TREES-CORELS",
         "showlegend": false,
         "type": "scatter",
         "x": [
          "orange_churn",
          "fraud_oracle",
          "taiwan_credit",
          "german_credit",
          "bike_75",
          "bank_marketing",
          "orange_up",
          "compas",
          "heloc",
          "adult",
          "telco_churn_2",
          "house",
          "telco_churn",
          "fraud_detection",
          "boston",
          "electricity",
          "bike_mean"
         ],
         "xaxis": "x2",
         "y": [
          1,
          1,
          3,
          3,
          1,
          3,
          4,
          3,
          3,
          3,
          3,
          3,
          3,
          1,
          3,
          3,
          4
         ],
         "yaxis": "y2"
        },
        {
         "line": {
          "color": "silver",
          "dash": "dot",
          "width": 2
         },
         "marker": {
          "symbol": "square"
         },
         "mode": "markers+lines",
         "name": "NATIVE-R2N",
         "showlegend": false,
         "type": "scatter",
         "x": [
          "orange_churn",
          "fraud_oracle",
          "taiwan_credit",
          "german_credit",
          "bike_75",
          "bank_marketing",
          "orange_up",
          "compas",
          "heloc",
          "adult",
          "telco_churn_2",
          "house",
          "telco_churn",
          "fraud_detection",
          "boston",
          "electricity",
          "bike_mean"
         ],
         "xaxis": "x2",
         "y": [
          null,
          1,
          2.5,
          7.33,
          1,
          2,
          null,
          2,
          3.33,
          2.5,
          3,
          3,
          2.5,
          1,
          2.5,
          3.33,
          2.5
         ],
         "yaxis": "y2"
        },
        {
         "line": {
          "color": "gray",
          "dash": "solid",
          "width": 2
         },
         "marker": {
          "symbol": "circle"
         },
         "mode": "markers+lines",
         "name": "LENC-XGB",
         "showlegend": false,
         "type": "scatter",
         "x": [
          "orange_churn",
          "fraud_oracle",
          "taiwan_credit",
          "german_credit",
          "bike_75",
          "bank_marketing",
          "orange_up",
          "compas",
          "heloc",
          "adult",
          "telco_churn_2",
          "house",
          "telco_churn",
          "fraud_detection",
          "boston",
          "electricity",
          "bike_mean"
         ],
         "xaxis": "x",
         "y": [
          5.1,
          1.48,
          1.9300000000000002,
          1.05,
          1.1400000000000001,
          1.13,
          5.07,
          1.09,
          1.28,
          1.48,
          1.09,
          1.79,
          1.12,
          11.1,
          1.03,
          1.62,
          1.2
         ],
         "yaxis": "y"
        },
        {
         "line": {
          "color": "crimson",
          "dash": "longdash",
          "width": 2
         },
         "marker": {
          "symbol": "diamond"
         },
         "mode": "markers+lines",
         "name": "NATIVE-RIPPER",
         "showlegend": false,
         "type": "scatter",
         "x": [
          "orange_churn",
          "fraud_oracle",
          "taiwan_credit",
          "german_credit",
          "bike_75",
          "bank_marketing",
          "orange_up",
          "compas",
          "heloc",
          "adult",
          "telco_churn_2",
          "house",
          "telco_churn",
          "fraud_detection",
          "boston",
          "electricity",
          "bike_mean"
         ],
         "xaxis": "x",
         "y": [
          4.220000000000001,
          1.12,
          7.55,
          1.05,
          1.42,
          1.11,
          25.94,
          1.01,
          1.96,
          9.98,
          1.09,
          19.06,
          1.17,
          1128.56,
          1.04,
          20.9,
          1.94
         ],
         "yaxis": "y"
        },
        {
         "line": {
          "color": "mediumblue",
          "dash": "dot",
          "width": 2
         },
         "marker": {
          "symbol": "arrow-right"
         },
         "mode": "markers+lines",
         "name": "LENC-CART:4",
         "showlegend": false,
         "type": "scatter",
         "x": [
          "orange_churn",
          "fraud_oracle",
          "taiwan_credit",
          "german_credit",
          "bike_75",
          "bank_marketing",
          "orange_up",
          "compas",
          "heloc",
          "adult",
          "telco_churn_2",
          "house",
          "telco_churn",
          "fraud_detection",
          "boston",
          "electricity",
          "bike_mean"
         ],
         "xaxis": "x",
         "y": [
          1.73,
          1.08,
          1.1,
          1.01,
          1.01,
          1.01,
          1.74,
          1.01,
          1.02,
          1.04,
          1,
          1.06,
          1.01,
          3.24,
          1,
          1.04,
          1.01
         ],
         "yaxis": "y"
        },
        {
         "line": {
          "color": "lime",
          "dash": "dash",
          "width": 2
         },
         "marker": {
          "symbol": "cross"
         },
         "mode": "markers+lines",
         "name": "TREES-BRCG",
         "showlegend": false,
         "type": "scatter",
         "x": [
          "orange_churn",
          "fraud_oracle",
          "taiwan_credit",
          "german_credit",
          "bike_75",
          "bank_marketing",
          "orange_up",
          "compas",
          "heloc",
          "adult",
          "telco_churn_2",
          "house",
          "telco_churn",
          "fraud_detection",
          "boston",
          "electricity",
          "bike_mean"
         ],
         "xaxis": "x",
         "y": [
          101.76,
          1.53,
          2.49,
          3.15,
          1.12,
          1.8,
          104.14,
          2.2,
          2.96,
          3.51,
          2.7800000000000002,
          4.49,
          1.73,
          3.72,
          2.1399999999999997,
          6.11,
          3.31
         ],
         "yaxis": "y"
        },
        {
         "line": {
          "color": "gold",
          "dash": "dashdot",
          "width": 2
         },
         "marker": {
          "symbol": "star"
         },
         "mode": "markers+lines",
         "name": "TREES-CORELS",
         "showlegend": false,
         "type": "scatter",
         "x": [
          "orange_churn",
          "fraud_oracle",
          "taiwan_credit",
          "german_credit",
          "bike_75",
          "bank_marketing",
          "orange_up",
          "compas",
          "heloc",
          "adult",
          "telco_churn_2",
          "house",
          "telco_churn",
          "fraud_detection",
          "boston",
          "electricity",
          "bike_mean"
         ],
         "xaxis": "x",
         "y": [
          102.9,
          1.19,
          3.7,
          1.04,
          1.07,
          1.08,
          104.28,
          1.09,
          1.12,
          1.41,
          1.04,
          1.26,
          1.06,
          6.1,
          1.02,
          1.54,
          1.13
         ],
         "yaxis": "y"
        },
        {
         "line": {
          "color": "silver",
          "dash": "dot",
          "width": 2
         },
         "marker": {
          "symbol": "square"
         },
         "mode": "markers+lines",
         "name": "NATIVE-R2N",
         "showlegend": false,
         "type": "scatter",
         "x": [
          "orange_churn",
          "fraud_oracle",
          "taiwan_credit",
          "german_credit",
          "bike_75",
          "bank_marketing",
          "orange_up",
          "compas",
          "heloc",
          "adult",
          "telco_churn_2",
          "house",
          "telco_churn",
          "fraud_detection",
          "boston",
          "electricity",
          "bike_mean"
         ],
         "xaxis": "x",
         "y": [
          null,
          76.28,
          144.79,
          5.66,
          58.58,
          19.32,
          null,
          26.65,
          45.47,
          153.52,
          9.88,
          96.81,
          16.369999999999997,
          1230.67,
          3.45,
          187.68,
          67.01
         ],
         "yaxis": "y"
        }
       ],
       "layout": {
        "height": 600,
        "plot_bgcolor": "whitesmoke",
        "template": {
         "data": {
          "bar": [
           {
            "error_x": {
             "color": "#2a3f5f"
            },
            "error_y": {
             "color": "#2a3f5f"
            },
            "marker": {
             "line": {
              "color": "#E5ECF6",
              "width": 0.5
             },
             "pattern": {
              "fillmode": "overlay",
              "size": 10,
              "solidity": 0.2
             }
            },
            "type": "bar"
           }
          ],
          "barpolar": [
           {
            "marker": {
             "line": {
              "color": "#E5ECF6",
              "width": 0.5
             },
             "pattern": {
              "fillmode": "overlay",
              "size": 10,
              "solidity": 0.2
             }
            },
            "type": "barpolar"
           }
          ],
          "carpet": [
           {
            "aaxis": {
             "endlinecolor": "#2a3f5f",
             "gridcolor": "white",
             "linecolor": "white",
             "minorgridcolor": "white",
             "startlinecolor": "#2a3f5f"
            },
            "baxis": {
             "endlinecolor": "#2a3f5f",
             "gridcolor": "white",
             "linecolor": "white",
             "minorgridcolor": "white",
             "startlinecolor": "#2a3f5f"
            },
            "type": "carpet"
           }
          ],
          "choropleth": [
           {
            "colorbar": {
             "outlinewidth": 0,
             "ticks": ""
            },
            "type": "choropleth"
           }
          ],
          "contour": [
           {
            "colorbar": {
             "outlinewidth": 0,
             "ticks": ""
            },
            "colorscale": [
             [
              0,
              "#0d0887"
             ],
             [
              0.1111111111111111,
              "#46039f"
             ],
             [
              0.2222222222222222,
              "#7201a8"
             ],
             [
              0.3333333333333333,
              "#9c179e"
             ],
             [
              0.4444444444444444,
              "#bd3786"
             ],
             [
              0.5555555555555556,
              "#d8576b"
             ],
             [
              0.6666666666666666,
              "#ed7953"
             ],
             [
              0.7777777777777778,
              "#fb9f3a"
             ],
             [
              0.8888888888888888,
              "#fdca26"
             ],
             [
              1,
              "#f0f921"
             ]
            ],
            "type": "contour"
           }
          ],
          "contourcarpet": [
           {
            "colorbar": {
             "outlinewidth": 0,
             "ticks": ""
            },
            "type": "contourcarpet"
           }
          ],
          "heatmap": [
           {
            "colorbar": {
             "outlinewidth": 0,
             "ticks": ""
            },
            "colorscale": [
             [
              0,
              "#0d0887"
             ],
             [
              0.1111111111111111,
              "#46039f"
             ],
             [
              0.2222222222222222,
              "#7201a8"
             ],
             [
              0.3333333333333333,
              "#9c179e"
             ],
             [
              0.4444444444444444,
              "#bd3786"
             ],
             [
              0.5555555555555556,
              "#d8576b"
             ],
             [
              0.6666666666666666,
              "#ed7953"
             ],
             [
              0.7777777777777778,
              "#fb9f3a"
             ],
             [
              0.8888888888888888,
              "#fdca26"
             ],
             [
              1,
              "#f0f921"
             ]
            ],
            "type": "heatmap"
           }
          ],
          "heatmapgl": [
           {
            "colorbar": {
             "outlinewidth": 0,
             "ticks": ""
            },
            "colorscale": [
             [
              0,
              "#0d0887"
             ],
             [
              0.1111111111111111,
              "#46039f"
             ],
             [
              0.2222222222222222,
              "#7201a8"
             ],
             [
              0.3333333333333333,
              "#9c179e"
             ],
             [
              0.4444444444444444,
              "#bd3786"
             ],
             [
              0.5555555555555556,
              "#d8576b"
             ],
             [
              0.6666666666666666,
              "#ed7953"
             ],
             [
              0.7777777777777778,
              "#fb9f3a"
             ],
             [
              0.8888888888888888,
              "#fdca26"
             ],
             [
              1,
              "#f0f921"
             ]
            ],
            "type": "heatmapgl"
           }
          ],
          "histogram": [
           {
            "marker": {
             "pattern": {
              "fillmode": "overlay",
              "size": 10,
              "solidity": 0.2
             }
            },
            "type": "histogram"
           }
          ],
          "histogram2d": [
           {
            "colorbar": {
             "outlinewidth": 0,
             "ticks": ""
            },
            "colorscale": [
             [
              0,
              "#0d0887"
             ],
             [
              0.1111111111111111,
              "#46039f"
             ],
             [
              0.2222222222222222,
              "#7201a8"
             ],
             [
              0.3333333333333333,
              "#9c179e"
             ],
             [
              0.4444444444444444,
              "#bd3786"
             ],
             [
              0.5555555555555556,
              "#d8576b"
             ],
             [
              0.6666666666666666,
              "#ed7953"
             ],
             [
              0.7777777777777778,
              "#fb9f3a"
             ],
             [
              0.8888888888888888,
              "#fdca26"
             ],
             [
              1,
              "#f0f921"
             ]
            ],
            "type": "histogram2d"
           }
          ],
          "histogram2dcontour": [
           {
            "colorbar": {
             "outlinewidth": 0,
             "ticks": ""
            },
            "colorscale": [
             [
              0,
              "#0d0887"
             ],
             [
              0.1111111111111111,
              "#46039f"
             ],
             [
              0.2222222222222222,
              "#7201a8"
             ],
             [
              0.3333333333333333,
              "#9c179e"
             ],
             [
              0.4444444444444444,
              "#bd3786"
             ],
             [
              0.5555555555555556,
              "#d8576b"
             ],
             [
              0.6666666666666666,
              "#ed7953"
             ],
             [
              0.7777777777777778,
              "#fb9f3a"
             ],
             [
              0.8888888888888888,
              "#fdca26"
             ],
             [
              1,
              "#f0f921"
             ]
            ],
            "type": "histogram2dcontour"
           }
          ],
          "mesh3d": [
           {
            "colorbar": {
             "outlinewidth": 0,
             "ticks": ""
            },
            "type": "mesh3d"
           }
          ],
          "parcoords": [
           {
            "line": {
             "colorbar": {
              "outlinewidth": 0,
              "ticks": ""
             }
            },
            "type": "parcoords"
           }
          ],
          "pie": [
           {
            "automargin": true,
            "type": "pie"
           }
          ],
          "scatter": [
           {
            "fillpattern": {
             "fillmode": "overlay",
             "size": 10,
             "solidity": 0.2
            },
            "type": "scatter"
           }
          ],
          "scatter3d": [
           {
            "line": {
             "colorbar": {
              "outlinewidth": 0,
              "ticks": ""
             }
            },
            "marker": {
             "colorbar": {
              "outlinewidth": 0,
              "ticks": ""
             }
            },
            "type": "scatter3d"
           }
          ],
          "scattercarpet": [
           {
            "marker": {
             "colorbar": {
              "outlinewidth": 0,
              "ticks": ""
             }
            },
            "type": "scattercarpet"
           }
          ],
          "scattergeo": [
           {
            "marker": {
             "colorbar": {
              "outlinewidth": 0,
              "ticks": ""
             }
            },
            "type": "scattergeo"
           }
          ],
          "scattergl": [
           {
            "marker": {
             "colorbar": {
              "outlinewidth": 0,
              "ticks": ""
             }
            },
            "type": "scattergl"
           }
          ],
          "scattermapbox": [
           {
            "marker": {
             "colorbar": {
              "outlinewidth": 0,
              "ticks": ""
             }
            },
            "type": "scattermapbox"
           }
          ],
          "scatterpolar": [
           {
            "marker": {
             "colorbar": {
              "outlinewidth": 0,
              "ticks": ""
             }
            },
            "type": "scatterpolar"
           }
          ],
          "scatterpolargl": [
           {
            "marker": {
             "colorbar": {
              "outlinewidth": 0,
              "ticks": ""
             }
            },
            "type": "scatterpolargl"
           }
          ],
          "scatterternary": [
           {
            "marker": {
             "colorbar": {
              "outlinewidth": 0,
              "ticks": ""
             }
            },
            "type": "scatterternary"
           }
          ],
          "surface": [
           {
            "colorbar": {
             "outlinewidth": 0,
             "ticks": ""
            },
            "colorscale": [
             [
              0,
              "#0d0887"
             ],
             [
              0.1111111111111111,
              "#46039f"
             ],
             [
              0.2222222222222222,
              "#7201a8"
             ],
             [
              0.3333333333333333,
              "#9c179e"
             ],
             [
              0.4444444444444444,
              "#bd3786"
             ],
             [
              0.5555555555555556,
              "#d8576b"
             ],
             [
              0.6666666666666666,
              "#ed7953"
             ],
             [
              0.7777777777777778,
              "#fb9f3a"
             ],
             [
              0.8888888888888888,
              "#fdca26"
             ],
             [
              1,
              "#f0f921"
             ]
            ],
            "type": "surface"
           }
          ],
          "table": [
           {
            "cells": {
             "fill": {
              "color": "#EBF0F8"
             },
             "line": {
              "color": "white"
             }
            },
            "header": {
             "fill": {
              "color": "#C8D4E3"
             },
             "line": {
              "color": "white"
             }
            },
            "type": "table"
           }
          ]
         },
         "layout": {
          "annotationdefaults": {
           "arrowcolor": "#2a3f5f",
           "arrowhead": 0,
           "arrowwidth": 1
          },
          "autotypenumbers": "strict",
          "coloraxis": {
           "colorbar": {
            "outlinewidth": 0,
            "ticks": ""
           }
          },
          "colorscale": {
           "diverging": [
            [
             0,
             "#8e0152"
            ],
            [
             0.1,
             "#c51b7d"
            ],
            [
             0.2,
             "#de77ae"
            ],
            [
             0.3,
             "#f1b6da"
            ],
            [
             0.4,
             "#fde0ef"
            ],
            [
             0.5,
             "#f7f7f7"
            ],
            [
             0.6,
             "#e6f5d0"
            ],
            [
             0.7,
             "#b8e186"
            ],
            [
             0.8,
             "#7fbc41"
            ],
            [
             0.9,
             "#4d9221"
            ],
            [
             1,
             "#276419"
            ]
           ],
           "sequential": [
            [
             0,
             "#0d0887"
            ],
            [
             0.1111111111111111,
             "#46039f"
            ],
            [
             0.2222222222222222,
             "#7201a8"
            ],
            [
             0.3333333333333333,
             "#9c179e"
            ],
            [
             0.4444444444444444,
             "#bd3786"
            ],
            [
             0.5555555555555556,
             "#d8576b"
            ],
            [
             0.6666666666666666,
             "#ed7953"
            ],
            [
             0.7777777777777778,
             "#fb9f3a"
            ],
            [
             0.8888888888888888,
             "#fdca26"
            ],
            [
             1,
             "#f0f921"
            ]
           ],
           "sequentialminus": [
            [
             0,
             "#0d0887"
            ],
            [
             0.1111111111111111,
             "#46039f"
            ],
            [
             0.2222222222222222,
             "#7201a8"
            ],
            [
             0.3333333333333333,
             "#9c179e"
            ],
            [
             0.4444444444444444,
             "#bd3786"
            ],
            [
             0.5555555555555556,
             "#d8576b"
            ],
            [
             0.6666666666666666,
             "#ed7953"
            ],
            [
             0.7777777777777778,
             "#fb9f3a"
            ],
            [
             0.8888888888888888,
             "#fdca26"
            ],
            [
             1,
             "#f0f921"
            ]
           ]
          },
          "colorway": [
           "#636efa",
           "#EF553B",
           "#00cc96",
           "#ab63fa",
           "#FFA15A",
           "#19d3f3",
           "#FF6692",
           "#B6E880",
           "#FF97FF",
           "#FECB52"
          ],
          "font": {
           "color": "#2a3f5f"
          },
          "geo": {
           "bgcolor": "white",
           "lakecolor": "white",
           "landcolor": "#E5ECF6",
           "showlakes": true,
           "showland": true,
           "subunitcolor": "white"
          },
          "hoverlabel": {
           "align": "left"
          },
          "hovermode": "closest",
          "mapbox": {
           "style": "light"
          },
          "paper_bgcolor": "white",
          "plot_bgcolor": "#E5ECF6",
          "polar": {
           "angularaxis": {
            "gridcolor": "white",
            "linecolor": "white",
            "ticks": ""
           },
           "bgcolor": "#E5ECF6",
           "radialaxis": {
            "gridcolor": "white",
            "linecolor": "white",
            "ticks": ""
           }
          },
          "scene": {
           "xaxis": {
            "backgroundcolor": "#E5ECF6",
            "gridcolor": "white",
            "gridwidth": 2,
            "linecolor": "white",
            "showbackground": true,
            "ticks": "",
            "zerolinecolor": "white"
           },
           "yaxis": {
            "backgroundcolor": "#E5ECF6",
            "gridcolor": "white",
            "gridwidth": 2,
            "linecolor": "white",
            "showbackground": true,
            "ticks": "",
            "zerolinecolor": "white"
           },
           "zaxis": {
            "backgroundcolor": "#E5ECF6",
            "gridcolor": "white",
            "gridwidth": 2,
            "linecolor": "white",
            "showbackground": true,
            "ticks": "",
            "zerolinecolor": "white"
           }
          },
          "shapedefaults": {
           "line": {
            "color": "#2a3f5f"
           }
          },
          "ternary": {
           "aaxis": {
            "gridcolor": "white",
            "linecolor": "white",
            "ticks": ""
           },
           "baxis": {
            "gridcolor": "white",
            "linecolor": "white",
            "ticks": ""
           },
           "bgcolor": "#E5ECF6",
           "caxis": {
            "gridcolor": "white",
            "linecolor": "white",
            "ticks": ""
           }
          },
          "title": {
           "x": 0.05
          },
          "xaxis": {
           "automargin": true,
           "gridcolor": "white",
           "linecolor": "white",
           "ticks": "",
           "title": {
            "standoff": 15
           },
           "zerolinecolor": "white",
           "zerolinewidth": 2
          },
          "yaxis": {
           "automargin": true,
           "gridcolor": "white",
           "linecolor": "white",
           "ticks": "",
           "title": {
            "standoff": 15
           },
           "zerolinecolor": "white",
           "zerolinewidth": 2
          }
         }
        },
        "title": {
         "text": "f-score, average of predicates and training time on core suite"
        },
        "width": 1000,
        "xaxis": {
         "anchor": "y",
         "domain": [
          0,
          1
         ],
         "matches": "x3",
         "showticklabels": false
        },
        "xaxis2": {
         "anchor": "y2",
         "domain": [
          0,
          1
         ],
         "matches": "x3",
         "showticklabels": false
        },
        "xaxis3": {
         "anchor": "y3",
         "domain": [
          0,
          1
         ]
        },
        "yaxis": {
         "anchor": "x",
         "domain": [
          0.68,
          1
         ],
         "title": {
          "text": "time (secs)"
         },
         "type": "log"
        },
        "yaxis2": {
         "anchor": "x2",
         "domain": [
          0.34,
          0.66
         ],
         "title": {
          "text": "average of predicates"
         },
         "type": "log"
        },
        "yaxis3": {
         "anchor": "x3",
         "domain": [
          0,
          0.32
         ],
         "title": {
          "text": "f-score"
         }
        }
       }
      }
     },
     "metadata": {},
     "output_type": "display_data"
    }
   ],
   "source": [
    "perf_metric = 'f'\n",
    "sorted_df = df_core_suite.sort_values('LENC-XGB_'+perf_metric, ignore_index=True)\n",
    "triple_chart(pipelines=DEFAULT_RI_PIPELINES, performance_metric=perf_metric, complexity_metric='avg_preds', df=sorted_df, df_long_name='core suite')"
   ]
  },
  {
   "attachments": {},
   "cell_type": "markdown",
   "metadata": {},
   "source": [
    "## Pipelines with non-standard configurations on core suite"
   ]
  },
  {
   "attachments": {},
   "cell_type": "markdown",
   "metadata": {},
   "source": [
    "### Overview: All pipelines"
   ]
  },
  {
   "cell_type": "code",
   "execution_count": 1057,
   "metadata": {},
   "outputs": [
    {
     "data": {
      "application/vnd.plotly.v1+json": {
       "config": {
        "plotlyServerURL": "https://plot.ly"
       },
       "data": [
        {
         "line": {
          "color": "gray",
          "dash": "solid",
          "width": 2
         },
         "marker": {
          "symbol": "circle"
         },
         "mode": "markers+lines",
         "name": "LENC-XGB",
         "showlegend": true,
         "type": "scatter",
         "x": [
          "orange_churn",
          "fraud_oracle",
          "taiwan_credit",
          "german_credit",
          "bike_75",
          "bank_marketing",
          "orange_up",
          "compas",
          "heloc",
          "adult",
          "telco_churn_2",
          "house",
          "telco_churn",
          "fraud_detection",
          "boston",
          "electricity",
          "bike_mean"
         ],
         "xaxis": "x3",
         "y": [
          0.05,
          0.45,
          0.47,
          0.47,
          0.5,
          0.51,
          0.56,
          0.61,
          0.68,
          0.71,
          0.71,
          0.82,
          0.84,
          0.84,
          0.88,
          0.89,
          0.92
         ],
         "yaxis": "y3"
        },
        {
         "line": {
          "color": "darkkhaki",
          "dash": "solid",
          "width": 2
         },
         "marker": {
          "symbol": "cross"
         },
         "mode": "markers+lines",
         "name": "NATIVE-CONST",
         "showlegend": true,
         "type": "scatter",
         "x": [
          "orange_churn",
          "fraud_oracle",
          "taiwan_credit",
          "german_credit",
          "bike_75",
          "bank_marketing",
          "orange_up",
          "compas",
          "heloc",
          "adult",
          "telco_churn_2",
          "house",
          "telco_churn",
          "fraud_detection",
          "boston",
          "electricity",
          "bike_mean"
         ],
         "xaxis": "x3",
         "y": [
          0.14,
          0.13,
          0.36,
          0.45,
          0.01,
          0.19,
          0.13,
          0.63,
          0.65,
          0.37,
          0.67,
          0.45,
          0.26,
          0,
          0.64,
          0.59,
          0.59
         ],
         "yaxis": "y3"
        },
        {
         "line": {
          "color": "salmon",
          "dash": "longdash",
          "width": 2
         },
         "marker": {
          "symbol": "diamond"
         },
         "mode": "markers+lines",
         "name": "QUANTILE-RIPPER",
         "showlegend": true,
         "type": "scatter",
         "x": [
          "orange_churn",
          "fraud_oracle",
          "taiwan_credit",
          "german_credit",
          "bike_75",
          "bank_marketing",
          "orange_up",
          "compas",
          "heloc",
          "adult",
          "telco_churn_2",
          "house",
          "telco_churn",
          "fraud_detection",
          "boston",
          "electricity",
          "bike_mean"
         ],
         "xaxis": "x3",
         "y": [
          null,
          0.1,
          0.45,
          0.25,
          0,
          0.32,
          null,
          0,
          0.7,
          0.62,
          0.67,
          0.77,
          0.77,
          0.76,
          0.85,
          0,
          0.88
         ],
         "yaxis": "y3"
        },
        {
         "line": {
          "color": "orangered",
          "dash": "longdash",
          "width": 2
         },
         "marker": {
          "symbol": "diamond"
         },
         "mode": "markers+lines",
         "name": "TREES-RIPPER",
         "showlegend": true,
         "type": "scatter",
         "x": [
          "orange_churn",
          "fraud_oracle",
          "taiwan_credit",
          "german_credit",
          "bike_75",
          "bank_marketing",
          "orange_up",
          "compas",
          "heloc",
          "adult",
          "telco_churn_2",
          "house",
          "telco_churn",
          "fraud_detection",
          "boston",
          "electricity",
          "bike_mean"
         ],
         "xaxis": "x3",
         "y": [
          0,
          0.17,
          0,
          null,
          0.14,
          0,
          0,
          0,
          0,
          0,
          0,
          0,
          null,
          null,
          0,
          0,
          0
         ],
         "yaxis": "y3"
        },
        {
         "line": {
          "color": "magenta",
          "dash": "longdash",
          "width": 2
         },
         "marker": {
          "symbol": "diamond"
         },
         "mode": "markers+lines",
         "name": "NATIVE-RIPPER2",
         "showlegend": true,
         "type": "scatter",
         "x": [
          "orange_churn",
          "fraud_oracle",
          "taiwan_credit",
          "german_credit",
          "bike_75",
          "bank_marketing",
          "orange_up",
          "compas",
          "heloc",
          "adult",
          "telco_churn_2",
          "house",
          "telco_churn",
          "fraud_detection",
          "boston",
          "electricity",
          "bike_mean"
         ],
         "xaxis": "x3",
         "y": [
          0,
          0,
          0.44,
          0.46,
          0.53,
          0.45,
          0.54,
          0,
          0.7,
          0.63,
          0.68,
          0.77,
          0.84,
          0.78,
          0.86,
          0.81,
          0.89
         ],
         "yaxis": "y3"
        },
        {
         "line": {
          "color": "darkorchid",
          "dash": "longdash",
          "width": 2
         },
         "marker": {
          "symbol": "diamond"
         },
         "mode": "markers+lines",
         "name": "NATIVE-RIPPER3",
         "showlegend": true,
         "type": "scatter",
         "x": [
          "orange_churn",
          "fraud_oracle",
          "taiwan_credit",
          "german_credit",
          "bike_75",
          "bank_marketing",
          "orange_up",
          "compas",
          "heloc",
          "adult",
          "telco_churn_2",
          "house",
          "telco_churn",
          "fraud_detection",
          "boston",
          "electricity",
          "bike_mean"
         ],
         "xaxis": "x3",
         "y": [
          0,
          0,
          0.44,
          0.46,
          0.53,
          0.45,
          0.54,
          0,
          0.7,
          0.63,
          0.68,
          0.77,
          0.84,
          0.78,
          0.86,
          0.83,
          0.89
         ],
         "yaxis": "y3"
        },
        {
         "line": {
          "color": "crimson",
          "dash": "longdash",
          "width": 2
         },
         "marker": {
          "symbol": "diamond"
         },
         "mode": "markers+lines",
         "name": "NATIVE-RIPPER",
         "showlegend": true,
         "type": "scatter",
         "x": [
          "orange_churn",
          "fraud_oracle",
          "taiwan_credit",
          "german_credit",
          "bike_75",
          "bank_marketing",
          "orange_up",
          "compas",
          "heloc",
          "adult",
          "telco_churn_2",
          "house",
          "telco_churn",
          "fraud_detection",
          "boston",
          "electricity",
          "bike_mean"
         ],
         "xaxis": "x3",
         "y": [
          0,
          0,
          0.44,
          0.27,
          0.53,
          0.45,
          0.54,
          0,
          0.7,
          0.63,
          0.68,
          0.77,
          0.84,
          0.78,
          0.86,
          0.81,
          0.89
         ],
         "yaxis": "y3"
        },
        {
         "line": {
          "color": "plum",
          "dash": "dash",
          "width": 2
         },
         "marker": {
          "symbol": "cross"
         },
         "mode": "markers+lines",
         "name": "QUANTILE-BRCG",
         "showlegend": true,
         "type": "scatter",
         "x": [
          "orange_churn",
          "fraud_oracle",
          "taiwan_credit",
          "german_credit",
          "bike_75",
          "bank_marketing",
          "orange_up",
          "compas",
          "heloc",
          "adult",
          "telco_churn_2",
          "house",
          "telco_churn",
          "fraud_detection",
          "boston",
          "electricity",
          "bike_mean"
         ],
         "xaxis": "x3",
         "y": [
          null,
          0,
          0.42,
          0.46,
          0,
          0.4,
          null,
          0.61,
          0.68,
          0.62,
          0.68,
          0.68,
          0.69,
          0,
          0.82,
          0.7,
          0.84
         ],
         "yaxis": "y3"
        },
        {
         "line": {
          "color": "forestgreen",
          "dash": "dash",
          "width": 2
         },
         "marker": {
          "symbol": "cross"
         },
         "mode": "markers+lines",
         "name": "TREES-BRCG2",
         "showlegend": true,
         "type": "scatter",
         "x": [
          "orange_churn",
          "fraud_oracle",
          "taiwan_credit",
          "german_credit",
          "bike_75",
          "bank_marketing",
          "orange_up",
          "compas",
          "heloc",
          "adult",
          "telco_churn_2",
          "house",
          "telco_churn",
          "fraud_detection",
          "boston",
          "electricity",
          "bike_mean"
         ],
         "xaxis": "x3",
         "y": [
          0.02,
          0.07,
          0.41,
          0.32,
          0.51,
          0.42,
          0.56,
          0.56,
          0.67,
          0.56,
          0.67,
          0.68,
          0.68,
          0.75,
          0.85,
          0.71,
          0.88
         ],
         "yaxis": "y3"
        },
        {
         "line": {
          "color": "maroon",
          "dash": "dash",
          "width": 2
         },
         "marker": {
          "symbol": "cross"
         },
         "mode": "markers+lines",
         "name": "QUANTILE-BRCG2",
         "showlegend": true,
         "type": "scatter",
         "x": [
          "orange_churn",
          "fraud_oracle",
          "taiwan_credit",
          "german_credit",
          "bike_75",
          "bank_marketing",
          "orange_up",
          "compas",
          "heloc",
          "adult",
          "telco_churn_2",
          "house",
          "telco_churn",
          "fraud_detection",
          "boston",
          "electricity",
          "bike_mean"
         ],
         "xaxis": "x3",
         "y": [
          null,
          0.01,
          0.42,
          0.46,
          0,
          0.36,
          null,
          0.56,
          0.68,
          0.55,
          0.63,
          0.69,
          0.68,
          0.71,
          0.84,
          0.68,
          0.84
         ],
         "yaxis": "y3"
        },
        {
         "line": {
          "color": "yellowgreen",
          "dash": "solid",
          "width": 2
         },
         "marker": {
          "symbol": "cross"
         },
         "mode": "markers+lines",
         "name": "TREES2-BRCG2",
         "showlegend": true,
         "type": "scatter",
         "x": [
          "orange_churn",
          "fraud_oracle",
          "taiwan_credit",
          "german_credit",
          "bike_75",
          "bank_marketing",
          "orange_up",
          "compas",
          "heloc",
          "adult",
          "telco_churn_2",
          "house",
          "telco_churn",
          "fraud_detection",
          "boston",
          "electricity",
          "bike_mean"
         ],
         "xaxis": "x3",
         "y": [
          0.02,
          0.07,
          0.42,
          0.39,
          0.47,
          0.5,
          0.56,
          0.56,
          0.69,
          0.6,
          0.67,
          0.7,
          0.65,
          0.75,
          0.82,
          0.68,
          0.83
         ],
         "yaxis": "y3"
        },
        {
         "line": {
          "color": "aquamarine",
          "dash": "dash",
          "width": 2
         },
         "marker": {
          "symbol": "cross"
         },
         "mode": "markers+lines",
         "name": "TREES2-BRCG",
         "showlegend": true,
         "type": "scatter",
         "x": [
          "orange_churn",
          "fraud_oracle",
          "taiwan_credit",
          "german_credit",
          "bike_75",
          "bank_marketing",
          "orange_up",
          "compas",
          "heloc",
          "adult",
          "telco_churn_2",
          "house",
          "telco_churn",
          "fraud_detection",
          "boston",
          "electricity",
          "bike_mean"
         ],
         "xaxis": "x3",
         "y": [
          0,
          0,
          0.42,
          0.43,
          0,
          0.42,
          0.56,
          0.58,
          0.71,
          0.55,
          0.65,
          0.7,
          0.72,
          0,
          0.82,
          0.7,
          0.86
         ],
         "yaxis": "y3"
        },
        {
         "line": {
          "color": "lime",
          "dash": "dash",
          "width": 2
         },
         "marker": {
          "symbol": "cross"
         },
         "mode": "markers+lines",
         "name": "TREES-BRCG",
         "showlegend": true,
         "type": "scatter",
         "x": [
          "orange_churn",
          "fraud_oracle",
          "taiwan_credit",
          "german_credit",
          "bike_75",
          "bank_marketing",
          "orange_up",
          "compas",
          "heloc",
          "adult",
          "telco_churn_2",
          "house",
          "telco_churn",
          "fraud_detection",
          "boston",
          "electricity",
          "bike_mean"
         ],
         "xaxis": "x3",
         "y": [
          0,
          0,
          0.42,
          0.31,
          0,
          0.42,
          0.56,
          0.61,
          0.67,
          0.55,
          0.68,
          0.7,
          0.65,
          0,
          0.84,
          0.71,
          0.88
         ],
         "yaxis": "y3"
        },
        {
         "line": {
          "color": "palevioletred",
          "dash": "dashdot",
          "width": 2
         },
         "marker": {
          "symbol": "star"
         },
         "mode": "markers+lines",
         "name": "QUANTILE-CORELS",
         "showlegend": true,
         "type": "scatter",
         "x": [
          "orange_churn",
          "fraud_oracle",
          "taiwan_credit",
          "german_credit",
          "bike_75",
          "bank_marketing",
          "orange_up",
          "compas",
          "heloc",
          "adult",
          "telco_churn_2",
          "house",
          "telco_churn",
          "fraud_detection",
          "boston",
          "electricity",
          "bike_mean"
         ],
         "xaxis": "x3",
         "y": [
          null,
          0,
          0.42,
          0.4,
          0,
          0.44,
          null,
          0.56,
          0.68,
          0.35,
          0.71,
          0.63,
          0.17,
          0,
          0.82,
          0.67,
          0.72
         ],
         "yaxis": "y3"
        },
        {
         "line": {
          "color": "darkorange",
          "dash": "dashdot",
          "width": 2
         },
         "marker": {
          "symbol": "star"
         },
         "mode": "markers+lines",
         "name": "TREES-CORELS2",
         "showlegend": true,
         "type": "scatter",
         "x": [
          "orange_churn",
          "fraud_oracle",
          "taiwan_credit",
          "german_credit",
          "bike_75",
          "bank_marketing",
          "orange_up",
          "compas",
          "heloc",
          "adult",
          "telco_churn_2",
          "house",
          "telco_churn",
          "fraud_detection",
          "boston",
          "electricity",
          "bike_mean"
         ],
         "xaxis": "x3",
         "y": [
          0,
          0.06,
          0.44,
          0.42,
          0,
          0.43,
          0.56,
          0.61,
          0.67,
          0.42,
          0.69,
          0.6,
          0.34,
          0,
          0.87,
          0.67,
          0.81
         ],
         "yaxis": "y3"
        },
        {
         "line": {
          "color": "wheat",
          "dash": "dashdot",
          "width": 2
         },
         "marker": {
          "symbol": "star"
         },
         "mode": "markers+lines",
         "name": "TREES2-CORELS2",
         "showlegend": true,
         "type": "scatter",
         "x": [
          "orange_churn",
          "fraud_oracle",
          "taiwan_credit",
          "german_credit",
          "bike_75",
          "bank_marketing",
          "orange_up",
          "compas",
          "heloc",
          "adult",
          "telco_churn_2",
          "house",
          "telco_churn",
          "fraud_detection",
          "boston",
          "electricity",
          "bike_mean"
         ],
         "xaxis": "x3",
         "y": [
          0,
          0,
          0.42,
          0.41,
          0,
          0.43,
          0.56,
          0.61,
          0.67,
          0.45,
          0.69,
          0.61,
          0.33,
          0,
          0.8,
          0.7,
          0.81
         ],
         "yaxis": "y3"
        },
        {
         "line": {
          "color": "gold",
          "dash": "dashdot",
          "width": 2
         },
         "marker": {
          "symbol": "star"
         },
         "mode": "markers+lines",
         "name": "TREES-CORELS",
         "showlegend": true,
         "type": "scatter",
         "x": [
          "orange_churn",
          "fraud_oracle",
          "taiwan_credit",
          "german_credit",
          "bike_75",
          "bank_marketing",
          "orange_up",
          "compas",
          "heloc",
          "adult",
          "telco_churn_2",
          "house",
          "telco_churn",
          "fraud_detection",
          "boston",
          "electricity",
          "bike_mean"
         ],
         "xaxis": "x3",
         "y": [
          0,
          0,
          0.42,
          0.16,
          0,
          0.43,
          0.56,
          0.56,
          0.67,
          0.42,
          0.69,
          0.61,
          0.48,
          0,
          0.87,
          0.67,
          0.82
         ],
         "yaxis": "y3"
        },
        {
         "line": {
          "color": "lightskyblue",
          "dash": "solid",
          "width": 2
         },
         "marker": {
          "symbol": "arrow-left"
         },
         "mode": "markers+lines",
         "name": "LENC-CART:*",
         "showlegend": true,
         "type": "scatter",
         "x": [
          "orange_churn",
          "fraud_oracle",
          "taiwan_credit",
          "german_credit",
          "bike_75",
          "bank_marketing",
          "orange_up",
          "compas",
          "heloc",
          "adult",
          "telco_churn_2",
          "house",
          "telco_churn",
          "fraud_detection",
          "boston",
          "electricity",
          "bike_mean"
         ],
         "xaxis": "x3",
         "y": [
          0.14,
          0.29,
          0.4,
          0.49,
          0.42,
          0.48,
          0.39,
          0.6,
          0.61,
          0.6,
          0.67,
          0.73,
          0.73,
          0.71,
          0.83,
          0.86,
          0.88
         ],
         "yaxis": "y3"
        },
        {
         "line": {
          "color": "cornflowerblue",
          "dash": "longdash",
          "width": 2
         },
         "marker": {
          "symbol": "diamond"
         },
         "mode": "markers+lines",
         "name": "LENC-CART:6",
         "showlegend": true,
         "type": "scatter",
         "x": [
          "orange_churn",
          "fraud_oracle",
          "taiwan_credit",
          "german_credit",
          "bike_75",
          "bank_marketing",
          "orange_up",
          "compas",
          "heloc",
          "adult",
          "telco_churn_2",
          "house",
          "telco_churn",
          "fraud_detection",
          "boston",
          "electricity",
          "bike_mean"
         ],
         "xaxis": "x3",
         "y": [
          0.07,
          0.08,
          0.44,
          0.59,
          0.47,
          0.46,
          0.57,
          0.59,
          0.66,
          0.46,
          0.69,
          0.75,
          0.76,
          0.79,
          0.83,
          0.71,
          0.89
         ],
         "yaxis": "y3"
        },
        {
         "line": {
          "color": "mediumblue",
          "dash": "dot",
          "width": 2
         },
         "marker": {
          "symbol": "arrow-right"
         },
         "mode": "markers+lines",
         "name": "LENC-CART:4",
         "showlegend": true,
         "type": "scatter",
         "x": [
          "orange_churn",
          "fraud_oracle",
          "taiwan_credit",
          "german_credit",
          "bike_75",
          "bank_marketing",
          "orange_up",
          "compas",
          "heloc",
          "adult",
          "telco_churn_2",
          "house",
          "telco_churn",
          "fraud_detection",
          "boston",
          "electricity",
          "bike_mean"
         ],
         "xaxis": "x3",
         "y": [
          0.03,
          0.07,
          0.42,
          0.54,
          0.51,
          0.46,
          0.56,
          0.6,
          0.68,
          0.41,
          0.67,
          0.7,
          0.66,
          0.77,
          0.83,
          0.67,
          0.88
         ],
         "yaxis": "y3"
        },
        {
         "line": {
          "color": "silver",
          "dash": "dot",
          "width": 2
         },
         "marker": {
          "symbol": "square"
         },
         "mode": "markers+lines",
         "name": "NATIVE-R2N",
         "showlegend": true,
         "type": "scatter",
         "x": [
          "orange_churn",
          "fraud_oracle",
          "taiwan_credit",
          "german_credit",
          "bike_75",
          "bank_marketing",
          "orange_up",
          "compas",
          "heloc",
          "adult",
          "telco_churn_2",
          "house",
          "telco_churn",
          "fraud_detection",
          "boston",
          "electricity",
          "bike_mean"
         ],
         "xaxis": "x3",
         "y": [
          null,
          0,
          0.41,
          0,
          0,
          0.39,
          null,
          0.56,
          0.65,
          0.57,
          0.72,
          0.6,
          0.52,
          0,
          0.86,
          0.61,
          0.68
         ],
         "yaxis": "y3"
        },
        {
         "line": {
          "color": "salmon",
          "dash": "longdash",
          "width": 2
         },
         "marker": {
          "symbol": "diamond"
         },
         "mode": "markers+lines",
         "name": "QUANTILE-RIPPER",
         "showlegend": false,
         "type": "scatter",
         "x": [
          "orange_churn",
          "fraud_oracle",
          "taiwan_credit",
          "german_credit",
          "bike_75",
          "bank_marketing",
          "orange_up",
          "compas",
          "heloc",
          "adult",
          "telco_churn_2",
          "house",
          "telco_churn",
          "fraud_detection",
          "boston",
          "electricity",
          "bike_mean"
         ],
         "xaxis": "x2",
         "y": [
          null,
          3,
          12,
          3,
          1,
          3,
          null,
          1,
          23,
          42,
          23,
          41,
          8,
          10,
          12,
          1,
          22
         ],
         "yaxis": "y2"
        },
        {
         "line": {
          "color": "orangered",
          "dash": "longdash",
          "width": 2
         },
         "marker": {
          "symbol": "diamond"
         },
         "mode": "markers+lines",
         "name": "TREES-RIPPER",
         "showlegend": false,
         "type": "scatter",
         "x": [
          "orange_churn",
          "fraud_oracle",
          "taiwan_credit",
          "german_credit",
          "bike_75",
          "bank_marketing",
          "orange_up",
          "compas",
          "heloc",
          "adult",
          "telco_churn_2",
          "house",
          "telco_churn",
          "fraud_detection",
          "boston",
          "electricity",
          "bike_mean"
         ],
         "xaxis": "x2",
         "y": [
          1,
          15,
          1,
          null,
          5,
          1,
          1,
          1,
          1,
          1,
          1,
          1,
          null,
          null,
          1,
          1,
          1
         ],
         "yaxis": "y2"
        },
        {
         "line": {
          "color": "magenta",
          "dash": "longdash",
          "width": 2
         },
         "marker": {
          "symbol": "diamond"
         },
         "mode": "markers+lines",
         "name": "NATIVE-RIPPER2",
         "showlegend": false,
         "type": "scatter",
         "x": [
          "orange_churn",
          "fraud_oracle",
          "taiwan_credit",
          "german_credit",
          "bike_75",
          "bank_marketing",
          "orange_up",
          "compas",
          "heloc",
          "adult",
          "telco_churn_2",
          "house",
          "telco_churn",
          "fraud_detection",
          "boston",
          "electricity",
          "bike_mean"
         ],
         "xaxis": "x2",
         "y": [
          1,
          1,
          12,
          18,
          10,
          7,
          9,
          1,
          17,
          39,
          23,
          38,
          10,
          7,
          10,
          61,
          19
         ],
         "yaxis": "y2"
        },
        {
         "line": {
          "color": "darkorchid",
          "dash": "longdash",
          "width": 2
         },
         "marker": {
          "symbol": "diamond"
         },
         "mode": "markers+lines",
         "name": "NATIVE-RIPPER3",
         "showlegend": false,
         "type": "scatter",
         "x": [
          "orange_churn",
          "fraud_oracle",
          "taiwan_credit",
          "german_credit",
          "bike_75",
          "bank_marketing",
          "orange_up",
          "compas",
          "heloc",
          "adult",
          "telco_churn_2",
          "house",
          "telco_churn",
          "fraud_detection",
          "boston",
          "electricity",
          "bike_mean"
         ],
         "xaxis": "x2",
         "y": [
          1,
          1,
          12,
          18,
          10,
          7,
          9,
          1,
          17,
          39,
          23,
          38,
          10,
          7,
          10,
          100,
          19
         ],
         "yaxis": "y2"
        },
        {
         "line": {
          "color": "crimson",
          "dash": "longdash",
          "width": 2
         },
         "marker": {
          "symbol": "diamond"
         },
         "mode": "markers+lines",
         "name": "NATIVE-RIPPER",
         "showlegend": false,
         "type": "scatter",
         "x": [
          "orange_churn",
          "fraud_oracle",
          "taiwan_credit",
          "german_credit",
          "bike_75",
          "bank_marketing",
          "orange_up",
          "compas",
          "heloc",
          "adult",
          "telco_churn_2",
          "house",
          "telco_churn",
          "fraud_detection",
          "boston",
          "electricity",
          "bike_mean"
         ],
         "xaxis": "x2",
         "y": [
          1,
          1,
          12,
          3,
          10,
          7,
          9,
          1,
          17,
          39,
          8,
          38,
          10,
          7,
          10,
          61,
          19
         ],
         "yaxis": "y2"
        },
        {
         "line": {
          "color": "plum",
          "dash": "dash",
          "width": 2
         },
         "marker": {
          "symbol": "cross"
         },
         "mode": "markers+lines",
         "name": "QUANTILE-BRCG",
         "showlegend": false,
         "type": "scatter",
         "x": [
          "orange_churn",
          "fraud_oracle",
          "taiwan_credit",
          "german_credit",
          "bike_75",
          "bank_marketing",
          "orange_up",
          "compas",
          "heloc",
          "adult",
          "telco_churn_2",
          "house",
          "telco_churn",
          "fraud_detection",
          "boston",
          "electricity",
          "bike_mean"
         ],
         "xaxis": "x2",
         "y": [
          null,
          1,
          3,
          12,
          1,
          4,
          null,
          5,
          2,
          2,
          3,
          4,
          5,
          1,
          7,
          3,
          2
         ],
         "yaxis": "y2"
        },
        {
         "line": {
          "color": "forestgreen",
          "dash": "dash",
          "width": 2
         },
         "marker": {
          "symbol": "cross"
         },
         "mode": "markers+lines",
         "name": "TREES-BRCG2",
         "showlegend": false,
         "type": "scatter",
         "x": [
          "orange_churn",
          "fraud_oracle",
          "taiwan_credit",
          "german_credit",
          "bike_75",
          "bank_marketing",
          "orange_up",
          "compas",
          "heloc",
          "adult",
          "telco_churn_2",
          "house",
          "telco_churn",
          "fraud_detection",
          "boston",
          "electricity",
          "bike_mean"
         ],
         "xaxis": "x2",
         "y": [
          2,
          3,
          3,
          6,
          2,
          4,
          2,
          3,
          3,
          6,
          5,
          5,
          9,
          2,
          11,
          3,
          5
         ],
         "yaxis": "y2"
        },
        {
         "line": {
          "color": "maroon",
          "dash": "dash",
          "width": 2
         },
         "marker": {
          "symbol": "cross"
         },
         "mode": "markers+lines",
         "name": "QUANTILE-BRCG2",
         "showlegend": false,
         "type": "scatter",
         "x": [
          "orange_churn",
          "fraud_oracle",
          "taiwan_credit",
          "german_credit",
          "bike_75",
          "bank_marketing",
          "orange_up",
          "compas",
          "heloc",
          "adult",
          "telco_churn_2",
          "house",
          "telco_churn",
          "fraud_detection",
          "boston",
          "electricity",
          "bike_mean"
         ],
         "xaxis": "x2",
         "y": [
          null,
          2,
          3,
          26,
          2,
          8,
          null,
          3,
          2,
          7,
          15,
          3,
          17,
          2,
          12,
          3,
          20
         ],
         "yaxis": "y2"
        },
        {
         "line": {
          "color": "yellowgreen",
          "dash": "solid",
          "width": 2
         },
         "marker": {
          "symbol": "cross"
         },
         "mode": "markers+lines",
         "name": "TREES2-BRCG2",
         "showlegend": false,
         "type": "scatter",
         "x": [
          "orange_churn",
          "fraud_oracle",
          "taiwan_credit",
          "german_credit",
          "bike_75",
          "bank_marketing",
          "orange_up",
          "compas",
          "heloc",
          "adult",
          "telco_churn_2",
          "house",
          "telco_churn",
          "fraud_detection",
          "boston",
          "electricity",
          "bike_mean"
         ],
         "xaxis": "x2",
         "y": [
          2,
          3,
          4,
          21,
          3,
          11,
          2,
          3,
          3,
          9,
          4,
          5,
          12,
          2,
          9,
          4,
          7
         ],
         "yaxis": "y2"
        },
        {
         "line": {
          "color": "aquamarine",
          "dash": "dash",
          "width": 2
         },
         "marker": {
          "symbol": "cross"
         },
         "mode": "markers+lines",
         "name": "TREES2-BRCG",
         "showlegend": false,
         "type": "scatter",
         "x": [
          "orange_churn",
          "fraud_oracle",
          "taiwan_credit",
          "german_credit",
          "bike_75",
          "bank_marketing",
          "orange_up",
          "compas",
          "heloc",
          "adult",
          "telco_churn_2",
          "house",
          "telco_churn",
          "fraud_detection",
          "boston",
          "electricity",
          "bike_mean"
         ],
         "xaxis": "x2",
         "y": [
          1,
          1,
          3,
          9,
          1,
          4,
          2,
          4,
          3,
          4,
          3,
          5,
          5,
          1,
          8,
          3,
          3
         ],
         "yaxis": "y2"
        },
        {
         "line": {
          "color": "lime",
          "dash": "dash",
          "width": 2
         },
         "marker": {
          "symbol": "cross"
         },
         "mode": "markers+lines",
         "name": "TREES-BRCG",
         "showlegend": false,
         "type": "scatter",
         "x": [
          "orange_churn",
          "fraud_oracle",
          "taiwan_credit",
          "german_credit",
          "bike_75",
          "bank_marketing",
          "orange_up",
          "compas",
          "heloc",
          "adult",
          "telco_churn_2",
          "house",
          "telco_churn",
          "fraud_detection",
          "boston",
          "electricity",
          "bike_mean"
         ],
         "xaxis": "x2",
         "y": [
          1,
          1,
          3,
          4,
          1,
          4,
          2,
          4,
          2,
          4,
          4,
          5,
          4,
          1,
          6,
          3,
          4
         ],
         "yaxis": "y2"
        },
        {
         "line": {
          "color": "palevioletred",
          "dash": "dashdot",
          "width": 2
         },
         "marker": {
          "symbol": "star"
         },
         "mode": "markers+lines",
         "name": "QUANTILE-CORELS",
         "showlegend": false,
         "type": "scatter",
         "x": [
          "orange_churn",
          "fraud_oracle",
          "taiwan_credit",
          "german_credit",
          "bike_75",
          "bank_marketing",
          "orange_up",
          "compas",
          "heloc",
          "adult",
          "telco_churn_2",
          "house",
          "telco_churn",
          "fraud_detection",
          "boston",
          "electricity",
          "bike_mean"
         ],
         "xaxis": "x2",
         "y": [
          null,
          1,
          3,
          2,
          1,
          2,
          null,
          3,
          2,
          2,
          3,
          2,
          2,
          1,
          2,
          2,
          2
         ],
         "yaxis": "y2"
        },
        {
         "line": {
          "color": "darkorange",
          "dash": "dashdot",
          "width": 2
         },
         "marker": {
          "symbol": "star"
         },
         "mode": "markers+lines",
         "name": "TREES-CORELS2",
         "showlegend": false,
         "type": "scatter",
         "x": [
          "orange_churn",
          "fraud_oracle",
          "taiwan_credit",
          "german_credit",
          "bike_75",
          "bank_marketing",
          "orange_up",
          "compas",
          "heloc",
          "adult",
          "telco_churn_2",
          "house",
          "telco_churn",
          "fraud_detection",
          "boston",
          "electricity",
          "bike_mean"
         ],
         "xaxis": "x2",
         "y": [
          1,
          3,
          4,
          2,
          1,
          2,
          4,
          4,
          2,
          4,
          4,
          2,
          2,
          1,
          3,
          2,
          2
         ],
         "yaxis": "y2"
        },
        {
         "line": {
          "color": "wheat",
          "dash": "dashdot",
          "width": 2
         },
         "marker": {
          "symbol": "star"
         },
         "mode": "markers+lines",
         "name": "TREES2-CORELS2",
         "showlegend": false,
         "type": "scatter",
         "x": [
          "orange_churn",
          "fraud_oracle",
          "taiwan_credit",
          "german_credit",
          "bike_75",
          "bank_marketing",
          "orange_up",
          "compas",
          "heloc",
          "adult",
          "telco_churn_2",
          "house",
          "telco_churn",
          "fraud_detection",
          "boston",
          "electricity",
          "bike_mean"
         ],
         "xaxis": "x2",
         "y": [
          1,
          1,
          3,
          2,
          1,
          2,
          2,
          4,
          2,
          4,
          4,
          2,
          2,
          1,
          2,
          3,
          2
         ],
         "yaxis": "y2"
        },
        {
         "line": {
          "color": "gold",
          "dash": "dashdot",
          "width": 2
         },
         "marker": {
          "symbol": "star"
         },
         "mode": "markers+lines",
         "name": "TREES-CORELS",
         "showlegend": false,
         "type": "scatter",
         "x": [
          "orange_churn",
          "fraud_oracle",
          "taiwan_credit",
          "german_credit",
          "bike_75",
          "bank_marketing",
          "orange_up",
          "compas",
          "heloc",
          "adult",
          "telco_churn_2",
          "house",
          "telco_churn",
          "fraud_detection",
          "boston",
          "electricity",
          "bike_mean"
         ],
         "xaxis": "x2",
         "y": [
          1,
          1,
          3,
          3,
          1,
          2,
          3,
          3,
          2,
          3,
          3,
          2,
          3,
          1,
          2,
          2,
          3
         ],
         "yaxis": "y2"
        },
        {
         "line": {
          "color": "lightskyblue",
          "dash": "solid",
          "width": 2
         },
         "marker": {
          "symbol": "arrow-left"
         },
         "mode": "markers+lines",
         "name": "LENC-CART:*",
         "showlegend": false,
         "type": "scatter",
         "x": [
          "orange_churn",
          "fraud_oracle",
          "taiwan_credit",
          "german_credit",
          "bike_75",
          "bank_marketing",
          "orange_up",
          "compas",
          "heloc",
          "adult",
          "telco_churn_2",
          "house",
          "telco_churn",
          "fraud_detection",
          "boston",
          "electricity",
          "bike_mean"
         ],
         "xaxis": "x2",
         "y": [
          1319,
          286,
          1607,
          71,
          17,
          107,
          952,
          84,
          626,
          1766,
          136,
          701,
          72,
          66,
          18,
          1478,
          212
         ],
         "yaxis": "y2"
        },
        {
         "line": {
          "color": "cornflowerblue",
          "dash": "longdash",
          "width": 2
         },
         "marker": {
          "symbol": "diamond"
         },
         "mode": "markers+lines",
         "name": "LENC-CART:6",
         "showlegend": false,
         "type": "scatter",
         "x": [
          "orange_churn",
          "fraud_oracle",
          "taiwan_credit",
          "german_credit",
          "bike_75",
          "bank_marketing",
          "orange_up",
          "compas",
          "heloc",
          "adult",
          "telco_churn_2",
          "house",
          "telco_churn",
          "fraud_detection",
          "boston",
          "electricity",
          "bike_mean"
         ],
         "xaxis": "x2",
         "y": [
          24,
          9,
          19,
          20,
          8,
          23,
          20,
          26,
          28,
          20,
          25,
          35,
          19,
          15,
          11,
          31,
          18
         ],
         "yaxis": "y2"
        },
        {
         "line": {
          "color": "mediumblue",
          "dash": "dot",
          "width": 2
         },
         "marker": {
          "symbol": "arrow-right"
         },
         "mode": "markers+lines",
         "name": "LENC-CART:4",
         "showlegend": false,
         "type": "scatter",
         "x": [
          "orange_churn",
          "fraud_oracle",
          "taiwan_credit",
          "german_credit",
          "bike_75",
          "bank_marketing",
          "orange_up",
          "compas",
          "heloc",
          "adult",
          "telco_churn_2",
          "house",
          "telco_churn",
          "fraud_detection",
          "boston",
          "electricity",
          "bike_mean"
         ],
         "xaxis": "x2",
         "y": [
          6,
          5,
          4,
          8,
          2,
          7,
          4,
          11,
          10,
          8,
          11,
          9,
          8,
          7,
          8,
          8,
          4
         ],
         "yaxis": "y2"
        },
        {
         "line": {
          "color": "silver",
          "dash": "dot",
          "width": 2
         },
         "marker": {
          "symbol": "square"
         },
         "mode": "markers+lines",
         "name": "NATIVE-R2N",
         "showlegend": false,
         "type": "scatter",
         "x": [
          "orange_churn",
          "fraud_oracle",
          "taiwan_credit",
          "german_credit",
          "bike_75",
          "bank_marketing",
          "orange_up",
          "compas",
          "heloc",
          "adult",
          "telco_churn_2",
          "house",
          "telco_churn",
          "fraud_detection",
          "boston",
          "electricity",
          "bike_mean"
         ],
         "xaxis": "x2",
         "y": [
          null,
          1,
          3,
          4,
          1,
          3,
          null,
          3,
          4,
          3,
          5,
          4,
          3,
          1,
          5,
          4,
          3
         ],
         "yaxis": "y2"
        },
        {
         "line": {
          "color": "gray",
          "dash": "solid",
          "width": 2
         },
         "marker": {
          "symbol": "circle"
         },
         "mode": "markers+lines",
         "name": "LENC-XGB",
         "showlegend": false,
         "type": "scatter",
         "x": [
          "orange_churn",
          "fraud_oracle",
          "taiwan_credit",
          "german_credit",
          "bike_75",
          "bank_marketing",
          "orange_up",
          "compas",
          "heloc",
          "adult",
          "telco_churn_2",
          "house",
          "telco_churn",
          "fraud_detection",
          "boston",
          "electricity",
          "bike_mean"
         ],
         "xaxis": "x",
         "y": [
          5.1,
          1.48,
          1.9300000000000002,
          1.05,
          1.1400000000000001,
          1.13,
          5.07,
          1.09,
          1.28,
          1.48,
          1.09,
          1.79,
          1.12,
          11.1,
          1.03,
          1.62,
          1.2
         ],
         "yaxis": "y"
        },
        {
         "line": {
          "color": "salmon",
          "dash": "longdash",
          "width": 2
         },
         "marker": {
          "symbol": "diamond"
         },
         "mode": "markers+lines",
         "name": "QUANTILE-RIPPER",
         "showlegend": false,
         "type": "scatter",
         "x": [
          "orange_churn",
          "fraud_oracle",
          "taiwan_credit",
          "german_credit",
          "bike_75",
          "bank_marketing",
          "orange_up",
          "compas",
          "heloc",
          "adult",
          "telco_churn_2",
          "house",
          "telco_churn",
          "fraud_detection",
          "boston",
          "electricity",
          "bike_mean"
         ],
         "xaxis": "x",
         "y": [
          null,
          3.39,
          22.52,
          1.26,
          3.3,
          1.44,
          null,
          1.06,
          7.79,
          47.11,
          1.73,
          32.31,
          2.1399999999999997,
          172.38,
          1.22,
          1.6099999999999999,
          18.43
         ],
         "yaxis": "y"
        },
        {
         "line": {
          "color": "orangered",
          "dash": "longdash",
          "width": 2
         },
         "marker": {
          "symbol": "diamond"
         },
         "mode": "markers+lines",
         "name": "TREES-RIPPER",
         "showlegend": false,
         "type": "scatter",
         "x": [
          "orange_churn",
          "fraud_oracle",
          "taiwan_credit",
          "german_credit",
          "bike_75",
          "bank_marketing",
          "orange_up",
          "compas",
          "heloc",
          "adult",
          "telco_churn_2",
          "house",
          "telco_churn",
          "fraud_detection",
          "boston",
          "electricity",
          "bike_mean"
         ],
         "xaxis": "x",
         "y": [
          105.9,
          1.53,
          1.24,
          null,
          1.09,
          1.06,
          98.56,
          1.05,
          1.08,
          1.17,
          1.04,
          1.16,
          null,
          null,
          1.03,
          1.19,
          1.1
         ],
         "yaxis": "y"
        },
        {
         "line": {
          "color": "magenta",
          "dash": "longdash",
          "width": 2
         },
         "marker": {
          "symbol": "diamond"
         },
         "mode": "markers+lines",
         "name": "NATIVE-RIPPER2",
         "showlegend": false,
         "type": "scatter",
         "x": [
          "orange_churn",
          "fraud_oracle",
          "taiwan_credit",
          "german_credit",
          "bike_75",
          "bank_marketing",
          "orange_up",
          "compas",
          "heloc",
          "adult",
          "telco_churn_2",
          "house",
          "telco_churn",
          "fraud_detection",
          "boston",
          "electricity",
          "bike_mean"
         ],
         "xaxis": "x",
         "y": [
          5.05,
          1.08,
          7.42,
          1.28,
          1.31,
          1.12,
          26.72,
          1.01,
          1.83,
          9.86,
          1.24,
          18.96,
          1.18,
          1240.03,
          1.04,
          20.74,
          1.8
         ],
         "yaxis": "y"
        },
        {
         "line": {
          "color": "darkorchid",
          "dash": "longdash",
          "width": 2
         },
         "marker": {
          "symbol": "diamond"
         },
         "mode": "markers+lines",
         "name": "NATIVE-RIPPER3",
         "showlegend": false,
         "type": "scatter",
         "x": [
          "orange_churn",
          "fraud_oracle",
          "taiwan_credit",
          "german_credit",
          "bike_75",
          "bank_marketing",
          "orange_up",
          "compas",
          "heloc",
          "adult",
          "telco_churn_2",
          "house",
          "telco_churn",
          "fraud_detection",
          "boston",
          "electricity",
          "bike_mean"
         ],
         "xaxis": "x",
         "y": [
          5.07,
          1.1400000000000001,
          7.48,
          1.16,
          1.3,
          1.12,
          26.9,
          1.01,
          1.88,
          10.13,
          1.24,
          21.37,
          1.17,
          1461.23,
          1.04,
          52.07,
          1.81
         ],
         "yaxis": "y"
        },
        {
         "line": {
          "color": "crimson",
          "dash": "longdash",
          "width": 2
         },
         "marker": {
          "symbol": "diamond"
         },
         "mode": "markers+lines",
         "name": "NATIVE-RIPPER",
         "showlegend": false,
         "type": "scatter",
         "x": [
          "orange_churn",
          "fraud_oracle",
          "taiwan_credit",
          "german_credit",
          "bike_75",
          "bank_marketing",
          "orange_up",
          "compas",
          "heloc",
          "adult",
          "telco_churn_2",
          "house",
          "telco_churn",
          "fraud_detection",
          "boston",
          "electricity",
          "bike_mean"
         ],
         "xaxis": "x",
         "y": [
          4.220000000000001,
          1.12,
          7.55,
          1.05,
          1.42,
          1.11,
          25.94,
          1.01,
          1.96,
          9.98,
          1.09,
          19.06,
          1.17,
          1128.56,
          1.04,
          20.9,
          1.94
         ],
         "yaxis": "y"
        },
        {
         "line": {
          "color": "plum",
          "dash": "dash",
          "width": 2
         },
         "marker": {
          "symbol": "cross"
         },
         "mode": "markers+lines",
         "name": "QUANTILE-BRCG",
         "showlegend": false,
         "type": "scatter",
         "x": [
          "orange_churn",
          "fraud_oracle",
          "taiwan_credit",
          "german_credit",
          "bike_75",
          "bank_marketing",
          "orange_up",
          "compas",
          "heloc",
          "adult",
          "telco_churn_2",
          "house",
          "telco_churn",
          "fraud_detection",
          "boston",
          "electricity",
          "bike_mean"
         ],
         "xaxis": "x",
         "y": [
          null,
          2.4299999999999997,
          16.810000000000002,
          7.47,
          1.48,
          3.59,
          null,
          2.74,
          24.14,
          24.47,
          6.35,
          32.16,
          4.33,
          10.29,
          3.5,
          12.69,
          40.16
         ],
         "yaxis": "y"
        },
        {
         "line": {
          "color": "forestgreen",
          "dash": "dash",
          "width": 2
         },
         "marker": {
          "symbol": "cross"
         },
         "mode": "markers+lines",
         "name": "TREES-BRCG2",
         "showlegend": false,
         "type": "scatter",
         "x": [
          "orange_churn",
          "fraud_oracle",
          "taiwan_credit",
          "german_credit",
          "bike_75",
          "bank_marketing",
          "orange_up",
          "compas",
          "heloc",
          "adult",
          "telco_churn_2",
          "house",
          "telco_churn",
          "fraud_detection",
          "boston",
          "electricity",
          "bike_mean"
         ],
         "xaxis": "x",
         "y": [
          102.01,
          3.09,
          5.66,
          4.109999999999999,
          1.19,
          3.19,
          102.58,
          4.21,
          4.23,
          4.85,
          4,
          7.37,
          3.84,
          4.48,
          2.9299999999999997,
          15.08,
          4.3
         ],
         "yaxis": "y"
        },
        {
         "line": {
          "color": "maroon",
          "dash": "dash",
          "width": 2
         },
         "marker": {
          "symbol": "cross"
         },
         "mode": "markers+lines",
         "name": "QUANTILE-BRCG2",
         "showlegend": false,
         "type": "scatter",
         "x": [
          "orange_churn",
          "fraud_oracle",
          "taiwan_credit",
          "german_credit",
          "bike_75",
          "bank_marketing",
          "orange_up",
          "compas",
          "heloc",
          "adult",
          "telco_churn_2",
          "house",
          "telco_churn",
          "fraud_detection",
          "boston",
          "electricity",
          "bike_mean"
         ],
         "xaxis": "x",
         "y": [
          null,
          4.34,
          47.02,
          9.82,
          2.55,
          7.7,
          null,
          5.23,
          29.94,
          43.45,
          105.27,
          61.05,
          13.3,
          15.43,
          4.92,
          45.84,
          112.82
         ],
         "yaxis": "y"
        },
        {
         "line": {
          "color": "yellowgreen",
          "dash": "solid",
          "width": 2
         },
         "marker": {
          "symbol": "cross"
         },
         "mode": "markers+lines",
         "name": "TREES2-BRCG2",
         "showlegend": false,
         "type": "scatter",
         "x": [
          "orange_churn",
          "fraud_oracle",
          "taiwan_credit",
          "german_credit",
          "bike_75",
          "bank_marketing",
          "orange_up",
          "compas",
          "heloc",
          "adult",
          "telco_churn_2",
          "house",
          "telco_churn",
          "fraud_detection",
          "boston",
          "electricity",
          "bike_mean"
         ],
         "xaxis": "x",
         "y": [
          105.52,
          3.48,
          6.52,
          5.33,
          1.49,
          3.75,
          106.34,
          4.07,
          8.84,
          8.969999999999999,
          5.27,
          10.25,
          4.23,
          5.7,
          2.98,
          17.12,
          4.1899999999999995
         ],
         "yaxis": "y"
        },
        {
         "line": {
          "color": "aquamarine",
          "dash": "dash",
          "width": 2
         },
         "marker": {
          "symbol": "cross"
         },
         "mode": "markers+lines",
         "name": "TREES2-BRCG",
         "showlegend": false,
         "type": "scatter",
         "x": [
          "orange_churn",
          "fraud_oracle",
          "taiwan_credit",
          "german_credit",
          "bike_75",
          "bank_marketing",
          "orange_up",
          "compas",
          "heloc",
          "adult",
          "telco_churn_2",
          "house",
          "telco_churn",
          "fraud_detection",
          "boston",
          "electricity",
          "bike_mean"
         ],
         "xaxis": "x",
         "y": [
          108.61,
          1.72,
          3.6,
          4.26,
          1.15,
          2.27,
          101.85,
          2.45,
          5.48,
          5.09,
          4.52,
          8.89,
          2.2199999999999998,
          4.62,
          2.06,
          12.93,
          3.72
         ],
         "yaxis": "y"
        },
        {
         "line": {
          "color": "lime",
          "dash": "dash",
          "width": 2
         },
         "marker": {
          "symbol": "cross"
         },
         "mode": "markers+lines",
         "name": "TREES-BRCG",
         "showlegend": false,
         "type": "scatter",
         "x": [
          "orange_churn",
          "fraud_oracle",
          "taiwan_credit",
          "german_credit",
          "bike_75",
          "bank_marketing",
          "orange_up",
          "compas",
          "heloc",
          "adult",
          "telco_churn_2",
          "house",
          "telco_churn",
          "fraud_detection",
          "boston",
          "electricity",
          "bike_mean"
         ],
         "xaxis": "x",
         "y": [
          101.76,
          1.53,
          2.49,
          3.15,
          1.12,
          1.8,
          104.14,
          2.2,
          2.96,
          3.51,
          2.7800000000000002,
          4.49,
          1.73,
          3.72,
          2.1399999999999997,
          6.11,
          3.31
         ],
         "yaxis": "y"
        },
        {
         "line": {
          "color": "palevioletred",
          "dash": "dashdot",
          "width": 2
         },
         "marker": {
          "symbol": "star"
         },
         "mode": "markers+lines",
         "name": "QUANTILE-CORELS",
         "showlegend": false,
         "type": "scatter",
         "x": [
          "orange_churn",
          "fraud_oracle",
          "taiwan_credit",
          "german_credit",
          "bike_75",
          "bank_marketing",
          "orange_up",
          "compas",
          "heloc",
          "adult",
          "telco_churn_2",
          "house",
          "telco_churn",
          "fraud_detection",
          "boston",
          "electricity",
          "bike_mean"
         ],
         "xaxis": "x",
         "y": [
          null,
          15.97,
          39.43,
          1.19,
          11.69,
          2.04,
          null,
          1.1,
          9.32,
          7.24,
          1.3900000000000001,
          14.59,
          4.720000000000001,
          1713.21,
          1.11,
          5.88,
          12
         ],
         "yaxis": "y"
        },
        {
         "line": {
          "color": "darkorange",
          "dash": "dashdot",
          "width": 2
         },
         "marker": {
          "symbol": "star"
         },
         "mode": "markers+lines",
         "name": "TREES-CORELS2",
         "showlegend": false,
         "type": "scatter",
         "x": [
          "orange_churn",
          "fraud_oracle",
          "taiwan_credit",
          "german_credit",
          "bike_75",
          "bank_marketing",
          "orange_up",
          "compas",
          "heloc",
          "adult",
          "telco_churn_2",
          "house",
          "telco_churn",
          "fraud_detection",
          "boston",
          "electricity",
          "bike_mean"
         ],
         "xaxis": "x",
         "y": [
          101.25,
          116.82,
          3.34,
          1.07,
          1.1,
          1.21,
          435.04,
          1.17,
          1.4,
          1.73,
          1.11,
          2.2199999999999998,
          1.15,
          13.84,
          1.03,
          4.74,
          1.35
         ],
         "yaxis": "y"
        },
        {
         "line": {
          "color": "wheat",
          "dash": "dashdot",
          "width": 2
         },
         "marker": {
          "symbol": "star"
         },
         "mode": "markers+lines",
         "name": "TREES2-CORELS2",
         "showlegend": false,
         "type": "scatter",
         "x": [
          "orange_churn",
          "fraud_oracle",
          "taiwan_credit",
          "german_credit",
          "bike_75",
          "bank_marketing",
          "orange_up",
          "compas",
          "heloc",
          "adult",
          "telco_churn_2",
          "house",
          "telco_churn",
          "fraud_detection",
          "boston",
          "electricity",
          "bike_mean"
         ],
         "xaxis": "x",
         "y": [
          117.95,
          2.65,
          30.67,
          1.35,
          1.29,
          3.59,
          115.5,
          1.16,
          10.71,
          9.9,
          2.3,
          21.3,
          1.5699999999999998,
          59.67,
          1.06,
          45.22,
          5.84
         ],
         "yaxis": "y"
        },
        {
         "line": {
          "color": "gold",
          "dash": "dashdot",
          "width": 2
         },
         "marker": {
          "symbol": "star"
         },
         "mode": "markers+lines",
         "name": "TREES-CORELS",
         "showlegend": false,
         "type": "scatter",
         "x": [
          "orange_churn",
          "fraud_oracle",
          "taiwan_credit",
          "german_credit",
          "bike_75",
          "bank_marketing",
          "orange_up",
          "compas",
          "heloc",
          "adult",
          "telco_churn_2",
          "house",
          "telco_churn",
          "fraud_detection",
          "boston",
          "electricity",
          "bike_mean"
         ],
         "xaxis": "x",
         "y": [
          102.9,
          1.19,
          3.7,
          1.04,
          1.07,
          1.08,
          104.28,
          1.09,
          1.12,
          1.41,
          1.04,
          1.26,
          1.06,
          6.1,
          1.02,
          1.54,
          1.13
         ],
         "yaxis": "y"
        },
        {
         "line": {
          "color": "lightskyblue",
          "dash": "solid",
          "width": 2
         },
         "marker": {
          "symbol": "arrow-left"
         },
         "mode": "markers+lines",
         "name": "LENC-CART:*",
         "showlegend": false,
         "type": "scatter",
         "x": [
          "orange_churn",
          "fraud_oracle",
          "taiwan_credit",
          "german_credit",
          "bike_75",
          "bank_marketing",
          "orange_up",
          "compas",
          "heloc",
          "adult",
          "telco_churn_2",
          "house",
          "telco_churn",
          "fraud_detection",
          "boston",
          "electricity",
          "bike_mean"
         ],
         "xaxis": "x",
         "y": [
          3.3,
          1.1,
          1.27,
          1.01,
          1.01,
          1.01,
          2.88,
          1.01,
          1.05,
          1.06,
          1.01,
          1.19,
          1.02,
          9.56,
          1,
          1.1400000000000001,
          1.02
         ],
         "yaxis": "y"
        },
        {
         "line": {
          "color": "cornflowerblue",
          "dash": "longdash",
          "width": 2
         },
         "marker": {
          "symbol": "diamond"
         },
         "mode": "markers+lines",
         "name": "LENC-CART:6",
         "showlegend": false,
         "type": "scatter",
         "x": [
          "orange_churn",
          "fraud_oracle",
          "taiwan_credit",
          "german_credit",
          "bike_75",
          "bank_marketing",
          "orange_up",
          "compas",
          "heloc",
          "adult",
          "telco_churn_2",
          "house",
          "telco_churn",
          "fraud_detection",
          "boston",
          "electricity",
          "bike_mean"
         ],
         "xaxis": "x",
         "y": [
          1.88,
          1.08,
          1.13,
          1,
          1.01,
          1.01,
          1.8900000000000001,
          1.01,
          1.02,
          1.04,
          1.01,
          1.09,
          1.01,
          4.35,
          1,
          1.06,
          1.02
         ],
         "yaxis": "y"
        },
        {
         "line": {
          "color": "mediumblue",
          "dash": "dot",
          "width": 2
         },
         "marker": {
          "symbol": "arrow-right"
         },
         "mode": "markers+lines",
         "name": "LENC-CART:4",
         "showlegend": false,
         "type": "scatter",
         "x": [
          "orange_churn",
          "fraud_oracle",
          "taiwan_credit",
          "german_credit",
          "bike_75",
          "bank_marketing",
          "orange_up",
          "compas",
          "heloc",
          "adult",
          "telco_churn_2",
          "house",
          "telco_churn",
          "fraud_detection",
          "boston",
          "electricity",
          "bike_mean"
         ],
         "xaxis": "x",
         "y": [
          1.73,
          1.08,
          1.1,
          1.01,
          1.01,
          1.01,
          1.74,
          1.01,
          1.02,
          1.04,
          1,
          1.06,
          1.01,
          3.24,
          1,
          1.04,
          1.01
         ],
         "yaxis": "y"
        },
        {
         "line": {
          "color": "silver",
          "dash": "dot",
          "width": 2
         },
         "marker": {
          "symbol": "square"
         },
         "mode": "markers+lines",
         "name": "NATIVE-R2N",
         "showlegend": false,
         "type": "scatter",
         "x": [
          "orange_churn",
          "fraud_oracle",
          "taiwan_credit",
          "german_credit",
          "bike_75",
          "bank_marketing",
          "orange_up",
          "compas",
          "heloc",
          "adult",
          "telco_churn_2",
          "house",
          "telco_churn",
          "fraud_detection",
          "boston",
          "electricity",
          "bike_mean"
         ],
         "xaxis": "x",
         "y": [
          null,
          76.28,
          144.79,
          5.66,
          58.58,
          19.32,
          null,
          26.65,
          45.47,
          153.52,
          9.88,
          96.81,
          16.369999999999997,
          1230.67,
          3.45,
          187.68,
          67.01
         ],
         "yaxis": "y"
        }
       ],
       "layout": {
        "height": 600,
        "plot_bgcolor": "whitesmoke",
        "template": {
         "data": {
          "bar": [
           {
            "error_x": {
             "color": "#2a3f5f"
            },
            "error_y": {
             "color": "#2a3f5f"
            },
            "marker": {
             "line": {
              "color": "#E5ECF6",
              "width": 0.5
             },
             "pattern": {
              "fillmode": "overlay",
              "size": 10,
              "solidity": 0.2
             }
            },
            "type": "bar"
           }
          ],
          "barpolar": [
           {
            "marker": {
             "line": {
              "color": "#E5ECF6",
              "width": 0.5
             },
             "pattern": {
              "fillmode": "overlay",
              "size": 10,
              "solidity": 0.2
             }
            },
            "type": "barpolar"
           }
          ],
          "carpet": [
           {
            "aaxis": {
             "endlinecolor": "#2a3f5f",
             "gridcolor": "white",
             "linecolor": "white",
             "minorgridcolor": "white",
             "startlinecolor": "#2a3f5f"
            },
            "baxis": {
             "endlinecolor": "#2a3f5f",
             "gridcolor": "white",
             "linecolor": "white",
             "minorgridcolor": "white",
             "startlinecolor": "#2a3f5f"
            },
            "type": "carpet"
           }
          ],
          "choropleth": [
           {
            "colorbar": {
             "outlinewidth": 0,
             "ticks": ""
            },
            "type": "choropleth"
           }
          ],
          "contour": [
           {
            "colorbar": {
             "outlinewidth": 0,
             "ticks": ""
            },
            "colorscale": [
             [
              0,
              "#0d0887"
             ],
             [
              0.1111111111111111,
              "#46039f"
             ],
             [
              0.2222222222222222,
              "#7201a8"
             ],
             [
              0.3333333333333333,
              "#9c179e"
             ],
             [
              0.4444444444444444,
              "#bd3786"
             ],
             [
              0.5555555555555556,
              "#d8576b"
             ],
             [
              0.6666666666666666,
              "#ed7953"
             ],
             [
              0.7777777777777778,
              "#fb9f3a"
             ],
             [
              0.8888888888888888,
              "#fdca26"
             ],
             [
              1,
              "#f0f921"
             ]
            ],
            "type": "contour"
           }
          ],
          "contourcarpet": [
           {
            "colorbar": {
             "outlinewidth": 0,
             "ticks": ""
            },
            "type": "contourcarpet"
           }
          ],
          "heatmap": [
           {
            "colorbar": {
             "outlinewidth": 0,
             "ticks": ""
            },
            "colorscale": [
             [
              0,
              "#0d0887"
             ],
             [
              0.1111111111111111,
              "#46039f"
             ],
             [
              0.2222222222222222,
              "#7201a8"
             ],
             [
              0.3333333333333333,
              "#9c179e"
             ],
             [
              0.4444444444444444,
              "#bd3786"
             ],
             [
              0.5555555555555556,
              "#d8576b"
             ],
             [
              0.6666666666666666,
              "#ed7953"
             ],
             [
              0.7777777777777778,
              "#fb9f3a"
             ],
             [
              0.8888888888888888,
              "#fdca26"
             ],
             [
              1,
              "#f0f921"
             ]
            ],
            "type": "heatmap"
           }
          ],
          "heatmapgl": [
           {
            "colorbar": {
             "outlinewidth": 0,
             "ticks": ""
            },
            "colorscale": [
             [
              0,
              "#0d0887"
             ],
             [
              0.1111111111111111,
              "#46039f"
             ],
             [
              0.2222222222222222,
              "#7201a8"
             ],
             [
              0.3333333333333333,
              "#9c179e"
             ],
             [
              0.4444444444444444,
              "#bd3786"
             ],
             [
              0.5555555555555556,
              "#d8576b"
             ],
             [
              0.6666666666666666,
              "#ed7953"
             ],
             [
              0.7777777777777778,
              "#fb9f3a"
             ],
             [
              0.8888888888888888,
              "#fdca26"
             ],
             [
              1,
              "#f0f921"
             ]
            ],
            "type": "heatmapgl"
           }
          ],
          "histogram": [
           {
            "marker": {
             "pattern": {
              "fillmode": "overlay",
              "size": 10,
              "solidity": 0.2
             }
            },
            "type": "histogram"
           }
          ],
          "histogram2d": [
           {
            "colorbar": {
             "outlinewidth": 0,
             "ticks": ""
            },
            "colorscale": [
             [
              0,
              "#0d0887"
             ],
             [
              0.1111111111111111,
              "#46039f"
             ],
             [
              0.2222222222222222,
              "#7201a8"
             ],
             [
              0.3333333333333333,
              "#9c179e"
             ],
             [
              0.4444444444444444,
              "#bd3786"
             ],
             [
              0.5555555555555556,
              "#d8576b"
             ],
             [
              0.6666666666666666,
              "#ed7953"
             ],
             [
              0.7777777777777778,
              "#fb9f3a"
             ],
             [
              0.8888888888888888,
              "#fdca26"
             ],
             [
              1,
              "#f0f921"
             ]
            ],
            "type": "histogram2d"
           }
          ],
          "histogram2dcontour": [
           {
            "colorbar": {
             "outlinewidth": 0,
             "ticks": ""
            },
            "colorscale": [
             [
              0,
              "#0d0887"
             ],
             [
              0.1111111111111111,
              "#46039f"
             ],
             [
              0.2222222222222222,
              "#7201a8"
             ],
             [
              0.3333333333333333,
              "#9c179e"
             ],
             [
              0.4444444444444444,
              "#bd3786"
             ],
             [
              0.5555555555555556,
              "#d8576b"
             ],
             [
              0.6666666666666666,
              "#ed7953"
             ],
             [
              0.7777777777777778,
              "#fb9f3a"
             ],
             [
              0.8888888888888888,
              "#fdca26"
             ],
             [
              1,
              "#f0f921"
             ]
            ],
            "type": "histogram2dcontour"
           }
          ],
          "mesh3d": [
           {
            "colorbar": {
             "outlinewidth": 0,
             "ticks": ""
            },
            "type": "mesh3d"
           }
          ],
          "parcoords": [
           {
            "line": {
             "colorbar": {
              "outlinewidth": 0,
              "ticks": ""
             }
            },
            "type": "parcoords"
           }
          ],
          "pie": [
           {
            "automargin": true,
            "type": "pie"
           }
          ],
          "scatter": [
           {
            "fillpattern": {
             "fillmode": "overlay",
             "size": 10,
             "solidity": 0.2
            },
            "type": "scatter"
           }
          ],
          "scatter3d": [
           {
            "line": {
             "colorbar": {
              "outlinewidth": 0,
              "ticks": ""
             }
            },
            "marker": {
             "colorbar": {
              "outlinewidth": 0,
              "ticks": ""
             }
            },
            "type": "scatter3d"
           }
          ],
          "scattercarpet": [
           {
            "marker": {
             "colorbar": {
              "outlinewidth": 0,
              "ticks": ""
             }
            },
            "type": "scattercarpet"
           }
          ],
          "scattergeo": [
           {
            "marker": {
             "colorbar": {
              "outlinewidth": 0,
              "ticks": ""
             }
            },
            "type": "scattergeo"
           }
          ],
          "scattergl": [
           {
            "marker": {
             "colorbar": {
              "outlinewidth": 0,
              "ticks": ""
             }
            },
            "type": "scattergl"
           }
          ],
          "scattermapbox": [
           {
            "marker": {
             "colorbar": {
              "outlinewidth": 0,
              "ticks": ""
             }
            },
            "type": "scattermapbox"
           }
          ],
          "scatterpolar": [
           {
            "marker": {
             "colorbar": {
              "outlinewidth": 0,
              "ticks": ""
             }
            },
            "type": "scatterpolar"
           }
          ],
          "scatterpolargl": [
           {
            "marker": {
             "colorbar": {
              "outlinewidth": 0,
              "ticks": ""
             }
            },
            "type": "scatterpolargl"
           }
          ],
          "scatterternary": [
           {
            "marker": {
             "colorbar": {
              "outlinewidth": 0,
              "ticks": ""
             }
            },
            "type": "scatterternary"
           }
          ],
          "surface": [
           {
            "colorbar": {
             "outlinewidth": 0,
             "ticks": ""
            },
            "colorscale": [
             [
              0,
              "#0d0887"
             ],
             [
              0.1111111111111111,
              "#46039f"
             ],
             [
              0.2222222222222222,
              "#7201a8"
             ],
             [
              0.3333333333333333,
              "#9c179e"
             ],
             [
              0.4444444444444444,
              "#bd3786"
             ],
             [
              0.5555555555555556,
              "#d8576b"
             ],
             [
              0.6666666666666666,
              "#ed7953"
             ],
             [
              0.7777777777777778,
              "#fb9f3a"
             ],
             [
              0.8888888888888888,
              "#fdca26"
             ],
             [
              1,
              "#f0f921"
             ]
            ],
            "type": "surface"
           }
          ],
          "table": [
           {
            "cells": {
             "fill": {
              "color": "#EBF0F8"
             },
             "line": {
              "color": "white"
             }
            },
            "header": {
             "fill": {
              "color": "#C8D4E3"
             },
             "line": {
              "color": "white"
             }
            },
            "type": "table"
           }
          ]
         },
         "layout": {
          "annotationdefaults": {
           "arrowcolor": "#2a3f5f",
           "arrowhead": 0,
           "arrowwidth": 1
          },
          "autotypenumbers": "strict",
          "coloraxis": {
           "colorbar": {
            "outlinewidth": 0,
            "ticks": ""
           }
          },
          "colorscale": {
           "diverging": [
            [
             0,
             "#8e0152"
            ],
            [
             0.1,
             "#c51b7d"
            ],
            [
             0.2,
             "#de77ae"
            ],
            [
             0.3,
             "#f1b6da"
            ],
            [
             0.4,
             "#fde0ef"
            ],
            [
             0.5,
             "#f7f7f7"
            ],
            [
             0.6,
             "#e6f5d0"
            ],
            [
             0.7,
             "#b8e186"
            ],
            [
             0.8,
             "#7fbc41"
            ],
            [
             0.9,
             "#4d9221"
            ],
            [
             1,
             "#276419"
            ]
           ],
           "sequential": [
            [
             0,
             "#0d0887"
            ],
            [
             0.1111111111111111,
             "#46039f"
            ],
            [
             0.2222222222222222,
             "#7201a8"
            ],
            [
             0.3333333333333333,
             "#9c179e"
            ],
            [
             0.4444444444444444,
             "#bd3786"
            ],
            [
             0.5555555555555556,
             "#d8576b"
            ],
            [
             0.6666666666666666,
             "#ed7953"
            ],
            [
             0.7777777777777778,
             "#fb9f3a"
            ],
            [
             0.8888888888888888,
             "#fdca26"
            ],
            [
             1,
             "#f0f921"
            ]
           ],
           "sequentialminus": [
            [
             0,
             "#0d0887"
            ],
            [
             0.1111111111111111,
             "#46039f"
            ],
            [
             0.2222222222222222,
             "#7201a8"
            ],
            [
             0.3333333333333333,
             "#9c179e"
            ],
            [
             0.4444444444444444,
             "#bd3786"
            ],
            [
             0.5555555555555556,
             "#d8576b"
            ],
            [
             0.6666666666666666,
             "#ed7953"
            ],
            [
             0.7777777777777778,
             "#fb9f3a"
            ],
            [
             0.8888888888888888,
             "#fdca26"
            ],
            [
             1,
             "#f0f921"
            ]
           ]
          },
          "colorway": [
           "#636efa",
           "#EF553B",
           "#00cc96",
           "#ab63fa",
           "#FFA15A",
           "#19d3f3",
           "#FF6692",
           "#B6E880",
           "#FF97FF",
           "#FECB52"
          ],
          "font": {
           "color": "#2a3f5f"
          },
          "geo": {
           "bgcolor": "white",
           "lakecolor": "white",
           "landcolor": "#E5ECF6",
           "showlakes": true,
           "showland": true,
           "subunitcolor": "white"
          },
          "hoverlabel": {
           "align": "left"
          },
          "hovermode": "closest",
          "mapbox": {
           "style": "light"
          },
          "paper_bgcolor": "white",
          "plot_bgcolor": "#E5ECF6",
          "polar": {
           "angularaxis": {
            "gridcolor": "white",
            "linecolor": "white",
            "ticks": ""
           },
           "bgcolor": "#E5ECF6",
           "radialaxis": {
            "gridcolor": "white",
            "linecolor": "white",
            "ticks": ""
           }
          },
          "scene": {
           "xaxis": {
            "backgroundcolor": "#E5ECF6",
            "gridcolor": "white",
            "gridwidth": 2,
            "linecolor": "white",
            "showbackground": true,
            "ticks": "",
            "zerolinecolor": "white"
           },
           "yaxis": {
            "backgroundcolor": "#E5ECF6",
            "gridcolor": "white",
            "gridwidth": 2,
            "linecolor": "white",
            "showbackground": true,
            "ticks": "",
            "zerolinecolor": "white"
           },
           "zaxis": {
            "backgroundcolor": "#E5ECF6",
            "gridcolor": "white",
            "gridwidth": 2,
            "linecolor": "white",
            "showbackground": true,
            "ticks": "",
            "zerolinecolor": "white"
           }
          },
          "shapedefaults": {
           "line": {
            "color": "#2a3f5f"
           }
          },
          "ternary": {
           "aaxis": {
            "gridcolor": "white",
            "linecolor": "white",
            "ticks": ""
           },
           "baxis": {
            "gridcolor": "white",
            "linecolor": "white",
            "ticks": ""
           },
           "bgcolor": "#E5ECF6",
           "caxis": {
            "gridcolor": "white",
            "linecolor": "white",
            "ticks": ""
           }
          },
          "title": {
           "x": 0.05
          },
          "xaxis": {
           "automargin": true,
           "gridcolor": "white",
           "linecolor": "white",
           "ticks": "",
           "title": {
            "standoff": 15
           },
           "zerolinecolor": "white",
           "zerolinewidth": 2
          },
          "yaxis": {
           "automargin": true,
           "gridcolor": "white",
           "linecolor": "white",
           "ticks": "",
           "title": {
            "standoff": 15
           },
           "zerolinecolor": "white",
           "zerolinewidth": 2
          }
         }
        },
        "title": {
         "text": "f-score, number of rules and training time on core suite"
        },
        "width": 1000,
        "xaxis": {
         "anchor": "y",
         "domain": [
          0,
          1
         ],
         "matches": "x3",
         "showticklabels": false
        },
        "xaxis2": {
         "anchor": "y2",
         "domain": [
          0,
          1
         ],
         "matches": "x3",
         "showticklabels": false
        },
        "xaxis3": {
         "anchor": "y3",
         "domain": [
          0,
          1
         ]
        },
        "yaxis": {
         "anchor": "x",
         "domain": [
          0.68,
          1
         ],
         "title": {
          "text": "time (secs)"
         },
         "type": "log"
        },
        "yaxis2": {
         "anchor": "x2",
         "domain": [
          0.34,
          0.66
         ],
         "title": {
          "text": "number of rules"
         },
         "type": "log"
        },
        "yaxis3": {
         "anchor": "x3",
         "domain": [
          0,
          0.32
         ],
         "title": {
          "text": "f-score"
         }
        }
       }
      }
     },
     "metadata": {},
     "output_type": "display_data"
    }
   ],
   "source": [
    "perf_metric = 'f'\n",
    "sorted_df = df_core_suite.sort_values('LENC-XGB_'+perf_metric, ignore_index=True)\n",
    "triple_chart(pipelines=ALL_RI_PIPELINES, performance_metric=perf_metric, complexity_metric='nof_rules', df=sorted_df, df_long_name='core suite')"
   ]
  },
  {
   "attachments": {},
   "cell_type": "markdown",
   "metadata": {},
   "source": [
    "### CART"
   ]
  },
  {
   "cell_type": "code",
   "execution_count": 1058,
   "metadata": {},
   "outputs": [
    {
     "data": {
      "application/vnd.plotly.v1+json": {
       "config": {
        "plotlyServerURL": "https://plot.ly"
       },
       "data": [
        {
         "line": {
          "color": "gray",
          "dash": "solid",
          "width": 2
         },
         "marker": {
          "symbol": "circle"
         },
         "mode": "markers+lines",
         "name": "LENC-XGB",
         "showlegend": true,
         "type": "scatter",
         "x": [
          "orange_churn",
          "fraud_oracle",
          "taiwan_credit",
          "german_credit",
          "bike_75",
          "bank_marketing",
          "orange_up",
          "compas",
          "heloc",
          "adult",
          "telco_churn_2",
          "house",
          "telco_churn",
          "fraud_detection",
          "boston",
          "electricity",
          "bike_mean"
         ],
         "xaxis": "x3",
         "y": [
          0.05,
          0.45,
          0.47,
          0.47,
          0.5,
          0.51,
          0.56,
          0.61,
          0.68,
          0.71,
          0.71,
          0.82,
          0.84,
          0.84,
          0.88,
          0.89,
          0.92
         ],
         "yaxis": "y3"
        },
        {
         "line": {
          "color": "darkkhaki",
          "dash": "solid",
          "width": 2
         },
         "marker": {
          "symbol": "cross"
         },
         "mode": "markers+lines",
         "name": "NATIVE-CONST",
         "showlegend": true,
         "type": "scatter",
         "x": [
          "orange_churn",
          "fraud_oracle",
          "taiwan_credit",
          "german_credit",
          "bike_75",
          "bank_marketing",
          "orange_up",
          "compas",
          "heloc",
          "adult",
          "telco_churn_2",
          "house",
          "telco_churn",
          "fraud_detection",
          "boston",
          "electricity",
          "bike_mean"
         ],
         "xaxis": "x3",
         "y": [
          0.14,
          0.13,
          0.36,
          0.45,
          0.01,
          0.19,
          0.13,
          0.63,
          0.65,
          0.37,
          0.67,
          0.45,
          0.26,
          0,
          0.64,
          0.59,
          0.59
         ],
         "yaxis": "y3"
        },
        {
         "line": {
          "color": "lightskyblue",
          "dash": "solid",
          "width": 2
         },
         "marker": {
          "symbol": "arrow-left"
         },
         "mode": "markers+lines",
         "name": "LENC-CART:*",
         "showlegend": true,
         "type": "scatter",
         "x": [
          "orange_churn",
          "fraud_oracle",
          "taiwan_credit",
          "german_credit",
          "bike_75",
          "bank_marketing",
          "orange_up",
          "compas",
          "heloc",
          "adult",
          "telco_churn_2",
          "house",
          "telco_churn",
          "fraud_detection",
          "boston",
          "electricity",
          "bike_mean"
         ],
         "xaxis": "x3",
         "y": [
          0.14,
          0.29,
          0.4,
          0.49,
          0.42,
          0.48,
          0.39,
          0.6,
          0.61,
          0.6,
          0.67,
          0.73,
          0.73,
          0.71,
          0.83,
          0.86,
          0.88
         ],
         "yaxis": "y3"
        },
        {
         "line": {
          "color": "cornflowerblue",
          "dash": "longdash",
          "width": 2
         },
         "marker": {
          "symbol": "diamond"
         },
         "mode": "markers+lines",
         "name": "LENC-CART:6",
         "showlegend": true,
         "type": "scatter",
         "x": [
          "orange_churn",
          "fraud_oracle",
          "taiwan_credit",
          "german_credit",
          "bike_75",
          "bank_marketing",
          "orange_up",
          "compas",
          "heloc",
          "adult",
          "telco_churn_2",
          "house",
          "telco_churn",
          "fraud_detection",
          "boston",
          "electricity",
          "bike_mean"
         ],
         "xaxis": "x3",
         "y": [
          0.07,
          0.08,
          0.44,
          0.59,
          0.47,
          0.46,
          0.57,
          0.59,
          0.66,
          0.46,
          0.69,
          0.75,
          0.76,
          0.79,
          0.83,
          0.71,
          0.89
         ],
         "yaxis": "y3"
        },
        {
         "line": {
          "color": "mediumblue",
          "dash": "dot",
          "width": 2
         },
         "marker": {
          "symbol": "arrow-right"
         },
         "mode": "markers+lines",
         "name": "LENC-CART:4",
         "showlegend": true,
         "type": "scatter",
         "x": [
          "orange_churn",
          "fraud_oracle",
          "taiwan_credit",
          "german_credit",
          "bike_75",
          "bank_marketing",
          "orange_up",
          "compas",
          "heloc",
          "adult",
          "telco_churn_2",
          "house",
          "telco_churn",
          "fraud_detection",
          "boston",
          "electricity",
          "bike_mean"
         ],
         "xaxis": "x3",
         "y": [
          0.03,
          0.07,
          0.42,
          0.54,
          0.51,
          0.46,
          0.56,
          0.6,
          0.68,
          0.41,
          0.67,
          0.7,
          0.66,
          0.77,
          0.83,
          0.67,
          0.88
         ],
         "yaxis": "y3"
        },
        {
         "line": {
          "color": "lightskyblue",
          "dash": "solid",
          "width": 2
         },
         "marker": {
          "symbol": "arrow-left"
         },
         "mode": "markers+lines",
         "name": "LENC-CART:*",
         "showlegend": false,
         "type": "scatter",
         "x": [
          "orange_churn",
          "fraud_oracle",
          "taiwan_credit",
          "german_credit",
          "bike_75",
          "bank_marketing",
          "orange_up",
          "compas",
          "heloc",
          "adult",
          "telco_churn_2",
          "house",
          "telco_churn",
          "fraud_detection",
          "boston",
          "electricity",
          "bike_mean"
         ],
         "xaxis": "x2",
         "y": [
          1319,
          286,
          1607,
          71,
          17,
          107,
          952,
          84,
          626,
          1766,
          136,
          701,
          72,
          66,
          18,
          1478,
          212
         ],
         "yaxis": "y2"
        },
        {
         "line": {
          "color": "cornflowerblue",
          "dash": "longdash",
          "width": 2
         },
         "marker": {
          "symbol": "diamond"
         },
         "mode": "markers+lines",
         "name": "LENC-CART:6",
         "showlegend": false,
         "type": "scatter",
         "x": [
          "orange_churn",
          "fraud_oracle",
          "taiwan_credit",
          "german_credit",
          "bike_75",
          "bank_marketing",
          "orange_up",
          "compas",
          "heloc",
          "adult",
          "telco_churn_2",
          "house",
          "telco_churn",
          "fraud_detection",
          "boston",
          "electricity",
          "bike_mean"
         ],
         "xaxis": "x2",
         "y": [
          24,
          9,
          19,
          20,
          8,
          23,
          20,
          26,
          28,
          20,
          25,
          35,
          19,
          15,
          11,
          31,
          18
         ],
         "yaxis": "y2"
        },
        {
         "line": {
          "color": "mediumblue",
          "dash": "dot",
          "width": 2
         },
         "marker": {
          "symbol": "arrow-right"
         },
         "mode": "markers+lines",
         "name": "LENC-CART:4",
         "showlegend": false,
         "type": "scatter",
         "x": [
          "orange_churn",
          "fraud_oracle",
          "taiwan_credit",
          "german_credit",
          "bike_75",
          "bank_marketing",
          "orange_up",
          "compas",
          "heloc",
          "adult",
          "telco_churn_2",
          "house",
          "telco_churn",
          "fraud_detection",
          "boston",
          "electricity",
          "bike_mean"
         ],
         "xaxis": "x2",
         "y": [
          6,
          5,
          4,
          8,
          2,
          7,
          4,
          11,
          10,
          8,
          11,
          9,
          8,
          7,
          8,
          8,
          4
         ],
         "yaxis": "y2"
        },
        {
         "line": {
          "color": "gray",
          "dash": "solid",
          "width": 2
         },
         "marker": {
          "symbol": "circle"
         },
         "mode": "markers+lines",
         "name": "LENC-XGB",
         "showlegend": false,
         "type": "scatter",
         "x": [
          "orange_churn",
          "fraud_oracle",
          "taiwan_credit",
          "german_credit",
          "bike_75",
          "bank_marketing",
          "orange_up",
          "compas",
          "heloc",
          "adult",
          "telco_churn_2",
          "house",
          "telco_churn",
          "fraud_detection",
          "boston",
          "electricity",
          "bike_mean"
         ],
         "xaxis": "x",
         "y": [
          5.1,
          1.48,
          1.9300000000000002,
          1.05,
          1.1400000000000001,
          1.13,
          5.07,
          1.09,
          1.28,
          1.48,
          1.09,
          1.79,
          1.12,
          11.1,
          1.03,
          1.62,
          1.2
         ],
         "yaxis": "y"
        },
        {
         "line": {
          "color": "lightskyblue",
          "dash": "solid",
          "width": 2
         },
         "marker": {
          "symbol": "arrow-left"
         },
         "mode": "markers+lines",
         "name": "LENC-CART:*",
         "showlegend": false,
         "type": "scatter",
         "x": [
          "orange_churn",
          "fraud_oracle",
          "taiwan_credit",
          "german_credit",
          "bike_75",
          "bank_marketing",
          "orange_up",
          "compas",
          "heloc",
          "adult",
          "telco_churn_2",
          "house",
          "telco_churn",
          "fraud_detection",
          "boston",
          "electricity",
          "bike_mean"
         ],
         "xaxis": "x",
         "y": [
          3.3,
          1.1,
          1.27,
          1.01,
          1.01,
          1.01,
          2.88,
          1.01,
          1.05,
          1.06,
          1.01,
          1.19,
          1.02,
          9.56,
          1,
          1.1400000000000001,
          1.02
         ],
         "yaxis": "y"
        },
        {
         "line": {
          "color": "cornflowerblue",
          "dash": "longdash",
          "width": 2
         },
         "marker": {
          "symbol": "diamond"
         },
         "mode": "markers+lines",
         "name": "LENC-CART:6",
         "showlegend": false,
         "type": "scatter",
         "x": [
          "orange_churn",
          "fraud_oracle",
          "taiwan_credit",
          "german_credit",
          "bike_75",
          "bank_marketing",
          "orange_up",
          "compas",
          "heloc",
          "adult",
          "telco_churn_2",
          "house",
          "telco_churn",
          "fraud_detection",
          "boston",
          "electricity",
          "bike_mean"
         ],
         "xaxis": "x",
         "y": [
          1.88,
          1.08,
          1.13,
          1,
          1.01,
          1.01,
          1.8900000000000001,
          1.01,
          1.02,
          1.04,
          1.01,
          1.09,
          1.01,
          4.35,
          1,
          1.06,
          1.02
         ],
         "yaxis": "y"
        },
        {
         "line": {
          "color": "mediumblue",
          "dash": "dot",
          "width": 2
         },
         "marker": {
          "symbol": "arrow-right"
         },
         "mode": "markers+lines",
         "name": "LENC-CART:4",
         "showlegend": false,
         "type": "scatter",
         "x": [
          "orange_churn",
          "fraud_oracle",
          "taiwan_credit",
          "german_credit",
          "bike_75",
          "bank_marketing",
          "orange_up",
          "compas",
          "heloc",
          "adult",
          "telco_churn_2",
          "house",
          "telco_churn",
          "fraud_detection",
          "boston",
          "electricity",
          "bike_mean"
         ],
         "xaxis": "x",
         "y": [
          1.73,
          1.08,
          1.1,
          1.01,
          1.01,
          1.01,
          1.74,
          1.01,
          1.02,
          1.04,
          1,
          1.06,
          1.01,
          3.24,
          1,
          1.04,
          1.01
         ],
         "yaxis": "y"
        }
       ],
       "layout": {
        "height": 600,
        "plot_bgcolor": "whitesmoke",
        "template": {
         "data": {
          "bar": [
           {
            "error_x": {
             "color": "#2a3f5f"
            },
            "error_y": {
             "color": "#2a3f5f"
            },
            "marker": {
             "line": {
              "color": "#E5ECF6",
              "width": 0.5
             },
             "pattern": {
              "fillmode": "overlay",
              "size": 10,
              "solidity": 0.2
             }
            },
            "type": "bar"
           }
          ],
          "barpolar": [
           {
            "marker": {
             "line": {
              "color": "#E5ECF6",
              "width": 0.5
             },
             "pattern": {
              "fillmode": "overlay",
              "size": 10,
              "solidity": 0.2
             }
            },
            "type": "barpolar"
           }
          ],
          "carpet": [
           {
            "aaxis": {
             "endlinecolor": "#2a3f5f",
             "gridcolor": "white",
             "linecolor": "white",
             "minorgridcolor": "white",
             "startlinecolor": "#2a3f5f"
            },
            "baxis": {
             "endlinecolor": "#2a3f5f",
             "gridcolor": "white",
             "linecolor": "white",
             "minorgridcolor": "white",
             "startlinecolor": "#2a3f5f"
            },
            "type": "carpet"
           }
          ],
          "choropleth": [
           {
            "colorbar": {
             "outlinewidth": 0,
             "ticks": ""
            },
            "type": "choropleth"
           }
          ],
          "contour": [
           {
            "colorbar": {
             "outlinewidth": 0,
             "ticks": ""
            },
            "colorscale": [
             [
              0,
              "#0d0887"
             ],
             [
              0.1111111111111111,
              "#46039f"
             ],
             [
              0.2222222222222222,
              "#7201a8"
             ],
             [
              0.3333333333333333,
              "#9c179e"
             ],
             [
              0.4444444444444444,
              "#bd3786"
             ],
             [
              0.5555555555555556,
              "#d8576b"
             ],
             [
              0.6666666666666666,
              "#ed7953"
             ],
             [
              0.7777777777777778,
              "#fb9f3a"
             ],
             [
              0.8888888888888888,
              "#fdca26"
             ],
             [
              1,
              "#f0f921"
             ]
            ],
            "type": "contour"
           }
          ],
          "contourcarpet": [
           {
            "colorbar": {
             "outlinewidth": 0,
             "ticks": ""
            },
            "type": "contourcarpet"
           }
          ],
          "heatmap": [
           {
            "colorbar": {
             "outlinewidth": 0,
             "ticks": ""
            },
            "colorscale": [
             [
              0,
              "#0d0887"
             ],
             [
              0.1111111111111111,
              "#46039f"
             ],
             [
              0.2222222222222222,
              "#7201a8"
             ],
             [
              0.3333333333333333,
              "#9c179e"
             ],
             [
              0.4444444444444444,
              "#bd3786"
             ],
             [
              0.5555555555555556,
              "#d8576b"
             ],
             [
              0.6666666666666666,
              "#ed7953"
             ],
             [
              0.7777777777777778,
              "#fb9f3a"
             ],
             [
              0.8888888888888888,
              "#fdca26"
             ],
             [
              1,
              "#f0f921"
             ]
            ],
            "type": "heatmap"
           }
          ],
          "heatmapgl": [
           {
            "colorbar": {
             "outlinewidth": 0,
             "ticks": ""
            },
            "colorscale": [
             [
              0,
              "#0d0887"
             ],
             [
              0.1111111111111111,
              "#46039f"
             ],
             [
              0.2222222222222222,
              "#7201a8"
             ],
             [
              0.3333333333333333,
              "#9c179e"
             ],
             [
              0.4444444444444444,
              "#bd3786"
             ],
             [
              0.5555555555555556,
              "#d8576b"
             ],
             [
              0.6666666666666666,
              "#ed7953"
             ],
             [
              0.7777777777777778,
              "#fb9f3a"
             ],
             [
              0.8888888888888888,
              "#fdca26"
             ],
             [
              1,
              "#f0f921"
             ]
            ],
            "type": "heatmapgl"
           }
          ],
          "histogram": [
           {
            "marker": {
             "pattern": {
              "fillmode": "overlay",
              "size": 10,
              "solidity": 0.2
             }
            },
            "type": "histogram"
           }
          ],
          "histogram2d": [
           {
            "colorbar": {
             "outlinewidth": 0,
             "ticks": ""
            },
            "colorscale": [
             [
              0,
              "#0d0887"
             ],
             [
              0.1111111111111111,
              "#46039f"
             ],
             [
              0.2222222222222222,
              "#7201a8"
             ],
             [
              0.3333333333333333,
              "#9c179e"
             ],
             [
              0.4444444444444444,
              "#bd3786"
             ],
             [
              0.5555555555555556,
              "#d8576b"
             ],
             [
              0.6666666666666666,
              "#ed7953"
             ],
             [
              0.7777777777777778,
              "#fb9f3a"
             ],
             [
              0.8888888888888888,
              "#fdca26"
             ],
             [
              1,
              "#f0f921"
             ]
            ],
            "type": "histogram2d"
           }
          ],
          "histogram2dcontour": [
           {
            "colorbar": {
             "outlinewidth": 0,
             "ticks": ""
            },
            "colorscale": [
             [
              0,
              "#0d0887"
             ],
             [
              0.1111111111111111,
              "#46039f"
             ],
             [
              0.2222222222222222,
              "#7201a8"
             ],
             [
              0.3333333333333333,
              "#9c179e"
             ],
             [
              0.4444444444444444,
              "#bd3786"
             ],
             [
              0.5555555555555556,
              "#d8576b"
             ],
             [
              0.6666666666666666,
              "#ed7953"
             ],
             [
              0.7777777777777778,
              "#fb9f3a"
             ],
             [
              0.8888888888888888,
              "#fdca26"
             ],
             [
              1,
              "#f0f921"
             ]
            ],
            "type": "histogram2dcontour"
           }
          ],
          "mesh3d": [
           {
            "colorbar": {
             "outlinewidth": 0,
             "ticks": ""
            },
            "type": "mesh3d"
           }
          ],
          "parcoords": [
           {
            "line": {
             "colorbar": {
              "outlinewidth": 0,
              "ticks": ""
             }
            },
            "type": "parcoords"
           }
          ],
          "pie": [
           {
            "automargin": true,
            "type": "pie"
           }
          ],
          "scatter": [
           {
            "fillpattern": {
             "fillmode": "overlay",
             "size": 10,
             "solidity": 0.2
            },
            "type": "scatter"
           }
          ],
          "scatter3d": [
           {
            "line": {
             "colorbar": {
              "outlinewidth": 0,
              "ticks": ""
             }
            },
            "marker": {
             "colorbar": {
              "outlinewidth": 0,
              "ticks": ""
             }
            },
            "type": "scatter3d"
           }
          ],
          "scattercarpet": [
           {
            "marker": {
             "colorbar": {
              "outlinewidth": 0,
              "ticks": ""
             }
            },
            "type": "scattercarpet"
           }
          ],
          "scattergeo": [
           {
            "marker": {
             "colorbar": {
              "outlinewidth": 0,
              "ticks": ""
             }
            },
            "type": "scattergeo"
           }
          ],
          "scattergl": [
           {
            "marker": {
             "colorbar": {
              "outlinewidth": 0,
              "ticks": ""
             }
            },
            "type": "scattergl"
           }
          ],
          "scattermapbox": [
           {
            "marker": {
             "colorbar": {
              "outlinewidth": 0,
              "ticks": ""
             }
            },
            "type": "scattermapbox"
           }
          ],
          "scatterpolar": [
           {
            "marker": {
             "colorbar": {
              "outlinewidth": 0,
              "ticks": ""
             }
            },
            "type": "scatterpolar"
           }
          ],
          "scatterpolargl": [
           {
            "marker": {
             "colorbar": {
              "outlinewidth": 0,
              "ticks": ""
             }
            },
            "type": "scatterpolargl"
           }
          ],
          "scatterternary": [
           {
            "marker": {
             "colorbar": {
              "outlinewidth": 0,
              "ticks": ""
             }
            },
            "type": "scatterternary"
           }
          ],
          "surface": [
           {
            "colorbar": {
             "outlinewidth": 0,
             "ticks": ""
            },
            "colorscale": [
             [
              0,
              "#0d0887"
             ],
             [
              0.1111111111111111,
              "#46039f"
             ],
             [
              0.2222222222222222,
              "#7201a8"
             ],
             [
              0.3333333333333333,
              "#9c179e"
             ],
             [
              0.4444444444444444,
              "#bd3786"
             ],
             [
              0.5555555555555556,
              "#d8576b"
             ],
             [
              0.6666666666666666,
              "#ed7953"
             ],
             [
              0.7777777777777778,
              "#fb9f3a"
             ],
             [
              0.8888888888888888,
              "#fdca26"
             ],
             [
              1,
              "#f0f921"
             ]
            ],
            "type": "surface"
           }
          ],
          "table": [
           {
            "cells": {
             "fill": {
              "color": "#EBF0F8"
             },
             "line": {
              "color": "white"
             }
            },
            "header": {
             "fill": {
              "color": "#C8D4E3"
             },
             "line": {
              "color": "white"
             }
            },
            "type": "table"
           }
          ]
         },
         "layout": {
          "annotationdefaults": {
           "arrowcolor": "#2a3f5f",
           "arrowhead": 0,
           "arrowwidth": 1
          },
          "autotypenumbers": "strict",
          "coloraxis": {
           "colorbar": {
            "outlinewidth": 0,
            "ticks": ""
           }
          },
          "colorscale": {
           "diverging": [
            [
             0,
             "#8e0152"
            ],
            [
             0.1,
             "#c51b7d"
            ],
            [
             0.2,
             "#de77ae"
            ],
            [
             0.3,
             "#f1b6da"
            ],
            [
             0.4,
             "#fde0ef"
            ],
            [
             0.5,
             "#f7f7f7"
            ],
            [
             0.6,
             "#e6f5d0"
            ],
            [
             0.7,
             "#b8e186"
            ],
            [
             0.8,
             "#7fbc41"
            ],
            [
             0.9,
             "#4d9221"
            ],
            [
             1,
             "#276419"
            ]
           ],
           "sequential": [
            [
             0,
             "#0d0887"
            ],
            [
             0.1111111111111111,
             "#46039f"
            ],
            [
             0.2222222222222222,
             "#7201a8"
            ],
            [
             0.3333333333333333,
             "#9c179e"
            ],
            [
             0.4444444444444444,
             "#bd3786"
            ],
            [
             0.5555555555555556,
             "#d8576b"
            ],
            [
             0.6666666666666666,
             "#ed7953"
            ],
            [
             0.7777777777777778,
             "#fb9f3a"
            ],
            [
             0.8888888888888888,
             "#fdca26"
            ],
            [
             1,
             "#f0f921"
            ]
           ],
           "sequentialminus": [
            [
             0,
             "#0d0887"
            ],
            [
             0.1111111111111111,
             "#46039f"
            ],
            [
             0.2222222222222222,
             "#7201a8"
            ],
            [
             0.3333333333333333,
             "#9c179e"
            ],
            [
             0.4444444444444444,
             "#bd3786"
            ],
            [
             0.5555555555555556,
             "#d8576b"
            ],
            [
             0.6666666666666666,
             "#ed7953"
            ],
            [
             0.7777777777777778,
             "#fb9f3a"
            ],
            [
             0.8888888888888888,
             "#fdca26"
            ],
            [
             1,
             "#f0f921"
            ]
           ]
          },
          "colorway": [
           "#636efa",
           "#EF553B",
           "#00cc96",
           "#ab63fa",
           "#FFA15A",
           "#19d3f3",
           "#FF6692",
           "#B6E880",
           "#FF97FF",
           "#FECB52"
          ],
          "font": {
           "color": "#2a3f5f"
          },
          "geo": {
           "bgcolor": "white",
           "lakecolor": "white",
           "landcolor": "#E5ECF6",
           "showlakes": true,
           "showland": true,
           "subunitcolor": "white"
          },
          "hoverlabel": {
           "align": "left"
          },
          "hovermode": "closest",
          "mapbox": {
           "style": "light"
          },
          "paper_bgcolor": "white",
          "plot_bgcolor": "#E5ECF6",
          "polar": {
           "angularaxis": {
            "gridcolor": "white",
            "linecolor": "white",
            "ticks": ""
           },
           "bgcolor": "#E5ECF6",
           "radialaxis": {
            "gridcolor": "white",
            "linecolor": "white",
            "ticks": ""
           }
          },
          "scene": {
           "xaxis": {
            "backgroundcolor": "#E5ECF6",
            "gridcolor": "white",
            "gridwidth": 2,
            "linecolor": "white",
            "showbackground": true,
            "ticks": "",
            "zerolinecolor": "white"
           },
           "yaxis": {
            "backgroundcolor": "#E5ECF6",
            "gridcolor": "white",
            "gridwidth": 2,
            "linecolor": "white",
            "showbackground": true,
            "ticks": "",
            "zerolinecolor": "white"
           },
           "zaxis": {
            "backgroundcolor": "#E5ECF6",
            "gridcolor": "white",
            "gridwidth": 2,
            "linecolor": "white",
            "showbackground": true,
            "ticks": "",
            "zerolinecolor": "white"
           }
          },
          "shapedefaults": {
           "line": {
            "color": "#2a3f5f"
           }
          },
          "ternary": {
           "aaxis": {
            "gridcolor": "white",
            "linecolor": "white",
            "ticks": ""
           },
           "baxis": {
            "gridcolor": "white",
            "linecolor": "white",
            "ticks": ""
           },
           "bgcolor": "#E5ECF6",
           "caxis": {
            "gridcolor": "white",
            "linecolor": "white",
            "ticks": ""
           }
          },
          "title": {
           "x": 0.05
          },
          "xaxis": {
           "automargin": true,
           "gridcolor": "white",
           "linecolor": "white",
           "ticks": "",
           "title": {
            "standoff": 15
           },
           "zerolinecolor": "white",
           "zerolinewidth": 2
          },
          "yaxis": {
           "automargin": true,
           "gridcolor": "white",
           "linecolor": "white",
           "ticks": "",
           "title": {
            "standoff": 15
           },
           "zerolinecolor": "white",
           "zerolinewidth": 2
          }
         }
        },
        "title": {
         "text": "f-score, number of rules and training time on core suite"
        },
        "width": 1000,
        "xaxis": {
         "anchor": "y",
         "domain": [
          0,
          1
         ],
         "matches": "x3",
         "showticklabels": false
        },
        "xaxis2": {
         "anchor": "y2",
         "domain": [
          0,
          1
         ],
         "matches": "x3",
         "showticklabels": false
        },
        "xaxis3": {
         "anchor": "y3",
         "domain": [
          0,
          1
         ]
        },
        "yaxis": {
         "anchor": "x",
         "domain": [
          0.68,
          1
         ],
         "title": {
          "text": "time (secs)"
         },
         "type": "log"
        },
        "yaxis2": {
         "anchor": "x2",
         "domain": [
          0.34,
          0.66
         ],
         "title": {
          "text": "number of rules"
         },
         "type": "log"
        },
        "yaxis3": {
         "anchor": "x3",
         "domain": [
          0,
          0.32
         ],
         "title": {
          "text": "f-score"
         }
        }
       }
      }
     },
     "metadata": {},
     "output_type": "display_data"
    }
   ],
   "source": [
    "perf_metric = 'f'\n",
    "sorted_df = df_core_suite.sort_values('LENC-XGB_'+perf_metric, ignore_index=True)\n",
    "triple_chart(pipelines=CART_PIPELINES, performance_metric=perf_metric, complexity_metric='nof_rules', df=sorted_df, df_long_name='core suite')\n",
    "# dual_chart(pipelines=CART_PIPELINES, performance_metric=perf_metric, complexity_metric='nof_rules', df=sorted_df, df_long_name='core suite')"
   ]
  },
  {
   "attachments": {},
   "cell_type": "markdown",
   "metadata": {},
   "source": [
    "### BRCG"
   ]
  },
  {
   "cell_type": "code",
   "execution_count": 1059,
   "metadata": {},
   "outputs": [
    {
     "data": {
      "application/vnd.plotly.v1+json": {
       "config": {
        "plotlyServerURL": "https://plot.ly"
       },
       "data": [
        {
         "line": {
          "color": "gray",
          "dash": "solid",
          "width": 2
         },
         "marker": {
          "symbol": "circle"
         },
         "mode": "markers+lines",
         "name": "LENC-XGB",
         "showlegend": true,
         "type": "scatter",
         "x": [
          "orange_churn",
          "fraud_oracle",
          "taiwan_credit",
          "german_credit",
          "bike_75",
          "bank_marketing",
          "orange_up",
          "compas",
          "heloc",
          "adult",
          "telco_churn_2",
          "house",
          "telco_churn",
          "fraud_detection",
          "boston",
          "electricity",
          "bike_mean"
         ],
         "xaxis": "x3",
         "y": [
          0.05,
          0.45,
          0.47,
          0.47,
          0.5,
          0.51,
          0.56,
          0.61,
          0.68,
          0.71,
          0.71,
          0.82,
          0.84,
          0.84,
          0.88,
          0.89,
          0.92
         ],
         "yaxis": "y3"
        },
        {
         "line": {
          "color": "darkkhaki",
          "dash": "solid",
          "width": 2
         },
         "marker": {
          "symbol": "cross"
         },
         "mode": "markers+lines",
         "name": "NATIVE-CONST",
         "showlegend": true,
         "type": "scatter",
         "x": [
          "orange_churn",
          "fraud_oracle",
          "taiwan_credit",
          "german_credit",
          "bike_75",
          "bank_marketing",
          "orange_up",
          "compas",
          "heloc",
          "adult",
          "telco_churn_2",
          "house",
          "telco_churn",
          "fraud_detection",
          "boston",
          "electricity",
          "bike_mean"
         ],
         "xaxis": "x3",
         "y": [
          0.14,
          0.13,
          0.36,
          0.45,
          0.01,
          0.19,
          0.13,
          0.63,
          0.65,
          0.37,
          0.67,
          0.45,
          0.26,
          0,
          0.64,
          0.59,
          0.59
         ],
         "yaxis": "y3"
        },
        {
         "line": {
          "color": "plum",
          "dash": "dash",
          "width": 2
         },
         "marker": {
          "symbol": "cross"
         },
         "mode": "markers+lines",
         "name": "QUANTILE-BRCG",
         "showlegend": true,
         "type": "scatter",
         "x": [
          "orange_churn",
          "fraud_oracle",
          "taiwan_credit",
          "german_credit",
          "bike_75",
          "bank_marketing",
          "orange_up",
          "compas",
          "heloc",
          "adult",
          "telco_churn_2",
          "house",
          "telco_churn",
          "fraud_detection",
          "boston",
          "electricity",
          "bike_mean"
         ],
         "xaxis": "x3",
         "y": [
          null,
          0,
          0.42,
          0.46,
          0,
          0.4,
          null,
          0.61,
          0.68,
          0.62,
          0.68,
          0.68,
          0.69,
          0,
          0.82,
          0.7,
          0.84
         ],
         "yaxis": "y3"
        },
        {
         "line": {
          "color": "forestgreen",
          "dash": "dash",
          "width": 2
         },
         "marker": {
          "symbol": "cross"
         },
         "mode": "markers+lines",
         "name": "TREES-BRCG2",
         "showlegend": true,
         "type": "scatter",
         "x": [
          "orange_churn",
          "fraud_oracle",
          "taiwan_credit",
          "german_credit",
          "bike_75",
          "bank_marketing",
          "orange_up",
          "compas",
          "heloc",
          "adult",
          "telco_churn_2",
          "house",
          "telco_churn",
          "fraud_detection",
          "boston",
          "electricity",
          "bike_mean"
         ],
         "xaxis": "x3",
         "y": [
          0.02,
          0.07,
          0.41,
          0.32,
          0.51,
          0.42,
          0.56,
          0.56,
          0.67,
          0.56,
          0.67,
          0.68,
          0.68,
          0.75,
          0.85,
          0.71,
          0.88
         ],
         "yaxis": "y3"
        },
        {
         "line": {
          "color": "maroon",
          "dash": "dash",
          "width": 2
         },
         "marker": {
          "symbol": "cross"
         },
         "mode": "markers+lines",
         "name": "QUANTILE-BRCG2",
         "showlegend": true,
         "type": "scatter",
         "x": [
          "orange_churn",
          "fraud_oracle",
          "taiwan_credit",
          "german_credit",
          "bike_75",
          "bank_marketing",
          "orange_up",
          "compas",
          "heloc",
          "adult",
          "telco_churn_2",
          "house",
          "telco_churn",
          "fraud_detection",
          "boston",
          "electricity",
          "bike_mean"
         ],
         "xaxis": "x3",
         "y": [
          null,
          0.01,
          0.42,
          0.46,
          0,
          0.36,
          null,
          0.56,
          0.68,
          0.55,
          0.63,
          0.69,
          0.68,
          0.71,
          0.84,
          0.68,
          0.84
         ],
         "yaxis": "y3"
        },
        {
         "line": {
          "color": "yellowgreen",
          "dash": "solid",
          "width": 2
         },
         "marker": {
          "symbol": "cross"
         },
         "mode": "markers+lines",
         "name": "TREES2-BRCG2",
         "showlegend": true,
         "type": "scatter",
         "x": [
          "orange_churn",
          "fraud_oracle",
          "taiwan_credit",
          "german_credit",
          "bike_75",
          "bank_marketing",
          "orange_up",
          "compas",
          "heloc",
          "adult",
          "telco_churn_2",
          "house",
          "telco_churn",
          "fraud_detection",
          "boston",
          "electricity",
          "bike_mean"
         ],
         "xaxis": "x3",
         "y": [
          0.02,
          0.07,
          0.42,
          0.39,
          0.47,
          0.5,
          0.56,
          0.56,
          0.69,
          0.6,
          0.67,
          0.7,
          0.65,
          0.75,
          0.82,
          0.68,
          0.83
         ],
         "yaxis": "y3"
        },
        {
         "line": {
          "color": "aquamarine",
          "dash": "dash",
          "width": 2
         },
         "marker": {
          "symbol": "cross"
         },
         "mode": "markers+lines",
         "name": "TREES2-BRCG",
         "showlegend": true,
         "type": "scatter",
         "x": [
          "orange_churn",
          "fraud_oracle",
          "taiwan_credit",
          "german_credit",
          "bike_75",
          "bank_marketing",
          "orange_up",
          "compas",
          "heloc",
          "adult",
          "telco_churn_2",
          "house",
          "telco_churn",
          "fraud_detection",
          "boston",
          "electricity",
          "bike_mean"
         ],
         "xaxis": "x3",
         "y": [
          0,
          0,
          0.42,
          0.43,
          0,
          0.42,
          0.56,
          0.58,
          0.71,
          0.55,
          0.65,
          0.7,
          0.72,
          0,
          0.82,
          0.7,
          0.86
         ],
         "yaxis": "y3"
        },
        {
         "line": {
          "color": "lime",
          "dash": "dash",
          "width": 2
         },
         "marker": {
          "symbol": "cross"
         },
         "mode": "markers+lines",
         "name": "TREES-BRCG",
         "showlegend": true,
         "type": "scatter",
         "x": [
          "orange_churn",
          "fraud_oracle",
          "taiwan_credit",
          "german_credit",
          "bike_75",
          "bank_marketing",
          "orange_up",
          "compas",
          "heloc",
          "adult",
          "telco_churn_2",
          "house",
          "telco_churn",
          "fraud_detection",
          "boston",
          "electricity",
          "bike_mean"
         ],
         "xaxis": "x3",
         "y": [
          0,
          0,
          0.42,
          0.31,
          0,
          0.42,
          0.56,
          0.61,
          0.67,
          0.55,
          0.68,
          0.7,
          0.65,
          0,
          0.84,
          0.71,
          0.88
         ],
         "yaxis": "y3"
        },
        {
         "line": {
          "color": "plum",
          "dash": "dash",
          "width": 2
         },
         "marker": {
          "symbol": "cross"
         },
         "mode": "markers+lines",
         "name": "QUANTILE-BRCG",
         "showlegend": false,
         "type": "scatter",
         "x": [
          "orange_churn",
          "fraud_oracle",
          "taiwan_credit",
          "german_credit",
          "bike_75",
          "bank_marketing",
          "orange_up",
          "compas",
          "heloc",
          "adult",
          "telco_churn_2",
          "house",
          "telco_churn",
          "fraud_detection",
          "boston",
          "electricity",
          "bike_mean"
         ],
         "xaxis": "x2",
         "y": [
          null,
          1,
          3,
          12,
          1,
          4,
          null,
          5,
          2,
          2,
          3,
          4,
          5,
          1,
          7,
          3,
          2
         ],
         "yaxis": "y2"
        },
        {
         "line": {
          "color": "forestgreen",
          "dash": "dash",
          "width": 2
         },
         "marker": {
          "symbol": "cross"
         },
         "mode": "markers+lines",
         "name": "TREES-BRCG2",
         "showlegend": false,
         "type": "scatter",
         "x": [
          "orange_churn",
          "fraud_oracle",
          "taiwan_credit",
          "german_credit",
          "bike_75",
          "bank_marketing",
          "orange_up",
          "compas",
          "heloc",
          "adult",
          "telco_churn_2",
          "house",
          "telco_churn",
          "fraud_detection",
          "boston",
          "electricity",
          "bike_mean"
         ],
         "xaxis": "x2",
         "y": [
          2,
          3,
          3,
          6,
          2,
          4,
          2,
          3,
          3,
          6,
          5,
          5,
          9,
          2,
          11,
          3,
          5
         ],
         "yaxis": "y2"
        },
        {
         "line": {
          "color": "maroon",
          "dash": "dash",
          "width": 2
         },
         "marker": {
          "symbol": "cross"
         },
         "mode": "markers+lines",
         "name": "QUANTILE-BRCG2",
         "showlegend": false,
         "type": "scatter",
         "x": [
          "orange_churn",
          "fraud_oracle",
          "taiwan_credit",
          "german_credit",
          "bike_75",
          "bank_marketing",
          "orange_up",
          "compas",
          "heloc",
          "adult",
          "telco_churn_2",
          "house",
          "telco_churn",
          "fraud_detection",
          "boston",
          "electricity",
          "bike_mean"
         ],
         "xaxis": "x2",
         "y": [
          null,
          2,
          3,
          26,
          2,
          8,
          null,
          3,
          2,
          7,
          15,
          3,
          17,
          2,
          12,
          3,
          20
         ],
         "yaxis": "y2"
        },
        {
         "line": {
          "color": "yellowgreen",
          "dash": "solid",
          "width": 2
         },
         "marker": {
          "symbol": "cross"
         },
         "mode": "markers+lines",
         "name": "TREES2-BRCG2",
         "showlegend": false,
         "type": "scatter",
         "x": [
          "orange_churn",
          "fraud_oracle",
          "taiwan_credit",
          "german_credit",
          "bike_75",
          "bank_marketing",
          "orange_up",
          "compas",
          "heloc",
          "adult",
          "telco_churn_2",
          "house",
          "telco_churn",
          "fraud_detection",
          "boston",
          "electricity",
          "bike_mean"
         ],
         "xaxis": "x2",
         "y": [
          2,
          3,
          4,
          21,
          3,
          11,
          2,
          3,
          3,
          9,
          4,
          5,
          12,
          2,
          9,
          4,
          7
         ],
         "yaxis": "y2"
        },
        {
         "line": {
          "color": "aquamarine",
          "dash": "dash",
          "width": 2
         },
         "marker": {
          "symbol": "cross"
         },
         "mode": "markers+lines",
         "name": "TREES2-BRCG",
         "showlegend": false,
         "type": "scatter",
         "x": [
          "orange_churn",
          "fraud_oracle",
          "taiwan_credit",
          "german_credit",
          "bike_75",
          "bank_marketing",
          "orange_up",
          "compas",
          "heloc",
          "adult",
          "telco_churn_2",
          "house",
          "telco_churn",
          "fraud_detection",
          "boston",
          "electricity",
          "bike_mean"
         ],
         "xaxis": "x2",
         "y": [
          1,
          1,
          3,
          9,
          1,
          4,
          2,
          4,
          3,
          4,
          3,
          5,
          5,
          1,
          8,
          3,
          3
         ],
         "yaxis": "y2"
        },
        {
         "line": {
          "color": "lime",
          "dash": "dash",
          "width": 2
         },
         "marker": {
          "symbol": "cross"
         },
         "mode": "markers+lines",
         "name": "TREES-BRCG",
         "showlegend": false,
         "type": "scatter",
         "x": [
          "orange_churn",
          "fraud_oracle",
          "taiwan_credit",
          "german_credit",
          "bike_75",
          "bank_marketing",
          "orange_up",
          "compas",
          "heloc",
          "adult",
          "telco_churn_2",
          "house",
          "telco_churn",
          "fraud_detection",
          "boston",
          "electricity",
          "bike_mean"
         ],
         "xaxis": "x2",
         "y": [
          1,
          1,
          3,
          4,
          1,
          4,
          2,
          4,
          2,
          4,
          4,
          5,
          4,
          1,
          6,
          3,
          4
         ],
         "yaxis": "y2"
        },
        {
         "line": {
          "color": "gray",
          "dash": "solid",
          "width": 2
         },
         "marker": {
          "symbol": "circle"
         },
         "mode": "markers+lines",
         "name": "LENC-XGB",
         "showlegend": false,
         "type": "scatter",
         "x": [
          "orange_churn",
          "fraud_oracle",
          "taiwan_credit",
          "german_credit",
          "bike_75",
          "bank_marketing",
          "orange_up",
          "compas",
          "heloc",
          "adult",
          "telco_churn_2",
          "house",
          "telco_churn",
          "fraud_detection",
          "boston",
          "electricity",
          "bike_mean"
         ],
         "xaxis": "x",
         "y": [
          5.1,
          1.48,
          1.9300000000000002,
          1.05,
          1.1400000000000001,
          1.13,
          5.07,
          1.09,
          1.28,
          1.48,
          1.09,
          1.79,
          1.12,
          11.1,
          1.03,
          1.62,
          1.2
         ],
         "yaxis": "y"
        },
        {
         "line": {
          "color": "plum",
          "dash": "dash",
          "width": 2
         },
         "marker": {
          "symbol": "cross"
         },
         "mode": "markers+lines",
         "name": "QUANTILE-BRCG",
         "showlegend": false,
         "type": "scatter",
         "x": [
          "orange_churn",
          "fraud_oracle",
          "taiwan_credit",
          "german_credit",
          "bike_75",
          "bank_marketing",
          "orange_up",
          "compas",
          "heloc",
          "adult",
          "telco_churn_2",
          "house",
          "telco_churn",
          "fraud_detection",
          "boston",
          "electricity",
          "bike_mean"
         ],
         "xaxis": "x",
         "y": [
          null,
          2.4299999999999997,
          16.810000000000002,
          7.47,
          1.48,
          3.59,
          null,
          2.74,
          24.14,
          24.47,
          6.35,
          32.16,
          4.33,
          10.29,
          3.5,
          12.69,
          40.16
         ],
         "yaxis": "y"
        },
        {
         "line": {
          "color": "forestgreen",
          "dash": "dash",
          "width": 2
         },
         "marker": {
          "symbol": "cross"
         },
         "mode": "markers+lines",
         "name": "TREES-BRCG2",
         "showlegend": false,
         "type": "scatter",
         "x": [
          "orange_churn",
          "fraud_oracle",
          "taiwan_credit",
          "german_credit",
          "bike_75",
          "bank_marketing",
          "orange_up",
          "compas",
          "heloc",
          "adult",
          "telco_churn_2",
          "house",
          "telco_churn",
          "fraud_detection",
          "boston",
          "electricity",
          "bike_mean"
         ],
         "xaxis": "x",
         "y": [
          102.01,
          3.09,
          5.66,
          4.109999999999999,
          1.19,
          3.19,
          102.58,
          4.21,
          4.23,
          4.85,
          4,
          7.37,
          3.84,
          4.48,
          2.9299999999999997,
          15.08,
          4.3
         ],
         "yaxis": "y"
        },
        {
         "line": {
          "color": "maroon",
          "dash": "dash",
          "width": 2
         },
         "marker": {
          "symbol": "cross"
         },
         "mode": "markers+lines",
         "name": "QUANTILE-BRCG2",
         "showlegend": false,
         "type": "scatter",
         "x": [
          "orange_churn",
          "fraud_oracle",
          "taiwan_credit",
          "german_credit",
          "bike_75",
          "bank_marketing",
          "orange_up",
          "compas",
          "heloc",
          "adult",
          "telco_churn_2",
          "house",
          "telco_churn",
          "fraud_detection",
          "boston",
          "electricity",
          "bike_mean"
         ],
         "xaxis": "x",
         "y": [
          null,
          4.34,
          47.02,
          9.82,
          2.55,
          7.7,
          null,
          5.23,
          29.94,
          43.45,
          105.27,
          61.05,
          13.3,
          15.43,
          4.92,
          45.84,
          112.82
         ],
         "yaxis": "y"
        },
        {
         "line": {
          "color": "yellowgreen",
          "dash": "solid",
          "width": 2
         },
         "marker": {
          "symbol": "cross"
         },
         "mode": "markers+lines",
         "name": "TREES2-BRCG2",
         "showlegend": false,
         "type": "scatter",
         "x": [
          "orange_churn",
          "fraud_oracle",
          "taiwan_credit",
          "german_credit",
          "bike_75",
          "bank_marketing",
          "orange_up",
          "compas",
          "heloc",
          "adult",
          "telco_churn_2",
          "house",
          "telco_churn",
          "fraud_detection",
          "boston",
          "electricity",
          "bike_mean"
         ],
         "xaxis": "x",
         "y": [
          105.52,
          3.48,
          6.52,
          5.33,
          1.49,
          3.75,
          106.34,
          4.07,
          8.84,
          8.969999999999999,
          5.27,
          10.25,
          4.23,
          5.7,
          2.98,
          17.12,
          4.1899999999999995
         ],
         "yaxis": "y"
        },
        {
         "line": {
          "color": "aquamarine",
          "dash": "dash",
          "width": 2
         },
         "marker": {
          "symbol": "cross"
         },
         "mode": "markers+lines",
         "name": "TREES2-BRCG",
         "showlegend": false,
         "type": "scatter",
         "x": [
          "orange_churn",
          "fraud_oracle",
          "taiwan_credit",
          "german_credit",
          "bike_75",
          "bank_marketing",
          "orange_up",
          "compas",
          "heloc",
          "adult",
          "telco_churn_2",
          "house",
          "telco_churn",
          "fraud_detection",
          "boston",
          "electricity",
          "bike_mean"
         ],
         "xaxis": "x",
         "y": [
          108.61,
          1.72,
          3.6,
          4.26,
          1.15,
          2.27,
          101.85,
          2.45,
          5.48,
          5.09,
          4.52,
          8.89,
          2.2199999999999998,
          4.62,
          2.06,
          12.93,
          3.72
         ],
         "yaxis": "y"
        },
        {
         "line": {
          "color": "lime",
          "dash": "dash",
          "width": 2
         },
         "marker": {
          "symbol": "cross"
         },
         "mode": "markers+lines",
         "name": "TREES-BRCG",
         "showlegend": false,
         "type": "scatter",
         "x": [
          "orange_churn",
          "fraud_oracle",
          "taiwan_credit",
          "german_credit",
          "bike_75",
          "bank_marketing",
          "orange_up",
          "compas",
          "heloc",
          "adult",
          "telco_churn_2",
          "house",
          "telco_churn",
          "fraud_detection",
          "boston",
          "electricity",
          "bike_mean"
         ],
         "xaxis": "x",
         "y": [
          101.76,
          1.53,
          2.49,
          3.15,
          1.12,
          1.8,
          104.14,
          2.2,
          2.96,
          3.51,
          2.7800000000000002,
          4.49,
          1.73,
          3.72,
          2.1399999999999997,
          6.11,
          3.31
         ],
         "yaxis": "y"
        }
       ],
       "layout": {
        "height": 600,
        "plot_bgcolor": "whitesmoke",
        "template": {
         "data": {
          "bar": [
           {
            "error_x": {
             "color": "#2a3f5f"
            },
            "error_y": {
             "color": "#2a3f5f"
            },
            "marker": {
             "line": {
              "color": "#E5ECF6",
              "width": 0.5
             },
             "pattern": {
              "fillmode": "overlay",
              "size": 10,
              "solidity": 0.2
             }
            },
            "type": "bar"
           }
          ],
          "barpolar": [
           {
            "marker": {
             "line": {
              "color": "#E5ECF6",
              "width": 0.5
             },
             "pattern": {
              "fillmode": "overlay",
              "size": 10,
              "solidity": 0.2
             }
            },
            "type": "barpolar"
           }
          ],
          "carpet": [
           {
            "aaxis": {
             "endlinecolor": "#2a3f5f",
             "gridcolor": "white",
             "linecolor": "white",
             "minorgridcolor": "white",
             "startlinecolor": "#2a3f5f"
            },
            "baxis": {
             "endlinecolor": "#2a3f5f",
             "gridcolor": "white",
             "linecolor": "white",
             "minorgridcolor": "white",
             "startlinecolor": "#2a3f5f"
            },
            "type": "carpet"
           }
          ],
          "choropleth": [
           {
            "colorbar": {
             "outlinewidth": 0,
             "ticks": ""
            },
            "type": "choropleth"
           }
          ],
          "contour": [
           {
            "colorbar": {
             "outlinewidth": 0,
             "ticks": ""
            },
            "colorscale": [
             [
              0,
              "#0d0887"
             ],
             [
              0.1111111111111111,
              "#46039f"
             ],
             [
              0.2222222222222222,
              "#7201a8"
             ],
             [
              0.3333333333333333,
              "#9c179e"
             ],
             [
              0.4444444444444444,
              "#bd3786"
             ],
             [
              0.5555555555555556,
              "#d8576b"
             ],
             [
              0.6666666666666666,
              "#ed7953"
             ],
             [
              0.7777777777777778,
              "#fb9f3a"
             ],
             [
              0.8888888888888888,
              "#fdca26"
             ],
             [
              1,
              "#f0f921"
             ]
            ],
            "type": "contour"
           }
          ],
          "contourcarpet": [
           {
            "colorbar": {
             "outlinewidth": 0,
             "ticks": ""
            },
            "type": "contourcarpet"
           }
          ],
          "heatmap": [
           {
            "colorbar": {
             "outlinewidth": 0,
             "ticks": ""
            },
            "colorscale": [
             [
              0,
              "#0d0887"
             ],
             [
              0.1111111111111111,
              "#46039f"
             ],
             [
              0.2222222222222222,
              "#7201a8"
             ],
             [
              0.3333333333333333,
              "#9c179e"
             ],
             [
              0.4444444444444444,
              "#bd3786"
             ],
             [
              0.5555555555555556,
              "#d8576b"
             ],
             [
              0.6666666666666666,
              "#ed7953"
             ],
             [
              0.7777777777777778,
              "#fb9f3a"
             ],
             [
              0.8888888888888888,
              "#fdca26"
             ],
             [
              1,
              "#f0f921"
             ]
            ],
            "type": "heatmap"
           }
          ],
          "heatmapgl": [
           {
            "colorbar": {
             "outlinewidth": 0,
             "ticks": ""
            },
            "colorscale": [
             [
              0,
              "#0d0887"
             ],
             [
              0.1111111111111111,
              "#46039f"
             ],
             [
              0.2222222222222222,
              "#7201a8"
             ],
             [
              0.3333333333333333,
              "#9c179e"
             ],
             [
              0.4444444444444444,
              "#bd3786"
             ],
             [
              0.5555555555555556,
              "#d8576b"
             ],
             [
              0.6666666666666666,
              "#ed7953"
             ],
             [
              0.7777777777777778,
              "#fb9f3a"
             ],
             [
              0.8888888888888888,
              "#fdca26"
             ],
             [
              1,
              "#f0f921"
             ]
            ],
            "type": "heatmapgl"
           }
          ],
          "histogram": [
           {
            "marker": {
             "pattern": {
              "fillmode": "overlay",
              "size": 10,
              "solidity": 0.2
             }
            },
            "type": "histogram"
           }
          ],
          "histogram2d": [
           {
            "colorbar": {
             "outlinewidth": 0,
             "ticks": ""
            },
            "colorscale": [
             [
              0,
              "#0d0887"
             ],
             [
              0.1111111111111111,
              "#46039f"
             ],
             [
              0.2222222222222222,
              "#7201a8"
             ],
             [
              0.3333333333333333,
              "#9c179e"
             ],
             [
              0.4444444444444444,
              "#bd3786"
             ],
             [
              0.5555555555555556,
              "#d8576b"
             ],
             [
              0.6666666666666666,
              "#ed7953"
             ],
             [
              0.7777777777777778,
              "#fb9f3a"
             ],
             [
              0.8888888888888888,
              "#fdca26"
             ],
             [
              1,
              "#f0f921"
             ]
            ],
            "type": "histogram2d"
           }
          ],
          "histogram2dcontour": [
           {
            "colorbar": {
             "outlinewidth": 0,
             "ticks": ""
            },
            "colorscale": [
             [
              0,
              "#0d0887"
             ],
             [
              0.1111111111111111,
              "#46039f"
             ],
             [
              0.2222222222222222,
              "#7201a8"
             ],
             [
              0.3333333333333333,
              "#9c179e"
             ],
             [
              0.4444444444444444,
              "#bd3786"
             ],
             [
              0.5555555555555556,
              "#d8576b"
             ],
             [
              0.6666666666666666,
              "#ed7953"
             ],
             [
              0.7777777777777778,
              "#fb9f3a"
             ],
             [
              0.8888888888888888,
              "#fdca26"
             ],
             [
              1,
              "#f0f921"
             ]
            ],
            "type": "histogram2dcontour"
           }
          ],
          "mesh3d": [
           {
            "colorbar": {
             "outlinewidth": 0,
             "ticks": ""
            },
            "type": "mesh3d"
           }
          ],
          "parcoords": [
           {
            "line": {
             "colorbar": {
              "outlinewidth": 0,
              "ticks": ""
             }
            },
            "type": "parcoords"
           }
          ],
          "pie": [
           {
            "automargin": true,
            "type": "pie"
           }
          ],
          "scatter": [
           {
            "fillpattern": {
             "fillmode": "overlay",
             "size": 10,
             "solidity": 0.2
            },
            "type": "scatter"
           }
          ],
          "scatter3d": [
           {
            "line": {
             "colorbar": {
              "outlinewidth": 0,
              "ticks": ""
             }
            },
            "marker": {
             "colorbar": {
              "outlinewidth": 0,
              "ticks": ""
             }
            },
            "type": "scatter3d"
           }
          ],
          "scattercarpet": [
           {
            "marker": {
             "colorbar": {
              "outlinewidth": 0,
              "ticks": ""
             }
            },
            "type": "scattercarpet"
           }
          ],
          "scattergeo": [
           {
            "marker": {
             "colorbar": {
              "outlinewidth": 0,
              "ticks": ""
             }
            },
            "type": "scattergeo"
           }
          ],
          "scattergl": [
           {
            "marker": {
             "colorbar": {
              "outlinewidth": 0,
              "ticks": ""
             }
            },
            "type": "scattergl"
           }
          ],
          "scattermapbox": [
           {
            "marker": {
             "colorbar": {
              "outlinewidth": 0,
              "ticks": ""
             }
            },
            "type": "scattermapbox"
           }
          ],
          "scatterpolar": [
           {
            "marker": {
             "colorbar": {
              "outlinewidth": 0,
              "ticks": ""
             }
            },
            "type": "scatterpolar"
           }
          ],
          "scatterpolargl": [
           {
            "marker": {
             "colorbar": {
              "outlinewidth": 0,
              "ticks": ""
             }
            },
            "type": "scatterpolargl"
           }
          ],
          "scatterternary": [
           {
            "marker": {
             "colorbar": {
              "outlinewidth": 0,
              "ticks": ""
             }
            },
            "type": "scatterternary"
           }
          ],
          "surface": [
           {
            "colorbar": {
             "outlinewidth": 0,
             "ticks": ""
            },
            "colorscale": [
             [
              0,
              "#0d0887"
             ],
             [
              0.1111111111111111,
              "#46039f"
             ],
             [
              0.2222222222222222,
              "#7201a8"
             ],
             [
              0.3333333333333333,
              "#9c179e"
             ],
             [
              0.4444444444444444,
              "#bd3786"
             ],
             [
              0.5555555555555556,
              "#d8576b"
             ],
             [
              0.6666666666666666,
              "#ed7953"
             ],
             [
              0.7777777777777778,
              "#fb9f3a"
             ],
             [
              0.8888888888888888,
              "#fdca26"
             ],
             [
              1,
              "#f0f921"
             ]
            ],
            "type": "surface"
           }
          ],
          "table": [
           {
            "cells": {
             "fill": {
              "color": "#EBF0F8"
             },
             "line": {
              "color": "white"
             }
            },
            "header": {
             "fill": {
              "color": "#C8D4E3"
             },
             "line": {
              "color": "white"
             }
            },
            "type": "table"
           }
          ]
         },
         "layout": {
          "annotationdefaults": {
           "arrowcolor": "#2a3f5f",
           "arrowhead": 0,
           "arrowwidth": 1
          },
          "autotypenumbers": "strict",
          "coloraxis": {
           "colorbar": {
            "outlinewidth": 0,
            "ticks": ""
           }
          },
          "colorscale": {
           "diverging": [
            [
             0,
             "#8e0152"
            ],
            [
             0.1,
             "#c51b7d"
            ],
            [
             0.2,
             "#de77ae"
            ],
            [
             0.3,
             "#f1b6da"
            ],
            [
             0.4,
             "#fde0ef"
            ],
            [
             0.5,
             "#f7f7f7"
            ],
            [
             0.6,
             "#e6f5d0"
            ],
            [
             0.7,
             "#b8e186"
            ],
            [
             0.8,
             "#7fbc41"
            ],
            [
             0.9,
             "#4d9221"
            ],
            [
             1,
             "#276419"
            ]
           ],
           "sequential": [
            [
             0,
             "#0d0887"
            ],
            [
             0.1111111111111111,
             "#46039f"
            ],
            [
             0.2222222222222222,
             "#7201a8"
            ],
            [
             0.3333333333333333,
             "#9c179e"
            ],
            [
             0.4444444444444444,
             "#bd3786"
            ],
            [
             0.5555555555555556,
             "#d8576b"
            ],
            [
             0.6666666666666666,
             "#ed7953"
            ],
            [
             0.7777777777777778,
             "#fb9f3a"
            ],
            [
             0.8888888888888888,
             "#fdca26"
            ],
            [
             1,
             "#f0f921"
            ]
           ],
           "sequentialminus": [
            [
             0,
             "#0d0887"
            ],
            [
             0.1111111111111111,
             "#46039f"
            ],
            [
             0.2222222222222222,
             "#7201a8"
            ],
            [
             0.3333333333333333,
             "#9c179e"
            ],
            [
             0.4444444444444444,
             "#bd3786"
            ],
            [
             0.5555555555555556,
             "#d8576b"
            ],
            [
             0.6666666666666666,
             "#ed7953"
            ],
            [
             0.7777777777777778,
             "#fb9f3a"
            ],
            [
             0.8888888888888888,
             "#fdca26"
            ],
            [
             1,
             "#f0f921"
            ]
           ]
          },
          "colorway": [
           "#636efa",
           "#EF553B",
           "#00cc96",
           "#ab63fa",
           "#FFA15A",
           "#19d3f3",
           "#FF6692",
           "#B6E880",
           "#FF97FF",
           "#FECB52"
          ],
          "font": {
           "color": "#2a3f5f"
          },
          "geo": {
           "bgcolor": "white",
           "lakecolor": "white",
           "landcolor": "#E5ECF6",
           "showlakes": true,
           "showland": true,
           "subunitcolor": "white"
          },
          "hoverlabel": {
           "align": "left"
          },
          "hovermode": "closest",
          "mapbox": {
           "style": "light"
          },
          "paper_bgcolor": "white",
          "plot_bgcolor": "#E5ECF6",
          "polar": {
           "angularaxis": {
            "gridcolor": "white",
            "linecolor": "white",
            "ticks": ""
           },
           "bgcolor": "#E5ECF6",
           "radialaxis": {
            "gridcolor": "white",
            "linecolor": "white",
            "ticks": ""
           }
          },
          "scene": {
           "xaxis": {
            "backgroundcolor": "#E5ECF6",
            "gridcolor": "white",
            "gridwidth": 2,
            "linecolor": "white",
            "showbackground": true,
            "ticks": "",
            "zerolinecolor": "white"
           },
           "yaxis": {
            "backgroundcolor": "#E5ECF6",
            "gridcolor": "white",
            "gridwidth": 2,
            "linecolor": "white",
            "showbackground": true,
            "ticks": "",
            "zerolinecolor": "white"
           },
           "zaxis": {
            "backgroundcolor": "#E5ECF6",
            "gridcolor": "white",
            "gridwidth": 2,
            "linecolor": "white",
            "showbackground": true,
            "ticks": "",
            "zerolinecolor": "white"
           }
          },
          "shapedefaults": {
           "line": {
            "color": "#2a3f5f"
           }
          },
          "ternary": {
           "aaxis": {
            "gridcolor": "white",
            "linecolor": "white",
            "ticks": ""
           },
           "baxis": {
            "gridcolor": "white",
            "linecolor": "white",
            "ticks": ""
           },
           "bgcolor": "#E5ECF6",
           "caxis": {
            "gridcolor": "white",
            "linecolor": "white",
            "ticks": ""
           }
          },
          "title": {
           "x": 0.05
          },
          "xaxis": {
           "automargin": true,
           "gridcolor": "white",
           "linecolor": "white",
           "ticks": "",
           "title": {
            "standoff": 15
           },
           "zerolinecolor": "white",
           "zerolinewidth": 2
          },
          "yaxis": {
           "automargin": true,
           "gridcolor": "white",
           "linecolor": "white",
           "ticks": "",
           "title": {
            "standoff": 15
           },
           "zerolinecolor": "white",
           "zerolinewidth": 2
          }
         }
        },
        "title": {
         "text": "f-score, number of rules and training time on core suite"
        },
        "width": 1000,
        "xaxis": {
         "anchor": "y",
         "domain": [
          0,
          1
         ],
         "matches": "x3",
         "showticklabels": false
        },
        "xaxis2": {
         "anchor": "y2",
         "domain": [
          0,
          1
         ],
         "matches": "x3",
         "showticklabels": false
        },
        "xaxis3": {
         "anchor": "y3",
         "domain": [
          0,
          1
         ]
        },
        "yaxis": {
         "anchor": "x",
         "domain": [
          0.68,
          1
         ],
         "title": {
          "text": "time (secs)"
         },
         "type": "log"
        },
        "yaxis2": {
         "anchor": "x2",
         "domain": [
          0.34,
          0.66
         ],
         "title": {
          "text": "number of rules"
         },
         "type": "log"
        },
        "yaxis3": {
         "anchor": "x3",
         "domain": [
          0,
          0.32
         ],
         "title": {
          "text": "f-score"
         }
        }
       }
      }
     },
     "metadata": {},
     "output_type": "display_data"
    }
   ],
   "source": [
    "perf_metric = 'f'\n",
    "sorted_df = df_core_suite.sort_values('LENC-XGB_'+perf_metric, ignore_index=True)\n",
    "triple_chart(pipelines=BRCG_PIPELINES, performance_metric=perf_metric, complexity_metric='nof_rules', df=sorted_df, df_long_name='core suite')"
   ]
  },
  {
   "attachments": {},
   "cell_type": "markdown",
   "metadata": {},
   "source": [
    "### CORELS"
   ]
  },
  {
   "cell_type": "code",
   "execution_count": 1060,
   "metadata": {},
   "outputs": [
    {
     "data": {
      "application/vnd.plotly.v1+json": {
       "config": {
        "plotlyServerURL": "https://plot.ly"
       },
       "data": [
        {
         "line": {
          "color": "gray",
          "dash": "solid",
          "width": 2
         },
         "marker": {
          "symbol": "circle"
         },
         "mode": "markers+lines",
         "name": "LENC-XGB",
         "showlegend": true,
         "type": "scatter",
         "x": [
          "orange_churn",
          "fraud_oracle",
          "taiwan_credit",
          "german_credit",
          "bike_75",
          "bank_marketing",
          "orange_up",
          "compas",
          "heloc",
          "adult",
          "telco_churn_2",
          "house",
          "telco_churn",
          "fraud_detection",
          "boston",
          "electricity",
          "bike_mean"
         ],
         "xaxis": "x3",
         "y": [
          0.05,
          0.45,
          0.47,
          0.47,
          0.5,
          0.51,
          0.56,
          0.61,
          0.68,
          0.71,
          0.71,
          0.82,
          0.84,
          0.84,
          0.88,
          0.89,
          0.92
         ],
         "yaxis": "y3"
        },
        {
         "line": {
          "color": "darkkhaki",
          "dash": "solid",
          "width": 2
         },
         "marker": {
          "symbol": "cross"
         },
         "mode": "markers+lines",
         "name": "NATIVE-CONST",
         "showlegend": true,
         "type": "scatter",
         "x": [
          "orange_churn",
          "fraud_oracle",
          "taiwan_credit",
          "german_credit",
          "bike_75",
          "bank_marketing",
          "orange_up",
          "compas",
          "heloc",
          "adult",
          "telco_churn_2",
          "house",
          "telco_churn",
          "fraud_detection",
          "boston",
          "electricity",
          "bike_mean"
         ],
         "xaxis": "x3",
         "y": [
          0.14,
          0.13,
          0.36,
          0.45,
          0.01,
          0.19,
          0.13,
          0.63,
          0.65,
          0.37,
          0.67,
          0.45,
          0.26,
          0,
          0.64,
          0.59,
          0.59
         ],
         "yaxis": "y3"
        },
        {
         "line": {
          "color": "palevioletred",
          "dash": "dashdot",
          "width": 2
         },
         "marker": {
          "symbol": "star"
         },
         "mode": "markers+lines",
         "name": "QUANTILE-CORELS",
         "showlegend": true,
         "type": "scatter",
         "x": [
          "orange_churn",
          "fraud_oracle",
          "taiwan_credit",
          "german_credit",
          "bike_75",
          "bank_marketing",
          "orange_up",
          "compas",
          "heloc",
          "adult",
          "telco_churn_2",
          "house",
          "telco_churn",
          "fraud_detection",
          "boston",
          "electricity",
          "bike_mean"
         ],
         "xaxis": "x3",
         "y": [
          null,
          0,
          0.42,
          0.4,
          0,
          0.44,
          null,
          0.56,
          0.68,
          0.35,
          0.71,
          0.63,
          0.17,
          0,
          0.82,
          0.67,
          0.72
         ],
         "yaxis": "y3"
        },
        {
         "line": {
          "color": "darkorange",
          "dash": "dashdot",
          "width": 2
         },
         "marker": {
          "symbol": "star"
         },
         "mode": "markers+lines",
         "name": "TREES-CORELS2",
         "showlegend": true,
         "type": "scatter",
         "x": [
          "orange_churn",
          "fraud_oracle",
          "taiwan_credit",
          "german_credit",
          "bike_75",
          "bank_marketing",
          "orange_up",
          "compas",
          "heloc",
          "adult",
          "telco_churn_2",
          "house",
          "telco_churn",
          "fraud_detection",
          "boston",
          "electricity",
          "bike_mean"
         ],
         "xaxis": "x3",
         "y": [
          0,
          0.06,
          0.44,
          0.42,
          0,
          0.43,
          0.56,
          0.61,
          0.67,
          0.42,
          0.69,
          0.6,
          0.34,
          0,
          0.87,
          0.67,
          0.81
         ],
         "yaxis": "y3"
        },
        {
         "line": {
          "color": "wheat",
          "dash": "dashdot",
          "width": 2
         },
         "marker": {
          "symbol": "star"
         },
         "mode": "markers+lines",
         "name": "TREES2-CORELS2",
         "showlegend": true,
         "type": "scatter",
         "x": [
          "orange_churn",
          "fraud_oracle",
          "taiwan_credit",
          "german_credit",
          "bike_75",
          "bank_marketing",
          "orange_up",
          "compas",
          "heloc",
          "adult",
          "telco_churn_2",
          "house",
          "telco_churn",
          "fraud_detection",
          "boston",
          "electricity",
          "bike_mean"
         ],
         "xaxis": "x3",
         "y": [
          0,
          0,
          0.42,
          0.41,
          0,
          0.43,
          0.56,
          0.61,
          0.67,
          0.45,
          0.69,
          0.61,
          0.33,
          0,
          0.8,
          0.7,
          0.81
         ],
         "yaxis": "y3"
        },
        {
         "line": {
          "color": "gold",
          "dash": "dashdot",
          "width": 2
         },
         "marker": {
          "symbol": "star"
         },
         "mode": "markers+lines",
         "name": "TREES-CORELS",
         "showlegend": true,
         "type": "scatter",
         "x": [
          "orange_churn",
          "fraud_oracle",
          "taiwan_credit",
          "german_credit",
          "bike_75",
          "bank_marketing",
          "orange_up",
          "compas",
          "heloc",
          "adult",
          "telco_churn_2",
          "house",
          "telco_churn",
          "fraud_detection",
          "boston",
          "electricity",
          "bike_mean"
         ],
         "xaxis": "x3",
         "y": [
          0,
          0,
          0.42,
          0.16,
          0,
          0.43,
          0.56,
          0.56,
          0.67,
          0.42,
          0.69,
          0.61,
          0.48,
          0,
          0.87,
          0.67,
          0.82
         ],
         "yaxis": "y3"
        },
        {
         "line": {
          "color": "palevioletred",
          "dash": "dashdot",
          "width": 2
         },
         "marker": {
          "symbol": "star"
         },
         "mode": "markers+lines",
         "name": "QUANTILE-CORELS",
         "showlegend": false,
         "type": "scatter",
         "x": [
          "orange_churn",
          "fraud_oracle",
          "taiwan_credit",
          "german_credit",
          "bike_75",
          "bank_marketing",
          "orange_up",
          "compas",
          "heloc",
          "adult",
          "telco_churn_2",
          "house",
          "telco_churn",
          "fraud_detection",
          "boston",
          "electricity",
          "bike_mean"
         ],
         "xaxis": "x2",
         "y": [
          null,
          1,
          3,
          2,
          1,
          2,
          null,
          3,
          2,
          2,
          3,
          2,
          2,
          1,
          2,
          2,
          2
         ],
         "yaxis": "y2"
        },
        {
         "line": {
          "color": "darkorange",
          "dash": "dashdot",
          "width": 2
         },
         "marker": {
          "symbol": "star"
         },
         "mode": "markers+lines",
         "name": "TREES-CORELS2",
         "showlegend": false,
         "type": "scatter",
         "x": [
          "orange_churn",
          "fraud_oracle",
          "taiwan_credit",
          "german_credit",
          "bike_75",
          "bank_marketing",
          "orange_up",
          "compas",
          "heloc",
          "adult",
          "telco_churn_2",
          "house",
          "telco_churn",
          "fraud_detection",
          "boston",
          "electricity",
          "bike_mean"
         ],
         "xaxis": "x2",
         "y": [
          1,
          3,
          4,
          2,
          1,
          2,
          4,
          4,
          2,
          4,
          4,
          2,
          2,
          1,
          3,
          2,
          2
         ],
         "yaxis": "y2"
        },
        {
         "line": {
          "color": "wheat",
          "dash": "dashdot",
          "width": 2
         },
         "marker": {
          "symbol": "star"
         },
         "mode": "markers+lines",
         "name": "TREES2-CORELS2",
         "showlegend": false,
         "type": "scatter",
         "x": [
          "orange_churn",
          "fraud_oracle",
          "taiwan_credit",
          "german_credit",
          "bike_75",
          "bank_marketing",
          "orange_up",
          "compas",
          "heloc",
          "adult",
          "telco_churn_2",
          "house",
          "telco_churn",
          "fraud_detection",
          "boston",
          "electricity",
          "bike_mean"
         ],
         "xaxis": "x2",
         "y": [
          1,
          1,
          3,
          2,
          1,
          2,
          2,
          4,
          2,
          4,
          4,
          2,
          2,
          1,
          2,
          3,
          2
         ],
         "yaxis": "y2"
        },
        {
         "line": {
          "color": "gold",
          "dash": "dashdot",
          "width": 2
         },
         "marker": {
          "symbol": "star"
         },
         "mode": "markers+lines",
         "name": "TREES-CORELS",
         "showlegend": false,
         "type": "scatter",
         "x": [
          "orange_churn",
          "fraud_oracle",
          "taiwan_credit",
          "german_credit",
          "bike_75",
          "bank_marketing",
          "orange_up",
          "compas",
          "heloc",
          "adult",
          "telco_churn_2",
          "house",
          "telco_churn",
          "fraud_detection",
          "boston",
          "electricity",
          "bike_mean"
         ],
         "xaxis": "x2",
         "y": [
          1,
          1,
          3,
          3,
          1,
          2,
          3,
          3,
          2,
          3,
          3,
          2,
          3,
          1,
          2,
          2,
          3
         ],
         "yaxis": "y2"
        },
        {
         "line": {
          "color": "gray",
          "dash": "solid",
          "width": 2
         },
         "marker": {
          "symbol": "circle"
         },
         "mode": "markers+lines",
         "name": "LENC-XGB",
         "showlegend": false,
         "type": "scatter",
         "x": [
          "orange_churn",
          "fraud_oracle",
          "taiwan_credit",
          "german_credit",
          "bike_75",
          "bank_marketing",
          "orange_up",
          "compas",
          "heloc",
          "adult",
          "telco_churn_2",
          "house",
          "telco_churn",
          "fraud_detection",
          "boston",
          "electricity",
          "bike_mean"
         ],
         "xaxis": "x",
         "y": [
          5.1,
          1.48,
          1.9300000000000002,
          1.05,
          1.1400000000000001,
          1.13,
          5.07,
          1.09,
          1.28,
          1.48,
          1.09,
          1.79,
          1.12,
          11.1,
          1.03,
          1.62,
          1.2
         ],
         "yaxis": "y"
        },
        {
         "line": {
          "color": "palevioletred",
          "dash": "dashdot",
          "width": 2
         },
         "marker": {
          "symbol": "star"
         },
         "mode": "markers+lines",
         "name": "QUANTILE-CORELS",
         "showlegend": false,
         "type": "scatter",
         "x": [
          "orange_churn",
          "fraud_oracle",
          "taiwan_credit",
          "german_credit",
          "bike_75",
          "bank_marketing",
          "orange_up",
          "compas",
          "heloc",
          "adult",
          "telco_churn_2",
          "house",
          "telco_churn",
          "fraud_detection",
          "boston",
          "electricity",
          "bike_mean"
         ],
         "xaxis": "x",
         "y": [
          null,
          15.97,
          39.43,
          1.19,
          11.69,
          2.04,
          null,
          1.1,
          9.32,
          7.24,
          1.3900000000000001,
          14.59,
          4.720000000000001,
          1713.21,
          1.11,
          5.88,
          12
         ],
         "yaxis": "y"
        },
        {
         "line": {
          "color": "darkorange",
          "dash": "dashdot",
          "width": 2
         },
         "marker": {
          "symbol": "star"
         },
         "mode": "markers+lines",
         "name": "TREES-CORELS2",
         "showlegend": false,
         "type": "scatter",
         "x": [
          "orange_churn",
          "fraud_oracle",
          "taiwan_credit",
          "german_credit",
          "bike_75",
          "bank_marketing",
          "orange_up",
          "compas",
          "heloc",
          "adult",
          "telco_churn_2",
          "house",
          "telco_churn",
          "fraud_detection",
          "boston",
          "electricity",
          "bike_mean"
         ],
         "xaxis": "x",
         "y": [
          101.25,
          116.82,
          3.34,
          1.07,
          1.1,
          1.21,
          435.04,
          1.17,
          1.4,
          1.73,
          1.11,
          2.2199999999999998,
          1.15,
          13.84,
          1.03,
          4.74,
          1.35
         ],
         "yaxis": "y"
        },
        {
         "line": {
          "color": "wheat",
          "dash": "dashdot",
          "width": 2
         },
         "marker": {
          "symbol": "star"
         },
         "mode": "markers+lines",
         "name": "TREES2-CORELS2",
         "showlegend": false,
         "type": "scatter",
         "x": [
          "orange_churn",
          "fraud_oracle",
          "taiwan_credit",
          "german_credit",
          "bike_75",
          "bank_marketing",
          "orange_up",
          "compas",
          "heloc",
          "adult",
          "telco_churn_2",
          "house",
          "telco_churn",
          "fraud_detection",
          "boston",
          "electricity",
          "bike_mean"
         ],
         "xaxis": "x",
         "y": [
          117.95,
          2.65,
          30.67,
          1.35,
          1.29,
          3.59,
          115.5,
          1.16,
          10.71,
          9.9,
          2.3,
          21.3,
          1.5699999999999998,
          59.67,
          1.06,
          45.22,
          5.84
         ],
         "yaxis": "y"
        },
        {
         "line": {
          "color": "gold",
          "dash": "dashdot",
          "width": 2
         },
         "marker": {
          "symbol": "star"
         },
         "mode": "markers+lines",
         "name": "TREES-CORELS",
         "showlegend": false,
         "type": "scatter",
         "x": [
          "orange_churn",
          "fraud_oracle",
          "taiwan_credit",
          "german_credit",
          "bike_75",
          "bank_marketing",
          "orange_up",
          "compas",
          "heloc",
          "adult",
          "telco_churn_2",
          "house",
          "telco_churn",
          "fraud_detection",
          "boston",
          "electricity",
          "bike_mean"
         ],
         "xaxis": "x",
         "y": [
          102.9,
          1.19,
          3.7,
          1.04,
          1.07,
          1.08,
          104.28,
          1.09,
          1.12,
          1.41,
          1.04,
          1.26,
          1.06,
          6.1,
          1.02,
          1.54,
          1.13
         ],
         "yaxis": "y"
        }
       ],
       "layout": {
        "height": 600,
        "plot_bgcolor": "whitesmoke",
        "template": {
         "data": {
          "bar": [
           {
            "error_x": {
             "color": "#2a3f5f"
            },
            "error_y": {
             "color": "#2a3f5f"
            },
            "marker": {
             "line": {
              "color": "#E5ECF6",
              "width": 0.5
             },
             "pattern": {
              "fillmode": "overlay",
              "size": 10,
              "solidity": 0.2
             }
            },
            "type": "bar"
           }
          ],
          "barpolar": [
           {
            "marker": {
             "line": {
              "color": "#E5ECF6",
              "width": 0.5
             },
             "pattern": {
              "fillmode": "overlay",
              "size": 10,
              "solidity": 0.2
             }
            },
            "type": "barpolar"
           }
          ],
          "carpet": [
           {
            "aaxis": {
             "endlinecolor": "#2a3f5f",
             "gridcolor": "white",
             "linecolor": "white",
             "minorgridcolor": "white",
             "startlinecolor": "#2a3f5f"
            },
            "baxis": {
             "endlinecolor": "#2a3f5f",
             "gridcolor": "white",
             "linecolor": "white",
             "minorgridcolor": "white",
             "startlinecolor": "#2a3f5f"
            },
            "type": "carpet"
           }
          ],
          "choropleth": [
           {
            "colorbar": {
             "outlinewidth": 0,
             "ticks": ""
            },
            "type": "choropleth"
           }
          ],
          "contour": [
           {
            "colorbar": {
             "outlinewidth": 0,
             "ticks": ""
            },
            "colorscale": [
             [
              0,
              "#0d0887"
             ],
             [
              0.1111111111111111,
              "#46039f"
             ],
             [
              0.2222222222222222,
              "#7201a8"
             ],
             [
              0.3333333333333333,
              "#9c179e"
             ],
             [
              0.4444444444444444,
              "#bd3786"
             ],
             [
              0.5555555555555556,
              "#d8576b"
             ],
             [
              0.6666666666666666,
              "#ed7953"
             ],
             [
              0.7777777777777778,
              "#fb9f3a"
             ],
             [
              0.8888888888888888,
              "#fdca26"
             ],
             [
              1,
              "#f0f921"
             ]
            ],
            "type": "contour"
           }
          ],
          "contourcarpet": [
           {
            "colorbar": {
             "outlinewidth": 0,
             "ticks": ""
            },
            "type": "contourcarpet"
           }
          ],
          "heatmap": [
           {
            "colorbar": {
             "outlinewidth": 0,
             "ticks": ""
            },
            "colorscale": [
             [
              0,
              "#0d0887"
             ],
             [
              0.1111111111111111,
              "#46039f"
             ],
             [
              0.2222222222222222,
              "#7201a8"
             ],
             [
              0.3333333333333333,
              "#9c179e"
             ],
             [
              0.4444444444444444,
              "#bd3786"
             ],
             [
              0.5555555555555556,
              "#d8576b"
             ],
             [
              0.6666666666666666,
              "#ed7953"
             ],
             [
              0.7777777777777778,
              "#fb9f3a"
             ],
             [
              0.8888888888888888,
              "#fdca26"
             ],
             [
              1,
              "#f0f921"
             ]
            ],
            "type": "heatmap"
           }
          ],
          "heatmapgl": [
           {
            "colorbar": {
             "outlinewidth": 0,
             "ticks": ""
            },
            "colorscale": [
             [
              0,
              "#0d0887"
             ],
             [
              0.1111111111111111,
              "#46039f"
             ],
             [
              0.2222222222222222,
              "#7201a8"
             ],
             [
              0.3333333333333333,
              "#9c179e"
             ],
             [
              0.4444444444444444,
              "#bd3786"
             ],
             [
              0.5555555555555556,
              "#d8576b"
             ],
             [
              0.6666666666666666,
              "#ed7953"
             ],
             [
              0.7777777777777778,
              "#fb9f3a"
             ],
             [
              0.8888888888888888,
              "#fdca26"
             ],
             [
              1,
              "#f0f921"
             ]
            ],
            "type": "heatmapgl"
           }
          ],
          "histogram": [
           {
            "marker": {
             "pattern": {
              "fillmode": "overlay",
              "size": 10,
              "solidity": 0.2
             }
            },
            "type": "histogram"
           }
          ],
          "histogram2d": [
           {
            "colorbar": {
             "outlinewidth": 0,
             "ticks": ""
            },
            "colorscale": [
             [
              0,
              "#0d0887"
             ],
             [
              0.1111111111111111,
              "#46039f"
             ],
             [
              0.2222222222222222,
              "#7201a8"
             ],
             [
              0.3333333333333333,
              "#9c179e"
             ],
             [
              0.4444444444444444,
              "#bd3786"
             ],
             [
              0.5555555555555556,
              "#d8576b"
             ],
             [
              0.6666666666666666,
              "#ed7953"
             ],
             [
              0.7777777777777778,
              "#fb9f3a"
             ],
             [
              0.8888888888888888,
              "#fdca26"
             ],
             [
              1,
              "#f0f921"
             ]
            ],
            "type": "histogram2d"
           }
          ],
          "histogram2dcontour": [
           {
            "colorbar": {
             "outlinewidth": 0,
             "ticks": ""
            },
            "colorscale": [
             [
              0,
              "#0d0887"
             ],
             [
              0.1111111111111111,
              "#46039f"
             ],
             [
              0.2222222222222222,
              "#7201a8"
             ],
             [
              0.3333333333333333,
              "#9c179e"
             ],
             [
              0.4444444444444444,
              "#bd3786"
             ],
             [
              0.5555555555555556,
              "#d8576b"
             ],
             [
              0.6666666666666666,
              "#ed7953"
             ],
             [
              0.7777777777777778,
              "#fb9f3a"
             ],
             [
              0.8888888888888888,
              "#fdca26"
             ],
             [
              1,
              "#f0f921"
             ]
            ],
            "type": "histogram2dcontour"
           }
          ],
          "mesh3d": [
           {
            "colorbar": {
             "outlinewidth": 0,
             "ticks": ""
            },
            "type": "mesh3d"
           }
          ],
          "parcoords": [
           {
            "line": {
             "colorbar": {
              "outlinewidth": 0,
              "ticks": ""
             }
            },
            "type": "parcoords"
           }
          ],
          "pie": [
           {
            "automargin": true,
            "type": "pie"
           }
          ],
          "scatter": [
           {
            "fillpattern": {
             "fillmode": "overlay",
             "size": 10,
             "solidity": 0.2
            },
            "type": "scatter"
           }
          ],
          "scatter3d": [
           {
            "line": {
             "colorbar": {
              "outlinewidth": 0,
              "ticks": ""
             }
            },
            "marker": {
             "colorbar": {
              "outlinewidth": 0,
              "ticks": ""
             }
            },
            "type": "scatter3d"
           }
          ],
          "scattercarpet": [
           {
            "marker": {
             "colorbar": {
              "outlinewidth": 0,
              "ticks": ""
             }
            },
            "type": "scattercarpet"
           }
          ],
          "scattergeo": [
           {
            "marker": {
             "colorbar": {
              "outlinewidth": 0,
              "ticks": ""
             }
            },
            "type": "scattergeo"
           }
          ],
          "scattergl": [
           {
            "marker": {
             "colorbar": {
              "outlinewidth": 0,
              "ticks": ""
             }
            },
            "type": "scattergl"
           }
          ],
          "scattermapbox": [
           {
            "marker": {
             "colorbar": {
              "outlinewidth": 0,
              "ticks": ""
             }
            },
            "type": "scattermapbox"
           }
          ],
          "scatterpolar": [
           {
            "marker": {
             "colorbar": {
              "outlinewidth": 0,
              "ticks": ""
             }
            },
            "type": "scatterpolar"
           }
          ],
          "scatterpolargl": [
           {
            "marker": {
             "colorbar": {
              "outlinewidth": 0,
              "ticks": ""
             }
            },
            "type": "scatterpolargl"
           }
          ],
          "scatterternary": [
           {
            "marker": {
             "colorbar": {
              "outlinewidth": 0,
              "ticks": ""
             }
            },
            "type": "scatterternary"
           }
          ],
          "surface": [
           {
            "colorbar": {
             "outlinewidth": 0,
             "ticks": ""
            },
            "colorscale": [
             [
              0,
              "#0d0887"
             ],
             [
              0.1111111111111111,
              "#46039f"
             ],
             [
              0.2222222222222222,
              "#7201a8"
             ],
             [
              0.3333333333333333,
              "#9c179e"
             ],
             [
              0.4444444444444444,
              "#bd3786"
             ],
             [
              0.5555555555555556,
              "#d8576b"
             ],
             [
              0.6666666666666666,
              "#ed7953"
             ],
             [
              0.7777777777777778,
              "#fb9f3a"
             ],
             [
              0.8888888888888888,
              "#fdca26"
             ],
             [
              1,
              "#f0f921"
             ]
            ],
            "type": "surface"
           }
          ],
          "table": [
           {
            "cells": {
             "fill": {
              "color": "#EBF0F8"
             },
             "line": {
              "color": "white"
             }
            },
            "header": {
             "fill": {
              "color": "#C8D4E3"
             },
             "line": {
              "color": "white"
             }
            },
            "type": "table"
           }
          ]
         },
         "layout": {
          "annotationdefaults": {
           "arrowcolor": "#2a3f5f",
           "arrowhead": 0,
           "arrowwidth": 1
          },
          "autotypenumbers": "strict",
          "coloraxis": {
           "colorbar": {
            "outlinewidth": 0,
            "ticks": ""
           }
          },
          "colorscale": {
           "diverging": [
            [
             0,
             "#8e0152"
            ],
            [
             0.1,
             "#c51b7d"
            ],
            [
             0.2,
             "#de77ae"
            ],
            [
             0.3,
             "#f1b6da"
            ],
            [
             0.4,
             "#fde0ef"
            ],
            [
             0.5,
             "#f7f7f7"
            ],
            [
             0.6,
             "#e6f5d0"
            ],
            [
             0.7,
             "#b8e186"
            ],
            [
             0.8,
             "#7fbc41"
            ],
            [
             0.9,
             "#4d9221"
            ],
            [
             1,
             "#276419"
            ]
           ],
           "sequential": [
            [
             0,
             "#0d0887"
            ],
            [
             0.1111111111111111,
             "#46039f"
            ],
            [
             0.2222222222222222,
             "#7201a8"
            ],
            [
             0.3333333333333333,
             "#9c179e"
            ],
            [
             0.4444444444444444,
             "#bd3786"
            ],
            [
             0.5555555555555556,
             "#d8576b"
            ],
            [
             0.6666666666666666,
             "#ed7953"
            ],
            [
             0.7777777777777778,
             "#fb9f3a"
            ],
            [
             0.8888888888888888,
             "#fdca26"
            ],
            [
             1,
             "#f0f921"
            ]
           ],
           "sequentialminus": [
            [
             0,
             "#0d0887"
            ],
            [
             0.1111111111111111,
             "#46039f"
            ],
            [
             0.2222222222222222,
             "#7201a8"
            ],
            [
             0.3333333333333333,
             "#9c179e"
            ],
            [
             0.4444444444444444,
             "#bd3786"
            ],
            [
             0.5555555555555556,
             "#d8576b"
            ],
            [
             0.6666666666666666,
             "#ed7953"
            ],
            [
             0.7777777777777778,
             "#fb9f3a"
            ],
            [
             0.8888888888888888,
             "#fdca26"
            ],
            [
             1,
             "#f0f921"
            ]
           ]
          },
          "colorway": [
           "#636efa",
           "#EF553B",
           "#00cc96",
           "#ab63fa",
           "#FFA15A",
           "#19d3f3",
           "#FF6692",
           "#B6E880",
           "#FF97FF",
           "#FECB52"
          ],
          "font": {
           "color": "#2a3f5f"
          },
          "geo": {
           "bgcolor": "white",
           "lakecolor": "white",
           "landcolor": "#E5ECF6",
           "showlakes": true,
           "showland": true,
           "subunitcolor": "white"
          },
          "hoverlabel": {
           "align": "left"
          },
          "hovermode": "closest",
          "mapbox": {
           "style": "light"
          },
          "paper_bgcolor": "white",
          "plot_bgcolor": "#E5ECF6",
          "polar": {
           "angularaxis": {
            "gridcolor": "white",
            "linecolor": "white",
            "ticks": ""
           },
           "bgcolor": "#E5ECF6",
           "radialaxis": {
            "gridcolor": "white",
            "linecolor": "white",
            "ticks": ""
           }
          },
          "scene": {
           "xaxis": {
            "backgroundcolor": "#E5ECF6",
            "gridcolor": "white",
            "gridwidth": 2,
            "linecolor": "white",
            "showbackground": true,
            "ticks": "",
            "zerolinecolor": "white"
           },
           "yaxis": {
            "backgroundcolor": "#E5ECF6",
            "gridcolor": "white",
            "gridwidth": 2,
            "linecolor": "white",
            "showbackground": true,
            "ticks": "",
            "zerolinecolor": "white"
           },
           "zaxis": {
            "backgroundcolor": "#E5ECF6",
            "gridcolor": "white",
            "gridwidth": 2,
            "linecolor": "white",
            "showbackground": true,
            "ticks": "",
            "zerolinecolor": "white"
           }
          },
          "shapedefaults": {
           "line": {
            "color": "#2a3f5f"
           }
          },
          "ternary": {
           "aaxis": {
            "gridcolor": "white",
            "linecolor": "white",
            "ticks": ""
           },
           "baxis": {
            "gridcolor": "white",
            "linecolor": "white",
            "ticks": ""
           },
           "bgcolor": "#E5ECF6",
           "caxis": {
            "gridcolor": "white",
            "linecolor": "white",
            "ticks": ""
           }
          },
          "title": {
           "x": 0.05
          },
          "xaxis": {
           "automargin": true,
           "gridcolor": "white",
           "linecolor": "white",
           "ticks": "",
           "title": {
            "standoff": 15
           },
           "zerolinecolor": "white",
           "zerolinewidth": 2
          },
          "yaxis": {
           "automargin": true,
           "gridcolor": "white",
           "linecolor": "white",
           "ticks": "",
           "title": {
            "standoff": 15
           },
           "zerolinecolor": "white",
           "zerolinewidth": 2
          }
         }
        },
        "title": {
         "text": "f-score, number of rules and training time on core suite"
        },
        "width": 1000,
        "xaxis": {
         "anchor": "y",
         "domain": [
          0,
          1
         ],
         "matches": "x3",
         "showticklabels": false
        },
        "xaxis2": {
         "anchor": "y2",
         "domain": [
          0,
          1
         ],
         "matches": "x3",
         "showticklabels": false
        },
        "xaxis3": {
         "anchor": "y3",
         "domain": [
          0,
          1
         ]
        },
        "yaxis": {
         "anchor": "x",
         "domain": [
          0.68,
          1
         ],
         "title": {
          "text": "time (secs)"
         },
         "type": "log"
        },
        "yaxis2": {
         "anchor": "x2",
         "domain": [
          0.34,
          0.66
         ],
         "title": {
          "text": "number of rules"
         },
         "type": "log"
        },
        "yaxis3": {
         "anchor": "x3",
         "domain": [
          0,
          0.32
         ],
         "title": {
          "text": "f-score"
         }
        }
       }
      }
     },
     "metadata": {},
     "output_type": "display_data"
    }
   ],
   "source": [
    "perf_metric = 'f'\n",
    "sorted_df = df_core_suite.sort_values('LENC-XGB_'+perf_metric, ignore_index=True)\n",
    "triple_chart(pipelines=CORELS_PIPELINES, performance_metric=perf_metric, complexity_metric='nof_rules', df=sorted_df, df_long_name='core suite')"
   ]
  },
  {
   "attachments": {},
   "cell_type": "markdown",
   "metadata": {},
   "source": [
    "### RIPPER"
   ]
  },
  {
   "cell_type": "code",
   "execution_count": 1061,
   "metadata": {},
   "outputs": [
    {
     "data": {
      "application/vnd.plotly.v1+json": {
       "config": {
        "plotlyServerURL": "https://plot.ly"
       },
       "data": [
        {
         "line": {
          "color": "gray",
          "dash": "solid",
          "width": 2
         },
         "marker": {
          "symbol": "circle"
         },
         "mode": "markers+lines",
         "name": "LENC-XGB",
         "showlegend": true,
         "type": "scatter",
         "x": [
          "orange_churn",
          "fraud_oracle",
          "taiwan_credit",
          "german_credit",
          "bike_75",
          "bank_marketing",
          "orange_up",
          "compas",
          "heloc",
          "adult",
          "telco_churn_2",
          "house",
          "telco_churn",
          "fraud_detection",
          "boston",
          "electricity",
          "bike_mean"
         ],
         "xaxis": "x3",
         "y": [
          0.05,
          0.45,
          0.47,
          0.47,
          0.5,
          0.51,
          0.56,
          0.61,
          0.68,
          0.71,
          0.71,
          0.82,
          0.84,
          0.84,
          0.88,
          0.89,
          0.92
         ],
         "yaxis": "y3"
        },
        {
         "line": {
          "color": "darkkhaki",
          "dash": "solid",
          "width": 2
         },
         "marker": {
          "symbol": "cross"
         },
         "mode": "markers+lines",
         "name": "NATIVE-CONST",
         "showlegend": true,
         "type": "scatter",
         "x": [
          "orange_churn",
          "fraud_oracle",
          "taiwan_credit",
          "german_credit",
          "bike_75",
          "bank_marketing",
          "orange_up",
          "compas",
          "heloc",
          "adult",
          "telco_churn_2",
          "house",
          "telco_churn",
          "fraud_detection",
          "boston",
          "electricity",
          "bike_mean"
         ],
         "xaxis": "x3",
         "y": [
          0.14,
          0.13,
          0.36,
          0.45,
          0.01,
          0.19,
          0.13,
          0.63,
          0.65,
          0.37,
          0.67,
          0.45,
          0.26,
          0,
          0.64,
          0.59,
          0.59
         ],
         "yaxis": "y3"
        },
        {
         "line": {
          "color": "salmon",
          "dash": "longdash",
          "width": 2
         },
         "marker": {
          "symbol": "diamond"
         },
         "mode": "markers+lines",
         "name": "QUANTILE-RIPPER",
         "showlegend": true,
         "type": "scatter",
         "x": [
          "orange_churn",
          "fraud_oracle",
          "taiwan_credit",
          "german_credit",
          "bike_75",
          "bank_marketing",
          "orange_up",
          "compas",
          "heloc",
          "adult",
          "telco_churn_2",
          "house",
          "telco_churn",
          "fraud_detection",
          "boston",
          "electricity",
          "bike_mean"
         ],
         "xaxis": "x3",
         "y": [
          null,
          0.1,
          0.45,
          0.25,
          0,
          0.32,
          null,
          0,
          0.7,
          0.62,
          0.67,
          0.77,
          0.77,
          0.76,
          0.85,
          0,
          0.88
         ],
         "yaxis": "y3"
        },
        {
         "line": {
          "color": "orangered",
          "dash": "longdash",
          "width": 2
         },
         "marker": {
          "symbol": "diamond"
         },
         "mode": "markers+lines",
         "name": "TREES-RIPPER",
         "showlegend": true,
         "type": "scatter",
         "x": [
          "orange_churn",
          "fraud_oracle",
          "taiwan_credit",
          "german_credit",
          "bike_75",
          "bank_marketing",
          "orange_up",
          "compas",
          "heloc",
          "adult",
          "telco_churn_2",
          "house",
          "telco_churn",
          "fraud_detection",
          "boston",
          "electricity",
          "bike_mean"
         ],
         "xaxis": "x3",
         "y": [
          0,
          0.17,
          0,
          null,
          0.14,
          0,
          0,
          0,
          0,
          0,
          0,
          0,
          null,
          null,
          0,
          0,
          0
         ],
         "yaxis": "y3"
        },
        {
         "line": {
          "color": "magenta",
          "dash": "longdash",
          "width": 2
         },
         "marker": {
          "symbol": "diamond"
         },
         "mode": "markers+lines",
         "name": "NATIVE-RIPPER2",
         "showlegend": true,
         "type": "scatter",
         "x": [
          "orange_churn",
          "fraud_oracle",
          "taiwan_credit",
          "german_credit",
          "bike_75",
          "bank_marketing",
          "orange_up",
          "compas",
          "heloc",
          "adult",
          "telco_churn_2",
          "house",
          "telco_churn",
          "fraud_detection",
          "boston",
          "electricity",
          "bike_mean"
         ],
         "xaxis": "x3",
         "y": [
          0,
          0,
          0.44,
          0.46,
          0.53,
          0.45,
          0.54,
          0,
          0.7,
          0.63,
          0.68,
          0.77,
          0.84,
          0.78,
          0.86,
          0.81,
          0.89
         ],
         "yaxis": "y3"
        },
        {
         "line": {
          "color": "darkorchid",
          "dash": "longdash",
          "width": 2
         },
         "marker": {
          "symbol": "diamond"
         },
         "mode": "markers+lines",
         "name": "NATIVE-RIPPER3",
         "showlegend": true,
         "type": "scatter",
         "x": [
          "orange_churn",
          "fraud_oracle",
          "taiwan_credit",
          "german_credit",
          "bike_75",
          "bank_marketing",
          "orange_up",
          "compas",
          "heloc",
          "adult",
          "telco_churn_2",
          "house",
          "telco_churn",
          "fraud_detection",
          "boston",
          "electricity",
          "bike_mean"
         ],
         "xaxis": "x3",
         "y": [
          0,
          0,
          0.44,
          0.46,
          0.53,
          0.45,
          0.54,
          0,
          0.7,
          0.63,
          0.68,
          0.77,
          0.84,
          0.78,
          0.86,
          0.83,
          0.89
         ],
         "yaxis": "y3"
        },
        {
         "line": {
          "color": "crimson",
          "dash": "longdash",
          "width": 2
         },
         "marker": {
          "symbol": "diamond"
         },
         "mode": "markers+lines",
         "name": "NATIVE-RIPPER",
         "showlegend": true,
         "type": "scatter",
         "x": [
          "orange_churn",
          "fraud_oracle",
          "taiwan_credit",
          "german_credit",
          "bike_75",
          "bank_marketing",
          "orange_up",
          "compas",
          "heloc",
          "adult",
          "telco_churn_2",
          "house",
          "telco_churn",
          "fraud_detection",
          "boston",
          "electricity",
          "bike_mean"
         ],
         "xaxis": "x3",
         "y": [
          0,
          0,
          0.44,
          0.27,
          0.53,
          0.45,
          0.54,
          0,
          0.7,
          0.63,
          0.68,
          0.77,
          0.84,
          0.78,
          0.86,
          0.81,
          0.89
         ],
         "yaxis": "y3"
        },
        {
         "line": {
          "color": "salmon",
          "dash": "longdash",
          "width": 2
         },
         "marker": {
          "symbol": "diamond"
         },
         "mode": "markers+lines",
         "name": "QUANTILE-RIPPER",
         "showlegend": false,
         "type": "scatter",
         "x": [
          "orange_churn",
          "fraud_oracle",
          "taiwan_credit",
          "german_credit",
          "bike_75",
          "bank_marketing",
          "orange_up",
          "compas",
          "heloc",
          "adult",
          "telco_churn_2",
          "house",
          "telco_churn",
          "fraud_detection",
          "boston",
          "electricity",
          "bike_mean"
         ],
         "xaxis": "x2",
         "y": [
          null,
          3,
          12,
          3,
          1,
          3,
          null,
          1,
          23,
          42,
          23,
          41,
          8,
          10,
          12,
          1,
          22
         ],
         "yaxis": "y2"
        },
        {
         "line": {
          "color": "orangered",
          "dash": "longdash",
          "width": 2
         },
         "marker": {
          "symbol": "diamond"
         },
         "mode": "markers+lines",
         "name": "TREES-RIPPER",
         "showlegend": false,
         "type": "scatter",
         "x": [
          "orange_churn",
          "fraud_oracle",
          "taiwan_credit",
          "german_credit",
          "bike_75",
          "bank_marketing",
          "orange_up",
          "compas",
          "heloc",
          "adult",
          "telco_churn_2",
          "house",
          "telco_churn",
          "fraud_detection",
          "boston",
          "electricity",
          "bike_mean"
         ],
         "xaxis": "x2",
         "y": [
          1,
          15,
          1,
          null,
          5,
          1,
          1,
          1,
          1,
          1,
          1,
          1,
          null,
          null,
          1,
          1,
          1
         ],
         "yaxis": "y2"
        },
        {
         "line": {
          "color": "magenta",
          "dash": "longdash",
          "width": 2
         },
         "marker": {
          "symbol": "diamond"
         },
         "mode": "markers+lines",
         "name": "NATIVE-RIPPER2",
         "showlegend": false,
         "type": "scatter",
         "x": [
          "orange_churn",
          "fraud_oracle",
          "taiwan_credit",
          "german_credit",
          "bike_75",
          "bank_marketing",
          "orange_up",
          "compas",
          "heloc",
          "adult",
          "telco_churn_2",
          "house",
          "telco_churn",
          "fraud_detection",
          "boston",
          "electricity",
          "bike_mean"
         ],
         "xaxis": "x2",
         "y": [
          1,
          1,
          12,
          18,
          10,
          7,
          9,
          1,
          17,
          39,
          23,
          38,
          10,
          7,
          10,
          61,
          19
         ],
         "yaxis": "y2"
        },
        {
         "line": {
          "color": "darkorchid",
          "dash": "longdash",
          "width": 2
         },
         "marker": {
          "symbol": "diamond"
         },
         "mode": "markers+lines",
         "name": "NATIVE-RIPPER3",
         "showlegend": false,
         "type": "scatter",
         "x": [
          "orange_churn",
          "fraud_oracle",
          "taiwan_credit",
          "german_credit",
          "bike_75",
          "bank_marketing",
          "orange_up",
          "compas",
          "heloc",
          "adult",
          "telco_churn_2",
          "house",
          "telco_churn",
          "fraud_detection",
          "boston",
          "electricity",
          "bike_mean"
         ],
         "xaxis": "x2",
         "y": [
          1,
          1,
          12,
          18,
          10,
          7,
          9,
          1,
          17,
          39,
          23,
          38,
          10,
          7,
          10,
          100,
          19
         ],
         "yaxis": "y2"
        },
        {
         "line": {
          "color": "crimson",
          "dash": "longdash",
          "width": 2
         },
         "marker": {
          "symbol": "diamond"
         },
         "mode": "markers+lines",
         "name": "NATIVE-RIPPER",
         "showlegend": false,
         "type": "scatter",
         "x": [
          "orange_churn",
          "fraud_oracle",
          "taiwan_credit",
          "german_credit",
          "bike_75",
          "bank_marketing",
          "orange_up",
          "compas",
          "heloc",
          "adult",
          "telco_churn_2",
          "house",
          "telco_churn",
          "fraud_detection",
          "boston",
          "electricity",
          "bike_mean"
         ],
         "xaxis": "x2",
         "y": [
          1,
          1,
          12,
          3,
          10,
          7,
          9,
          1,
          17,
          39,
          8,
          38,
          10,
          7,
          10,
          61,
          19
         ],
         "yaxis": "y2"
        },
        {
         "line": {
          "color": "gray",
          "dash": "solid",
          "width": 2
         },
         "marker": {
          "symbol": "circle"
         },
         "mode": "markers+lines",
         "name": "LENC-XGB",
         "showlegend": false,
         "type": "scatter",
         "x": [
          "orange_churn",
          "fraud_oracle",
          "taiwan_credit",
          "german_credit",
          "bike_75",
          "bank_marketing",
          "orange_up",
          "compas",
          "heloc",
          "adult",
          "telco_churn_2",
          "house",
          "telco_churn",
          "fraud_detection",
          "boston",
          "electricity",
          "bike_mean"
         ],
         "xaxis": "x",
         "y": [
          5.1,
          1.48,
          1.9300000000000002,
          1.05,
          1.1400000000000001,
          1.13,
          5.07,
          1.09,
          1.28,
          1.48,
          1.09,
          1.79,
          1.12,
          11.1,
          1.03,
          1.62,
          1.2
         ],
         "yaxis": "y"
        },
        {
         "line": {
          "color": "salmon",
          "dash": "longdash",
          "width": 2
         },
         "marker": {
          "symbol": "diamond"
         },
         "mode": "markers+lines",
         "name": "QUANTILE-RIPPER",
         "showlegend": false,
         "type": "scatter",
         "x": [
          "orange_churn",
          "fraud_oracle",
          "taiwan_credit",
          "german_credit",
          "bike_75",
          "bank_marketing",
          "orange_up",
          "compas",
          "heloc",
          "adult",
          "telco_churn_2",
          "house",
          "telco_churn",
          "fraud_detection",
          "boston",
          "electricity",
          "bike_mean"
         ],
         "xaxis": "x",
         "y": [
          null,
          3.39,
          22.52,
          1.26,
          3.3,
          1.44,
          null,
          1.06,
          7.79,
          47.11,
          1.73,
          32.31,
          2.1399999999999997,
          172.38,
          1.22,
          1.6099999999999999,
          18.43
         ],
         "yaxis": "y"
        },
        {
         "line": {
          "color": "orangered",
          "dash": "longdash",
          "width": 2
         },
         "marker": {
          "symbol": "diamond"
         },
         "mode": "markers+lines",
         "name": "TREES-RIPPER",
         "showlegend": false,
         "type": "scatter",
         "x": [
          "orange_churn",
          "fraud_oracle",
          "taiwan_credit",
          "german_credit",
          "bike_75",
          "bank_marketing",
          "orange_up",
          "compas",
          "heloc",
          "adult",
          "telco_churn_2",
          "house",
          "telco_churn",
          "fraud_detection",
          "boston",
          "electricity",
          "bike_mean"
         ],
         "xaxis": "x",
         "y": [
          105.9,
          1.53,
          1.24,
          null,
          1.09,
          1.06,
          98.56,
          1.05,
          1.08,
          1.17,
          1.04,
          1.16,
          null,
          null,
          1.03,
          1.19,
          1.1
         ],
         "yaxis": "y"
        },
        {
         "line": {
          "color": "magenta",
          "dash": "longdash",
          "width": 2
         },
         "marker": {
          "symbol": "diamond"
         },
         "mode": "markers+lines",
         "name": "NATIVE-RIPPER2",
         "showlegend": false,
         "type": "scatter",
         "x": [
          "orange_churn",
          "fraud_oracle",
          "taiwan_credit",
          "german_credit",
          "bike_75",
          "bank_marketing",
          "orange_up",
          "compas",
          "heloc",
          "adult",
          "telco_churn_2",
          "house",
          "telco_churn",
          "fraud_detection",
          "boston",
          "electricity",
          "bike_mean"
         ],
         "xaxis": "x",
         "y": [
          5.05,
          1.08,
          7.42,
          1.28,
          1.31,
          1.12,
          26.72,
          1.01,
          1.83,
          9.86,
          1.24,
          18.96,
          1.18,
          1240.03,
          1.04,
          20.74,
          1.8
         ],
         "yaxis": "y"
        },
        {
         "line": {
          "color": "darkorchid",
          "dash": "longdash",
          "width": 2
         },
         "marker": {
          "symbol": "diamond"
         },
         "mode": "markers+lines",
         "name": "NATIVE-RIPPER3",
         "showlegend": false,
         "type": "scatter",
         "x": [
          "orange_churn",
          "fraud_oracle",
          "taiwan_credit",
          "german_credit",
          "bike_75",
          "bank_marketing",
          "orange_up",
          "compas",
          "heloc",
          "adult",
          "telco_churn_2",
          "house",
          "telco_churn",
          "fraud_detection",
          "boston",
          "electricity",
          "bike_mean"
         ],
         "xaxis": "x",
         "y": [
          5.07,
          1.1400000000000001,
          7.48,
          1.16,
          1.3,
          1.12,
          26.9,
          1.01,
          1.88,
          10.13,
          1.24,
          21.37,
          1.17,
          1461.23,
          1.04,
          52.07,
          1.81
         ],
         "yaxis": "y"
        },
        {
         "line": {
          "color": "crimson",
          "dash": "longdash",
          "width": 2
         },
         "marker": {
          "symbol": "diamond"
         },
         "mode": "markers+lines",
         "name": "NATIVE-RIPPER",
         "showlegend": false,
         "type": "scatter",
         "x": [
          "orange_churn",
          "fraud_oracle",
          "taiwan_credit",
          "german_credit",
          "bike_75",
          "bank_marketing",
          "orange_up",
          "compas",
          "heloc",
          "adult",
          "telco_churn_2",
          "house",
          "telco_churn",
          "fraud_detection",
          "boston",
          "electricity",
          "bike_mean"
         ],
         "xaxis": "x",
         "y": [
          4.220000000000001,
          1.12,
          7.55,
          1.05,
          1.42,
          1.11,
          25.94,
          1.01,
          1.96,
          9.98,
          1.09,
          19.06,
          1.17,
          1128.56,
          1.04,
          20.9,
          1.94
         ],
         "yaxis": "y"
        }
       ],
       "layout": {
        "height": 600,
        "plot_bgcolor": "whitesmoke",
        "template": {
         "data": {
          "bar": [
           {
            "error_x": {
             "color": "#2a3f5f"
            },
            "error_y": {
             "color": "#2a3f5f"
            },
            "marker": {
             "line": {
              "color": "#E5ECF6",
              "width": 0.5
             },
             "pattern": {
              "fillmode": "overlay",
              "size": 10,
              "solidity": 0.2
             }
            },
            "type": "bar"
           }
          ],
          "barpolar": [
           {
            "marker": {
             "line": {
              "color": "#E5ECF6",
              "width": 0.5
             },
             "pattern": {
              "fillmode": "overlay",
              "size": 10,
              "solidity": 0.2
             }
            },
            "type": "barpolar"
           }
          ],
          "carpet": [
           {
            "aaxis": {
             "endlinecolor": "#2a3f5f",
             "gridcolor": "white",
             "linecolor": "white",
             "minorgridcolor": "white",
             "startlinecolor": "#2a3f5f"
            },
            "baxis": {
             "endlinecolor": "#2a3f5f",
             "gridcolor": "white",
             "linecolor": "white",
             "minorgridcolor": "white",
             "startlinecolor": "#2a3f5f"
            },
            "type": "carpet"
           }
          ],
          "choropleth": [
           {
            "colorbar": {
             "outlinewidth": 0,
             "ticks": ""
            },
            "type": "choropleth"
           }
          ],
          "contour": [
           {
            "colorbar": {
             "outlinewidth": 0,
             "ticks": ""
            },
            "colorscale": [
             [
              0,
              "#0d0887"
             ],
             [
              0.1111111111111111,
              "#46039f"
             ],
             [
              0.2222222222222222,
              "#7201a8"
             ],
             [
              0.3333333333333333,
              "#9c179e"
             ],
             [
              0.4444444444444444,
              "#bd3786"
             ],
             [
              0.5555555555555556,
              "#d8576b"
             ],
             [
              0.6666666666666666,
              "#ed7953"
             ],
             [
              0.7777777777777778,
              "#fb9f3a"
             ],
             [
              0.8888888888888888,
              "#fdca26"
             ],
             [
              1,
              "#f0f921"
             ]
            ],
            "type": "contour"
           }
          ],
          "contourcarpet": [
           {
            "colorbar": {
             "outlinewidth": 0,
             "ticks": ""
            },
            "type": "contourcarpet"
           }
          ],
          "heatmap": [
           {
            "colorbar": {
             "outlinewidth": 0,
             "ticks": ""
            },
            "colorscale": [
             [
              0,
              "#0d0887"
             ],
             [
              0.1111111111111111,
              "#46039f"
             ],
             [
              0.2222222222222222,
              "#7201a8"
             ],
             [
              0.3333333333333333,
              "#9c179e"
             ],
             [
              0.4444444444444444,
              "#bd3786"
             ],
             [
              0.5555555555555556,
              "#d8576b"
             ],
             [
              0.6666666666666666,
              "#ed7953"
             ],
             [
              0.7777777777777778,
              "#fb9f3a"
             ],
             [
              0.8888888888888888,
              "#fdca26"
             ],
             [
              1,
              "#f0f921"
             ]
            ],
            "type": "heatmap"
           }
          ],
          "heatmapgl": [
           {
            "colorbar": {
             "outlinewidth": 0,
             "ticks": ""
            },
            "colorscale": [
             [
              0,
              "#0d0887"
             ],
             [
              0.1111111111111111,
              "#46039f"
             ],
             [
              0.2222222222222222,
              "#7201a8"
             ],
             [
              0.3333333333333333,
              "#9c179e"
             ],
             [
              0.4444444444444444,
              "#bd3786"
             ],
             [
              0.5555555555555556,
              "#d8576b"
             ],
             [
              0.6666666666666666,
              "#ed7953"
             ],
             [
              0.7777777777777778,
              "#fb9f3a"
             ],
             [
              0.8888888888888888,
              "#fdca26"
             ],
             [
              1,
              "#f0f921"
             ]
            ],
            "type": "heatmapgl"
           }
          ],
          "histogram": [
           {
            "marker": {
             "pattern": {
              "fillmode": "overlay",
              "size": 10,
              "solidity": 0.2
             }
            },
            "type": "histogram"
           }
          ],
          "histogram2d": [
           {
            "colorbar": {
             "outlinewidth": 0,
             "ticks": ""
            },
            "colorscale": [
             [
              0,
              "#0d0887"
             ],
             [
              0.1111111111111111,
              "#46039f"
             ],
             [
              0.2222222222222222,
              "#7201a8"
             ],
             [
              0.3333333333333333,
              "#9c179e"
             ],
             [
              0.4444444444444444,
              "#bd3786"
             ],
             [
              0.5555555555555556,
              "#d8576b"
             ],
             [
              0.6666666666666666,
              "#ed7953"
             ],
             [
              0.7777777777777778,
              "#fb9f3a"
             ],
             [
              0.8888888888888888,
              "#fdca26"
             ],
             [
              1,
              "#f0f921"
             ]
            ],
            "type": "histogram2d"
           }
          ],
          "histogram2dcontour": [
           {
            "colorbar": {
             "outlinewidth": 0,
             "ticks": ""
            },
            "colorscale": [
             [
              0,
              "#0d0887"
             ],
             [
              0.1111111111111111,
              "#46039f"
             ],
             [
              0.2222222222222222,
              "#7201a8"
             ],
             [
              0.3333333333333333,
              "#9c179e"
             ],
             [
              0.4444444444444444,
              "#bd3786"
             ],
             [
              0.5555555555555556,
              "#d8576b"
             ],
             [
              0.6666666666666666,
              "#ed7953"
             ],
             [
              0.7777777777777778,
              "#fb9f3a"
             ],
             [
              0.8888888888888888,
              "#fdca26"
             ],
             [
              1,
              "#f0f921"
             ]
            ],
            "type": "histogram2dcontour"
           }
          ],
          "mesh3d": [
           {
            "colorbar": {
             "outlinewidth": 0,
             "ticks": ""
            },
            "type": "mesh3d"
           }
          ],
          "parcoords": [
           {
            "line": {
             "colorbar": {
              "outlinewidth": 0,
              "ticks": ""
             }
            },
            "type": "parcoords"
           }
          ],
          "pie": [
           {
            "automargin": true,
            "type": "pie"
           }
          ],
          "scatter": [
           {
            "fillpattern": {
             "fillmode": "overlay",
             "size": 10,
             "solidity": 0.2
            },
            "type": "scatter"
           }
          ],
          "scatter3d": [
           {
            "line": {
             "colorbar": {
              "outlinewidth": 0,
              "ticks": ""
             }
            },
            "marker": {
             "colorbar": {
              "outlinewidth": 0,
              "ticks": ""
             }
            },
            "type": "scatter3d"
           }
          ],
          "scattercarpet": [
           {
            "marker": {
             "colorbar": {
              "outlinewidth": 0,
              "ticks": ""
             }
            },
            "type": "scattercarpet"
           }
          ],
          "scattergeo": [
           {
            "marker": {
             "colorbar": {
              "outlinewidth": 0,
              "ticks": ""
             }
            },
            "type": "scattergeo"
           }
          ],
          "scattergl": [
           {
            "marker": {
             "colorbar": {
              "outlinewidth": 0,
              "ticks": ""
             }
            },
            "type": "scattergl"
           }
          ],
          "scattermapbox": [
           {
            "marker": {
             "colorbar": {
              "outlinewidth": 0,
              "ticks": ""
             }
            },
            "type": "scattermapbox"
           }
          ],
          "scatterpolar": [
           {
            "marker": {
             "colorbar": {
              "outlinewidth": 0,
              "ticks": ""
             }
            },
            "type": "scatterpolar"
           }
          ],
          "scatterpolargl": [
           {
            "marker": {
             "colorbar": {
              "outlinewidth": 0,
              "ticks": ""
             }
            },
            "type": "scatterpolargl"
           }
          ],
          "scatterternary": [
           {
            "marker": {
             "colorbar": {
              "outlinewidth": 0,
              "ticks": ""
             }
            },
            "type": "scatterternary"
           }
          ],
          "surface": [
           {
            "colorbar": {
             "outlinewidth": 0,
             "ticks": ""
            },
            "colorscale": [
             [
              0,
              "#0d0887"
             ],
             [
              0.1111111111111111,
              "#46039f"
             ],
             [
              0.2222222222222222,
              "#7201a8"
             ],
             [
              0.3333333333333333,
              "#9c179e"
             ],
             [
              0.4444444444444444,
              "#bd3786"
             ],
             [
              0.5555555555555556,
              "#d8576b"
             ],
             [
              0.6666666666666666,
              "#ed7953"
             ],
             [
              0.7777777777777778,
              "#fb9f3a"
             ],
             [
              0.8888888888888888,
              "#fdca26"
             ],
             [
              1,
              "#f0f921"
             ]
            ],
            "type": "surface"
           }
          ],
          "table": [
           {
            "cells": {
             "fill": {
              "color": "#EBF0F8"
             },
             "line": {
              "color": "white"
             }
            },
            "header": {
             "fill": {
              "color": "#C8D4E3"
             },
             "line": {
              "color": "white"
             }
            },
            "type": "table"
           }
          ]
         },
         "layout": {
          "annotationdefaults": {
           "arrowcolor": "#2a3f5f",
           "arrowhead": 0,
           "arrowwidth": 1
          },
          "autotypenumbers": "strict",
          "coloraxis": {
           "colorbar": {
            "outlinewidth": 0,
            "ticks": ""
           }
          },
          "colorscale": {
           "diverging": [
            [
             0,
             "#8e0152"
            ],
            [
             0.1,
             "#c51b7d"
            ],
            [
             0.2,
             "#de77ae"
            ],
            [
             0.3,
             "#f1b6da"
            ],
            [
             0.4,
             "#fde0ef"
            ],
            [
             0.5,
             "#f7f7f7"
            ],
            [
             0.6,
             "#e6f5d0"
            ],
            [
             0.7,
             "#b8e186"
            ],
            [
             0.8,
             "#7fbc41"
            ],
            [
             0.9,
             "#4d9221"
            ],
            [
             1,
             "#276419"
            ]
           ],
           "sequential": [
            [
             0,
             "#0d0887"
            ],
            [
             0.1111111111111111,
             "#46039f"
            ],
            [
             0.2222222222222222,
             "#7201a8"
            ],
            [
             0.3333333333333333,
             "#9c179e"
            ],
            [
             0.4444444444444444,
             "#bd3786"
            ],
            [
             0.5555555555555556,
             "#d8576b"
            ],
            [
             0.6666666666666666,
             "#ed7953"
            ],
            [
             0.7777777777777778,
             "#fb9f3a"
            ],
            [
             0.8888888888888888,
             "#fdca26"
            ],
            [
             1,
             "#f0f921"
            ]
           ],
           "sequentialminus": [
            [
             0,
             "#0d0887"
            ],
            [
             0.1111111111111111,
             "#46039f"
            ],
            [
             0.2222222222222222,
             "#7201a8"
            ],
            [
             0.3333333333333333,
             "#9c179e"
            ],
            [
             0.4444444444444444,
             "#bd3786"
            ],
            [
             0.5555555555555556,
             "#d8576b"
            ],
            [
             0.6666666666666666,
             "#ed7953"
            ],
            [
             0.7777777777777778,
             "#fb9f3a"
            ],
            [
             0.8888888888888888,
             "#fdca26"
            ],
            [
             1,
             "#f0f921"
            ]
           ]
          },
          "colorway": [
           "#636efa",
           "#EF553B",
           "#00cc96",
           "#ab63fa",
           "#FFA15A",
           "#19d3f3",
           "#FF6692",
           "#B6E880",
           "#FF97FF",
           "#FECB52"
          ],
          "font": {
           "color": "#2a3f5f"
          },
          "geo": {
           "bgcolor": "white",
           "lakecolor": "white",
           "landcolor": "#E5ECF6",
           "showlakes": true,
           "showland": true,
           "subunitcolor": "white"
          },
          "hoverlabel": {
           "align": "left"
          },
          "hovermode": "closest",
          "mapbox": {
           "style": "light"
          },
          "paper_bgcolor": "white",
          "plot_bgcolor": "#E5ECF6",
          "polar": {
           "angularaxis": {
            "gridcolor": "white",
            "linecolor": "white",
            "ticks": ""
           },
           "bgcolor": "#E5ECF6",
           "radialaxis": {
            "gridcolor": "white",
            "linecolor": "white",
            "ticks": ""
           }
          },
          "scene": {
           "xaxis": {
            "backgroundcolor": "#E5ECF6",
            "gridcolor": "white",
            "gridwidth": 2,
            "linecolor": "white",
            "showbackground": true,
            "ticks": "",
            "zerolinecolor": "white"
           },
           "yaxis": {
            "backgroundcolor": "#E5ECF6",
            "gridcolor": "white",
            "gridwidth": 2,
            "linecolor": "white",
            "showbackground": true,
            "ticks": "",
            "zerolinecolor": "white"
           },
           "zaxis": {
            "backgroundcolor": "#E5ECF6",
            "gridcolor": "white",
            "gridwidth": 2,
            "linecolor": "white",
            "showbackground": true,
            "ticks": "",
            "zerolinecolor": "white"
           }
          },
          "shapedefaults": {
           "line": {
            "color": "#2a3f5f"
           }
          },
          "ternary": {
           "aaxis": {
            "gridcolor": "white",
            "linecolor": "white",
            "ticks": ""
           },
           "baxis": {
            "gridcolor": "white",
            "linecolor": "white",
            "ticks": ""
           },
           "bgcolor": "#E5ECF6",
           "caxis": {
            "gridcolor": "white",
            "linecolor": "white",
            "ticks": ""
           }
          },
          "title": {
           "x": 0.05
          },
          "xaxis": {
           "automargin": true,
           "gridcolor": "white",
           "linecolor": "white",
           "ticks": "",
           "title": {
            "standoff": 15
           },
           "zerolinecolor": "white",
           "zerolinewidth": 2
          },
          "yaxis": {
           "automargin": true,
           "gridcolor": "white",
           "linecolor": "white",
           "ticks": "",
           "title": {
            "standoff": 15
           },
           "zerolinecolor": "white",
           "zerolinewidth": 2
          }
         }
        },
        "title": {
         "text": "f-score, number of rules and training time on core suite"
        },
        "width": 1000,
        "xaxis": {
         "anchor": "y",
         "domain": [
          0,
          1
         ],
         "matches": "x3",
         "showticklabels": false
        },
        "xaxis2": {
         "anchor": "y2",
         "domain": [
          0,
          1
         ],
         "matches": "x3",
         "showticklabels": false
        },
        "xaxis3": {
         "anchor": "y3",
         "domain": [
          0,
          1
         ]
        },
        "yaxis": {
         "anchor": "x",
         "domain": [
          0.68,
          1
         ],
         "title": {
          "text": "time (secs)"
         },
         "type": "log"
        },
        "yaxis2": {
         "anchor": "x2",
         "domain": [
          0.34,
          0.66
         ],
         "title": {
          "text": "number of rules"
         },
         "type": "log"
        },
        "yaxis3": {
         "anchor": "x3",
         "domain": [
          0,
          0.32
         ],
         "title": {
          "text": "f-score"
         }
        }
       }
      }
     },
     "metadata": {},
     "output_type": "display_data"
    }
   ],
   "source": [
    "perf_metric = 'f'\n",
    "sorted_df = df_core_suite.sort_values('LENC-XGB_'+perf_metric, ignore_index=True)\n",
    "triple_chart(pipelines=RIPPER_PIPELINES, performance_metric=perf_metric, complexity_metric='nof_rules', df=sorted_df, df_long_name='core suite')"
   ]
  },
  {
   "attachments": {},
   "cell_type": "markdown",
   "metadata": {},
   "source": [
    "## Synthetic Suites"
   ]
  },
  {
   "attachments": {},
   "cell_type": "markdown",
   "metadata": {},
   "source": [
    "### Synthetic Imbalance Suite"
   ]
  },
  {
   "cell_type": "code",
   "execution_count": 1062,
   "metadata": {},
   "outputs": [
    {
     "data": {
      "text/html": [
       "<div>\n",
       "<style scoped>\n",
       "    .dataframe tbody tr th:only-of-type {\n",
       "        vertical-align: middle;\n",
       "    }\n",
       "\n",
       "    .dataframe tbody tr th {\n",
       "        vertical-align: top;\n",
       "    }\n",
       "\n",
       "    .dataframe thead th {\n",
       "        text-align: right;\n",
       "    }\n",
       "</style>\n",
       "<table border=\"1\" class=\"dataframe\">\n",
       "  <thead>\n",
       "    <tr style=\"text-align: right;\">\n",
       "      <th></th>\n",
       "      <th>data_set</th>\n",
       "      <th>nof_rows</th>\n",
       "      <th>nof_col</th>\n",
       "      <th>nof_num_features</th>\n",
       "      <th>nof_cat_features</th>\n",
       "      <th>nof_pos</th>\n",
       "      <th>pos_ratio</th>\n",
       "      <th>use_case</th>\n",
       "      <th>origin</th>\n",
       "      <th>LENC_nof_bin_cols</th>\n",
       "      <th>...</th>\n",
       "      <th>maxRI_recall</th>\n",
       "      <th>maxRI5_recall</th>\n",
       "      <th>maxRI10_recall</th>\n",
       "      <th>maxRI25_recall</th>\n",
       "      <th>maxRI50_recall</th>\n",
       "      <th>maxRI_precision</th>\n",
       "      <th>maxRI5_precision</th>\n",
       "      <th>maxRI10_precision</th>\n",
       "      <th>maxRI25_precision</th>\n",
       "      <th>maxRI50_precision</th>\n",
       "    </tr>\n",
       "  </thead>\n",
       "  <tbody>\n",
       "  </tbody>\n",
       "</table>\n",
       "<p>0 rows × 267 columns</p>\n",
       "</div>"
      ],
      "text/plain": [
       "Empty DataFrame\n",
       "Columns: [data_set, nof_rows, nof_col, nof_num_features, nof_cat_features, nof_pos, pos_ratio, use_case, origin, LENC_nof_bin_cols, LENC-XGB_runtime, LENC-XGB_acc, LENC-XGB_adj_bal_acc, LENC-XGB_recall, LENC-XGB_precision, LENC-XGB_f2, LENC-XGB_f, LENC-CART:4_runtime, LENC-CART:4_acc, LENC-CART:4_adj_bal_acc, LENC-CART:4_recall, LENC-CART:4_precision, LENC-CART:4_f2, LENC-CART:4_f, LENC-CART:4_nof_rules, LENC-CART:4_sum_preds, LENC-CART:4_max_preds, LENC-CART:4_avg_preds, LENC-CART:6_runtime, LENC-CART:6_acc, LENC-CART:6_adj_bal_acc, LENC-CART:6_recall, LENC-CART:6_precision, LENC-CART:6_f2, LENC-CART:6_f, LENC-CART:6_nof_rules, LENC-CART:6_sum_preds, LENC-CART:6_max_preds, LENC-CART:6_avg_preds, LENC-CART:*_runtime, LENC-CART:*_acc, LENC-CART:*_adj_bal_acc, LENC-CART:*_recall, LENC-CART:*_precision, LENC-CART:*_f2, LENC-CART:*_f, LENC-CART:*_nof_rules, LENC-CART:*_sum_preds, LENC-CART:*_max_preds, LENC-CART:*_avg_preds, TREES_nof_bin_cols, TREES-BRCG_runtime, TREES-BRCG_acc, TREES-BRCG_adj_bal_acc, TREES-BRCG_recall, TREES-BRCG_precision, TREES-BRCG_f2, TREES-BRCG_f, TREES-BRCG_nof_rules, TREES-BRCG_sum_preds, TREES-BRCG_max_preds, TREES-BRCG_avg_preds, NATIVE_nof_bin_cols, NATIVE-RIPPER_runtime, NATIVE-RIPPER_acc, NATIVE-RIPPER_adj_bal_acc, NATIVE-RIPPER_recall, NATIVE-RIPPER_precision, NATIVE-RIPPER_f2, NATIVE-RIPPER_f, NATIVE-RIPPER_nof_rules, NATIVE-RIPPER_sum_preds, NATIVE-RIPPER_max_preds, NATIVE-RIPPER_avg_preds, NATIVE-RIPPER2_runtime, NATIVE-RIPPER2_acc, NATIVE-RIPPER2_adj_bal_acc, NATIVE-RIPPER2_recall, NATIVE-RIPPER2_precision, NATIVE-RIPPER2_f2, NATIVE-RIPPER2_f, NATIVE-RIPPER2_nof_rules, NATIVE-RIPPER2_sum_preds, NATIVE-RIPPER2_max_preds, NATIVE-RIPPER2_avg_preds, NATIVE-RIPPER3_runtime, NATIVE-RIPPER3_acc, NATIVE-RIPPER3_adj_bal_acc, NATIVE-RIPPER3_recall, NATIVE-RIPPER3_precision, NATIVE-RIPPER3_f2, NATIVE-RIPPER3_f, NATIVE-RIPPER3_nof_rules, NATIVE-RIPPER3_sum_preds, NATIVE-RIPPER3_max_preds, NATIVE-RIPPER3_avg_preds, TREES-CORELS_runtime, TREES-CORELS_acc, TREES-CORELS_adj_bal_acc, TREES-CORELS_recall, ...]\n",
       "Index: []\n",
       "\n",
       "[0 rows x 267 columns]"
      ]
     },
     "execution_count": 1062,
     "metadata": {},
     "output_type": "execute_result"
    }
   ],
   "source": [
    "synth_imbalance_suite = [name for name in full_df['data_set'] if name.startswith('synth_ib')]\n",
    "synth_imbalance_suite_df = full_df[full_df['data_set'].isin(synth_imbalance_suite)]\n",
    "synth_imbalance_suite_df"
   ]
  },
  {
   "cell_type": "code",
   "execution_count": 1063,
   "metadata": {},
   "outputs": [
    {
     "data": {
      "application/vnd.plotly.v1+json": {
       "config": {
        "plotlyServerURL": "https://plot.ly"
       },
       "data": [
        {
         "line": {
          "color": "crimson",
          "dash": "longdash",
          "width": 2
         },
         "marker": {
          "symbol": "diamond"
         },
         "mode": "markers+lines",
         "name": "NATIVE-RIPPER",
         "showlegend": true,
         "type": "scatter",
         "x": [],
         "y": []
        },
        {
         "line": {
          "color": "mediumblue",
          "dash": "dot",
          "width": 2
         },
         "marker": {
          "symbol": "arrow-right"
         },
         "mode": "markers+lines",
         "name": "LENC-CART:4",
         "showlegend": true,
         "type": "scatter",
         "x": [],
         "y": []
        },
        {
         "line": {
          "color": "lime",
          "dash": "dash",
          "width": 2
         },
         "marker": {
          "symbol": "cross"
         },
         "mode": "markers+lines",
         "name": "TREES-BRCG",
         "showlegend": true,
         "type": "scatter",
         "x": [],
         "y": []
        },
        {
         "line": {
          "color": "gold",
          "dash": "dashdot",
          "width": 2
         },
         "marker": {
          "symbol": "star"
         },
         "mode": "markers+lines",
         "name": "TREES-CORELS",
         "showlegend": true,
         "type": "scatter",
         "x": [],
         "y": []
        },
        {
         "line": {
          "color": "silver",
          "dash": "dot",
          "width": 2
         },
         "marker": {
          "symbol": "square"
         },
         "mode": "markers+lines",
         "name": "NATIVE-R2N",
         "showlegend": true,
         "type": "scatter",
         "x": [],
         "y": []
        },
        {
         "line": {
          "color": "plum",
          "dash": "dash",
          "width": 2
         },
         "marker": {
          "symbol": "cross"
         },
         "mode": "markers+lines",
         "name": "QUANTILE-BRCG",
         "showlegend": true,
         "type": "scatter",
         "x": [],
         "y": []
        },
        {
         "line": {
          "color": "forestgreen",
          "dash": "dash",
          "width": 2
         },
         "marker": {
          "symbol": "cross"
         },
         "mode": "markers+lines",
         "name": "TREES-BRCG2",
         "showlegend": true,
         "type": "scatter",
         "x": [],
         "y": []
        }
       ],
       "layout": {
        "height": 400,
        "plot_bgcolor": "whitesmoke",
        "template": {
         "data": {
          "bar": [
           {
            "error_x": {
             "color": "#2a3f5f"
            },
            "error_y": {
             "color": "#2a3f5f"
            },
            "marker": {
             "line": {
              "color": "#E5ECF6",
              "width": 0.5
             },
             "pattern": {
              "fillmode": "overlay",
              "size": 10,
              "solidity": 0.2
             }
            },
            "type": "bar"
           }
          ],
          "barpolar": [
           {
            "marker": {
             "line": {
              "color": "#E5ECF6",
              "width": 0.5
             },
             "pattern": {
              "fillmode": "overlay",
              "size": 10,
              "solidity": 0.2
             }
            },
            "type": "barpolar"
           }
          ],
          "carpet": [
           {
            "aaxis": {
             "endlinecolor": "#2a3f5f",
             "gridcolor": "white",
             "linecolor": "white",
             "minorgridcolor": "white",
             "startlinecolor": "#2a3f5f"
            },
            "baxis": {
             "endlinecolor": "#2a3f5f",
             "gridcolor": "white",
             "linecolor": "white",
             "minorgridcolor": "white",
             "startlinecolor": "#2a3f5f"
            },
            "type": "carpet"
           }
          ],
          "choropleth": [
           {
            "colorbar": {
             "outlinewidth": 0,
             "ticks": ""
            },
            "type": "choropleth"
           }
          ],
          "contour": [
           {
            "colorbar": {
             "outlinewidth": 0,
             "ticks": ""
            },
            "colorscale": [
             [
              0,
              "#0d0887"
             ],
             [
              0.1111111111111111,
              "#46039f"
             ],
             [
              0.2222222222222222,
              "#7201a8"
             ],
             [
              0.3333333333333333,
              "#9c179e"
             ],
             [
              0.4444444444444444,
              "#bd3786"
             ],
             [
              0.5555555555555556,
              "#d8576b"
             ],
             [
              0.6666666666666666,
              "#ed7953"
             ],
             [
              0.7777777777777778,
              "#fb9f3a"
             ],
             [
              0.8888888888888888,
              "#fdca26"
             ],
             [
              1,
              "#f0f921"
             ]
            ],
            "type": "contour"
           }
          ],
          "contourcarpet": [
           {
            "colorbar": {
             "outlinewidth": 0,
             "ticks": ""
            },
            "type": "contourcarpet"
           }
          ],
          "heatmap": [
           {
            "colorbar": {
             "outlinewidth": 0,
             "ticks": ""
            },
            "colorscale": [
             [
              0,
              "#0d0887"
             ],
             [
              0.1111111111111111,
              "#46039f"
             ],
             [
              0.2222222222222222,
              "#7201a8"
             ],
             [
              0.3333333333333333,
              "#9c179e"
             ],
             [
              0.4444444444444444,
              "#bd3786"
             ],
             [
              0.5555555555555556,
              "#d8576b"
             ],
             [
              0.6666666666666666,
              "#ed7953"
             ],
             [
              0.7777777777777778,
              "#fb9f3a"
             ],
             [
              0.8888888888888888,
              "#fdca26"
             ],
             [
              1,
              "#f0f921"
             ]
            ],
            "type": "heatmap"
           }
          ],
          "heatmapgl": [
           {
            "colorbar": {
             "outlinewidth": 0,
             "ticks": ""
            },
            "colorscale": [
             [
              0,
              "#0d0887"
             ],
             [
              0.1111111111111111,
              "#46039f"
             ],
             [
              0.2222222222222222,
              "#7201a8"
             ],
             [
              0.3333333333333333,
              "#9c179e"
             ],
             [
              0.4444444444444444,
              "#bd3786"
             ],
             [
              0.5555555555555556,
              "#d8576b"
             ],
             [
              0.6666666666666666,
              "#ed7953"
             ],
             [
              0.7777777777777778,
              "#fb9f3a"
             ],
             [
              0.8888888888888888,
              "#fdca26"
             ],
             [
              1,
              "#f0f921"
             ]
            ],
            "type": "heatmapgl"
           }
          ],
          "histogram": [
           {
            "marker": {
             "pattern": {
              "fillmode": "overlay",
              "size": 10,
              "solidity": 0.2
             }
            },
            "type": "histogram"
           }
          ],
          "histogram2d": [
           {
            "colorbar": {
             "outlinewidth": 0,
             "ticks": ""
            },
            "colorscale": [
             [
              0,
              "#0d0887"
             ],
             [
              0.1111111111111111,
              "#46039f"
             ],
             [
              0.2222222222222222,
              "#7201a8"
             ],
             [
              0.3333333333333333,
              "#9c179e"
             ],
             [
              0.4444444444444444,
              "#bd3786"
             ],
             [
              0.5555555555555556,
              "#d8576b"
             ],
             [
              0.6666666666666666,
              "#ed7953"
             ],
             [
              0.7777777777777778,
              "#fb9f3a"
             ],
             [
              0.8888888888888888,
              "#fdca26"
             ],
             [
              1,
              "#f0f921"
             ]
            ],
            "type": "histogram2d"
           }
          ],
          "histogram2dcontour": [
           {
            "colorbar": {
             "outlinewidth": 0,
             "ticks": ""
            },
            "colorscale": [
             [
              0,
              "#0d0887"
             ],
             [
              0.1111111111111111,
              "#46039f"
             ],
             [
              0.2222222222222222,
              "#7201a8"
             ],
             [
              0.3333333333333333,
              "#9c179e"
             ],
             [
              0.4444444444444444,
              "#bd3786"
             ],
             [
              0.5555555555555556,
              "#d8576b"
             ],
             [
              0.6666666666666666,
              "#ed7953"
             ],
             [
              0.7777777777777778,
              "#fb9f3a"
             ],
             [
              0.8888888888888888,
              "#fdca26"
             ],
             [
              1,
              "#f0f921"
             ]
            ],
            "type": "histogram2dcontour"
           }
          ],
          "mesh3d": [
           {
            "colorbar": {
             "outlinewidth": 0,
             "ticks": ""
            },
            "type": "mesh3d"
           }
          ],
          "parcoords": [
           {
            "line": {
             "colorbar": {
              "outlinewidth": 0,
              "ticks": ""
             }
            },
            "type": "parcoords"
           }
          ],
          "pie": [
           {
            "automargin": true,
            "type": "pie"
           }
          ],
          "scatter": [
           {
            "fillpattern": {
             "fillmode": "overlay",
             "size": 10,
             "solidity": 0.2
            },
            "type": "scatter"
           }
          ],
          "scatter3d": [
           {
            "line": {
             "colorbar": {
              "outlinewidth": 0,
              "ticks": ""
             }
            },
            "marker": {
             "colorbar": {
              "outlinewidth": 0,
              "ticks": ""
             }
            },
            "type": "scatter3d"
           }
          ],
          "scattercarpet": [
           {
            "marker": {
             "colorbar": {
              "outlinewidth": 0,
              "ticks": ""
             }
            },
            "type": "scattercarpet"
           }
          ],
          "scattergeo": [
           {
            "marker": {
             "colorbar": {
              "outlinewidth": 0,
              "ticks": ""
             }
            },
            "type": "scattergeo"
           }
          ],
          "scattergl": [
           {
            "marker": {
             "colorbar": {
              "outlinewidth": 0,
              "ticks": ""
             }
            },
            "type": "scattergl"
           }
          ],
          "scattermapbox": [
           {
            "marker": {
             "colorbar": {
              "outlinewidth": 0,
              "ticks": ""
             }
            },
            "type": "scattermapbox"
           }
          ],
          "scatterpolar": [
           {
            "marker": {
             "colorbar": {
              "outlinewidth": 0,
              "ticks": ""
             }
            },
            "type": "scatterpolar"
           }
          ],
          "scatterpolargl": [
           {
            "marker": {
             "colorbar": {
              "outlinewidth": 0,
              "ticks": ""
             }
            },
            "type": "scatterpolargl"
           }
          ],
          "scatterternary": [
           {
            "marker": {
             "colorbar": {
              "outlinewidth": 0,
              "ticks": ""
             }
            },
            "type": "scatterternary"
           }
          ],
          "surface": [
           {
            "colorbar": {
             "outlinewidth": 0,
             "ticks": ""
            },
            "colorscale": [
             [
              0,
              "#0d0887"
             ],
             [
              0.1111111111111111,
              "#46039f"
             ],
             [
              0.2222222222222222,
              "#7201a8"
             ],
             [
              0.3333333333333333,
              "#9c179e"
             ],
             [
              0.4444444444444444,
              "#bd3786"
             ],
             [
              0.5555555555555556,
              "#d8576b"
             ],
             [
              0.6666666666666666,
              "#ed7953"
             ],
             [
              0.7777777777777778,
              "#fb9f3a"
             ],
             [
              0.8888888888888888,
              "#fdca26"
             ],
             [
              1,
              "#f0f921"
             ]
            ],
            "type": "surface"
           }
          ],
          "table": [
           {
            "cells": {
             "fill": {
              "color": "#EBF0F8"
             },
             "line": {
              "color": "white"
             }
            },
            "header": {
             "fill": {
              "color": "#C8D4E3"
             },
             "line": {
              "color": "white"
             }
            },
            "type": "table"
           }
          ]
         },
         "layout": {
          "annotationdefaults": {
           "arrowcolor": "#2a3f5f",
           "arrowhead": 0,
           "arrowwidth": 1
          },
          "autotypenumbers": "strict",
          "coloraxis": {
           "colorbar": {
            "outlinewidth": 0,
            "ticks": ""
           }
          },
          "colorscale": {
           "diverging": [
            [
             0,
             "#8e0152"
            ],
            [
             0.1,
             "#c51b7d"
            ],
            [
             0.2,
             "#de77ae"
            ],
            [
             0.3,
             "#f1b6da"
            ],
            [
             0.4,
             "#fde0ef"
            ],
            [
             0.5,
             "#f7f7f7"
            ],
            [
             0.6,
             "#e6f5d0"
            ],
            [
             0.7,
             "#b8e186"
            ],
            [
             0.8,
             "#7fbc41"
            ],
            [
             0.9,
             "#4d9221"
            ],
            [
             1,
             "#276419"
            ]
           ],
           "sequential": [
            [
             0,
             "#0d0887"
            ],
            [
             0.1111111111111111,
             "#46039f"
            ],
            [
             0.2222222222222222,
             "#7201a8"
            ],
            [
             0.3333333333333333,
             "#9c179e"
            ],
            [
             0.4444444444444444,
             "#bd3786"
            ],
            [
             0.5555555555555556,
             "#d8576b"
            ],
            [
             0.6666666666666666,
             "#ed7953"
            ],
            [
             0.7777777777777778,
             "#fb9f3a"
            ],
            [
             0.8888888888888888,
             "#fdca26"
            ],
            [
             1,
             "#f0f921"
            ]
           ],
           "sequentialminus": [
            [
             0,
             "#0d0887"
            ],
            [
             0.1111111111111111,
             "#46039f"
            ],
            [
             0.2222222222222222,
             "#7201a8"
            ],
            [
             0.3333333333333333,
             "#9c179e"
            ],
            [
             0.4444444444444444,
             "#bd3786"
            ],
            [
             0.5555555555555556,
             "#d8576b"
            ],
            [
             0.6666666666666666,
             "#ed7953"
            ],
            [
             0.7777777777777778,
             "#fb9f3a"
            ],
            [
             0.8888888888888888,
             "#fdca26"
            ],
            [
             1,
             "#f0f921"
            ]
           ]
          },
          "colorway": [
           "#636efa",
           "#EF553B",
           "#00cc96",
           "#ab63fa",
           "#FFA15A",
           "#19d3f3",
           "#FF6692",
           "#B6E880",
           "#FF97FF",
           "#FECB52"
          ],
          "font": {
           "color": "#2a3f5f"
          },
          "geo": {
           "bgcolor": "white",
           "lakecolor": "white",
           "landcolor": "#E5ECF6",
           "showlakes": true,
           "showland": true,
           "subunitcolor": "white"
          },
          "hoverlabel": {
           "align": "left"
          },
          "hovermode": "closest",
          "mapbox": {
           "style": "light"
          },
          "paper_bgcolor": "white",
          "plot_bgcolor": "#E5ECF6",
          "polar": {
           "angularaxis": {
            "gridcolor": "white",
            "linecolor": "white",
            "ticks": ""
           },
           "bgcolor": "#E5ECF6",
           "radialaxis": {
            "gridcolor": "white",
            "linecolor": "white",
            "ticks": ""
           }
          },
          "scene": {
           "xaxis": {
            "backgroundcolor": "#E5ECF6",
            "gridcolor": "white",
            "gridwidth": 2,
            "linecolor": "white",
            "showbackground": true,
            "ticks": "",
            "zerolinecolor": "white"
           },
           "yaxis": {
            "backgroundcolor": "#E5ECF6",
            "gridcolor": "white",
            "gridwidth": 2,
            "linecolor": "white",
            "showbackground": true,
            "ticks": "",
            "zerolinecolor": "white"
           },
           "zaxis": {
            "backgroundcolor": "#E5ECF6",
            "gridcolor": "white",
            "gridwidth": 2,
            "linecolor": "white",
            "showbackground": true,
            "ticks": "",
            "zerolinecolor": "white"
           }
          },
          "shapedefaults": {
           "line": {
            "color": "#2a3f5f"
           }
          },
          "ternary": {
           "aaxis": {
            "gridcolor": "white",
            "linecolor": "white",
            "ticks": ""
           },
           "baxis": {
            "gridcolor": "white",
            "linecolor": "white",
            "ticks": ""
           },
           "bgcolor": "#E5ECF6",
           "caxis": {
            "gridcolor": "white",
            "linecolor": "white",
            "ticks": ""
           }
          },
          "title": {
           "x": 0.05
          },
          "xaxis": {
           "automargin": true,
           "gridcolor": "white",
           "linecolor": "white",
           "ticks": "",
           "title": {
            "standoff": 15
           },
           "zerolinecolor": "white",
           "zerolinewidth": 2
          },
          "yaxis": {
           "automargin": true,
           "gridcolor": "white",
           "linecolor": "white",
           "ticks": "",
           "title": {
            "standoff": 15
           },
           "zerolinecolor": "white",
           "zerolinewidth": 2
          }
         }
        },
        "title": {
         "text": "f2-score on synthetic imbalance suite"
        },
        "width": 1000,
        "xaxis": {
         "title": {
          "text": "imbalance (pos ratio)"
         },
         "type": "log"
        },
        "yaxis": {
         "title": {
          "text": "f2-score"
         }
        }
       }
      }
     },
     "metadata": {},
     "output_type": "display_data"
    }
   ],
   "source": [
    "perf_metric = 'f'\n",
    "fig = single_chart(pipelines=DEFAULT_RI_PIPELINES+['QUANTILE-BRCG', 'TREES-BRCG2'], \n",
    "                   metric='f2', \n",
    "                   df=synth_imbalance_suite_df,\n",
    "                   df_long_name='synthetic imbalance suite', \n",
    "                   x_sel='pos_ratio',\n",
    "                   x_title='imbalance (pos ratio)',\n",
    "                   x_log=True)"
   ]
  },
  {
   "attachments": {},
   "cell_type": "markdown",
   "metadata": {},
   "source": [
    "### Synthetic Noise Suite"
   ]
  },
  {
   "cell_type": "code",
   "execution_count": 1064,
   "metadata": {},
   "outputs": [
    {
     "data": {
      "text/html": [
       "<div>\n",
       "<style scoped>\n",
       "    .dataframe tbody tr th:only-of-type {\n",
       "        vertical-align: middle;\n",
       "    }\n",
       "\n",
       "    .dataframe tbody tr th {\n",
       "        vertical-align: top;\n",
       "    }\n",
       "\n",
       "    .dataframe thead th {\n",
       "        text-align: right;\n",
       "    }\n",
       "</style>\n",
       "<table border=\"1\" class=\"dataframe\">\n",
       "  <thead>\n",
       "    <tr style=\"text-align: right;\">\n",
       "      <th></th>\n",
       "      <th>data_set</th>\n",
       "      <th>nof_rows</th>\n",
       "      <th>nof_col</th>\n",
       "      <th>nof_num_features</th>\n",
       "      <th>nof_cat_features</th>\n",
       "      <th>nof_pos</th>\n",
       "      <th>pos_ratio</th>\n",
       "      <th>use_case</th>\n",
       "      <th>origin</th>\n",
       "      <th>LENC_nof_bin_cols</th>\n",
       "      <th>...</th>\n",
       "      <th>maxRI_recall</th>\n",
       "      <th>maxRI5_recall</th>\n",
       "      <th>maxRI10_recall</th>\n",
       "      <th>maxRI25_recall</th>\n",
       "      <th>maxRI50_recall</th>\n",
       "      <th>maxRI_precision</th>\n",
       "      <th>maxRI5_precision</th>\n",
       "      <th>maxRI10_precision</th>\n",
       "      <th>maxRI25_precision</th>\n",
       "      <th>maxRI50_precision</th>\n",
       "    </tr>\n",
       "  </thead>\n",
       "  <tbody>\n",
       "  </tbody>\n",
       "</table>\n",
       "<p>0 rows × 267 columns</p>\n",
       "</div>"
      ],
      "text/plain": [
       "Empty DataFrame\n",
       "Columns: [data_set, nof_rows, nof_col, nof_num_features, nof_cat_features, nof_pos, pos_ratio, use_case, origin, LENC_nof_bin_cols, LENC-XGB_runtime, LENC-XGB_acc, LENC-XGB_adj_bal_acc, LENC-XGB_recall, LENC-XGB_precision, LENC-XGB_f2, LENC-XGB_f, LENC-CART:4_runtime, LENC-CART:4_acc, LENC-CART:4_adj_bal_acc, LENC-CART:4_recall, LENC-CART:4_precision, LENC-CART:4_f2, LENC-CART:4_f, LENC-CART:4_nof_rules, LENC-CART:4_sum_preds, LENC-CART:4_max_preds, LENC-CART:4_avg_preds, LENC-CART:6_runtime, LENC-CART:6_acc, LENC-CART:6_adj_bal_acc, LENC-CART:6_recall, LENC-CART:6_precision, LENC-CART:6_f2, LENC-CART:6_f, LENC-CART:6_nof_rules, LENC-CART:6_sum_preds, LENC-CART:6_max_preds, LENC-CART:6_avg_preds, LENC-CART:*_runtime, LENC-CART:*_acc, LENC-CART:*_adj_bal_acc, LENC-CART:*_recall, LENC-CART:*_precision, LENC-CART:*_f2, LENC-CART:*_f, LENC-CART:*_nof_rules, LENC-CART:*_sum_preds, LENC-CART:*_max_preds, LENC-CART:*_avg_preds, TREES_nof_bin_cols, TREES-BRCG_runtime, TREES-BRCG_acc, TREES-BRCG_adj_bal_acc, TREES-BRCG_recall, TREES-BRCG_precision, TREES-BRCG_f2, TREES-BRCG_f, TREES-BRCG_nof_rules, TREES-BRCG_sum_preds, TREES-BRCG_max_preds, TREES-BRCG_avg_preds, NATIVE_nof_bin_cols, NATIVE-RIPPER_runtime, NATIVE-RIPPER_acc, NATIVE-RIPPER_adj_bal_acc, NATIVE-RIPPER_recall, NATIVE-RIPPER_precision, NATIVE-RIPPER_f2, NATIVE-RIPPER_f, NATIVE-RIPPER_nof_rules, NATIVE-RIPPER_sum_preds, NATIVE-RIPPER_max_preds, NATIVE-RIPPER_avg_preds, NATIVE-RIPPER2_runtime, NATIVE-RIPPER2_acc, NATIVE-RIPPER2_adj_bal_acc, NATIVE-RIPPER2_recall, NATIVE-RIPPER2_precision, NATIVE-RIPPER2_f2, NATIVE-RIPPER2_f, NATIVE-RIPPER2_nof_rules, NATIVE-RIPPER2_sum_preds, NATIVE-RIPPER2_max_preds, NATIVE-RIPPER2_avg_preds, NATIVE-RIPPER3_runtime, NATIVE-RIPPER3_acc, NATIVE-RIPPER3_adj_bal_acc, NATIVE-RIPPER3_recall, NATIVE-RIPPER3_precision, NATIVE-RIPPER3_f2, NATIVE-RIPPER3_f, NATIVE-RIPPER3_nof_rules, NATIVE-RIPPER3_sum_preds, NATIVE-RIPPER3_max_preds, NATIVE-RIPPER3_avg_preds, TREES-CORELS_runtime, TREES-CORELS_acc, TREES-CORELS_adj_bal_acc, TREES-CORELS_recall, ...]\n",
       "Index: []\n",
       "\n",
       "[0 rows x 267 columns]"
      ]
     },
     "execution_count": 1064,
     "metadata": {},
     "output_type": "execute_result"
    }
   ],
   "source": [
    "synth_noise_suite = [name for name in full_df['data_set'] if name.startswith('synth_noise')]\n",
    "synth_noise_suite_df = full_df[full_df['data_set'].isin(synth_noise_suite)].copy()\n",
    "synth_noise_suite_df"
   ]
  },
  {
   "cell_type": "code",
   "execution_count": 1065,
   "metadata": {},
   "outputs": [
    {
     "data": {
      "application/vnd.plotly.v1+json": {
       "config": {
        "plotlyServerURL": "https://plot.ly"
       },
       "data": [
        {
         "line": {
          "color": "gray",
          "dash": "solid",
          "width": 2
         },
         "marker": {
          "symbol": "circle"
         },
         "mode": "markers+lines",
         "name": "LENC-XGB",
         "showlegend": true,
         "type": "scatter",
         "x": [],
         "xaxis": "x2",
         "y": [],
         "yaxis": "y2"
        },
        {
         "line": {
          "color": "crimson",
          "dash": "longdash",
          "width": 2
         },
         "marker": {
          "symbol": "diamond"
         },
         "mode": "markers+lines",
         "name": "NATIVE-RIPPER",
         "showlegend": true,
         "type": "scatter",
         "x": [],
         "xaxis": "x2",
         "y": [],
         "yaxis": "y2"
        },
        {
         "line": {
          "color": "mediumblue",
          "dash": "dot",
          "width": 2
         },
         "marker": {
          "symbol": "arrow-right"
         },
         "mode": "markers+lines",
         "name": "LENC-CART:4",
         "showlegend": true,
         "type": "scatter",
         "x": [],
         "xaxis": "x2",
         "y": [],
         "yaxis": "y2"
        },
        {
         "line": {
          "color": "lime",
          "dash": "dash",
          "width": 2
         },
         "marker": {
          "symbol": "cross"
         },
         "mode": "markers+lines",
         "name": "TREES-BRCG",
         "showlegend": true,
         "type": "scatter",
         "x": [],
         "xaxis": "x2",
         "y": [],
         "yaxis": "y2"
        },
        {
         "line": {
          "color": "gold",
          "dash": "dashdot",
          "width": 2
         },
         "marker": {
          "symbol": "star"
         },
         "mode": "markers+lines",
         "name": "TREES-CORELS",
         "showlegend": true,
         "type": "scatter",
         "x": [],
         "xaxis": "x2",
         "y": [],
         "yaxis": "y2"
        },
        {
         "line": {
          "color": "silver",
          "dash": "dot",
          "width": 2
         },
         "marker": {
          "symbol": "square"
         },
         "mode": "markers+lines",
         "name": "NATIVE-R2N",
         "showlegend": true,
         "type": "scatter",
         "x": [],
         "xaxis": "x2",
         "y": [],
         "yaxis": "y2"
        },
        {
         "line": {
          "color": "plum",
          "dash": "dash",
          "width": 2
         },
         "marker": {
          "symbol": "cross"
         },
         "mode": "markers+lines",
         "name": "QUANTILE-BRCG",
         "showlegend": true,
         "type": "scatter",
         "x": [],
         "xaxis": "x2",
         "y": [],
         "yaxis": "y2"
        },
        {
         "line": {
          "color": "lightskyblue",
          "dash": "solid",
          "width": 2
         },
         "marker": {
          "symbol": "arrow-left"
         },
         "mode": "markers+lines",
         "name": "LENC-CART:*",
         "showlegend": true,
         "type": "scatter",
         "x": [],
         "xaxis": "x2",
         "y": [],
         "yaxis": "y2"
        },
        {
         "line": {
          "color": "crimson",
          "dash": "longdash",
          "width": 2
         },
         "marker": {
          "symbol": "diamond"
         },
         "mode": "markers+lines",
         "name": "NATIVE-RIPPER",
         "showlegend": false,
         "type": "scatter",
         "x": [],
         "xaxis": "x",
         "y": [],
         "yaxis": "y"
        },
        {
         "line": {
          "color": "mediumblue",
          "dash": "dot",
          "width": 2
         },
         "marker": {
          "symbol": "arrow-right"
         },
         "mode": "markers+lines",
         "name": "LENC-CART:4",
         "showlegend": false,
         "type": "scatter",
         "x": [],
         "xaxis": "x",
         "y": [],
         "yaxis": "y"
        },
        {
         "line": {
          "color": "lime",
          "dash": "dash",
          "width": 2
         },
         "marker": {
          "symbol": "cross"
         },
         "mode": "markers+lines",
         "name": "TREES-BRCG",
         "showlegend": false,
         "type": "scatter",
         "x": [],
         "xaxis": "x",
         "y": [],
         "yaxis": "y"
        },
        {
         "line": {
          "color": "gold",
          "dash": "dashdot",
          "width": 2
         },
         "marker": {
          "symbol": "star"
         },
         "mode": "markers+lines",
         "name": "TREES-CORELS",
         "showlegend": false,
         "type": "scatter",
         "x": [],
         "xaxis": "x",
         "y": [],
         "yaxis": "y"
        },
        {
         "line": {
          "color": "silver",
          "dash": "dot",
          "width": 2
         },
         "marker": {
          "symbol": "square"
         },
         "mode": "markers+lines",
         "name": "NATIVE-R2N",
         "showlegend": false,
         "type": "scatter",
         "x": [],
         "xaxis": "x",
         "y": [],
         "yaxis": "y"
        },
        {
         "line": {
          "color": "plum",
          "dash": "dash",
          "width": 2
         },
         "marker": {
          "symbol": "cross"
         },
         "mode": "markers+lines",
         "name": "QUANTILE-BRCG",
         "showlegend": false,
         "type": "scatter",
         "x": [],
         "xaxis": "x",
         "y": [],
         "yaxis": "y"
        },
        {
         "line": {
          "color": "lightskyblue",
          "dash": "solid",
          "width": 2
         },
         "marker": {
          "symbol": "arrow-left"
         },
         "mode": "markers+lines",
         "name": "LENC-CART:*",
         "showlegend": false,
         "type": "scatter",
         "x": [],
         "xaxis": "x",
         "y": [],
         "yaxis": "y"
        }
       ],
       "layout": {
        "height": 500,
        "plot_bgcolor": "whitesmoke",
        "template": {
         "data": {
          "bar": [
           {
            "error_x": {
             "color": "#2a3f5f"
            },
            "error_y": {
             "color": "#2a3f5f"
            },
            "marker": {
             "line": {
              "color": "#E5ECF6",
              "width": 0.5
             },
             "pattern": {
              "fillmode": "overlay",
              "size": 10,
              "solidity": 0.2
             }
            },
            "type": "bar"
           }
          ],
          "barpolar": [
           {
            "marker": {
             "line": {
              "color": "#E5ECF6",
              "width": 0.5
             },
             "pattern": {
              "fillmode": "overlay",
              "size": 10,
              "solidity": 0.2
             }
            },
            "type": "barpolar"
           }
          ],
          "carpet": [
           {
            "aaxis": {
             "endlinecolor": "#2a3f5f",
             "gridcolor": "white",
             "linecolor": "white",
             "minorgridcolor": "white",
             "startlinecolor": "#2a3f5f"
            },
            "baxis": {
             "endlinecolor": "#2a3f5f",
             "gridcolor": "white",
             "linecolor": "white",
             "minorgridcolor": "white",
             "startlinecolor": "#2a3f5f"
            },
            "type": "carpet"
           }
          ],
          "choropleth": [
           {
            "colorbar": {
             "outlinewidth": 0,
             "ticks": ""
            },
            "type": "choropleth"
           }
          ],
          "contour": [
           {
            "colorbar": {
             "outlinewidth": 0,
             "ticks": ""
            },
            "colorscale": [
             [
              0,
              "#0d0887"
             ],
             [
              0.1111111111111111,
              "#46039f"
             ],
             [
              0.2222222222222222,
              "#7201a8"
             ],
             [
              0.3333333333333333,
              "#9c179e"
             ],
             [
              0.4444444444444444,
              "#bd3786"
             ],
             [
              0.5555555555555556,
              "#d8576b"
             ],
             [
              0.6666666666666666,
              "#ed7953"
             ],
             [
              0.7777777777777778,
              "#fb9f3a"
             ],
             [
              0.8888888888888888,
              "#fdca26"
             ],
             [
              1,
              "#f0f921"
             ]
            ],
            "type": "contour"
           }
          ],
          "contourcarpet": [
           {
            "colorbar": {
             "outlinewidth": 0,
             "ticks": ""
            },
            "type": "contourcarpet"
           }
          ],
          "heatmap": [
           {
            "colorbar": {
             "outlinewidth": 0,
             "ticks": ""
            },
            "colorscale": [
             [
              0,
              "#0d0887"
             ],
             [
              0.1111111111111111,
              "#46039f"
             ],
             [
              0.2222222222222222,
              "#7201a8"
             ],
             [
              0.3333333333333333,
              "#9c179e"
             ],
             [
              0.4444444444444444,
              "#bd3786"
             ],
             [
              0.5555555555555556,
              "#d8576b"
             ],
             [
              0.6666666666666666,
              "#ed7953"
             ],
             [
              0.7777777777777778,
              "#fb9f3a"
             ],
             [
              0.8888888888888888,
              "#fdca26"
             ],
             [
              1,
              "#f0f921"
             ]
            ],
            "type": "heatmap"
           }
          ],
          "heatmapgl": [
           {
            "colorbar": {
             "outlinewidth": 0,
             "ticks": ""
            },
            "colorscale": [
             [
              0,
              "#0d0887"
             ],
             [
              0.1111111111111111,
              "#46039f"
             ],
             [
              0.2222222222222222,
              "#7201a8"
             ],
             [
              0.3333333333333333,
              "#9c179e"
             ],
             [
              0.4444444444444444,
              "#bd3786"
             ],
             [
              0.5555555555555556,
              "#d8576b"
             ],
             [
              0.6666666666666666,
              "#ed7953"
             ],
             [
              0.7777777777777778,
              "#fb9f3a"
             ],
             [
              0.8888888888888888,
              "#fdca26"
             ],
             [
              1,
              "#f0f921"
             ]
            ],
            "type": "heatmapgl"
           }
          ],
          "histogram": [
           {
            "marker": {
             "pattern": {
              "fillmode": "overlay",
              "size": 10,
              "solidity": 0.2
             }
            },
            "type": "histogram"
           }
          ],
          "histogram2d": [
           {
            "colorbar": {
             "outlinewidth": 0,
             "ticks": ""
            },
            "colorscale": [
             [
              0,
              "#0d0887"
             ],
             [
              0.1111111111111111,
              "#46039f"
             ],
             [
              0.2222222222222222,
              "#7201a8"
             ],
             [
              0.3333333333333333,
              "#9c179e"
             ],
             [
              0.4444444444444444,
              "#bd3786"
             ],
             [
              0.5555555555555556,
              "#d8576b"
             ],
             [
              0.6666666666666666,
              "#ed7953"
             ],
             [
              0.7777777777777778,
              "#fb9f3a"
             ],
             [
              0.8888888888888888,
              "#fdca26"
             ],
             [
              1,
              "#f0f921"
             ]
            ],
            "type": "histogram2d"
           }
          ],
          "histogram2dcontour": [
           {
            "colorbar": {
             "outlinewidth": 0,
             "ticks": ""
            },
            "colorscale": [
             [
              0,
              "#0d0887"
             ],
             [
              0.1111111111111111,
              "#46039f"
             ],
             [
              0.2222222222222222,
              "#7201a8"
             ],
             [
              0.3333333333333333,
              "#9c179e"
             ],
             [
              0.4444444444444444,
              "#bd3786"
             ],
             [
              0.5555555555555556,
              "#d8576b"
             ],
             [
              0.6666666666666666,
              "#ed7953"
             ],
             [
              0.7777777777777778,
              "#fb9f3a"
             ],
             [
              0.8888888888888888,
              "#fdca26"
             ],
             [
              1,
              "#f0f921"
             ]
            ],
            "type": "histogram2dcontour"
           }
          ],
          "mesh3d": [
           {
            "colorbar": {
             "outlinewidth": 0,
             "ticks": ""
            },
            "type": "mesh3d"
           }
          ],
          "parcoords": [
           {
            "line": {
             "colorbar": {
              "outlinewidth": 0,
              "ticks": ""
             }
            },
            "type": "parcoords"
           }
          ],
          "pie": [
           {
            "automargin": true,
            "type": "pie"
           }
          ],
          "scatter": [
           {
            "fillpattern": {
             "fillmode": "overlay",
             "size": 10,
             "solidity": 0.2
            },
            "type": "scatter"
           }
          ],
          "scatter3d": [
           {
            "line": {
             "colorbar": {
              "outlinewidth": 0,
              "ticks": ""
             }
            },
            "marker": {
             "colorbar": {
              "outlinewidth": 0,
              "ticks": ""
             }
            },
            "type": "scatter3d"
           }
          ],
          "scattercarpet": [
           {
            "marker": {
             "colorbar": {
              "outlinewidth": 0,
              "ticks": ""
             }
            },
            "type": "scattercarpet"
           }
          ],
          "scattergeo": [
           {
            "marker": {
             "colorbar": {
              "outlinewidth": 0,
              "ticks": ""
             }
            },
            "type": "scattergeo"
           }
          ],
          "scattergl": [
           {
            "marker": {
             "colorbar": {
              "outlinewidth": 0,
              "ticks": ""
             }
            },
            "type": "scattergl"
           }
          ],
          "scattermapbox": [
           {
            "marker": {
             "colorbar": {
              "outlinewidth": 0,
              "ticks": ""
             }
            },
            "type": "scattermapbox"
           }
          ],
          "scatterpolar": [
           {
            "marker": {
             "colorbar": {
              "outlinewidth": 0,
              "ticks": ""
             }
            },
            "type": "scatterpolar"
           }
          ],
          "scatterpolargl": [
           {
            "marker": {
             "colorbar": {
              "outlinewidth": 0,
              "ticks": ""
             }
            },
            "type": "scatterpolargl"
           }
          ],
          "scatterternary": [
           {
            "marker": {
             "colorbar": {
              "outlinewidth": 0,
              "ticks": ""
             }
            },
            "type": "scatterternary"
           }
          ],
          "surface": [
           {
            "colorbar": {
             "outlinewidth": 0,
             "ticks": ""
            },
            "colorscale": [
             [
              0,
              "#0d0887"
             ],
             [
              0.1111111111111111,
              "#46039f"
             ],
             [
              0.2222222222222222,
              "#7201a8"
             ],
             [
              0.3333333333333333,
              "#9c179e"
             ],
             [
              0.4444444444444444,
              "#bd3786"
             ],
             [
              0.5555555555555556,
              "#d8576b"
             ],
             [
              0.6666666666666666,
              "#ed7953"
             ],
             [
              0.7777777777777778,
              "#fb9f3a"
             ],
             [
              0.8888888888888888,
              "#fdca26"
             ],
             [
              1,
              "#f0f921"
             ]
            ],
            "type": "surface"
           }
          ],
          "table": [
           {
            "cells": {
             "fill": {
              "color": "#EBF0F8"
             },
             "line": {
              "color": "white"
             }
            },
            "header": {
             "fill": {
              "color": "#C8D4E3"
             },
             "line": {
              "color": "white"
             }
            },
            "type": "table"
           }
          ]
         },
         "layout": {
          "annotationdefaults": {
           "arrowcolor": "#2a3f5f",
           "arrowhead": 0,
           "arrowwidth": 1
          },
          "autotypenumbers": "strict",
          "coloraxis": {
           "colorbar": {
            "outlinewidth": 0,
            "ticks": ""
           }
          },
          "colorscale": {
           "diverging": [
            [
             0,
             "#8e0152"
            ],
            [
             0.1,
             "#c51b7d"
            ],
            [
             0.2,
             "#de77ae"
            ],
            [
             0.3,
             "#f1b6da"
            ],
            [
             0.4,
             "#fde0ef"
            ],
            [
             0.5,
             "#f7f7f7"
            ],
            [
             0.6,
             "#e6f5d0"
            ],
            [
             0.7,
             "#b8e186"
            ],
            [
             0.8,
             "#7fbc41"
            ],
            [
             0.9,
             "#4d9221"
            ],
            [
             1,
             "#276419"
            ]
           ],
           "sequential": [
            [
             0,
             "#0d0887"
            ],
            [
             0.1111111111111111,
             "#46039f"
            ],
            [
             0.2222222222222222,
             "#7201a8"
            ],
            [
             0.3333333333333333,
             "#9c179e"
            ],
            [
             0.4444444444444444,
             "#bd3786"
            ],
            [
             0.5555555555555556,
             "#d8576b"
            ],
            [
             0.6666666666666666,
             "#ed7953"
            ],
            [
             0.7777777777777778,
             "#fb9f3a"
            ],
            [
             0.8888888888888888,
             "#fdca26"
            ],
            [
             1,
             "#f0f921"
            ]
           ],
           "sequentialminus": [
            [
             0,
             "#0d0887"
            ],
            [
             0.1111111111111111,
             "#46039f"
            ],
            [
             0.2222222222222222,
             "#7201a8"
            ],
            [
             0.3333333333333333,
             "#9c179e"
            ],
            [
             0.4444444444444444,
             "#bd3786"
            ],
            [
             0.5555555555555556,
             "#d8576b"
            ],
            [
             0.6666666666666666,
             "#ed7953"
            ],
            [
             0.7777777777777778,
             "#fb9f3a"
            ],
            [
             0.8888888888888888,
             "#fdca26"
            ],
            [
             1,
             "#f0f921"
            ]
           ]
          },
          "colorway": [
           "#636efa",
           "#EF553B",
           "#00cc96",
           "#ab63fa",
           "#FFA15A",
           "#19d3f3",
           "#FF6692",
           "#B6E880",
           "#FF97FF",
           "#FECB52"
          ],
          "font": {
           "color": "#2a3f5f"
          },
          "geo": {
           "bgcolor": "white",
           "lakecolor": "white",
           "landcolor": "#E5ECF6",
           "showlakes": true,
           "showland": true,
           "subunitcolor": "white"
          },
          "hoverlabel": {
           "align": "left"
          },
          "hovermode": "closest",
          "mapbox": {
           "style": "light"
          },
          "paper_bgcolor": "white",
          "plot_bgcolor": "#E5ECF6",
          "polar": {
           "angularaxis": {
            "gridcolor": "white",
            "linecolor": "white",
            "ticks": ""
           },
           "bgcolor": "#E5ECF6",
           "radialaxis": {
            "gridcolor": "white",
            "linecolor": "white",
            "ticks": ""
           }
          },
          "scene": {
           "xaxis": {
            "backgroundcolor": "#E5ECF6",
            "gridcolor": "white",
            "gridwidth": 2,
            "linecolor": "white",
            "showbackground": true,
            "ticks": "",
            "zerolinecolor": "white"
           },
           "yaxis": {
            "backgroundcolor": "#E5ECF6",
            "gridcolor": "white",
            "gridwidth": 2,
            "linecolor": "white",
            "showbackground": true,
            "ticks": "",
            "zerolinecolor": "white"
           },
           "zaxis": {
            "backgroundcolor": "#E5ECF6",
            "gridcolor": "white",
            "gridwidth": 2,
            "linecolor": "white",
            "showbackground": true,
            "ticks": "",
            "zerolinecolor": "white"
           }
          },
          "shapedefaults": {
           "line": {
            "color": "#2a3f5f"
           }
          },
          "ternary": {
           "aaxis": {
            "gridcolor": "white",
            "linecolor": "white",
            "ticks": ""
           },
           "baxis": {
            "gridcolor": "white",
            "linecolor": "white",
            "ticks": ""
           },
           "bgcolor": "#E5ECF6",
           "caxis": {
            "gridcolor": "white",
            "linecolor": "white",
            "ticks": ""
           }
          },
          "title": {
           "x": 0.05
          },
          "xaxis": {
           "automargin": true,
           "gridcolor": "white",
           "linecolor": "white",
           "ticks": "",
           "title": {
            "standoff": 15
           },
           "zerolinecolor": "white",
           "zerolinewidth": 2
          },
          "yaxis": {
           "automargin": true,
           "gridcolor": "white",
           "linecolor": "white",
           "ticks": "",
           "title": {
            "standoff": 15
           },
           "zerolinecolor": "white",
           "zerolinewidth": 2
          }
         }
        },
        "title": {
         "text": "accuracy and number of rules on synthetic noise suite"
        },
        "width": 1000,
        "xaxis": {
         "anchor": "y",
         "domain": [
          0,
          1
         ],
         "matches": "x2",
         "showticklabels": false
        },
        "xaxis2": {
         "anchor": "y2",
         "domain": [
          0,
          1
         ],
         "title": {
          "text": "error rate"
         }
        },
        "yaxis": {
         "anchor": "x",
         "domain": [
          0.51,
          1
         ],
         "title": {
          "text": "number of rules"
         },
         "type": "log"
        },
        "yaxis2": {
         "anchor": "x2",
         "domain": [
          0,
          0.49
         ],
         "title": {
          "text": "accuracy"
         }
        }
       }
      }
     },
     "metadata": {},
     "output_type": "display_data"
    }
   ],
   "source": [
    "def extract(name):\n",
    "    number = name.split('_')[2]\n",
    "    noise_level = float('0.'+number)\n",
    "    return noise_level\n",
    "\n",
    "synth_noise_suite_df['error_rate'] = synth_noise_suite_df['data_set'].map(extract)\n",
    "dual_chart(pipelines=DEFAULT_RI_PIPELINES+['QUANTILE-BRCG', 'LENC-CART:*'],\n",
    "           performance_metric='acc',\n",
    "           complexity_metric='nof_rules',\n",
    "           df=synth_noise_suite_df,\n",
    "           df_long_name='synthetic noise suite',\n",
    "           x_sel='error_rate',\n",
    "           x_title='error rate')"
   ]
  },
  {
   "attachments": {},
   "cell_type": "markdown",
   "metadata": {},
   "source": [
    "### Synthetic Disjunctive Complexity Suite"
   ]
  },
  {
   "cell_type": "code",
   "execution_count": 1066,
   "metadata": {},
   "outputs": [
    {
     "data": {
      "text/html": [
       "<div>\n",
       "<style scoped>\n",
       "    .dataframe tbody tr th:only-of-type {\n",
       "        vertical-align: middle;\n",
       "    }\n",
       "\n",
       "    .dataframe tbody tr th {\n",
       "        vertical-align: top;\n",
       "    }\n",
       "\n",
       "    .dataframe thead th {\n",
       "        text-align: right;\n",
       "    }\n",
       "</style>\n",
       "<table border=\"1\" class=\"dataframe\">\n",
       "  <thead>\n",
       "    <tr style=\"text-align: right;\">\n",
       "      <th></th>\n",
       "      <th>data_set</th>\n",
       "      <th>nof_rows</th>\n",
       "      <th>nof_col</th>\n",
       "      <th>nof_num_features</th>\n",
       "      <th>nof_cat_features</th>\n",
       "      <th>nof_pos</th>\n",
       "      <th>pos_ratio</th>\n",
       "      <th>use_case</th>\n",
       "      <th>origin</th>\n",
       "      <th>LENC_nof_bin_cols</th>\n",
       "      <th>...</th>\n",
       "      <th>maxRI_recall</th>\n",
       "      <th>maxRI5_recall</th>\n",
       "      <th>maxRI10_recall</th>\n",
       "      <th>maxRI25_recall</th>\n",
       "      <th>maxRI50_recall</th>\n",
       "      <th>maxRI_precision</th>\n",
       "      <th>maxRI5_precision</th>\n",
       "      <th>maxRI10_precision</th>\n",
       "      <th>maxRI25_precision</th>\n",
       "      <th>maxRI50_precision</th>\n",
       "    </tr>\n",
       "  </thead>\n",
       "  <tbody>\n",
       "  </tbody>\n",
       "</table>\n",
       "<p>0 rows × 267 columns</p>\n",
       "</div>"
      ],
      "text/plain": [
       "Empty DataFrame\n",
       "Columns: [data_set, nof_rows, nof_col, nof_num_features, nof_cat_features, nof_pos, pos_ratio, use_case, origin, LENC_nof_bin_cols, LENC-XGB_runtime, LENC-XGB_acc, LENC-XGB_adj_bal_acc, LENC-XGB_recall, LENC-XGB_precision, LENC-XGB_f2, LENC-XGB_f, LENC-CART:4_runtime, LENC-CART:4_acc, LENC-CART:4_adj_bal_acc, LENC-CART:4_recall, LENC-CART:4_precision, LENC-CART:4_f2, LENC-CART:4_f, LENC-CART:4_nof_rules, LENC-CART:4_sum_preds, LENC-CART:4_max_preds, LENC-CART:4_avg_preds, LENC-CART:6_runtime, LENC-CART:6_acc, LENC-CART:6_adj_bal_acc, LENC-CART:6_recall, LENC-CART:6_precision, LENC-CART:6_f2, LENC-CART:6_f, LENC-CART:6_nof_rules, LENC-CART:6_sum_preds, LENC-CART:6_max_preds, LENC-CART:6_avg_preds, LENC-CART:*_runtime, LENC-CART:*_acc, LENC-CART:*_adj_bal_acc, LENC-CART:*_recall, LENC-CART:*_precision, LENC-CART:*_f2, LENC-CART:*_f, LENC-CART:*_nof_rules, LENC-CART:*_sum_preds, LENC-CART:*_max_preds, LENC-CART:*_avg_preds, TREES_nof_bin_cols, TREES-BRCG_runtime, TREES-BRCG_acc, TREES-BRCG_adj_bal_acc, TREES-BRCG_recall, TREES-BRCG_precision, TREES-BRCG_f2, TREES-BRCG_f, TREES-BRCG_nof_rules, TREES-BRCG_sum_preds, TREES-BRCG_max_preds, TREES-BRCG_avg_preds, NATIVE_nof_bin_cols, NATIVE-RIPPER_runtime, NATIVE-RIPPER_acc, NATIVE-RIPPER_adj_bal_acc, NATIVE-RIPPER_recall, NATIVE-RIPPER_precision, NATIVE-RIPPER_f2, NATIVE-RIPPER_f, NATIVE-RIPPER_nof_rules, NATIVE-RIPPER_sum_preds, NATIVE-RIPPER_max_preds, NATIVE-RIPPER_avg_preds, NATIVE-RIPPER2_runtime, NATIVE-RIPPER2_acc, NATIVE-RIPPER2_adj_bal_acc, NATIVE-RIPPER2_recall, NATIVE-RIPPER2_precision, NATIVE-RIPPER2_f2, NATIVE-RIPPER2_f, NATIVE-RIPPER2_nof_rules, NATIVE-RIPPER2_sum_preds, NATIVE-RIPPER2_max_preds, NATIVE-RIPPER2_avg_preds, NATIVE-RIPPER3_runtime, NATIVE-RIPPER3_acc, NATIVE-RIPPER3_adj_bal_acc, NATIVE-RIPPER3_recall, NATIVE-RIPPER3_precision, NATIVE-RIPPER3_f2, NATIVE-RIPPER3_f, NATIVE-RIPPER3_nof_rules, NATIVE-RIPPER3_sum_preds, NATIVE-RIPPER3_max_preds, NATIVE-RIPPER3_avg_preds, TREES-CORELS_runtime, TREES-CORELS_acc, TREES-CORELS_adj_bal_acc, TREES-CORELS_recall, ...]\n",
       "Index: []\n",
       "\n",
       "[0 rows x 267 columns]"
      ]
     },
     "execution_count": 1066,
     "metadata": {},
     "output_type": "execute_result"
    }
   ],
   "source": [
    "suite = [name for name in full_df['data_set'] if name.startswith('synth_disj_')]\n",
    "disj_df = full_df[full_df['data_set'].isin(suite)].copy()\n",
    "disj_df"
   ]
  },
  {
   "cell_type": "code",
   "execution_count": 1067,
   "metadata": {},
   "outputs": [
    {
     "data": {
      "application/vnd.plotly.v1+json": {
       "config": {
        "plotlyServerURL": "https://plot.ly"
       },
       "data": [
        {
         "line": {
          "color": "gray",
          "dash": "solid",
          "width": 2
         },
         "marker": {
          "symbol": "circle"
         },
         "mode": "markers+lines",
         "name": "LENC-XGB",
         "showlegend": true,
         "type": "scatter",
         "x": [],
         "xaxis": "x2",
         "y": [],
         "yaxis": "y2"
        },
        {
         "line": {
          "color": "lightskyblue",
          "dash": "solid",
          "width": 2
         },
         "marker": {
          "symbol": "arrow-left"
         },
         "mode": "markers+lines",
         "name": "LENC-CART:*",
         "showlegend": true,
         "type": "scatter",
         "x": [],
         "xaxis": "x2",
         "y": [],
         "yaxis": "y2"
        },
        {
         "line": {
          "color": "aquamarine",
          "dash": "dash",
          "width": 2
         },
         "marker": {
          "symbol": "cross"
         },
         "mode": "markers+lines",
         "name": "TREES2-BRCG",
         "showlegend": true,
         "type": "scatter",
         "x": [],
         "xaxis": "x2",
         "y": [],
         "yaxis": "y2"
        },
        {
         "line": {
          "color": "crimson",
          "dash": "longdash",
          "width": 2
         },
         "marker": {
          "symbol": "diamond"
         },
         "mode": "markers+lines",
         "name": "NATIVE-RIPPER",
         "showlegend": true,
         "type": "scatter",
         "x": [],
         "xaxis": "x2",
         "y": [],
         "yaxis": "y2"
        },
        {
         "line": {
          "color": "mediumblue",
          "dash": "dot",
          "width": 2
         },
         "marker": {
          "symbol": "arrow-right"
         },
         "mode": "markers+lines",
         "name": "LENC-CART:4",
         "showlegend": true,
         "type": "scatter",
         "x": [],
         "xaxis": "x2",
         "y": [],
         "yaxis": "y2"
        },
        {
         "line": {
          "color": "lime",
          "dash": "dash",
          "width": 2
         },
         "marker": {
          "symbol": "cross"
         },
         "mode": "markers+lines",
         "name": "TREES-BRCG",
         "showlegend": true,
         "type": "scatter",
         "x": [],
         "xaxis": "x2",
         "y": [],
         "yaxis": "y2"
        },
        {
         "line": {
          "color": "gold",
          "dash": "dashdot",
          "width": 2
         },
         "marker": {
          "symbol": "star"
         },
         "mode": "markers+lines",
         "name": "TREES-CORELS",
         "showlegend": true,
         "type": "scatter",
         "x": [],
         "xaxis": "x2",
         "y": [],
         "yaxis": "y2"
        },
        {
         "line": {
          "color": "silver",
          "dash": "dot",
          "width": 2
         },
         "marker": {
          "symbol": "square"
         },
         "mode": "markers+lines",
         "name": "NATIVE-R2N",
         "showlegend": true,
         "type": "scatter",
         "x": [],
         "xaxis": "x2",
         "y": [],
         "yaxis": "y2"
        },
        {
         "line": {
          "color": "lightskyblue",
          "dash": "solid",
          "width": 2
         },
         "marker": {
          "symbol": "arrow-left"
         },
         "mode": "markers+lines",
         "name": "LENC-CART:*",
         "showlegend": false,
         "type": "scatter",
         "x": [],
         "xaxis": "x",
         "y": [],
         "yaxis": "y"
        },
        {
         "line": {
          "color": "aquamarine",
          "dash": "dash",
          "width": 2
         },
         "marker": {
          "symbol": "cross"
         },
         "mode": "markers+lines",
         "name": "TREES2-BRCG",
         "showlegend": false,
         "type": "scatter",
         "x": [],
         "xaxis": "x",
         "y": [],
         "yaxis": "y"
        },
        {
         "line": {
          "color": "crimson",
          "dash": "longdash",
          "width": 2
         },
         "marker": {
          "symbol": "diamond"
         },
         "mode": "markers+lines",
         "name": "NATIVE-RIPPER",
         "showlegend": false,
         "type": "scatter",
         "x": [],
         "xaxis": "x",
         "y": [],
         "yaxis": "y"
        },
        {
         "line": {
          "color": "mediumblue",
          "dash": "dot",
          "width": 2
         },
         "marker": {
          "symbol": "arrow-right"
         },
         "mode": "markers+lines",
         "name": "LENC-CART:4",
         "showlegend": false,
         "type": "scatter",
         "x": [],
         "xaxis": "x",
         "y": [],
         "yaxis": "y"
        },
        {
         "line": {
          "color": "lime",
          "dash": "dash",
          "width": 2
         },
         "marker": {
          "symbol": "cross"
         },
         "mode": "markers+lines",
         "name": "TREES-BRCG",
         "showlegend": false,
         "type": "scatter",
         "x": [],
         "xaxis": "x",
         "y": [],
         "yaxis": "y"
        },
        {
         "line": {
          "color": "gold",
          "dash": "dashdot",
          "width": 2
         },
         "marker": {
          "symbol": "star"
         },
         "mode": "markers+lines",
         "name": "TREES-CORELS",
         "showlegend": false,
         "type": "scatter",
         "x": [],
         "xaxis": "x",
         "y": [],
         "yaxis": "y"
        },
        {
         "line": {
          "color": "silver",
          "dash": "dot",
          "width": 2
         },
         "marker": {
          "symbol": "square"
         },
         "mode": "markers+lines",
         "name": "NATIVE-R2N",
         "showlegend": false,
         "type": "scatter",
         "x": [],
         "xaxis": "x",
         "y": [],
         "yaxis": "y"
        }
       ],
       "layout": {
        "height": 500,
        "plot_bgcolor": "whitesmoke",
        "template": {
         "data": {
          "bar": [
           {
            "error_x": {
             "color": "#2a3f5f"
            },
            "error_y": {
             "color": "#2a3f5f"
            },
            "marker": {
             "line": {
              "color": "#E5ECF6",
              "width": 0.5
             },
             "pattern": {
              "fillmode": "overlay",
              "size": 10,
              "solidity": 0.2
             }
            },
            "type": "bar"
           }
          ],
          "barpolar": [
           {
            "marker": {
             "line": {
              "color": "#E5ECF6",
              "width": 0.5
             },
             "pattern": {
              "fillmode": "overlay",
              "size": 10,
              "solidity": 0.2
             }
            },
            "type": "barpolar"
           }
          ],
          "carpet": [
           {
            "aaxis": {
             "endlinecolor": "#2a3f5f",
             "gridcolor": "white",
             "linecolor": "white",
             "minorgridcolor": "white",
             "startlinecolor": "#2a3f5f"
            },
            "baxis": {
             "endlinecolor": "#2a3f5f",
             "gridcolor": "white",
             "linecolor": "white",
             "minorgridcolor": "white",
             "startlinecolor": "#2a3f5f"
            },
            "type": "carpet"
           }
          ],
          "choropleth": [
           {
            "colorbar": {
             "outlinewidth": 0,
             "ticks": ""
            },
            "type": "choropleth"
           }
          ],
          "contour": [
           {
            "colorbar": {
             "outlinewidth": 0,
             "ticks": ""
            },
            "colorscale": [
             [
              0,
              "#0d0887"
             ],
             [
              0.1111111111111111,
              "#46039f"
             ],
             [
              0.2222222222222222,
              "#7201a8"
             ],
             [
              0.3333333333333333,
              "#9c179e"
             ],
             [
              0.4444444444444444,
              "#bd3786"
             ],
             [
              0.5555555555555556,
              "#d8576b"
             ],
             [
              0.6666666666666666,
              "#ed7953"
             ],
             [
              0.7777777777777778,
              "#fb9f3a"
             ],
             [
              0.8888888888888888,
              "#fdca26"
             ],
             [
              1,
              "#f0f921"
             ]
            ],
            "type": "contour"
           }
          ],
          "contourcarpet": [
           {
            "colorbar": {
             "outlinewidth": 0,
             "ticks": ""
            },
            "type": "contourcarpet"
           }
          ],
          "heatmap": [
           {
            "colorbar": {
             "outlinewidth": 0,
             "ticks": ""
            },
            "colorscale": [
             [
              0,
              "#0d0887"
             ],
             [
              0.1111111111111111,
              "#46039f"
             ],
             [
              0.2222222222222222,
              "#7201a8"
             ],
             [
              0.3333333333333333,
              "#9c179e"
             ],
             [
              0.4444444444444444,
              "#bd3786"
             ],
             [
              0.5555555555555556,
              "#d8576b"
             ],
             [
              0.6666666666666666,
              "#ed7953"
             ],
             [
              0.7777777777777778,
              "#fb9f3a"
             ],
             [
              0.8888888888888888,
              "#fdca26"
             ],
             [
              1,
              "#f0f921"
             ]
            ],
            "type": "heatmap"
           }
          ],
          "heatmapgl": [
           {
            "colorbar": {
             "outlinewidth": 0,
             "ticks": ""
            },
            "colorscale": [
             [
              0,
              "#0d0887"
             ],
             [
              0.1111111111111111,
              "#46039f"
             ],
             [
              0.2222222222222222,
              "#7201a8"
             ],
             [
              0.3333333333333333,
              "#9c179e"
             ],
             [
              0.4444444444444444,
              "#bd3786"
             ],
             [
              0.5555555555555556,
              "#d8576b"
             ],
             [
              0.6666666666666666,
              "#ed7953"
             ],
             [
              0.7777777777777778,
              "#fb9f3a"
             ],
             [
              0.8888888888888888,
              "#fdca26"
             ],
             [
              1,
              "#f0f921"
             ]
            ],
            "type": "heatmapgl"
           }
          ],
          "histogram": [
           {
            "marker": {
             "pattern": {
              "fillmode": "overlay",
              "size": 10,
              "solidity": 0.2
             }
            },
            "type": "histogram"
           }
          ],
          "histogram2d": [
           {
            "colorbar": {
             "outlinewidth": 0,
             "ticks": ""
            },
            "colorscale": [
             [
              0,
              "#0d0887"
             ],
             [
              0.1111111111111111,
              "#46039f"
             ],
             [
              0.2222222222222222,
              "#7201a8"
             ],
             [
              0.3333333333333333,
              "#9c179e"
             ],
             [
              0.4444444444444444,
              "#bd3786"
             ],
             [
              0.5555555555555556,
              "#d8576b"
             ],
             [
              0.6666666666666666,
              "#ed7953"
             ],
             [
              0.7777777777777778,
              "#fb9f3a"
             ],
             [
              0.8888888888888888,
              "#fdca26"
             ],
             [
              1,
              "#f0f921"
             ]
            ],
            "type": "histogram2d"
           }
          ],
          "histogram2dcontour": [
           {
            "colorbar": {
             "outlinewidth": 0,
             "ticks": ""
            },
            "colorscale": [
             [
              0,
              "#0d0887"
             ],
             [
              0.1111111111111111,
              "#46039f"
             ],
             [
              0.2222222222222222,
              "#7201a8"
             ],
             [
              0.3333333333333333,
              "#9c179e"
             ],
             [
              0.4444444444444444,
              "#bd3786"
             ],
             [
              0.5555555555555556,
              "#d8576b"
             ],
             [
              0.6666666666666666,
              "#ed7953"
             ],
             [
              0.7777777777777778,
              "#fb9f3a"
             ],
             [
              0.8888888888888888,
              "#fdca26"
             ],
             [
              1,
              "#f0f921"
             ]
            ],
            "type": "histogram2dcontour"
           }
          ],
          "mesh3d": [
           {
            "colorbar": {
             "outlinewidth": 0,
             "ticks": ""
            },
            "type": "mesh3d"
           }
          ],
          "parcoords": [
           {
            "line": {
             "colorbar": {
              "outlinewidth": 0,
              "ticks": ""
             }
            },
            "type": "parcoords"
           }
          ],
          "pie": [
           {
            "automargin": true,
            "type": "pie"
           }
          ],
          "scatter": [
           {
            "fillpattern": {
             "fillmode": "overlay",
             "size": 10,
             "solidity": 0.2
            },
            "type": "scatter"
           }
          ],
          "scatter3d": [
           {
            "line": {
             "colorbar": {
              "outlinewidth": 0,
              "ticks": ""
             }
            },
            "marker": {
             "colorbar": {
              "outlinewidth": 0,
              "ticks": ""
             }
            },
            "type": "scatter3d"
           }
          ],
          "scattercarpet": [
           {
            "marker": {
             "colorbar": {
              "outlinewidth": 0,
              "ticks": ""
             }
            },
            "type": "scattercarpet"
           }
          ],
          "scattergeo": [
           {
            "marker": {
             "colorbar": {
              "outlinewidth": 0,
              "ticks": ""
             }
            },
            "type": "scattergeo"
           }
          ],
          "scattergl": [
           {
            "marker": {
             "colorbar": {
              "outlinewidth": 0,
              "ticks": ""
             }
            },
            "type": "scattergl"
           }
          ],
          "scattermapbox": [
           {
            "marker": {
             "colorbar": {
              "outlinewidth": 0,
              "ticks": ""
             }
            },
            "type": "scattermapbox"
           }
          ],
          "scatterpolar": [
           {
            "marker": {
             "colorbar": {
              "outlinewidth": 0,
              "ticks": ""
             }
            },
            "type": "scatterpolar"
           }
          ],
          "scatterpolargl": [
           {
            "marker": {
             "colorbar": {
              "outlinewidth": 0,
              "ticks": ""
             }
            },
            "type": "scatterpolargl"
           }
          ],
          "scatterternary": [
           {
            "marker": {
             "colorbar": {
              "outlinewidth": 0,
              "ticks": ""
             }
            },
            "type": "scatterternary"
           }
          ],
          "surface": [
           {
            "colorbar": {
             "outlinewidth": 0,
             "ticks": ""
            },
            "colorscale": [
             [
              0,
              "#0d0887"
             ],
             [
              0.1111111111111111,
              "#46039f"
             ],
             [
              0.2222222222222222,
              "#7201a8"
             ],
             [
              0.3333333333333333,
              "#9c179e"
             ],
             [
              0.4444444444444444,
              "#bd3786"
             ],
             [
              0.5555555555555556,
              "#d8576b"
             ],
             [
              0.6666666666666666,
              "#ed7953"
             ],
             [
              0.7777777777777778,
              "#fb9f3a"
             ],
             [
              0.8888888888888888,
              "#fdca26"
             ],
             [
              1,
              "#f0f921"
             ]
            ],
            "type": "surface"
           }
          ],
          "table": [
           {
            "cells": {
             "fill": {
              "color": "#EBF0F8"
             },
             "line": {
              "color": "white"
             }
            },
            "header": {
             "fill": {
              "color": "#C8D4E3"
             },
             "line": {
              "color": "white"
             }
            },
            "type": "table"
           }
          ]
         },
         "layout": {
          "annotationdefaults": {
           "arrowcolor": "#2a3f5f",
           "arrowhead": 0,
           "arrowwidth": 1
          },
          "autotypenumbers": "strict",
          "coloraxis": {
           "colorbar": {
            "outlinewidth": 0,
            "ticks": ""
           }
          },
          "colorscale": {
           "diverging": [
            [
             0,
             "#8e0152"
            ],
            [
             0.1,
             "#c51b7d"
            ],
            [
             0.2,
             "#de77ae"
            ],
            [
             0.3,
             "#f1b6da"
            ],
            [
             0.4,
             "#fde0ef"
            ],
            [
             0.5,
             "#f7f7f7"
            ],
            [
             0.6,
             "#e6f5d0"
            ],
            [
             0.7,
             "#b8e186"
            ],
            [
             0.8,
             "#7fbc41"
            ],
            [
             0.9,
             "#4d9221"
            ],
            [
             1,
             "#276419"
            ]
           ],
           "sequential": [
            [
             0,
             "#0d0887"
            ],
            [
             0.1111111111111111,
             "#46039f"
            ],
            [
             0.2222222222222222,
             "#7201a8"
            ],
            [
             0.3333333333333333,
             "#9c179e"
            ],
            [
             0.4444444444444444,
             "#bd3786"
            ],
            [
             0.5555555555555556,
             "#d8576b"
            ],
            [
             0.6666666666666666,
             "#ed7953"
            ],
            [
             0.7777777777777778,
             "#fb9f3a"
            ],
            [
             0.8888888888888888,
             "#fdca26"
            ],
            [
             1,
             "#f0f921"
            ]
           ],
           "sequentialminus": [
            [
             0,
             "#0d0887"
            ],
            [
             0.1111111111111111,
             "#46039f"
            ],
            [
             0.2222222222222222,
             "#7201a8"
            ],
            [
             0.3333333333333333,
             "#9c179e"
            ],
            [
             0.4444444444444444,
             "#bd3786"
            ],
            [
             0.5555555555555556,
             "#d8576b"
            ],
            [
             0.6666666666666666,
             "#ed7953"
            ],
            [
             0.7777777777777778,
             "#fb9f3a"
            ],
            [
             0.8888888888888888,
             "#fdca26"
            ],
            [
             1,
             "#f0f921"
            ]
           ]
          },
          "colorway": [
           "#636efa",
           "#EF553B",
           "#00cc96",
           "#ab63fa",
           "#FFA15A",
           "#19d3f3",
           "#FF6692",
           "#B6E880",
           "#FF97FF",
           "#FECB52"
          ],
          "font": {
           "color": "#2a3f5f"
          },
          "geo": {
           "bgcolor": "white",
           "lakecolor": "white",
           "landcolor": "#E5ECF6",
           "showlakes": true,
           "showland": true,
           "subunitcolor": "white"
          },
          "hoverlabel": {
           "align": "left"
          },
          "hovermode": "closest",
          "mapbox": {
           "style": "light"
          },
          "paper_bgcolor": "white",
          "plot_bgcolor": "#E5ECF6",
          "polar": {
           "angularaxis": {
            "gridcolor": "white",
            "linecolor": "white",
            "ticks": ""
           },
           "bgcolor": "#E5ECF6",
           "radialaxis": {
            "gridcolor": "white",
            "linecolor": "white",
            "ticks": ""
           }
          },
          "scene": {
           "xaxis": {
            "backgroundcolor": "#E5ECF6",
            "gridcolor": "white",
            "gridwidth": 2,
            "linecolor": "white",
            "showbackground": true,
            "ticks": "",
            "zerolinecolor": "white"
           },
           "yaxis": {
            "backgroundcolor": "#E5ECF6",
            "gridcolor": "white",
            "gridwidth": 2,
            "linecolor": "white",
            "showbackground": true,
            "ticks": "",
            "zerolinecolor": "white"
           },
           "zaxis": {
            "backgroundcolor": "#E5ECF6",
            "gridcolor": "white",
            "gridwidth": 2,
            "linecolor": "white",
            "showbackground": true,
            "ticks": "",
            "zerolinecolor": "white"
           }
          },
          "shapedefaults": {
           "line": {
            "color": "#2a3f5f"
           }
          },
          "ternary": {
           "aaxis": {
            "gridcolor": "white",
            "linecolor": "white",
            "ticks": ""
           },
           "baxis": {
            "gridcolor": "white",
            "linecolor": "white",
            "ticks": ""
           },
           "bgcolor": "#E5ECF6",
           "caxis": {
            "gridcolor": "white",
            "linecolor": "white",
            "ticks": ""
           }
          },
          "title": {
           "x": 0.05
          },
          "xaxis": {
           "automargin": true,
           "gridcolor": "white",
           "linecolor": "white",
           "ticks": "",
           "title": {
            "standoff": 15
           },
           "zerolinecolor": "white",
           "zerolinewidth": 2
          },
          "yaxis": {
           "automargin": true,
           "gridcolor": "white",
           "linecolor": "white",
           "ticks": "",
           "title": {
            "standoff": 15
           },
           "zerolinecolor": "white",
           "zerolinewidth": 2
          }
         }
        },
        "title": {
         "text": "accuracy and number of rules on synthetic disjunctive complexity suite"
        },
        "width": 1000,
        "xaxis": {
         "anchor": "y",
         "domain": [
          0,
          1
         ],
         "matches": "x2",
         "showticklabels": false,
         "type": "log"
        },
        "xaxis2": {
         "anchor": "y2",
         "domain": [
          0,
          1
         ],
         "title": {
          "text": "number of rules used to create label"
         },
         "type": "log"
        },
        "yaxis": {
         "anchor": "x",
         "domain": [
          0.51,
          1
         ],
         "title": {
          "text": "number of rules"
         },
         "type": "log"
        },
        "yaxis2": {
         "anchor": "x2",
         "domain": [
          0,
          0.49
         ],
         "title": {
          "text": "accuracy"
         }
        }
       }
      }
     },
     "metadata": {},
     "output_type": "display_data"
    }
   ],
   "source": [
    "def extract(name):\n",
    "    return int(name.split('_')[2])\n",
    "\n",
    "disj_df['label_complexity'] = disj_df['data_set'].map(extract)\n",
    "disj_df = disj_df.sort_values('label_complexity', ignore_index=True)\n",
    "\n",
    "dual_chart(pipelines=['LENC-CART:*', 'TREES2-BRCG'] + DEFAULT_RI_PIPELINES,\n",
    "           performance_metric='acc',\n",
    "           complexity_metric='nof_rules',\n",
    "           df=disj_df,\n",
    "           df_long_name='synthetic disjunctive complexity suite',\n",
    "           x_sel='label_complexity',\n",
    "           x_title='number of rules used to create label',\n",
    "           x_log=True)\n",
    "\n",
    "# single_chart(pipelines=['LENC-XGB', 'LENC-CART:*', 'TREES2-BRCG'] + DEFAULT_RI_PIPELINES,\n",
    "#              metric='acc',\n",
    "#              df=disj_df,\n",
    "#              df_long_name='synthetic disjunctive complexity suite',\n",
    "#              x_sel='label_complexity',\n",
    "#              x_title='number of rules used to create label',\n",
    "#              x_log=True)\n"
   ]
  },
  {
   "attachments": {},
   "cell_type": "markdown",
   "metadata": {},
   "source": [
    "### Synthetic Linear Complexity Suite"
   ]
  },
  {
   "cell_type": "code",
   "execution_count": 1068,
   "metadata": {},
   "outputs": [
    {
     "data": {
      "text/html": [
       "<div>\n",
       "<style scoped>\n",
       "    .dataframe tbody tr th:only-of-type {\n",
       "        vertical-align: middle;\n",
       "    }\n",
       "\n",
       "    .dataframe tbody tr th {\n",
       "        vertical-align: top;\n",
       "    }\n",
       "\n",
       "    .dataframe thead th {\n",
       "        text-align: right;\n",
       "    }\n",
       "</style>\n",
       "<table border=\"1\" class=\"dataframe\">\n",
       "  <thead>\n",
       "    <tr style=\"text-align: right;\">\n",
       "      <th></th>\n",
       "      <th>data_set</th>\n",
       "      <th>nof_rows</th>\n",
       "      <th>nof_col</th>\n",
       "      <th>nof_num_features</th>\n",
       "      <th>nof_cat_features</th>\n",
       "      <th>nof_pos</th>\n",
       "      <th>pos_ratio</th>\n",
       "      <th>use_case</th>\n",
       "      <th>origin</th>\n",
       "      <th>LENC_nof_bin_cols</th>\n",
       "      <th>...</th>\n",
       "      <th>maxRI_recall</th>\n",
       "      <th>maxRI5_recall</th>\n",
       "      <th>maxRI10_recall</th>\n",
       "      <th>maxRI25_recall</th>\n",
       "      <th>maxRI50_recall</th>\n",
       "      <th>maxRI_precision</th>\n",
       "      <th>maxRI5_precision</th>\n",
       "      <th>maxRI10_precision</th>\n",
       "      <th>maxRI25_precision</th>\n",
       "      <th>maxRI50_precision</th>\n",
       "    </tr>\n",
       "  </thead>\n",
       "  <tbody>\n",
       "  </tbody>\n",
       "</table>\n",
       "<p>0 rows × 267 columns</p>\n",
       "</div>"
      ],
      "text/plain": [
       "Empty DataFrame\n",
       "Columns: [data_set, nof_rows, nof_col, nof_num_features, nof_cat_features, nof_pos, pos_ratio, use_case, origin, LENC_nof_bin_cols, LENC-XGB_runtime, LENC-XGB_acc, LENC-XGB_adj_bal_acc, LENC-XGB_recall, LENC-XGB_precision, LENC-XGB_f2, LENC-XGB_f, LENC-CART:4_runtime, LENC-CART:4_acc, LENC-CART:4_adj_bal_acc, LENC-CART:4_recall, LENC-CART:4_precision, LENC-CART:4_f2, LENC-CART:4_f, LENC-CART:4_nof_rules, LENC-CART:4_sum_preds, LENC-CART:4_max_preds, LENC-CART:4_avg_preds, LENC-CART:6_runtime, LENC-CART:6_acc, LENC-CART:6_adj_bal_acc, LENC-CART:6_recall, LENC-CART:6_precision, LENC-CART:6_f2, LENC-CART:6_f, LENC-CART:6_nof_rules, LENC-CART:6_sum_preds, LENC-CART:6_max_preds, LENC-CART:6_avg_preds, LENC-CART:*_runtime, LENC-CART:*_acc, LENC-CART:*_adj_bal_acc, LENC-CART:*_recall, LENC-CART:*_precision, LENC-CART:*_f2, LENC-CART:*_f, LENC-CART:*_nof_rules, LENC-CART:*_sum_preds, LENC-CART:*_max_preds, LENC-CART:*_avg_preds, TREES_nof_bin_cols, TREES-BRCG_runtime, TREES-BRCG_acc, TREES-BRCG_adj_bal_acc, TREES-BRCG_recall, TREES-BRCG_precision, TREES-BRCG_f2, TREES-BRCG_f, TREES-BRCG_nof_rules, TREES-BRCG_sum_preds, TREES-BRCG_max_preds, TREES-BRCG_avg_preds, NATIVE_nof_bin_cols, NATIVE-RIPPER_runtime, NATIVE-RIPPER_acc, NATIVE-RIPPER_adj_bal_acc, NATIVE-RIPPER_recall, NATIVE-RIPPER_precision, NATIVE-RIPPER_f2, NATIVE-RIPPER_f, NATIVE-RIPPER_nof_rules, NATIVE-RIPPER_sum_preds, NATIVE-RIPPER_max_preds, NATIVE-RIPPER_avg_preds, NATIVE-RIPPER2_runtime, NATIVE-RIPPER2_acc, NATIVE-RIPPER2_adj_bal_acc, NATIVE-RIPPER2_recall, NATIVE-RIPPER2_precision, NATIVE-RIPPER2_f2, NATIVE-RIPPER2_f, NATIVE-RIPPER2_nof_rules, NATIVE-RIPPER2_sum_preds, NATIVE-RIPPER2_max_preds, NATIVE-RIPPER2_avg_preds, NATIVE-RIPPER3_runtime, NATIVE-RIPPER3_acc, NATIVE-RIPPER3_adj_bal_acc, NATIVE-RIPPER3_recall, NATIVE-RIPPER3_precision, NATIVE-RIPPER3_f2, NATIVE-RIPPER3_f, NATIVE-RIPPER3_nof_rules, NATIVE-RIPPER3_sum_preds, NATIVE-RIPPER3_max_preds, NATIVE-RIPPER3_avg_preds, TREES-CORELS_runtime, TREES-CORELS_acc, TREES-CORELS_adj_bal_acc, TREES-CORELS_recall, ...]\n",
       "Index: []\n",
       "\n",
       "[0 rows x 267 columns]"
      ]
     },
     "execution_count": 1068,
     "metadata": {},
     "output_type": "execute_result"
    }
   ],
   "source": [
    "synth_linear_suite = [name for name in full_df['data_set'] if name.startswith('synth_linear_')]\n",
    "synth_linear_suite_df = full_df[full_df['data_set'].isin(synth_linear_suite)].copy()\n",
    "synth_linear_suite_df"
   ]
  },
  {
   "cell_type": "code",
   "execution_count": 1069,
   "metadata": {},
   "outputs": [
    {
     "data": {
      "application/vnd.plotly.v1+json": {
       "config": {
        "plotlyServerURL": "https://plot.ly"
       },
       "data": [
        {
         "line": {
          "color": "gray",
          "dash": "solid",
          "width": 2
         },
         "marker": {
          "symbol": "circle"
         },
         "mode": "markers+lines",
         "name": "LENC-XGB",
         "showlegend": true,
         "type": "scatter",
         "x": [],
         "xaxis": "x2",
         "y": [],
         "yaxis": "y2"
        },
        {
         "line": {
          "color": "lightskyblue",
          "dash": "solid",
          "width": 2
         },
         "marker": {
          "symbol": "arrow-left"
         },
         "mode": "markers+lines",
         "name": "LENC-CART:*",
         "showlegend": true,
         "type": "scatter",
         "x": [],
         "xaxis": "x2",
         "y": [],
         "yaxis": "y2"
        },
        {
         "line": {
          "color": "crimson",
          "dash": "longdash",
          "width": 2
         },
         "marker": {
          "symbol": "diamond"
         },
         "mode": "markers+lines",
         "name": "NATIVE-RIPPER",
         "showlegend": true,
         "type": "scatter",
         "x": [],
         "xaxis": "x2",
         "y": [],
         "yaxis": "y2"
        },
        {
         "line": {
          "color": "mediumblue",
          "dash": "dot",
          "width": 2
         },
         "marker": {
          "symbol": "arrow-right"
         },
         "mode": "markers+lines",
         "name": "LENC-CART:4",
         "showlegend": true,
         "type": "scatter",
         "x": [],
         "xaxis": "x2",
         "y": [],
         "yaxis": "y2"
        },
        {
         "line": {
          "color": "lime",
          "dash": "dash",
          "width": 2
         },
         "marker": {
          "symbol": "cross"
         },
         "mode": "markers+lines",
         "name": "TREES-BRCG",
         "showlegend": true,
         "type": "scatter",
         "x": [],
         "xaxis": "x2",
         "y": [],
         "yaxis": "y2"
        },
        {
         "line": {
          "color": "gold",
          "dash": "dashdot",
          "width": 2
         },
         "marker": {
          "symbol": "star"
         },
         "mode": "markers+lines",
         "name": "TREES-CORELS",
         "showlegend": true,
         "type": "scatter",
         "x": [],
         "xaxis": "x2",
         "y": [],
         "yaxis": "y2"
        },
        {
         "line": {
          "color": "silver",
          "dash": "dot",
          "width": 2
         },
         "marker": {
          "symbol": "square"
         },
         "mode": "markers+lines",
         "name": "NATIVE-R2N",
         "showlegend": true,
         "type": "scatter",
         "x": [],
         "xaxis": "x2",
         "y": [],
         "yaxis": "y2"
        },
        {
         "line": {
          "color": "lightskyblue",
          "dash": "solid",
          "width": 2
         },
         "marker": {
          "symbol": "arrow-left"
         },
         "mode": "markers+lines",
         "name": "LENC-CART:*",
         "showlegend": false,
         "type": "scatter",
         "x": [],
         "xaxis": "x",
         "y": [],
         "yaxis": "y"
        },
        {
         "line": {
          "color": "crimson",
          "dash": "longdash",
          "width": 2
         },
         "marker": {
          "symbol": "diamond"
         },
         "mode": "markers+lines",
         "name": "NATIVE-RIPPER",
         "showlegend": false,
         "type": "scatter",
         "x": [],
         "xaxis": "x",
         "y": [],
         "yaxis": "y"
        },
        {
         "line": {
          "color": "mediumblue",
          "dash": "dot",
          "width": 2
         },
         "marker": {
          "symbol": "arrow-right"
         },
         "mode": "markers+lines",
         "name": "LENC-CART:4",
         "showlegend": false,
         "type": "scatter",
         "x": [],
         "xaxis": "x",
         "y": [],
         "yaxis": "y"
        },
        {
         "line": {
          "color": "lime",
          "dash": "dash",
          "width": 2
         },
         "marker": {
          "symbol": "cross"
         },
         "mode": "markers+lines",
         "name": "TREES-BRCG",
         "showlegend": false,
         "type": "scatter",
         "x": [],
         "xaxis": "x",
         "y": [],
         "yaxis": "y"
        },
        {
         "line": {
          "color": "gold",
          "dash": "dashdot",
          "width": 2
         },
         "marker": {
          "symbol": "star"
         },
         "mode": "markers+lines",
         "name": "TREES-CORELS",
         "showlegend": false,
         "type": "scatter",
         "x": [],
         "xaxis": "x",
         "y": [],
         "yaxis": "y"
        },
        {
         "line": {
          "color": "silver",
          "dash": "dot",
          "width": 2
         },
         "marker": {
          "symbol": "square"
         },
         "mode": "markers+lines",
         "name": "NATIVE-R2N",
         "showlegend": false,
         "type": "scatter",
         "x": [],
         "xaxis": "x",
         "y": [],
         "yaxis": "y"
        }
       ],
       "layout": {
        "height": 500,
        "plot_bgcolor": "whitesmoke",
        "template": {
         "data": {
          "bar": [
           {
            "error_x": {
             "color": "#2a3f5f"
            },
            "error_y": {
             "color": "#2a3f5f"
            },
            "marker": {
             "line": {
              "color": "#E5ECF6",
              "width": 0.5
             },
             "pattern": {
              "fillmode": "overlay",
              "size": 10,
              "solidity": 0.2
             }
            },
            "type": "bar"
           }
          ],
          "barpolar": [
           {
            "marker": {
             "line": {
              "color": "#E5ECF6",
              "width": 0.5
             },
             "pattern": {
              "fillmode": "overlay",
              "size": 10,
              "solidity": 0.2
             }
            },
            "type": "barpolar"
           }
          ],
          "carpet": [
           {
            "aaxis": {
             "endlinecolor": "#2a3f5f",
             "gridcolor": "white",
             "linecolor": "white",
             "minorgridcolor": "white",
             "startlinecolor": "#2a3f5f"
            },
            "baxis": {
             "endlinecolor": "#2a3f5f",
             "gridcolor": "white",
             "linecolor": "white",
             "minorgridcolor": "white",
             "startlinecolor": "#2a3f5f"
            },
            "type": "carpet"
           }
          ],
          "choropleth": [
           {
            "colorbar": {
             "outlinewidth": 0,
             "ticks": ""
            },
            "type": "choropleth"
           }
          ],
          "contour": [
           {
            "colorbar": {
             "outlinewidth": 0,
             "ticks": ""
            },
            "colorscale": [
             [
              0,
              "#0d0887"
             ],
             [
              0.1111111111111111,
              "#46039f"
             ],
             [
              0.2222222222222222,
              "#7201a8"
             ],
             [
              0.3333333333333333,
              "#9c179e"
             ],
             [
              0.4444444444444444,
              "#bd3786"
             ],
             [
              0.5555555555555556,
              "#d8576b"
             ],
             [
              0.6666666666666666,
              "#ed7953"
             ],
             [
              0.7777777777777778,
              "#fb9f3a"
             ],
             [
              0.8888888888888888,
              "#fdca26"
             ],
             [
              1,
              "#f0f921"
             ]
            ],
            "type": "contour"
           }
          ],
          "contourcarpet": [
           {
            "colorbar": {
             "outlinewidth": 0,
             "ticks": ""
            },
            "type": "contourcarpet"
           }
          ],
          "heatmap": [
           {
            "colorbar": {
             "outlinewidth": 0,
             "ticks": ""
            },
            "colorscale": [
             [
              0,
              "#0d0887"
             ],
             [
              0.1111111111111111,
              "#46039f"
             ],
             [
              0.2222222222222222,
              "#7201a8"
             ],
             [
              0.3333333333333333,
              "#9c179e"
             ],
             [
              0.4444444444444444,
              "#bd3786"
             ],
             [
              0.5555555555555556,
              "#d8576b"
             ],
             [
              0.6666666666666666,
              "#ed7953"
             ],
             [
              0.7777777777777778,
              "#fb9f3a"
             ],
             [
              0.8888888888888888,
              "#fdca26"
             ],
             [
              1,
              "#f0f921"
             ]
            ],
            "type": "heatmap"
           }
          ],
          "heatmapgl": [
           {
            "colorbar": {
             "outlinewidth": 0,
             "ticks": ""
            },
            "colorscale": [
             [
              0,
              "#0d0887"
             ],
             [
              0.1111111111111111,
              "#46039f"
             ],
             [
              0.2222222222222222,
              "#7201a8"
             ],
             [
              0.3333333333333333,
              "#9c179e"
             ],
             [
              0.4444444444444444,
              "#bd3786"
             ],
             [
              0.5555555555555556,
              "#d8576b"
             ],
             [
              0.6666666666666666,
              "#ed7953"
             ],
             [
              0.7777777777777778,
              "#fb9f3a"
             ],
             [
              0.8888888888888888,
              "#fdca26"
             ],
             [
              1,
              "#f0f921"
             ]
            ],
            "type": "heatmapgl"
           }
          ],
          "histogram": [
           {
            "marker": {
             "pattern": {
              "fillmode": "overlay",
              "size": 10,
              "solidity": 0.2
             }
            },
            "type": "histogram"
           }
          ],
          "histogram2d": [
           {
            "colorbar": {
             "outlinewidth": 0,
             "ticks": ""
            },
            "colorscale": [
             [
              0,
              "#0d0887"
             ],
             [
              0.1111111111111111,
              "#46039f"
             ],
             [
              0.2222222222222222,
              "#7201a8"
             ],
             [
              0.3333333333333333,
              "#9c179e"
             ],
             [
              0.4444444444444444,
              "#bd3786"
             ],
             [
              0.5555555555555556,
              "#d8576b"
             ],
             [
              0.6666666666666666,
              "#ed7953"
             ],
             [
              0.7777777777777778,
              "#fb9f3a"
             ],
             [
              0.8888888888888888,
              "#fdca26"
             ],
             [
              1,
              "#f0f921"
             ]
            ],
            "type": "histogram2d"
           }
          ],
          "histogram2dcontour": [
           {
            "colorbar": {
             "outlinewidth": 0,
             "ticks": ""
            },
            "colorscale": [
             [
              0,
              "#0d0887"
             ],
             [
              0.1111111111111111,
              "#46039f"
             ],
             [
              0.2222222222222222,
              "#7201a8"
             ],
             [
              0.3333333333333333,
              "#9c179e"
             ],
             [
              0.4444444444444444,
              "#bd3786"
             ],
             [
              0.5555555555555556,
              "#d8576b"
             ],
             [
              0.6666666666666666,
              "#ed7953"
             ],
             [
              0.7777777777777778,
              "#fb9f3a"
             ],
             [
              0.8888888888888888,
              "#fdca26"
             ],
             [
              1,
              "#f0f921"
             ]
            ],
            "type": "histogram2dcontour"
           }
          ],
          "mesh3d": [
           {
            "colorbar": {
             "outlinewidth": 0,
             "ticks": ""
            },
            "type": "mesh3d"
           }
          ],
          "parcoords": [
           {
            "line": {
             "colorbar": {
              "outlinewidth": 0,
              "ticks": ""
             }
            },
            "type": "parcoords"
           }
          ],
          "pie": [
           {
            "automargin": true,
            "type": "pie"
           }
          ],
          "scatter": [
           {
            "fillpattern": {
             "fillmode": "overlay",
             "size": 10,
             "solidity": 0.2
            },
            "type": "scatter"
           }
          ],
          "scatter3d": [
           {
            "line": {
             "colorbar": {
              "outlinewidth": 0,
              "ticks": ""
             }
            },
            "marker": {
             "colorbar": {
              "outlinewidth": 0,
              "ticks": ""
             }
            },
            "type": "scatter3d"
           }
          ],
          "scattercarpet": [
           {
            "marker": {
             "colorbar": {
              "outlinewidth": 0,
              "ticks": ""
             }
            },
            "type": "scattercarpet"
           }
          ],
          "scattergeo": [
           {
            "marker": {
             "colorbar": {
              "outlinewidth": 0,
              "ticks": ""
             }
            },
            "type": "scattergeo"
           }
          ],
          "scattergl": [
           {
            "marker": {
             "colorbar": {
              "outlinewidth": 0,
              "ticks": ""
             }
            },
            "type": "scattergl"
           }
          ],
          "scattermapbox": [
           {
            "marker": {
             "colorbar": {
              "outlinewidth": 0,
              "ticks": ""
             }
            },
            "type": "scattermapbox"
           }
          ],
          "scatterpolar": [
           {
            "marker": {
             "colorbar": {
              "outlinewidth": 0,
              "ticks": ""
             }
            },
            "type": "scatterpolar"
           }
          ],
          "scatterpolargl": [
           {
            "marker": {
             "colorbar": {
              "outlinewidth": 0,
              "ticks": ""
             }
            },
            "type": "scatterpolargl"
           }
          ],
          "scatterternary": [
           {
            "marker": {
             "colorbar": {
              "outlinewidth": 0,
              "ticks": ""
             }
            },
            "type": "scatterternary"
           }
          ],
          "surface": [
           {
            "colorbar": {
             "outlinewidth": 0,
             "ticks": ""
            },
            "colorscale": [
             [
              0,
              "#0d0887"
             ],
             [
              0.1111111111111111,
              "#46039f"
             ],
             [
              0.2222222222222222,
              "#7201a8"
             ],
             [
              0.3333333333333333,
              "#9c179e"
             ],
             [
              0.4444444444444444,
              "#bd3786"
             ],
             [
              0.5555555555555556,
              "#d8576b"
             ],
             [
              0.6666666666666666,
              "#ed7953"
             ],
             [
              0.7777777777777778,
              "#fb9f3a"
             ],
             [
              0.8888888888888888,
              "#fdca26"
             ],
             [
              1,
              "#f0f921"
             ]
            ],
            "type": "surface"
           }
          ],
          "table": [
           {
            "cells": {
             "fill": {
              "color": "#EBF0F8"
             },
             "line": {
              "color": "white"
             }
            },
            "header": {
             "fill": {
              "color": "#C8D4E3"
             },
             "line": {
              "color": "white"
             }
            },
            "type": "table"
           }
          ]
         },
         "layout": {
          "annotationdefaults": {
           "arrowcolor": "#2a3f5f",
           "arrowhead": 0,
           "arrowwidth": 1
          },
          "autotypenumbers": "strict",
          "coloraxis": {
           "colorbar": {
            "outlinewidth": 0,
            "ticks": ""
           }
          },
          "colorscale": {
           "diverging": [
            [
             0,
             "#8e0152"
            ],
            [
             0.1,
             "#c51b7d"
            ],
            [
             0.2,
             "#de77ae"
            ],
            [
             0.3,
             "#f1b6da"
            ],
            [
             0.4,
             "#fde0ef"
            ],
            [
             0.5,
             "#f7f7f7"
            ],
            [
             0.6,
             "#e6f5d0"
            ],
            [
             0.7,
             "#b8e186"
            ],
            [
             0.8,
             "#7fbc41"
            ],
            [
             0.9,
             "#4d9221"
            ],
            [
             1,
             "#276419"
            ]
           ],
           "sequential": [
            [
             0,
             "#0d0887"
            ],
            [
             0.1111111111111111,
             "#46039f"
            ],
            [
             0.2222222222222222,
             "#7201a8"
            ],
            [
             0.3333333333333333,
             "#9c179e"
            ],
            [
             0.4444444444444444,
             "#bd3786"
            ],
            [
             0.5555555555555556,
             "#d8576b"
            ],
            [
             0.6666666666666666,
             "#ed7953"
            ],
            [
             0.7777777777777778,
             "#fb9f3a"
            ],
            [
             0.8888888888888888,
             "#fdca26"
            ],
            [
             1,
             "#f0f921"
            ]
           ],
           "sequentialminus": [
            [
             0,
             "#0d0887"
            ],
            [
             0.1111111111111111,
             "#46039f"
            ],
            [
             0.2222222222222222,
             "#7201a8"
            ],
            [
             0.3333333333333333,
             "#9c179e"
            ],
            [
             0.4444444444444444,
             "#bd3786"
            ],
            [
             0.5555555555555556,
             "#d8576b"
            ],
            [
             0.6666666666666666,
             "#ed7953"
            ],
            [
             0.7777777777777778,
             "#fb9f3a"
            ],
            [
             0.8888888888888888,
             "#fdca26"
            ],
            [
             1,
             "#f0f921"
            ]
           ]
          },
          "colorway": [
           "#636efa",
           "#EF553B",
           "#00cc96",
           "#ab63fa",
           "#FFA15A",
           "#19d3f3",
           "#FF6692",
           "#B6E880",
           "#FF97FF",
           "#FECB52"
          ],
          "font": {
           "color": "#2a3f5f"
          },
          "geo": {
           "bgcolor": "white",
           "lakecolor": "white",
           "landcolor": "#E5ECF6",
           "showlakes": true,
           "showland": true,
           "subunitcolor": "white"
          },
          "hoverlabel": {
           "align": "left"
          },
          "hovermode": "closest",
          "mapbox": {
           "style": "light"
          },
          "paper_bgcolor": "white",
          "plot_bgcolor": "#E5ECF6",
          "polar": {
           "angularaxis": {
            "gridcolor": "white",
            "linecolor": "white",
            "ticks": ""
           },
           "bgcolor": "#E5ECF6",
           "radialaxis": {
            "gridcolor": "white",
            "linecolor": "white",
            "ticks": ""
           }
          },
          "scene": {
           "xaxis": {
            "backgroundcolor": "#E5ECF6",
            "gridcolor": "white",
            "gridwidth": 2,
            "linecolor": "white",
            "showbackground": true,
            "ticks": "",
            "zerolinecolor": "white"
           },
           "yaxis": {
            "backgroundcolor": "#E5ECF6",
            "gridcolor": "white",
            "gridwidth": 2,
            "linecolor": "white",
            "showbackground": true,
            "ticks": "",
            "zerolinecolor": "white"
           },
           "zaxis": {
            "backgroundcolor": "#E5ECF6",
            "gridcolor": "white",
            "gridwidth": 2,
            "linecolor": "white",
            "showbackground": true,
            "ticks": "",
            "zerolinecolor": "white"
           }
          },
          "shapedefaults": {
           "line": {
            "color": "#2a3f5f"
           }
          },
          "ternary": {
           "aaxis": {
            "gridcolor": "white",
            "linecolor": "white",
            "ticks": ""
           },
           "baxis": {
            "gridcolor": "white",
            "linecolor": "white",
            "ticks": ""
           },
           "bgcolor": "#E5ECF6",
           "caxis": {
            "gridcolor": "white",
            "linecolor": "white",
            "ticks": ""
           }
          },
          "title": {
           "x": 0.05
          },
          "xaxis": {
           "automargin": true,
           "gridcolor": "white",
           "linecolor": "white",
           "ticks": "",
           "title": {
            "standoff": 15
           },
           "zerolinecolor": "white",
           "zerolinewidth": 2
          },
          "yaxis": {
           "automargin": true,
           "gridcolor": "white",
           "linecolor": "white",
           "ticks": "",
           "title": {
            "standoff": 15
           },
           "zerolinecolor": "white",
           "zerolinewidth": 2
          }
         }
        },
        "title": {
         "text": "accuracy and sum of predicates on synthetic linear complexity suite"
        },
        "width": 1000,
        "xaxis": {
         "anchor": "y",
         "domain": [
          0,
          1
         ],
         "matches": "x2",
         "showticklabels": false
        },
        "xaxis2": {
         "anchor": "y2",
         "domain": [
          0,
          1
         ],
         "title": {
          "text": "number of features used in sum to create label"
         }
        },
        "yaxis": {
         "anchor": "x",
         "domain": [
          0.51,
          1
         ],
         "title": {
          "text": "sum of predicates"
         },
         "type": "log"
        },
        "yaxis2": {
         "anchor": "x2",
         "domain": [
          0,
          0.49
         ],
         "title": {
          "text": "accuracy"
         }
        }
       }
      }
     },
     "metadata": {},
     "output_type": "display_data"
    }
   ],
   "source": [
    "def extract(name):\n",
    "    return int(name.split('_')[2])+1\n",
    "\n",
    "synth_linear_suite_df['label_complexity'] = synth_linear_suite_df['data_set'].map(extract)\n",
    "synth_linear_suite_df = synth_linear_suite_df.sort_values('label_complexity', ignore_index=True)\n",
    "\n",
    "dual_chart(pipelines=['LENC-CART:*'] + DEFAULT_RI_PIPELINES,\n",
    "           performance_metric='acc',\n",
    "           complexity_metric='sum_preds',\n",
    "           df=synth_linear_suite_df,\n",
    "           df_long_name='synthetic linear complexity suite',\n",
    "           x_sel='label_complexity',\n",
    "           x_title='number of features used in sum to create label',\n",
    "           x_log=False)\n",
    "\n",
    "# single_chart(pipelines=['LENC-XGB', 'LENC-CART:*'] + DEFAULT_RI_PIPELINES,\n",
    "#              metric='acc',\n",
    "#              df=synth_linear_suite_df,\n",
    "#              df_long_name='synthetic linear complexity suite',\n",
    "#              x_sel='label_complexity',\n",
    "#              x_title='number of features used in sum to create label',\n",
    "#              x_log=False)\n"
   ]
  },
  {
   "attachments": {},
   "cell_type": "markdown",
   "metadata": {},
   "source": [
    "### Synthetic Conjunctive Complexity Suite"
   ]
  },
  {
   "cell_type": "code",
   "execution_count": 1070,
   "metadata": {},
   "outputs": [
    {
     "data": {
      "text/html": [
       "<div>\n",
       "<style scoped>\n",
       "    .dataframe tbody tr th:only-of-type {\n",
       "        vertical-align: middle;\n",
       "    }\n",
       "\n",
       "    .dataframe tbody tr th {\n",
       "        vertical-align: top;\n",
       "    }\n",
       "\n",
       "    .dataframe thead th {\n",
       "        text-align: right;\n",
       "    }\n",
       "</style>\n",
       "<table border=\"1\" class=\"dataframe\">\n",
       "  <thead>\n",
       "    <tr style=\"text-align: right;\">\n",
       "      <th></th>\n",
       "      <th>data_set</th>\n",
       "      <th>nof_rows</th>\n",
       "      <th>nof_col</th>\n",
       "      <th>nof_num_features</th>\n",
       "      <th>nof_cat_features</th>\n",
       "      <th>nof_pos</th>\n",
       "      <th>pos_ratio</th>\n",
       "      <th>use_case</th>\n",
       "      <th>origin</th>\n",
       "      <th>LENC_nof_bin_cols</th>\n",
       "      <th>...</th>\n",
       "      <th>maxRI_recall</th>\n",
       "      <th>maxRI5_recall</th>\n",
       "      <th>maxRI10_recall</th>\n",
       "      <th>maxRI25_recall</th>\n",
       "      <th>maxRI50_recall</th>\n",
       "      <th>maxRI_precision</th>\n",
       "      <th>maxRI5_precision</th>\n",
       "      <th>maxRI10_precision</th>\n",
       "      <th>maxRI25_precision</th>\n",
       "      <th>maxRI50_precision</th>\n",
       "    </tr>\n",
       "  </thead>\n",
       "  <tbody>\n",
       "  </tbody>\n",
       "</table>\n",
       "<p>0 rows × 267 columns</p>\n",
       "</div>"
      ],
      "text/plain": [
       "Empty DataFrame\n",
       "Columns: [data_set, nof_rows, nof_col, nof_num_features, nof_cat_features, nof_pos, pos_ratio, use_case, origin, LENC_nof_bin_cols, LENC-XGB_runtime, LENC-XGB_acc, LENC-XGB_adj_bal_acc, LENC-XGB_recall, LENC-XGB_precision, LENC-XGB_f2, LENC-XGB_f, LENC-CART:4_runtime, LENC-CART:4_acc, LENC-CART:4_adj_bal_acc, LENC-CART:4_recall, LENC-CART:4_precision, LENC-CART:4_f2, LENC-CART:4_f, LENC-CART:4_nof_rules, LENC-CART:4_sum_preds, LENC-CART:4_max_preds, LENC-CART:4_avg_preds, LENC-CART:6_runtime, LENC-CART:6_acc, LENC-CART:6_adj_bal_acc, LENC-CART:6_recall, LENC-CART:6_precision, LENC-CART:6_f2, LENC-CART:6_f, LENC-CART:6_nof_rules, LENC-CART:6_sum_preds, LENC-CART:6_max_preds, LENC-CART:6_avg_preds, LENC-CART:*_runtime, LENC-CART:*_acc, LENC-CART:*_adj_bal_acc, LENC-CART:*_recall, LENC-CART:*_precision, LENC-CART:*_f2, LENC-CART:*_f, LENC-CART:*_nof_rules, LENC-CART:*_sum_preds, LENC-CART:*_max_preds, LENC-CART:*_avg_preds, TREES_nof_bin_cols, TREES-BRCG_runtime, TREES-BRCG_acc, TREES-BRCG_adj_bal_acc, TREES-BRCG_recall, TREES-BRCG_precision, TREES-BRCG_f2, TREES-BRCG_f, TREES-BRCG_nof_rules, TREES-BRCG_sum_preds, TREES-BRCG_max_preds, TREES-BRCG_avg_preds, NATIVE_nof_bin_cols, NATIVE-RIPPER_runtime, NATIVE-RIPPER_acc, NATIVE-RIPPER_adj_bal_acc, NATIVE-RIPPER_recall, NATIVE-RIPPER_precision, NATIVE-RIPPER_f2, NATIVE-RIPPER_f, NATIVE-RIPPER_nof_rules, NATIVE-RIPPER_sum_preds, NATIVE-RIPPER_max_preds, NATIVE-RIPPER_avg_preds, NATIVE-RIPPER2_runtime, NATIVE-RIPPER2_acc, NATIVE-RIPPER2_adj_bal_acc, NATIVE-RIPPER2_recall, NATIVE-RIPPER2_precision, NATIVE-RIPPER2_f2, NATIVE-RIPPER2_f, NATIVE-RIPPER2_nof_rules, NATIVE-RIPPER2_sum_preds, NATIVE-RIPPER2_max_preds, NATIVE-RIPPER2_avg_preds, NATIVE-RIPPER3_runtime, NATIVE-RIPPER3_acc, NATIVE-RIPPER3_adj_bal_acc, NATIVE-RIPPER3_recall, NATIVE-RIPPER3_precision, NATIVE-RIPPER3_f2, NATIVE-RIPPER3_f, NATIVE-RIPPER3_nof_rules, NATIVE-RIPPER3_sum_preds, NATIVE-RIPPER3_max_preds, NATIVE-RIPPER3_avg_preds, TREES-CORELS_runtime, TREES-CORELS_acc, TREES-CORELS_adj_bal_acc, TREES-CORELS_recall, ...]\n",
       "Index: []\n",
       "\n",
       "[0 rows x 267 columns]"
      ]
     },
     "execution_count": 1070,
     "metadata": {},
     "output_type": "execute_result"
    }
   ],
   "source": [
    "synth_conj_suite = [name for name in full_df['data_set'] if name.startswith('synth_conj_')]\n",
    "synth_conj_suite_df = full_df[full_df['data_set'].isin(synth_conj_suite)].copy()\n",
    "synth_conj_suite_df"
   ]
  },
  {
   "cell_type": "code",
   "execution_count": 1071,
   "metadata": {},
   "outputs": [
    {
     "data": {
      "application/vnd.plotly.v1+json": {
       "config": {
        "plotlyServerURL": "https://plot.ly"
       },
       "data": [
        {
         "line": {
          "color": "gray",
          "dash": "solid",
          "width": 2
         },
         "marker": {
          "symbol": "circle"
         },
         "mode": "markers+lines",
         "name": "LENC-XGB",
         "showlegend": true,
         "type": "scatter",
         "x": [],
         "xaxis": "x2",
         "y": [],
         "yaxis": "y2"
        },
        {
         "line": {
          "color": "lightskyblue",
          "dash": "solid",
          "width": 2
         },
         "marker": {
          "symbol": "arrow-left"
         },
         "mode": "markers+lines",
         "name": "LENC-CART:*",
         "showlegend": true,
         "type": "scatter",
         "x": [],
         "xaxis": "x2",
         "y": [],
         "yaxis": "y2"
        },
        {
         "line": {
          "color": "aquamarine",
          "dash": "dash",
          "width": 2
         },
         "marker": {
          "symbol": "cross"
         },
         "mode": "markers+lines",
         "name": "TREES2-BRCG",
         "showlegend": true,
         "type": "scatter",
         "x": [],
         "xaxis": "x2",
         "y": [],
         "yaxis": "y2"
        },
        {
         "line": {
          "color": "crimson",
          "dash": "longdash",
          "width": 2
         },
         "marker": {
          "symbol": "diamond"
         },
         "mode": "markers+lines",
         "name": "NATIVE-RIPPER",
         "showlegend": true,
         "type": "scatter",
         "x": [],
         "xaxis": "x2",
         "y": [],
         "yaxis": "y2"
        },
        {
         "line": {
          "color": "mediumblue",
          "dash": "dot",
          "width": 2
         },
         "marker": {
          "symbol": "arrow-right"
         },
         "mode": "markers+lines",
         "name": "LENC-CART:4",
         "showlegend": true,
         "type": "scatter",
         "x": [],
         "xaxis": "x2",
         "y": [],
         "yaxis": "y2"
        },
        {
         "line": {
          "color": "lime",
          "dash": "dash",
          "width": 2
         },
         "marker": {
          "symbol": "cross"
         },
         "mode": "markers+lines",
         "name": "TREES-BRCG",
         "showlegend": true,
         "type": "scatter",
         "x": [],
         "xaxis": "x2",
         "y": [],
         "yaxis": "y2"
        },
        {
         "line": {
          "color": "gold",
          "dash": "dashdot",
          "width": 2
         },
         "marker": {
          "symbol": "star"
         },
         "mode": "markers+lines",
         "name": "TREES-CORELS",
         "showlegend": true,
         "type": "scatter",
         "x": [],
         "xaxis": "x2",
         "y": [],
         "yaxis": "y2"
        },
        {
         "line": {
          "color": "silver",
          "dash": "dot",
          "width": 2
         },
         "marker": {
          "symbol": "square"
         },
         "mode": "markers+lines",
         "name": "NATIVE-R2N",
         "showlegend": true,
         "type": "scatter",
         "x": [],
         "xaxis": "x2",
         "y": [],
         "yaxis": "y2"
        },
        {
         "line": {
          "color": "lightskyblue",
          "dash": "solid",
          "width": 2
         },
         "marker": {
          "symbol": "arrow-left"
         },
         "mode": "markers+lines",
         "name": "LENC-CART:*",
         "showlegend": false,
         "type": "scatter",
         "x": [],
         "xaxis": "x",
         "y": [],
         "yaxis": "y"
        },
        {
         "line": {
          "color": "aquamarine",
          "dash": "dash",
          "width": 2
         },
         "marker": {
          "symbol": "cross"
         },
         "mode": "markers+lines",
         "name": "TREES2-BRCG",
         "showlegend": false,
         "type": "scatter",
         "x": [],
         "xaxis": "x",
         "y": [],
         "yaxis": "y"
        },
        {
         "line": {
          "color": "crimson",
          "dash": "longdash",
          "width": 2
         },
         "marker": {
          "symbol": "diamond"
         },
         "mode": "markers+lines",
         "name": "NATIVE-RIPPER",
         "showlegend": false,
         "type": "scatter",
         "x": [],
         "xaxis": "x",
         "y": [],
         "yaxis": "y"
        },
        {
         "line": {
          "color": "mediumblue",
          "dash": "dot",
          "width": 2
         },
         "marker": {
          "symbol": "arrow-right"
         },
         "mode": "markers+lines",
         "name": "LENC-CART:4",
         "showlegend": false,
         "type": "scatter",
         "x": [],
         "xaxis": "x",
         "y": [],
         "yaxis": "y"
        },
        {
         "line": {
          "color": "lime",
          "dash": "dash",
          "width": 2
         },
         "marker": {
          "symbol": "cross"
         },
         "mode": "markers+lines",
         "name": "TREES-BRCG",
         "showlegend": false,
         "type": "scatter",
         "x": [],
         "xaxis": "x",
         "y": [],
         "yaxis": "y"
        },
        {
         "line": {
          "color": "gold",
          "dash": "dashdot",
          "width": 2
         },
         "marker": {
          "symbol": "star"
         },
         "mode": "markers+lines",
         "name": "TREES-CORELS",
         "showlegend": false,
         "type": "scatter",
         "x": [],
         "xaxis": "x",
         "y": [],
         "yaxis": "y"
        },
        {
         "line": {
          "color": "silver",
          "dash": "dot",
          "width": 2
         },
         "marker": {
          "symbol": "square"
         },
         "mode": "markers+lines",
         "name": "NATIVE-R2N",
         "showlegend": false,
         "type": "scatter",
         "x": [],
         "xaxis": "x",
         "y": [],
         "yaxis": "y"
        }
       ],
       "layout": {
        "height": 500,
        "plot_bgcolor": "whitesmoke",
        "template": {
         "data": {
          "bar": [
           {
            "error_x": {
             "color": "#2a3f5f"
            },
            "error_y": {
             "color": "#2a3f5f"
            },
            "marker": {
             "line": {
              "color": "#E5ECF6",
              "width": 0.5
             },
             "pattern": {
              "fillmode": "overlay",
              "size": 10,
              "solidity": 0.2
             }
            },
            "type": "bar"
           }
          ],
          "barpolar": [
           {
            "marker": {
             "line": {
              "color": "#E5ECF6",
              "width": 0.5
             },
             "pattern": {
              "fillmode": "overlay",
              "size": 10,
              "solidity": 0.2
             }
            },
            "type": "barpolar"
           }
          ],
          "carpet": [
           {
            "aaxis": {
             "endlinecolor": "#2a3f5f",
             "gridcolor": "white",
             "linecolor": "white",
             "minorgridcolor": "white",
             "startlinecolor": "#2a3f5f"
            },
            "baxis": {
             "endlinecolor": "#2a3f5f",
             "gridcolor": "white",
             "linecolor": "white",
             "minorgridcolor": "white",
             "startlinecolor": "#2a3f5f"
            },
            "type": "carpet"
           }
          ],
          "choropleth": [
           {
            "colorbar": {
             "outlinewidth": 0,
             "ticks": ""
            },
            "type": "choropleth"
           }
          ],
          "contour": [
           {
            "colorbar": {
             "outlinewidth": 0,
             "ticks": ""
            },
            "colorscale": [
             [
              0,
              "#0d0887"
             ],
             [
              0.1111111111111111,
              "#46039f"
             ],
             [
              0.2222222222222222,
              "#7201a8"
             ],
             [
              0.3333333333333333,
              "#9c179e"
             ],
             [
              0.4444444444444444,
              "#bd3786"
             ],
             [
              0.5555555555555556,
              "#d8576b"
             ],
             [
              0.6666666666666666,
              "#ed7953"
             ],
             [
              0.7777777777777778,
              "#fb9f3a"
             ],
             [
              0.8888888888888888,
              "#fdca26"
             ],
             [
              1,
              "#f0f921"
             ]
            ],
            "type": "contour"
           }
          ],
          "contourcarpet": [
           {
            "colorbar": {
             "outlinewidth": 0,
             "ticks": ""
            },
            "type": "contourcarpet"
           }
          ],
          "heatmap": [
           {
            "colorbar": {
             "outlinewidth": 0,
             "ticks": ""
            },
            "colorscale": [
             [
              0,
              "#0d0887"
             ],
             [
              0.1111111111111111,
              "#46039f"
             ],
             [
              0.2222222222222222,
              "#7201a8"
             ],
             [
              0.3333333333333333,
              "#9c179e"
             ],
             [
              0.4444444444444444,
              "#bd3786"
             ],
             [
              0.5555555555555556,
              "#d8576b"
             ],
             [
              0.6666666666666666,
              "#ed7953"
             ],
             [
              0.7777777777777778,
              "#fb9f3a"
             ],
             [
              0.8888888888888888,
              "#fdca26"
             ],
             [
              1,
              "#f0f921"
             ]
            ],
            "type": "heatmap"
           }
          ],
          "heatmapgl": [
           {
            "colorbar": {
             "outlinewidth": 0,
             "ticks": ""
            },
            "colorscale": [
             [
              0,
              "#0d0887"
             ],
             [
              0.1111111111111111,
              "#46039f"
             ],
             [
              0.2222222222222222,
              "#7201a8"
             ],
             [
              0.3333333333333333,
              "#9c179e"
             ],
             [
              0.4444444444444444,
              "#bd3786"
             ],
             [
              0.5555555555555556,
              "#d8576b"
             ],
             [
              0.6666666666666666,
              "#ed7953"
             ],
             [
              0.7777777777777778,
              "#fb9f3a"
             ],
             [
              0.8888888888888888,
              "#fdca26"
             ],
             [
              1,
              "#f0f921"
             ]
            ],
            "type": "heatmapgl"
           }
          ],
          "histogram": [
           {
            "marker": {
             "pattern": {
              "fillmode": "overlay",
              "size": 10,
              "solidity": 0.2
             }
            },
            "type": "histogram"
           }
          ],
          "histogram2d": [
           {
            "colorbar": {
             "outlinewidth": 0,
             "ticks": ""
            },
            "colorscale": [
             [
              0,
              "#0d0887"
             ],
             [
              0.1111111111111111,
              "#46039f"
             ],
             [
              0.2222222222222222,
              "#7201a8"
             ],
             [
              0.3333333333333333,
              "#9c179e"
             ],
             [
              0.4444444444444444,
              "#bd3786"
             ],
             [
              0.5555555555555556,
              "#d8576b"
             ],
             [
              0.6666666666666666,
              "#ed7953"
             ],
             [
              0.7777777777777778,
              "#fb9f3a"
             ],
             [
              0.8888888888888888,
              "#fdca26"
             ],
             [
              1,
              "#f0f921"
             ]
            ],
            "type": "histogram2d"
           }
          ],
          "histogram2dcontour": [
           {
            "colorbar": {
             "outlinewidth": 0,
             "ticks": ""
            },
            "colorscale": [
             [
              0,
              "#0d0887"
             ],
             [
              0.1111111111111111,
              "#46039f"
             ],
             [
              0.2222222222222222,
              "#7201a8"
             ],
             [
              0.3333333333333333,
              "#9c179e"
             ],
             [
              0.4444444444444444,
              "#bd3786"
             ],
             [
              0.5555555555555556,
              "#d8576b"
             ],
             [
              0.6666666666666666,
              "#ed7953"
             ],
             [
              0.7777777777777778,
              "#fb9f3a"
             ],
             [
              0.8888888888888888,
              "#fdca26"
             ],
             [
              1,
              "#f0f921"
             ]
            ],
            "type": "histogram2dcontour"
           }
          ],
          "mesh3d": [
           {
            "colorbar": {
             "outlinewidth": 0,
             "ticks": ""
            },
            "type": "mesh3d"
           }
          ],
          "parcoords": [
           {
            "line": {
             "colorbar": {
              "outlinewidth": 0,
              "ticks": ""
             }
            },
            "type": "parcoords"
           }
          ],
          "pie": [
           {
            "automargin": true,
            "type": "pie"
           }
          ],
          "scatter": [
           {
            "fillpattern": {
             "fillmode": "overlay",
             "size": 10,
             "solidity": 0.2
            },
            "type": "scatter"
           }
          ],
          "scatter3d": [
           {
            "line": {
             "colorbar": {
              "outlinewidth": 0,
              "ticks": ""
             }
            },
            "marker": {
             "colorbar": {
              "outlinewidth": 0,
              "ticks": ""
             }
            },
            "type": "scatter3d"
           }
          ],
          "scattercarpet": [
           {
            "marker": {
             "colorbar": {
              "outlinewidth": 0,
              "ticks": ""
             }
            },
            "type": "scattercarpet"
           }
          ],
          "scattergeo": [
           {
            "marker": {
             "colorbar": {
              "outlinewidth": 0,
              "ticks": ""
             }
            },
            "type": "scattergeo"
           }
          ],
          "scattergl": [
           {
            "marker": {
             "colorbar": {
              "outlinewidth": 0,
              "ticks": ""
             }
            },
            "type": "scattergl"
           }
          ],
          "scattermapbox": [
           {
            "marker": {
             "colorbar": {
              "outlinewidth": 0,
              "ticks": ""
             }
            },
            "type": "scattermapbox"
           }
          ],
          "scatterpolar": [
           {
            "marker": {
             "colorbar": {
              "outlinewidth": 0,
              "ticks": ""
             }
            },
            "type": "scatterpolar"
           }
          ],
          "scatterpolargl": [
           {
            "marker": {
             "colorbar": {
              "outlinewidth": 0,
              "ticks": ""
             }
            },
            "type": "scatterpolargl"
           }
          ],
          "scatterternary": [
           {
            "marker": {
             "colorbar": {
              "outlinewidth": 0,
              "ticks": ""
             }
            },
            "type": "scatterternary"
           }
          ],
          "surface": [
           {
            "colorbar": {
             "outlinewidth": 0,
             "ticks": ""
            },
            "colorscale": [
             [
              0,
              "#0d0887"
             ],
             [
              0.1111111111111111,
              "#46039f"
             ],
             [
              0.2222222222222222,
              "#7201a8"
             ],
             [
              0.3333333333333333,
              "#9c179e"
             ],
             [
              0.4444444444444444,
              "#bd3786"
             ],
             [
              0.5555555555555556,
              "#d8576b"
             ],
             [
              0.6666666666666666,
              "#ed7953"
             ],
             [
              0.7777777777777778,
              "#fb9f3a"
             ],
             [
              0.8888888888888888,
              "#fdca26"
             ],
             [
              1,
              "#f0f921"
             ]
            ],
            "type": "surface"
           }
          ],
          "table": [
           {
            "cells": {
             "fill": {
              "color": "#EBF0F8"
             },
             "line": {
              "color": "white"
             }
            },
            "header": {
             "fill": {
              "color": "#C8D4E3"
             },
             "line": {
              "color": "white"
             }
            },
            "type": "table"
           }
          ]
         },
         "layout": {
          "annotationdefaults": {
           "arrowcolor": "#2a3f5f",
           "arrowhead": 0,
           "arrowwidth": 1
          },
          "autotypenumbers": "strict",
          "coloraxis": {
           "colorbar": {
            "outlinewidth": 0,
            "ticks": ""
           }
          },
          "colorscale": {
           "diverging": [
            [
             0,
             "#8e0152"
            ],
            [
             0.1,
             "#c51b7d"
            ],
            [
             0.2,
             "#de77ae"
            ],
            [
             0.3,
             "#f1b6da"
            ],
            [
             0.4,
             "#fde0ef"
            ],
            [
             0.5,
             "#f7f7f7"
            ],
            [
             0.6,
             "#e6f5d0"
            ],
            [
             0.7,
             "#b8e186"
            ],
            [
             0.8,
             "#7fbc41"
            ],
            [
             0.9,
             "#4d9221"
            ],
            [
             1,
             "#276419"
            ]
           ],
           "sequential": [
            [
             0,
             "#0d0887"
            ],
            [
             0.1111111111111111,
             "#46039f"
            ],
            [
             0.2222222222222222,
             "#7201a8"
            ],
            [
             0.3333333333333333,
             "#9c179e"
            ],
            [
             0.4444444444444444,
             "#bd3786"
            ],
            [
             0.5555555555555556,
             "#d8576b"
            ],
            [
             0.6666666666666666,
             "#ed7953"
            ],
            [
             0.7777777777777778,
             "#fb9f3a"
            ],
            [
             0.8888888888888888,
             "#fdca26"
            ],
            [
             1,
             "#f0f921"
            ]
           ],
           "sequentialminus": [
            [
             0,
             "#0d0887"
            ],
            [
             0.1111111111111111,
             "#46039f"
            ],
            [
             0.2222222222222222,
             "#7201a8"
            ],
            [
             0.3333333333333333,
             "#9c179e"
            ],
            [
             0.4444444444444444,
             "#bd3786"
            ],
            [
             0.5555555555555556,
             "#d8576b"
            ],
            [
             0.6666666666666666,
             "#ed7953"
            ],
            [
             0.7777777777777778,
             "#fb9f3a"
            ],
            [
             0.8888888888888888,
             "#fdca26"
            ],
            [
             1,
             "#f0f921"
            ]
           ]
          },
          "colorway": [
           "#636efa",
           "#EF553B",
           "#00cc96",
           "#ab63fa",
           "#FFA15A",
           "#19d3f3",
           "#FF6692",
           "#B6E880",
           "#FF97FF",
           "#FECB52"
          ],
          "font": {
           "color": "#2a3f5f"
          },
          "geo": {
           "bgcolor": "white",
           "lakecolor": "white",
           "landcolor": "#E5ECF6",
           "showlakes": true,
           "showland": true,
           "subunitcolor": "white"
          },
          "hoverlabel": {
           "align": "left"
          },
          "hovermode": "closest",
          "mapbox": {
           "style": "light"
          },
          "paper_bgcolor": "white",
          "plot_bgcolor": "#E5ECF6",
          "polar": {
           "angularaxis": {
            "gridcolor": "white",
            "linecolor": "white",
            "ticks": ""
           },
           "bgcolor": "#E5ECF6",
           "radialaxis": {
            "gridcolor": "white",
            "linecolor": "white",
            "ticks": ""
           }
          },
          "scene": {
           "xaxis": {
            "backgroundcolor": "#E5ECF6",
            "gridcolor": "white",
            "gridwidth": 2,
            "linecolor": "white",
            "showbackground": true,
            "ticks": "",
            "zerolinecolor": "white"
           },
           "yaxis": {
            "backgroundcolor": "#E5ECF6",
            "gridcolor": "white",
            "gridwidth": 2,
            "linecolor": "white",
            "showbackground": true,
            "ticks": "",
            "zerolinecolor": "white"
           },
           "zaxis": {
            "backgroundcolor": "#E5ECF6",
            "gridcolor": "white",
            "gridwidth": 2,
            "linecolor": "white",
            "showbackground": true,
            "ticks": "",
            "zerolinecolor": "white"
           }
          },
          "shapedefaults": {
           "line": {
            "color": "#2a3f5f"
           }
          },
          "ternary": {
           "aaxis": {
            "gridcolor": "white",
            "linecolor": "white",
            "ticks": ""
           },
           "baxis": {
            "gridcolor": "white",
            "linecolor": "white",
            "ticks": ""
           },
           "bgcolor": "#E5ECF6",
           "caxis": {
            "gridcolor": "white",
            "linecolor": "white",
            "ticks": ""
           }
          },
          "title": {
           "x": 0.05
          },
          "xaxis": {
           "automargin": true,
           "gridcolor": "white",
           "linecolor": "white",
           "ticks": "",
           "title": {
            "standoff": 15
           },
           "zerolinecolor": "white",
           "zerolinewidth": 2
          },
          "yaxis": {
           "automargin": true,
           "gridcolor": "white",
           "linecolor": "white",
           "ticks": "",
           "title": {
            "standoff": 15
           },
           "zerolinecolor": "white",
           "zerolinewidth": 2
          }
         }
        },
        "title": {
         "text": "accuracy and maximum of predicates on synthetic conjunctive complexity suite"
        },
        "width": 1000,
        "xaxis": {
         "anchor": "y",
         "domain": [
          0,
          1
         ],
         "matches": "x2",
         "showticklabels": false,
         "type": "log"
        },
        "xaxis2": {
         "anchor": "y2",
         "domain": [
          0,
          1
         ],
         "title": {
          "text": "number of conjuncts used to create label"
         },
         "type": "log"
        },
        "yaxis": {
         "anchor": "x",
         "domain": [
          0.51,
          1
         ],
         "title": {
          "text": "maximum of predicates"
         },
         "type": "log"
        },
        "yaxis2": {
         "anchor": "x2",
         "domain": [
          0,
          0.49
         ],
         "title": {
          "text": "accuracy"
         }
        }
       }
      }
     },
     "metadata": {},
     "output_type": "display_data"
    }
   ],
   "source": [
    "def extract(name):\n",
    "    return int(name.split('_')[2])+1\n",
    "\n",
    "synth_conj_suite_df['label_complexity'] = synth_conj_suite_df['data_set'].map(extract)\n",
    "synth_conj_suite_df = synth_conj_suite_df.sort_values('label_complexity', ignore_index=True)\n",
    "\n",
    "dual_chart(pipelines=['LENC-CART:*', 'TREES2-BRCG'] + DEFAULT_RI_PIPELINES,\n",
    "           performance_metric='acc',\n",
    "           complexity_metric='max_preds',\n",
    "           df=synth_conj_suite_df,\n",
    "           df_long_name='synthetic conjunctive complexity suite',\n",
    "           x_sel='label_complexity',\n",
    "           x_title='number of conjuncts used to create label',\n",
    "           x_log=True)\n",
    "\n",
    "# single_chart(pipelines=['LENC-XGB', 'LENC-CART:*', 'TREES2-BRCG'] + DEFAULT_RI_PIPELINES,\n",
    "#              metric='acc',\n",
    "#              df=synth_conj_suite_df,\n",
    "#              df_long_name='synthetic conjunctive complexity suite',\n",
    "#              x_sel='label_complexity',\n",
    "#              x_title='number of conjuncts used to create label',\n",
    "#              x_log=True)\n"
   ]
  },
  {
   "attachments": {},
   "cell_type": "markdown",
   "metadata": {},
   "source": [
    "### Synthetic Size Variation Suite"
   ]
  },
  {
   "cell_type": "code",
   "execution_count": 1072,
   "metadata": {},
   "outputs": [
    {
     "data": {
      "text/html": [
       "<div>\n",
       "<style scoped>\n",
       "    .dataframe tbody tr th:only-of-type {\n",
       "        vertical-align: middle;\n",
       "    }\n",
       "\n",
       "    .dataframe tbody tr th {\n",
       "        vertical-align: top;\n",
       "    }\n",
       "\n",
       "    .dataframe thead th {\n",
       "        text-align: right;\n",
       "    }\n",
       "</style>\n",
       "<table border=\"1\" class=\"dataframe\">\n",
       "  <thead>\n",
       "    <tr style=\"text-align: right;\">\n",
       "      <th></th>\n",
       "      <th>data_set</th>\n",
       "      <th>nof_rows</th>\n",
       "      <th>nof_col</th>\n",
       "      <th>nof_num_features</th>\n",
       "      <th>nof_cat_features</th>\n",
       "      <th>nof_pos</th>\n",
       "      <th>pos_ratio</th>\n",
       "      <th>use_case</th>\n",
       "      <th>origin</th>\n",
       "      <th>LENC_nof_bin_cols</th>\n",
       "      <th>...</th>\n",
       "      <th>maxRI_recall</th>\n",
       "      <th>maxRI5_recall</th>\n",
       "      <th>maxRI10_recall</th>\n",
       "      <th>maxRI25_recall</th>\n",
       "      <th>maxRI50_recall</th>\n",
       "      <th>maxRI_precision</th>\n",
       "      <th>maxRI5_precision</th>\n",
       "      <th>maxRI10_precision</th>\n",
       "      <th>maxRI25_precision</th>\n",
       "      <th>maxRI50_precision</th>\n",
       "    </tr>\n",
       "  </thead>\n",
       "  <tbody>\n",
       "  </tbody>\n",
       "</table>\n",
       "<p>0 rows × 267 columns</p>\n",
       "</div>"
      ],
      "text/plain": [
       "Empty DataFrame\n",
       "Columns: [data_set, nof_rows, nof_col, nof_num_features, nof_cat_features, nof_pos, pos_ratio, use_case, origin, LENC_nof_bin_cols, LENC-XGB_runtime, LENC-XGB_acc, LENC-XGB_adj_bal_acc, LENC-XGB_recall, LENC-XGB_precision, LENC-XGB_f2, LENC-XGB_f, LENC-CART:4_runtime, LENC-CART:4_acc, LENC-CART:4_adj_bal_acc, LENC-CART:4_recall, LENC-CART:4_precision, LENC-CART:4_f2, LENC-CART:4_f, LENC-CART:4_nof_rules, LENC-CART:4_sum_preds, LENC-CART:4_max_preds, LENC-CART:4_avg_preds, LENC-CART:6_runtime, LENC-CART:6_acc, LENC-CART:6_adj_bal_acc, LENC-CART:6_recall, LENC-CART:6_precision, LENC-CART:6_f2, LENC-CART:6_f, LENC-CART:6_nof_rules, LENC-CART:6_sum_preds, LENC-CART:6_max_preds, LENC-CART:6_avg_preds, LENC-CART:*_runtime, LENC-CART:*_acc, LENC-CART:*_adj_bal_acc, LENC-CART:*_recall, LENC-CART:*_precision, LENC-CART:*_f2, LENC-CART:*_f, LENC-CART:*_nof_rules, LENC-CART:*_sum_preds, LENC-CART:*_max_preds, LENC-CART:*_avg_preds, TREES_nof_bin_cols, TREES-BRCG_runtime, TREES-BRCG_acc, TREES-BRCG_adj_bal_acc, TREES-BRCG_recall, TREES-BRCG_precision, TREES-BRCG_f2, TREES-BRCG_f, TREES-BRCG_nof_rules, TREES-BRCG_sum_preds, TREES-BRCG_max_preds, TREES-BRCG_avg_preds, NATIVE_nof_bin_cols, NATIVE-RIPPER_runtime, NATIVE-RIPPER_acc, NATIVE-RIPPER_adj_bal_acc, NATIVE-RIPPER_recall, NATIVE-RIPPER_precision, NATIVE-RIPPER_f2, NATIVE-RIPPER_f, NATIVE-RIPPER_nof_rules, NATIVE-RIPPER_sum_preds, NATIVE-RIPPER_max_preds, NATIVE-RIPPER_avg_preds, NATIVE-RIPPER2_runtime, NATIVE-RIPPER2_acc, NATIVE-RIPPER2_adj_bal_acc, NATIVE-RIPPER2_recall, NATIVE-RIPPER2_precision, NATIVE-RIPPER2_f2, NATIVE-RIPPER2_f, NATIVE-RIPPER2_nof_rules, NATIVE-RIPPER2_sum_preds, NATIVE-RIPPER2_max_preds, NATIVE-RIPPER2_avg_preds, NATIVE-RIPPER3_runtime, NATIVE-RIPPER3_acc, NATIVE-RIPPER3_adj_bal_acc, NATIVE-RIPPER3_recall, NATIVE-RIPPER3_precision, NATIVE-RIPPER3_f2, NATIVE-RIPPER3_f, NATIVE-RIPPER3_nof_rules, NATIVE-RIPPER3_sum_preds, NATIVE-RIPPER3_max_preds, NATIVE-RIPPER3_avg_preds, TREES-CORELS_runtime, TREES-CORELS_acc, TREES-CORELS_adj_bal_acc, TREES-CORELS_recall, ...]\n",
       "Index: []\n",
       "\n",
       "[0 rows x 267 columns]"
      ]
     },
     "execution_count": 1072,
     "metadata": {},
     "output_type": "execute_result"
    }
   ],
   "source": [
    "synth_size_suite = [name for name in full_df['data_set'] if name.startswith('synth_size_')]\n",
    "synth_size_suite_df = full_df[full_df['data_set'].isin(synth_size_suite)].copy()\n",
    "synth_size_suite_df"
   ]
  },
  {
   "cell_type": "code",
   "execution_count": 1073,
   "metadata": {},
   "outputs": [
    {
     "data": {
      "application/vnd.plotly.v1+json": {
       "config": {
        "plotlyServerURL": "https://plot.ly"
       },
       "data": [
        {
         "line": {
          "color": "gray",
          "dash": "solid",
          "width": 2
         },
         "marker": {
          "symbol": "circle"
         },
         "mode": "markers+lines",
         "name": "LENC-XGB",
         "showlegend": true,
         "type": "scatter",
         "x": [],
         "xaxis": "x3",
         "y": [],
         "yaxis": "y3"
        },
        {
         "line": {
          "color": "darkkhaki",
          "dash": "solid",
          "width": 2
         },
         "marker": {
          "symbol": "cross"
         },
         "mode": "markers+lines",
         "name": "NATIVE-CONST",
         "showlegend": true,
         "type": "scatter",
         "x": [],
         "xaxis": "x3",
         "y": [],
         "yaxis": "y3"
        },
        {
         "line": {
          "color": "salmon",
          "dash": "longdash",
          "width": 2
         },
         "marker": {
          "symbol": "diamond"
         },
         "mode": "markers+lines",
         "name": "QUANTILE-RIPPER",
         "showlegend": true,
         "type": "scatter",
         "x": [],
         "xaxis": "x3",
         "y": [],
         "yaxis": "y3"
        },
        {
         "line": {
          "color": "orangered",
          "dash": "longdash",
          "width": 2
         },
         "marker": {
          "symbol": "diamond"
         },
         "mode": "markers+lines",
         "name": "TREES-RIPPER",
         "showlegend": true,
         "type": "scatter",
         "x": [],
         "xaxis": "x3",
         "y": [],
         "yaxis": "y3"
        },
        {
         "line": {
          "color": "magenta",
          "dash": "longdash",
          "width": 2
         },
         "marker": {
          "symbol": "diamond"
         },
         "mode": "markers+lines",
         "name": "NATIVE-RIPPER2",
         "showlegend": true,
         "type": "scatter",
         "x": [],
         "xaxis": "x3",
         "y": [],
         "yaxis": "y3"
        },
        {
         "line": {
          "color": "darkorchid",
          "dash": "longdash",
          "width": 2
         },
         "marker": {
          "symbol": "diamond"
         },
         "mode": "markers+lines",
         "name": "NATIVE-RIPPER3",
         "showlegend": true,
         "type": "scatter",
         "x": [],
         "xaxis": "x3",
         "y": [],
         "yaxis": "y3"
        },
        {
         "line": {
          "color": "crimson",
          "dash": "longdash",
          "width": 2
         },
         "marker": {
          "symbol": "diamond"
         },
         "mode": "markers+lines",
         "name": "NATIVE-RIPPER",
         "showlegend": true,
         "type": "scatter",
         "x": [],
         "xaxis": "x3",
         "y": [],
         "yaxis": "y3"
        },
        {
         "line": {
          "color": "plum",
          "dash": "dash",
          "width": 2
         },
         "marker": {
          "symbol": "cross"
         },
         "mode": "markers+lines",
         "name": "QUANTILE-BRCG",
         "showlegend": true,
         "type": "scatter",
         "x": [],
         "xaxis": "x3",
         "y": [],
         "yaxis": "y3"
        },
        {
         "line": {
          "color": "forestgreen",
          "dash": "dash",
          "width": 2
         },
         "marker": {
          "symbol": "cross"
         },
         "mode": "markers+lines",
         "name": "TREES-BRCG2",
         "showlegend": true,
         "type": "scatter",
         "x": [],
         "xaxis": "x3",
         "y": [],
         "yaxis": "y3"
        },
        {
         "line": {
          "color": "maroon",
          "dash": "dash",
          "width": 2
         },
         "marker": {
          "symbol": "cross"
         },
         "mode": "markers+lines",
         "name": "QUANTILE-BRCG2",
         "showlegend": true,
         "type": "scatter",
         "x": [],
         "xaxis": "x3",
         "y": [],
         "yaxis": "y3"
        },
        {
         "line": {
          "color": "yellowgreen",
          "dash": "solid",
          "width": 2
         },
         "marker": {
          "symbol": "cross"
         },
         "mode": "markers+lines",
         "name": "TREES2-BRCG2",
         "showlegend": true,
         "type": "scatter",
         "x": [],
         "xaxis": "x3",
         "y": [],
         "yaxis": "y3"
        },
        {
         "line": {
          "color": "aquamarine",
          "dash": "dash",
          "width": 2
         },
         "marker": {
          "symbol": "cross"
         },
         "mode": "markers+lines",
         "name": "TREES2-BRCG",
         "showlegend": true,
         "type": "scatter",
         "x": [],
         "xaxis": "x3",
         "y": [],
         "yaxis": "y3"
        },
        {
         "line": {
          "color": "lime",
          "dash": "dash",
          "width": 2
         },
         "marker": {
          "symbol": "cross"
         },
         "mode": "markers+lines",
         "name": "TREES-BRCG",
         "showlegend": true,
         "type": "scatter",
         "x": [],
         "xaxis": "x3",
         "y": [],
         "yaxis": "y3"
        },
        {
         "line": {
          "color": "palevioletred",
          "dash": "dashdot",
          "width": 2
         },
         "marker": {
          "symbol": "star"
         },
         "mode": "markers+lines",
         "name": "QUANTILE-CORELS",
         "showlegend": true,
         "type": "scatter",
         "x": [],
         "xaxis": "x3",
         "y": [],
         "yaxis": "y3"
        },
        {
         "line": {
          "color": "darkorange",
          "dash": "dashdot",
          "width": 2
         },
         "marker": {
          "symbol": "star"
         },
         "mode": "markers+lines",
         "name": "TREES-CORELS2",
         "showlegend": true,
         "type": "scatter",
         "x": [],
         "xaxis": "x3",
         "y": [],
         "yaxis": "y3"
        },
        {
         "line": {
          "color": "wheat",
          "dash": "dashdot",
          "width": 2
         },
         "marker": {
          "symbol": "star"
         },
         "mode": "markers+lines",
         "name": "TREES2-CORELS2",
         "showlegend": true,
         "type": "scatter",
         "x": [],
         "xaxis": "x3",
         "y": [],
         "yaxis": "y3"
        },
        {
         "line": {
          "color": "gold",
          "dash": "dashdot",
          "width": 2
         },
         "marker": {
          "symbol": "star"
         },
         "mode": "markers+lines",
         "name": "TREES-CORELS",
         "showlegend": true,
         "type": "scatter",
         "x": [],
         "xaxis": "x3",
         "y": [],
         "yaxis": "y3"
        },
        {
         "line": {
          "color": "lightskyblue",
          "dash": "solid",
          "width": 2
         },
         "marker": {
          "symbol": "arrow-left"
         },
         "mode": "markers+lines",
         "name": "LENC-CART:*",
         "showlegend": true,
         "type": "scatter",
         "x": [],
         "xaxis": "x3",
         "y": [],
         "yaxis": "y3"
        },
        {
         "line": {
          "color": "cornflowerblue",
          "dash": "longdash",
          "width": 2
         },
         "marker": {
          "symbol": "diamond"
         },
         "mode": "markers+lines",
         "name": "LENC-CART:6",
         "showlegend": true,
         "type": "scatter",
         "x": [],
         "xaxis": "x3",
         "y": [],
         "yaxis": "y3"
        },
        {
         "line": {
          "color": "mediumblue",
          "dash": "dot",
          "width": 2
         },
         "marker": {
          "symbol": "arrow-right"
         },
         "mode": "markers+lines",
         "name": "LENC-CART:4",
         "showlegend": true,
         "type": "scatter",
         "x": [],
         "xaxis": "x3",
         "y": [],
         "yaxis": "y3"
        },
        {
         "line": {
          "color": "silver",
          "dash": "dot",
          "width": 2
         },
         "marker": {
          "symbol": "square"
         },
         "mode": "markers+lines",
         "name": "NATIVE-R2N",
         "showlegend": true,
         "type": "scatter",
         "x": [],
         "xaxis": "x3",
         "y": [],
         "yaxis": "y3"
        },
        {
         "line": {
          "color": "salmon",
          "dash": "longdash",
          "width": 2
         },
         "marker": {
          "symbol": "diamond"
         },
         "mode": "markers+lines",
         "name": "QUANTILE-RIPPER",
         "showlegend": false,
         "type": "scatter",
         "x": [],
         "xaxis": "x2",
         "y": [],
         "yaxis": "y2"
        },
        {
         "line": {
          "color": "orangered",
          "dash": "longdash",
          "width": 2
         },
         "marker": {
          "symbol": "diamond"
         },
         "mode": "markers+lines",
         "name": "TREES-RIPPER",
         "showlegend": false,
         "type": "scatter",
         "x": [],
         "xaxis": "x2",
         "y": [],
         "yaxis": "y2"
        },
        {
         "line": {
          "color": "magenta",
          "dash": "longdash",
          "width": 2
         },
         "marker": {
          "symbol": "diamond"
         },
         "mode": "markers+lines",
         "name": "NATIVE-RIPPER2",
         "showlegend": false,
         "type": "scatter",
         "x": [],
         "xaxis": "x2",
         "y": [],
         "yaxis": "y2"
        },
        {
         "line": {
          "color": "darkorchid",
          "dash": "longdash",
          "width": 2
         },
         "marker": {
          "symbol": "diamond"
         },
         "mode": "markers+lines",
         "name": "NATIVE-RIPPER3",
         "showlegend": false,
         "type": "scatter",
         "x": [],
         "xaxis": "x2",
         "y": [],
         "yaxis": "y2"
        },
        {
         "line": {
          "color": "crimson",
          "dash": "longdash",
          "width": 2
         },
         "marker": {
          "symbol": "diamond"
         },
         "mode": "markers+lines",
         "name": "NATIVE-RIPPER",
         "showlegend": false,
         "type": "scatter",
         "x": [],
         "xaxis": "x2",
         "y": [],
         "yaxis": "y2"
        },
        {
         "line": {
          "color": "plum",
          "dash": "dash",
          "width": 2
         },
         "marker": {
          "symbol": "cross"
         },
         "mode": "markers+lines",
         "name": "QUANTILE-BRCG",
         "showlegend": false,
         "type": "scatter",
         "x": [],
         "xaxis": "x2",
         "y": [],
         "yaxis": "y2"
        },
        {
         "line": {
          "color": "forestgreen",
          "dash": "dash",
          "width": 2
         },
         "marker": {
          "symbol": "cross"
         },
         "mode": "markers+lines",
         "name": "TREES-BRCG2",
         "showlegend": false,
         "type": "scatter",
         "x": [],
         "xaxis": "x2",
         "y": [],
         "yaxis": "y2"
        },
        {
         "line": {
          "color": "maroon",
          "dash": "dash",
          "width": 2
         },
         "marker": {
          "symbol": "cross"
         },
         "mode": "markers+lines",
         "name": "QUANTILE-BRCG2",
         "showlegend": false,
         "type": "scatter",
         "x": [],
         "xaxis": "x2",
         "y": [],
         "yaxis": "y2"
        },
        {
         "line": {
          "color": "yellowgreen",
          "dash": "solid",
          "width": 2
         },
         "marker": {
          "symbol": "cross"
         },
         "mode": "markers+lines",
         "name": "TREES2-BRCG2",
         "showlegend": false,
         "type": "scatter",
         "x": [],
         "xaxis": "x2",
         "y": [],
         "yaxis": "y2"
        },
        {
         "line": {
          "color": "aquamarine",
          "dash": "dash",
          "width": 2
         },
         "marker": {
          "symbol": "cross"
         },
         "mode": "markers+lines",
         "name": "TREES2-BRCG",
         "showlegend": false,
         "type": "scatter",
         "x": [],
         "xaxis": "x2",
         "y": [],
         "yaxis": "y2"
        },
        {
         "line": {
          "color": "lime",
          "dash": "dash",
          "width": 2
         },
         "marker": {
          "symbol": "cross"
         },
         "mode": "markers+lines",
         "name": "TREES-BRCG",
         "showlegend": false,
         "type": "scatter",
         "x": [],
         "xaxis": "x2",
         "y": [],
         "yaxis": "y2"
        },
        {
         "line": {
          "color": "palevioletred",
          "dash": "dashdot",
          "width": 2
         },
         "marker": {
          "symbol": "star"
         },
         "mode": "markers+lines",
         "name": "QUANTILE-CORELS",
         "showlegend": false,
         "type": "scatter",
         "x": [],
         "xaxis": "x2",
         "y": [],
         "yaxis": "y2"
        },
        {
         "line": {
          "color": "darkorange",
          "dash": "dashdot",
          "width": 2
         },
         "marker": {
          "symbol": "star"
         },
         "mode": "markers+lines",
         "name": "TREES-CORELS2",
         "showlegend": false,
         "type": "scatter",
         "x": [],
         "xaxis": "x2",
         "y": [],
         "yaxis": "y2"
        },
        {
         "line": {
          "color": "wheat",
          "dash": "dashdot",
          "width": 2
         },
         "marker": {
          "symbol": "star"
         },
         "mode": "markers+lines",
         "name": "TREES2-CORELS2",
         "showlegend": false,
         "type": "scatter",
         "x": [],
         "xaxis": "x2",
         "y": [],
         "yaxis": "y2"
        },
        {
         "line": {
          "color": "gold",
          "dash": "dashdot",
          "width": 2
         },
         "marker": {
          "symbol": "star"
         },
         "mode": "markers+lines",
         "name": "TREES-CORELS",
         "showlegend": false,
         "type": "scatter",
         "x": [],
         "xaxis": "x2",
         "y": [],
         "yaxis": "y2"
        },
        {
         "line": {
          "color": "lightskyblue",
          "dash": "solid",
          "width": 2
         },
         "marker": {
          "symbol": "arrow-left"
         },
         "mode": "markers+lines",
         "name": "LENC-CART:*",
         "showlegend": false,
         "type": "scatter",
         "x": [],
         "xaxis": "x2",
         "y": [],
         "yaxis": "y2"
        },
        {
         "line": {
          "color": "cornflowerblue",
          "dash": "longdash",
          "width": 2
         },
         "marker": {
          "symbol": "diamond"
         },
         "mode": "markers+lines",
         "name": "LENC-CART:6",
         "showlegend": false,
         "type": "scatter",
         "x": [],
         "xaxis": "x2",
         "y": [],
         "yaxis": "y2"
        },
        {
         "line": {
          "color": "mediumblue",
          "dash": "dot",
          "width": 2
         },
         "marker": {
          "symbol": "arrow-right"
         },
         "mode": "markers+lines",
         "name": "LENC-CART:4",
         "showlegend": false,
         "type": "scatter",
         "x": [],
         "xaxis": "x2",
         "y": [],
         "yaxis": "y2"
        },
        {
         "line": {
          "color": "silver",
          "dash": "dot",
          "width": 2
         },
         "marker": {
          "symbol": "square"
         },
         "mode": "markers+lines",
         "name": "NATIVE-R2N",
         "showlegend": false,
         "type": "scatter",
         "x": [],
         "xaxis": "x2",
         "y": [],
         "yaxis": "y2"
        },
        {
         "line": {
          "color": "gray",
          "dash": "solid",
          "width": 2
         },
         "marker": {
          "symbol": "circle"
         },
         "mode": "markers+lines",
         "name": "LENC-XGB",
         "showlegend": false,
         "type": "scatter",
         "x": [],
         "xaxis": "x",
         "y": [],
         "yaxis": "y"
        },
        {
         "line": {
          "color": "salmon",
          "dash": "longdash",
          "width": 2
         },
         "marker": {
          "symbol": "diamond"
         },
         "mode": "markers+lines",
         "name": "QUANTILE-RIPPER",
         "showlegend": false,
         "type": "scatter",
         "x": [],
         "xaxis": "x",
         "y": [],
         "yaxis": "y"
        },
        {
         "line": {
          "color": "orangered",
          "dash": "longdash",
          "width": 2
         },
         "marker": {
          "symbol": "diamond"
         },
         "mode": "markers+lines",
         "name": "TREES-RIPPER",
         "showlegend": false,
         "type": "scatter",
         "x": [],
         "xaxis": "x",
         "y": [],
         "yaxis": "y"
        },
        {
         "line": {
          "color": "magenta",
          "dash": "longdash",
          "width": 2
         },
         "marker": {
          "symbol": "diamond"
         },
         "mode": "markers+lines",
         "name": "NATIVE-RIPPER2",
         "showlegend": false,
         "type": "scatter",
         "x": [],
         "xaxis": "x",
         "y": [],
         "yaxis": "y"
        },
        {
         "line": {
          "color": "darkorchid",
          "dash": "longdash",
          "width": 2
         },
         "marker": {
          "symbol": "diamond"
         },
         "mode": "markers+lines",
         "name": "NATIVE-RIPPER3",
         "showlegend": false,
         "type": "scatter",
         "x": [],
         "xaxis": "x",
         "y": [],
         "yaxis": "y"
        },
        {
         "line": {
          "color": "crimson",
          "dash": "longdash",
          "width": 2
         },
         "marker": {
          "symbol": "diamond"
         },
         "mode": "markers+lines",
         "name": "NATIVE-RIPPER",
         "showlegend": false,
         "type": "scatter",
         "x": [],
         "xaxis": "x",
         "y": [],
         "yaxis": "y"
        },
        {
         "line": {
          "color": "plum",
          "dash": "dash",
          "width": 2
         },
         "marker": {
          "symbol": "cross"
         },
         "mode": "markers+lines",
         "name": "QUANTILE-BRCG",
         "showlegend": false,
         "type": "scatter",
         "x": [],
         "xaxis": "x",
         "y": [],
         "yaxis": "y"
        },
        {
         "line": {
          "color": "forestgreen",
          "dash": "dash",
          "width": 2
         },
         "marker": {
          "symbol": "cross"
         },
         "mode": "markers+lines",
         "name": "TREES-BRCG2",
         "showlegend": false,
         "type": "scatter",
         "x": [],
         "xaxis": "x",
         "y": [],
         "yaxis": "y"
        },
        {
         "line": {
          "color": "maroon",
          "dash": "dash",
          "width": 2
         },
         "marker": {
          "symbol": "cross"
         },
         "mode": "markers+lines",
         "name": "QUANTILE-BRCG2",
         "showlegend": false,
         "type": "scatter",
         "x": [],
         "xaxis": "x",
         "y": [],
         "yaxis": "y"
        },
        {
         "line": {
          "color": "yellowgreen",
          "dash": "solid",
          "width": 2
         },
         "marker": {
          "symbol": "cross"
         },
         "mode": "markers+lines",
         "name": "TREES2-BRCG2",
         "showlegend": false,
         "type": "scatter",
         "x": [],
         "xaxis": "x",
         "y": [],
         "yaxis": "y"
        },
        {
         "line": {
          "color": "aquamarine",
          "dash": "dash",
          "width": 2
         },
         "marker": {
          "symbol": "cross"
         },
         "mode": "markers+lines",
         "name": "TREES2-BRCG",
         "showlegend": false,
         "type": "scatter",
         "x": [],
         "xaxis": "x",
         "y": [],
         "yaxis": "y"
        },
        {
         "line": {
          "color": "lime",
          "dash": "dash",
          "width": 2
         },
         "marker": {
          "symbol": "cross"
         },
         "mode": "markers+lines",
         "name": "TREES-BRCG",
         "showlegend": false,
         "type": "scatter",
         "x": [],
         "xaxis": "x",
         "y": [],
         "yaxis": "y"
        },
        {
         "line": {
          "color": "palevioletred",
          "dash": "dashdot",
          "width": 2
         },
         "marker": {
          "symbol": "star"
         },
         "mode": "markers+lines",
         "name": "QUANTILE-CORELS",
         "showlegend": false,
         "type": "scatter",
         "x": [],
         "xaxis": "x",
         "y": [],
         "yaxis": "y"
        },
        {
         "line": {
          "color": "darkorange",
          "dash": "dashdot",
          "width": 2
         },
         "marker": {
          "symbol": "star"
         },
         "mode": "markers+lines",
         "name": "TREES-CORELS2",
         "showlegend": false,
         "type": "scatter",
         "x": [],
         "xaxis": "x",
         "y": [],
         "yaxis": "y"
        },
        {
         "line": {
          "color": "wheat",
          "dash": "dashdot",
          "width": 2
         },
         "marker": {
          "symbol": "star"
         },
         "mode": "markers+lines",
         "name": "TREES2-CORELS2",
         "showlegend": false,
         "type": "scatter",
         "x": [],
         "xaxis": "x",
         "y": [],
         "yaxis": "y"
        },
        {
         "line": {
          "color": "gold",
          "dash": "dashdot",
          "width": 2
         },
         "marker": {
          "symbol": "star"
         },
         "mode": "markers+lines",
         "name": "TREES-CORELS",
         "showlegend": false,
         "type": "scatter",
         "x": [],
         "xaxis": "x",
         "y": [],
         "yaxis": "y"
        },
        {
         "line": {
          "color": "lightskyblue",
          "dash": "solid",
          "width": 2
         },
         "marker": {
          "symbol": "arrow-left"
         },
         "mode": "markers+lines",
         "name": "LENC-CART:*",
         "showlegend": false,
         "type": "scatter",
         "x": [],
         "xaxis": "x",
         "y": [],
         "yaxis": "y"
        },
        {
         "line": {
          "color": "cornflowerblue",
          "dash": "longdash",
          "width": 2
         },
         "marker": {
          "symbol": "diamond"
         },
         "mode": "markers+lines",
         "name": "LENC-CART:6",
         "showlegend": false,
         "type": "scatter",
         "x": [],
         "xaxis": "x",
         "y": [],
         "yaxis": "y"
        },
        {
         "line": {
          "color": "mediumblue",
          "dash": "dot",
          "width": 2
         },
         "marker": {
          "symbol": "arrow-right"
         },
         "mode": "markers+lines",
         "name": "LENC-CART:4",
         "showlegend": false,
         "type": "scatter",
         "x": [],
         "xaxis": "x",
         "y": [],
         "yaxis": "y"
        },
        {
         "line": {
          "color": "silver",
          "dash": "dot",
          "width": 2
         },
         "marker": {
          "symbol": "square"
         },
         "mode": "markers+lines",
         "name": "NATIVE-R2N",
         "showlegend": false,
         "type": "scatter",
         "x": [],
         "xaxis": "x",
         "y": [],
         "yaxis": "y"
        }
       ],
       "layout": {
        "height": 600,
        "plot_bgcolor": "whitesmoke",
        "template": {
         "data": {
          "bar": [
           {
            "error_x": {
             "color": "#2a3f5f"
            },
            "error_y": {
             "color": "#2a3f5f"
            },
            "marker": {
             "line": {
              "color": "#E5ECF6",
              "width": 0.5
             },
             "pattern": {
              "fillmode": "overlay",
              "size": 10,
              "solidity": 0.2
             }
            },
            "type": "bar"
           }
          ],
          "barpolar": [
           {
            "marker": {
             "line": {
              "color": "#E5ECF6",
              "width": 0.5
             },
             "pattern": {
              "fillmode": "overlay",
              "size": 10,
              "solidity": 0.2
             }
            },
            "type": "barpolar"
           }
          ],
          "carpet": [
           {
            "aaxis": {
             "endlinecolor": "#2a3f5f",
             "gridcolor": "white",
             "linecolor": "white",
             "minorgridcolor": "white",
             "startlinecolor": "#2a3f5f"
            },
            "baxis": {
             "endlinecolor": "#2a3f5f",
             "gridcolor": "white",
             "linecolor": "white",
             "minorgridcolor": "white",
             "startlinecolor": "#2a3f5f"
            },
            "type": "carpet"
           }
          ],
          "choropleth": [
           {
            "colorbar": {
             "outlinewidth": 0,
             "ticks": ""
            },
            "type": "choropleth"
           }
          ],
          "contour": [
           {
            "colorbar": {
             "outlinewidth": 0,
             "ticks": ""
            },
            "colorscale": [
             [
              0,
              "#0d0887"
             ],
             [
              0.1111111111111111,
              "#46039f"
             ],
             [
              0.2222222222222222,
              "#7201a8"
             ],
             [
              0.3333333333333333,
              "#9c179e"
             ],
             [
              0.4444444444444444,
              "#bd3786"
             ],
             [
              0.5555555555555556,
              "#d8576b"
             ],
             [
              0.6666666666666666,
              "#ed7953"
             ],
             [
              0.7777777777777778,
              "#fb9f3a"
             ],
             [
              0.8888888888888888,
              "#fdca26"
             ],
             [
              1,
              "#f0f921"
             ]
            ],
            "type": "contour"
           }
          ],
          "contourcarpet": [
           {
            "colorbar": {
             "outlinewidth": 0,
             "ticks": ""
            },
            "type": "contourcarpet"
           }
          ],
          "heatmap": [
           {
            "colorbar": {
             "outlinewidth": 0,
             "ticks": ""
            },
            "colorscale": [
             [
              0,
              "#0d0887"
             ],
             [
              0.1111111111111111,
              "#46039f"
             ],
             [
              0.2222222222222222,
              "#7201a8"
             ],
             [
              0.3333333333333333,
              "#9c179e"
             ],
             [
              0.4444444444444444,
              "#bd3786"
             ],
             [
              0.5555555555555556,
              "#d8576b"
             ],
             [
              0.6666666666666666,
              "#ed7953"
             ],
             [
              0.7777777777777778,
              "#fb9f3a"
             ],
             [
              0.8888888888888888,
              "#fdca26"
             ],
             [
              1,
              "#f0f921"
             ]
            ],
            "type": "heatmap"
           }
          ],
          "heatmapgl": [
           {
            "colorbar": {
             "outlinewidth": 0,
             "ticks": ""
            },
            "colorscale": [
             [
              0,
              "#0d0887"
             ],
             [
              0.1111111111111111,
              "#46039f"
             ],
             [
              0.2222222222222222,
              "#7201a8"
             ],
             [
              0.3333333333333333,
              "#9c179e"
             ],
             [
              0.4444444444444444,
              "#bd3786"
             ],
             [
              0.5555555555555556,
              "#d8576b"
             ],
             [
              0.6666666666666666,
              "#ed7953"
             ],
             [
              0.7777777777777778,
              "#fb9f3a"
             ],
             [
              0.8888888888888888,
              "#fdca26"
             ],
             [
              1,
              "#f0f921"
             ]
            ],
            "type": "heatmapgl"
           }
          ],
          "histogram": [
           {
            "marker": {
             "pattern": {
              "fillmode": "overlay",
              "size": 10,
              "solidity": 0.2
             }
            },
            "type": "histogram"
           }
          ],
          "histogram2d": [
           {
            "colorbar": {
             "outlinewidth": 0,
             "ticks": ""
            },
            "colorscale": [
             [
              0,
              "#0d0887"
             ],
             [
              0.1111111111111111,
              "#46039f"
             ],
             [
              0.2222222222222222,
              "#7201a8"
             ],
             [
              0.3333333333333333,
              "#9c179e"
             ],
             [
              0.4444444444444444,
              "#bd3786"
             ],
             [
              0.5555555555555556,
              "#d8576b"
             ],
             [
              0.6666666666666666,
              "#ed7953"
             ],
             [
              0.7777777777777778,
              "#fb9f3a"
             ],
             [
              0.8888888888888888,
              "#fdca26"
             ],
             [
              1,
              "#f0f921"
             ]
            ],
            "type": "histogram2d"
           }
          ],
          "histogram2dcontour": [
           {
            "colorbar": {
             "outlinewidth": 0,
             "ticks": ""
            },
            "colorscale": [
             [
              0,
              "#0d0887"
             ],
             [
              0.1111111111111111,
              "#46039f"
             ],
             [
              0.2222222222222222,
              "#7201a8"
             ],
             [
              0.3333333333333333,
              "#9c179e"
             ],
             [
              0.4444444444444444,
              "#bd3786"
             ],
             [
              0.5555555555555556,
              "#d8576b"
             ],
             [
              0.6666666666666666,
              "#ed7953"
             ],
             [
              0.7777777777777778,
              "#fb9f3a"
             ],
             [
              0.8888888888888888,
              "#fdca26"
             ],
             [
              1,
              "#f0f921"
             ]
            ],
            "type": "histogram2dcontour"
           }
          ],
          "mesh3d": [
           {
            "colorbar": {
             "outlinewidth": 0,
             "ticks": ""
            },
            "type": "mesh3d"
           }
          ],
          "parcoords": [
           {
            "line": {
             "colorbar": {
              "outlinewidth": 0,
              "ticks": ""
             }
            },
            "type": "parcoords"
           }
          ],
          "pie": [
           {
            "automargin": true,
            "type": "pie"
           }
          ],
          "scatter": [
           {
            "fillpattern": {
             "fillmode": "overlay",
             "size": 10,
             "solidity": 0.2
            },
            "type": "scatter"
           }
          ],
          "scatter3d": [
           {
            "line": {
             "colorbar": {
              "outlinewidth": 0,
              "ticks": ""
             }
            },
            "marker": {
             "colorbar": {
              "outlinewidth": 0,
              "ticks": ""
             }
            },
            "type": "scatter3d"
           }
          ],
          "scattercarpet": [
           {
            "marker": {
             "colorbar": {
              "outlinewidth": 0,
              "ticks": ""
             }
            },
            "type": "scattercarpet"
           }
          ],
          "scattergeo": [
           {
            "marker": {
             "colorbar": {
              "outlinewidth": 0,
              "ticks": ""
             }
            },
            "type": "scattergeo"
           }
          ],
          "scattergl": [
           {
            "marker": {
             "colorbar": {
              "outlinewidth": 0,
              "ticks": ""
             }
            },
            "type": "scattergl"
           }
          ],
          "scattermapbox": [
           {
            "marker": {
             "colorbar": {
              "outlinewidth": 0,
              "ticks": ""
             }
            },
            "type": "scattermapbox"
           }
          ],
          "scatterpolar": [
           {
            "marker": {
             "colorbar": {
              "outlinewidth": 0,
              "ticks": ""
             }
            },
            "type": "scatterpolar"
           }
          ],
          "scatterpolargl": [
           {
            "marker": {
             "colorbar": {
              "outlinewidth": 0,
              "ticks": ""
             }
            },
            "type": "scatterpolargl"
           }
          ],
          "scatterternary": [
           {
            "marker": {
             "colorbar": {
              "outlinewidth": 0,
              "ticks": ""
             }
            },
            "type": "scatterternary"
           }
          ],
          "surface": [
           {
            "colorbar": {
             "outlinewidth": 0,
             "ticks": ""
            },
            "colorscale": [
             [
              0,
              "#0d0887"
             ],
             [
              0.1111111111111111,
              "#46039f"
             ],
             [
              0.2222222222222222,
              "#7201a8"
             ],
             [
              0.3333333333333333,
              "#9c179e"
             ],
             [
              0.4444444444444444,
              "#bd3786"
             ],
             [
              0.5555555555555556,
              "#d8576b"
             ],
             [
              0.6666666666666666,
              "#ed7953"
             ],
             [
              0.7777777777777778,
              "#fb9f3a"
             ],
             [
              0.8888888888888888,
              "#fdca26"
             ],
             [
              1,
              "#f0f921"
             ]
            ],
            "type": "surface"
           }
          ],
          "table": [
           {
            "cells": {
             "fill": {
              "color": "#EBF0F8"
             },
             "line": {
              "color": "white"
             }
            },
            "header": {
             "fill": {
              "color": "#C8D4E3"
             },
             "line": {
              "color": "white"
             }
            },
            "type": "table"
           }
          ]
         },
         "layout": {
          "annotationdefaults": {
           "arrowcolor": "#2a3f5f",
           "arrowhead": 0,
           "arrowwidth": 1
          },
          "autotypenumbers": "strict",
          "coloraxis": {
           "colorbar": {
            "outlinewidth": 0,
            "ticks": ""
           }
          },
          "colorscale": {
           "diverging": [
            [
             0,
             "#8e0152"
            ],
            [
             0.1,
             "#c51b7d"
            ],
            [
             0.2,
             "#de77ae"
            ],
            [
             0.3,
             "#f1b6da"
            ],
            [
             0.4,
             "#fde0ef"
            ],
            [
             0.5,
             "#f7f7f7"
            ],
            [
             0.6,
             "#e6f5d0"
            ],
            [
             0.7,
             "#b8e186"
            ],
            [
             0.8,
             "#7fbc41"
            ],
            [
             0.9,
             "#4d9221"
            ],
            [
             1,
             "#276419"
            ]
           ],
           "sequential": [
            [
             0,
             "#0d0887"
            ],
            [
             0.1111111111111111,
             "#46039f"
            ],
            [
             0.2222222222222222,
             "#7201a8"
            ],
            [
             0.3333333333333333,
             "#9c179e"
            ],
            [
             0.4444444444444444,
             "#bd3786"
            ],
            [
             0.5555555555555556,
             "#d8576b"
            ],
            [
             0.6666666666666666,
             "#ed7953"
            ],
            [
             0.7777777777777778,
             "#fb9f3a"
            ],
            [
             0.8888888888888888,
             "#fdca26"
            ],
            [
             1,
             "#f0f921"
            ]
           ],
           "sequentialminus": [
            [
             0,
             "#0d0887"
            ],
            [
             0.1111111111111111,
             "#46039f"
            ],
            [
             0.2222222222222222,
             "#7201a8"
            ],
            [
             0.3333333333333333,
             "#9c179e"
            ],
            [
             0.4444444444444444,
             "#bd3786"
            ],
            [
             0.5555555555555556,
             "#d8576b"
            ],
            [
             0.6666666666666666,
             "#ed7953"
            ],
            [
             0.7777777777777778,
             "#fb9f3a"
            ],
            [
             0.8888888888888888,
             "#fdca26"
            ],
            [
             1,
             "#f0f921"
            ]
           ]
          },
          "colorway": [
           "#636efa",
           "#EF553B",
           "#00cc96",
           "#ab63fa",
           "#FFA15A",
           "#19d3f3",
           "#FF6692",
           "#B6E880",
           "#FF97FF",
           "#FECB52"
          ],
          "font": {
           "color": "#2a3f5f"
          },
          "geo": {
           "bgcolor": "white",
           "lakecolor": "white",
           "landcolor": "#E5ECF6",
           "showlakes": true,
           "showland": true,
           "subunitcolor": "white"
          },
          "hoverlabel": {
           "align": "left"
          },
          "hovermode": "closest",
          "mapbox": {
           "style": "light"
          },
          "paper_bgcolor": "white",
          "plot_bgcolor": "#E5ECF6",
          "polar": {
           "angularaxis": {
            "gridcolor": "white",
            "linecolor": "white",
            "ticks": ""
           },
           "bgcolor": "#E5ECF6",
           "radialaxis": {
            "gridcolor": "white",
            "linecolor": "white",
            "ticks": ""
           }
          },
          "scene": {
           "xaxis": {
            "backgroundcolor": "#E5ECF6",
            "gridcolor": "white",
            "gridwidth": 2,
            "linecolor": "white",
            "showbackground": true,
            "ticks": "",
            "zerolinecolor": "white"
           },
           "yaxis": {
            "backgroundcolor": "#E5ECF6",
            "gridcolor": "white",
            "gridwidth": 2,
            "linecolor": "white",
            "showbackground": true,
            "ticks": "",
            "zerolinecolor": "white"
           },
           "zaxis": {
            "backgroundcolor": "#E5ECF6",
            "gridcolor": "white",
            "gridwidth": 2,
            "linecolor": "white",
            "showbackground": true,
            "ticks": "",
            "zerolinecolor": "white"
           }
          },
          "shapedefaults": {
           "line": {
            "color": "#2a3f5f"
           }
          },
          "ternary": {
           "aaxis": {
            "gridcolor": "white",
            "linecolor": "white",
            "ticks": ""
           },
           "baxis": {
            "gridcolor": "white",
            "linecolor": "white",
            "ticks": ""
           },
           "bgcolor": "#E5ECF6",
           "caxis": {
            "gridcolor": "white",
            "linecolor": "white",
            "ticks": ""
           }
          },
          "title": {
           "x": 0.05
          },
          "xaxis": {
           "automargin": true,
           "gridcolor": "white",
           "linecolor": "white",
           "ticks": "",
           "title": {
            "standoff": 15
           },
           "zerolinecolor": "white",
           "zerolinewidth": 2
          },
          "yaxis": {
           "automargin": true,
           "gridcolor": "white",
           "linecolor": "white",
           "ticks": "",
           "title": {
            "standoff": 15
           },
           "zerolinecolor": "white",
           "zerolinewidth": 2
          }
         }
        },
        "title": {
         "text": "accuracy, number of rules and training time on synthetic size variation suite"
        },
        "width": 1000,
        "xaxis": {
         "anchor": "y",
         "domain": [
          0,
          1
         ],
         "matches": "x3",
         "showticklabels": false,
         "type": "log"
        },
        "xaxis2": {
         "anchor": "y2",
         "domain": [
          0,
          1
         ],
         "matches": "x3",
         "showticklabels": false,
         "type": "log"
        },
        "xaxis3": {
         "anchor": "y3",
         "domain": [
          0,
          1
         ],
         "title": {
          "text": "number of rows in data set"
         },
         "type": "log"
        },
        "yaxis": {
         "anchor": "x",
         "domain": [
          0.68,
          1
         ],
         "title": {
          "text": "time (secs)"
         },
         "type": "log"
        },
        "yaxis2": {
         "anchor": "x2",
         "domain": [
          0.34,
          0.66
         ],
         "title": {
          "text": "number of rules"
         },
         "type": "log"
        },
        "yaxis3": {
         "anchor": "x3",
         "domain": [
          0,
          0.32
         ],
         "title": {
          "text": "accuracy"
         }
        }
       }
      }
     },
     "metadata": {},
     "output_type": "display_data"
    }
   ],
   "source": [
    "def extract(name):\n",
    "    return int(name.split('_')[2])+1\n",
    "\n",
    "synth_size_suite_df['label_complexity'] = synth_size_suite_df['data_set'].map(extract)\n",
    "synth_size_suite_df = synth_size_suite_df.sort_values('label_complexity', ignore_index=True)\n",
    "\n",
    "triple_chart(pipelines=ALL_RI_PIPELINES,\n",
    "           performance_metric='acc',\n",
    "           complexity_metric='nof_rules',\n",
    "           df=synth_size_suite_df,\n",
    "           df_long_name='synthetic size variation suite',\n",
    "           x_sel='label_complexity',\n",
    "           x_title='number of rows in data set',\n",
    "           x_log=True)"
   ]
  },
  {
   "attachments": {},
   "cell_type": "markdown",
   "metadata": {},
   "source": [
    "## Trade-Off Predictive Performance vs. Model Complexity Chart for a single data set"
   ]
  },
  {
   "cell_type": "code",
   "execution_count": 1074,
   "metadata": {},
   "outputs": [
    {
     "data": {
      "application/vnd.plotly.v1+json": {
       "config": {
        "plotlyServerURL": "https://plot.ly"
       },
       "data": [
        {
         "hovertemplate": "index=QUANTILE-RIPPER<br>sum_preds=%{x}<br>f_score=%{y}<extra></extra>",
         "legendgroup": "QUANTILE-RIPPER",
         "marker": {
          "color": "salmon",
          "symbol": "diamond"
         },
         "mode": "markers",
         "name": "QUANTILE-RIPPER",
         "orientation": "v",
         "showlegend": true,
         "type": "scatter",
         "x": [
          0
         ],
         "xaxis": "x",
         "y": [
          0
         ],
         "yaxis": "y"
        },
        {
         "hovertemplate": "index=TREES-RIPPER<br>sum_preds=%{x}<br>f_score=%{y}<extra></extra>",
         "legendgroup": "TREES-RIPPER",
         "marker": {
          "color": "orangered",
          "symbol": "diamond"
         },
         "mode": "markers",
         "name": "TREES-RIPPER",
         "orientation": "v",
         "showlegend": true,
         "type": "scatter",
         "x": [
          0
         ],
         "xaxis": "x",
         "y": [
          0
         ],
         "yaxis": "y"
        },
        {
         "hovertemplate": "index=NATIVE-RIPPER2<br>sum_preds=%{x}<br>f_score=%{y}<extra></extra>",
         "legendgroup": "NATIVE-RIPPER2",
         "marker": {
          "color": "magenta",
          "symbol": "diamond"
         },
         "mode": "markers",
         "name": "NATIVE-RIPPER2",
         "orientation": "v",
         "showlegend": true,
         "type": "scatter",
         "x": [
          275
         ],
         "xaxis": "x",
         "y": [
          0.81
         ],
         "yaxis": "y"
        },
        {
         "hovertemplate": "index=NATIVE-RIPPER3<br>sum_preds=%{x}<br>f_score=%{y}<extra></extra>",
         "legendgroup": "NATIVE-RIPPER3",
         "marker": {
          "color": "darkorchid",
          "symbol": "diamond"
         },
         "mode": "markers",
         "name": "NATIVE-RIPPER3",
         "orientation": "v",
         "showlegend": true,
         "type": "scatter",
         "x": [
          520
         ],
         "xaxis": "x",
         "y": [
          0.83
         ],
         "yaxis": "y"
        },
        {
         "hovertemplate": "index=NATIVE-RIPPER<br>sum_preds=%{x}<br>f_score=%{y}<extra></extra>",
         "legendgroup": "NATIVE-RIPPER",
         "marker": {
          "color": "crimson",
          "symbol": "diamond"
         },
         "mode": "markers",
         "name": "NATIVE-RIPPER",
         "orientation": "v",
         "showlegend": true,
         "type": "scatter",
         "x": [
          275
         ],
         "xaxis": "x",
         "y": [
          0.81
         ],
         "yaxis": "y"
        },
        {
         "hovertemplate": "index=QUANTILE-BRCG<br>sum_preds=%{x}<br>f_score=%{y}<extra></extra>",
         "legendgroup": "QUANTILE-BRCG",
         "marker": {
          "color": "plum",
          "symbol": "cross"
         },
         "mode": "markers",
         "name": "QUANTILE-BRCG",
         "orientation": "v",
         "showlegend": true,
         "type": "scatter",
         "x": [
          4
         ],
         "xaxis": "x",
         "y": [
          0.7
         ],
         "yaxis": "y"
        },
        {
         "hovertemplate": "index=TREES-BRCG2<br>sum_preds=%{x}<br>f_score=%{y}<extra></extra>",
         "legendgroup": "TREES-BRCG2",
         "marker": {
          "color": "forestgreen",
          "symbol": "cross"
         },
         "mode": "markers",
         "name": "TREES-BRCG2",
         "orientation": "v",
         "showlegend": true,
         "type": "scatter",
         "x": [
          7
         ],
         "xaxis": "x",
         "y": [
          0.71
         ],
         "yaxis": "y"
        },
        {
         "hovertemplate": "index=QUANTILE-BRCG2<br>sum_preds=%{x}<br>f_score=%{y}<extra></extra>",
         "legendgroup": "QUANTILE-BRCG2",
         "marker": {
          "color": "maroon",
          "symbol": "cross"
         },
         "mode": "markers",
         "name": "QUANTILE-BRCG2",
         "orientation": "v",
         "showlegend": true,
         "type": "scatter",
         "x": [
          6
         ],
         "xaxis": "x",
         "y": [
          0.68
         ],
         "yaxis": "y"
        },
        {
         "hovertemplate": "index=TREES2-BRCG2<br>sum_preds=%{x}<br>f_score=%{y}<extra></extra>",
         "legendgroup": "TREES2-BRCG2",
         "marker": {
          "color": "yellowgreen",
          "symbol": "cross"
         },
         "mode": "markers",
         "name": "TREES2-BRCG2",
         "orientation": "v",
         "showlegend": true,
         "type": "scatter",
         "x": [
          6
         ],
         "xaxis": "x",
         "y": [
          0.68
         ],
         "yaxis": "y"
        },
        {
         "hovertemplate": "index=TREES2-BRCG<br>sum_preds=%{x}<br>f_score=%{y}<extra></extra>",
         "legendgroup": "TREES2-BRCG",
         "marker": {
          "color": "aquamarine",
          "symbol": "cross"
         },
         "mode": "markers",
         "name": "TREES2-BRCG",
         "orientation": "v",
         "showlegend": true,
         "type": "scatter",
         "x": [
          3
         ],
         "xaxis": "x",
         "y": [
          0.7
         ],
         "yaxis": "y"
        },
        {
         "hovertemplate": "index=TREES-BRCG<br>sum_preds=%{x}<br>f_score=%{y}<extra></extra>",
         "legendgroup": "TREES-BRCG",
         "marker": {
          "color": "lime",
          "symbol": "cross"
         },
         "mode": "markers",
         "name": "TREES-BRCG",
         "orientation": "v",
         "showlegend": true,
         "type": "scatter",
         "x": [
          5
         ],
         "xaxis": "x",
         "y": [
          0.71
         ],
         "yaxis": "y"
        },
        {
         "hovertemplate": "index=QUANTILE-CORELS<br>sum_preds=%{x}<br>f_score=%{y}<extra></extra>",
         "legendgroup": "QUANTILE-CORELS",
         "marker": {
          "color": "palevioletred",
          "symbol": "star"
         },
         "mode": "markers",
         "name": "QUANTILE-CORELS",
         "orientation": "v",
         "showlegend": true,
         "type": "scatter",
         "x": [
          2
         ],
         "xaxis": "x",
         "y": [
          0.67
         ],
         "yaxis": "y"
        },
        {
         "hovertemplate": "index=TREES-CORELS2<br>sum_preds=%{x}<br>f_score=%{y}<extra></extra>",
         "legendgroup": "TREES-CORELS2",
         "marker": {
          "color": "darkorange",
          "symbol": "star"
         },
         "mode": "markers",
         "name": "TREES-CORELS2",
         "orientation": "v",
         "showlegend": true,
         "type": "scatter",
         "x": [
          2
         ],
         "xaxis": "x",
         "y": [
          0.67
         ],
         "yaxis": "y"
        },
        {
         "hovertemplate": "index=TREES2-CORELS2<br>sum_preds=%{x}<br>f_score=%{y}<extra></extra>",
         "legendgroup": "TREES2-CORELS2",
         "marker": {
          "color": "wheat",
          "symbol": "star"
         },
         "mode": "markers",
         "name": "TREES2-CORELS2",
         "orientation": "v",
         "showlegend": true,
         "type": "scatter",
         "x": [
          4
         ],
         "xaxis": "x",
         "y": [
          0.7
         ],
         "yaxis": "y"
        },
        {
         "hovertemplate": "index=TREES-CORELS<br>sum_preds=%{x}<br>f_score=%{y}<extra></extra>",
         "legendgroup": "TREES-CORELS",
         "marker": {
          "color": "gold",
          "symbol": "star"
         },
         "mode": "markers",
         "name": "TREES-CORELS",
         "orientation": "v",
         "showlegend": true,
         "type": "scatter",
         "x": [
          2
         ],
         "xaxis": "x",
         "y": [
          0.67
         ],
         "yaxis": "y"
        },
        {
         "hovertemplate": "index=LENC-CART:*<br>sum_preds=%{x}<br>f_score=%{y}<extra></extra>",
         "legendgroup": "LENC-CART:*",
         "marker": {
          "color": "lightskyblue",
          "symbol": "arrow-left"
         },
         "mode": "markers",
         "name": "LENC-CART:*",
         "orientation": "v",
         "showlegend": true,
         "type": "scatter",
         "x": [
          23195
         ],
         "xaxis": "x",
         "y": [
          0.86
         ],
         "yaxis": "y"
        },
        {
         "hovertemplate": "index=LENC-CART:6<br>sum_preds=%{x}<br>f_score=%{y}<extra></extra>",
         "legendgroup": "LENC-CART:6",
         "marker": {
          "color": "cornflowerblue",
          "symbol": "diamond"
         },
         "mode": "markers",
         "name": "LENC-CART:6",
         "orientation": "v",
         "showlegend": true,
         "type": "scatter",
         "x": [
          179
         ],
         "xaxis": "x",
         "y": [
          0.71
         ],
         "yaxis": "y"
        },
        {
         "hovertemplate": "index=LENC-CART:4<br>sum_preds=%{x}<br>f_score=%{y}<extra></extra>",
         "legendgroup": "LENC-CART:4",
         "marker": {
          "color": "mediumblue",
          "symbol": "arrow-right"
         },
         "mode": "markers",
         "name": "LENC-CART:4",
         "orientation": "v",
         "showlegend": true,
         "type": "scatter",
         "x": [
          28
         ],
         "xaxis": "x",
         "y": [
          0.67
         ],
         "yaxis": "y"
        },
        {
         "hovertemplate": "index=NATIVE-R2N<br>sum_preds=%{x}<br>f_score=%{y}<extra></extra>",
         "legendgroup": "NATIVE-R2N",
         "marker": {
          "color": "silver",
          "symbol": "square"
         },
         "mode": "markers",
         "name": "NATIVE-R2N",
         "orientation": "v",
         "showlegend": true,
         "type": "scatter",
         "x": [
          7
         ],
         "xaxis": "x",
         "y": [
          0.61
         ],
         "yaxis": "y"
        }
       ],
       "layout": {
        "height": 600,
        "legend": {
         "title": {
          "text": "index"
         },
         "tracegroupgap": 0
        },
        "template": {
         "data": {
          "bar": [
           {
            "error_x": {
             "color": "#2a3f5f"
            },
            "error_y": {
             "color": "#2a3f5f"
            },
            "marker": {
             "line": {
              "color": "#E5ECF6",
              "width": 0.5
             },
             "pattern": {
              "fillmode": "overlay",
              "size": 10,
              "solidity": 0.2
             }
            },
            "type": "bar"
           }
          ],
          "barpolar": [
           {
            "marker": {
             "line": {
              "color": "#E5ECF6",
              "width": 0.5
             },
             "pattern": {
              "fillmode": "overlay",
              "size": 10,
              "solidity": 0.2
             }
            },
            "type": "barpolar"
           }
          ],
          "carpet": [
           {
            "aaxis": {
             "endlinecolor": "#2a3f5f",
             "gridcolor": "white",
             "linecolor": "white",
             "minorgridcolor": "white",
             "startlinecolor": "#2a3f5f"
            },
            "baxis": {
             "endlinecolor": "#2a3f5f",
             "gridcolor": "white",
             "linecolor": "white",
             "minorgridcolor": "white",
             "startlinecolor": "#2a3f5f"
            },
            "type": "carpet"
           }
          ],
          "choropleth": [
           {
            "colorbar": {
             "outlinewidth": 0,
             "ticks": ""
            },
            "type": "choropleth"
           }
          ],
          "contour": [
           {
            "colorbar": {
             "outlinewidth": 0,
             "ticks": ""
            },
            "colorscale": [
             [
              0,
              "#0d0887"
             ],
             [
              0.1111111111111111,
              "#46039f"
             ],
             [
              0.2222222222222222,
              "#7201a8"
             ],
             [
              0.3333333333333333,
              "#9c179e"
             ],
             [
              0.4444444444444444,
              "#bd3786"
             ],
             [
              0.5555555555555556,
              "#d8576b"
             ],
             [
              0.6666666666666666,
              "#ed7953"
             ],
             [
              0.7777777777777778,
              "#fb9f3a"
             ],
             [
              0.8888888888888888,
              "#fdca26"
             ],
             [
              1,
              "#f0f921"
             ]
            ],
            "type": "contour"
           }
          ],
          "contourcarpet": [
           {
            "colorbar": {
             "outlinewidth": 0,
             "ticks": ""
            },
            "type": "contourcarpet"
           }
          ],
          "heatmap": [
           {
            "colorbar": {
             "outlinewidth": 0,
             "ticks": ""
            },
            "colorscale": [
             [
              0,
              "#0d0887"
             ],
             [
              0.1111111111111111,
              "#46039f"
             ],
             [
              0.2222222222222222,
              "#7201a8"
             ],
             [
              0.3333333333333333,
              "#9c179e"
             ],
             [
              0.4444444444444444,
              "#bd3786"
             ],
             [
              0.5555555555555556,
              "#d8576b"
             ],
             [
              0.6666666666666666,
              "#ed7953"
             ],
             [
              0.7777777777777778,
              "#fb9f3a"
             ],
             [
              0.8888888888888888,
              "#fdca26"
             ],
             [
              1,
              "#f0f921"
             ]
            ],
            "type": "heatmap"
           }
          ],
          "heatmapgl": [
           {
            "colorbar": {
             "outlinewidth": 0,
             "ticks": ""
            },
            "colorscale": [
             [
              0,
              "#0d0887"
             ],
             [
              0.1111111111111111,
              "#46039f"
             ],
             [
              0.2222222222222222,
              "#7201a8"
             ],
             [
              0.3333333333333333,
              "#9c179e"
             ],
             [
              0.4444444444444444,
              "#bd3786"
             ],
             [
              0.5555555555555556,
              "#d8576b"
             ],
             [
              0.6666666666666666,
              "#ed7953"
             ],
             [
              0.7777777777777778,
              "#fb9f3a"
             ],
             [
              0.8888888888888888,
              "#fdca26"
             ],
             [
              1,
              "#f0f921"
             ]
            ],
            "type": "heatmapgl"
           }
          ],
          "histogram": [
           {
            "marker": {
             "pattern": {
              "fillmode": "overlay",
              "size": 10,
              "solidity": 0.2
             }
            },
            "type": "histogram"
           }
          ],
          "histogram2d": [
           {
            "colorbar": {
             "outlinewidth": 0,
             "ticks": ""
            },
            "colorscale": [
             [
              0,
              "#0d0887"
             ],
             [
              0.1111111111111111,
              "#46039f"
             ],
             [
              0.2222222222222222,
              "#7201a8"
             ],
             [
              0.3333333333333333,
              "#9c179e"
             ],
             [
              0.4444444444444444,
              "#bd3786"
             ],
             [
              0.5555555555555556,
              "#d8576b"
             ],
             [
              0.6666666666666666,
              "#ed7953"
             ],
             [
              0.7777777777777778,
              "#fb9f3a"
             ],
             [
              0.8888888888888888,
              "#fdca26"
             ],
             [
              1,
              "#f0f921"
             ]
            ],
            "type": "histogram2d"
           }
          ],
          "histogram2dcontour": [
           {
            "colorbar": {
             "outlinewidth": 0,
             "ticks": ""
            },
            "colorscale": [
             [
              0,
              "#0d0887"
             ],
             [
              0.1111111111111111,
              "#46039f"
             ],
             [
              0.2222222222222222,
              "#7201a8"
             ],
             [
              0.3333333333333333,
              "#9c179e"
             ],
             [
              0.4444444444444444,
              "#bd3786"
             ],
             [
              0.5555555555555556,
              "#d8576b"
             ],
             [
              0.6666666666666666,
              "#ed7953"
             ],
             [
              0.7777777777777778,
              "#fb9f3a"
             ],
             [
              0.8888888888888888,
              "#fdca26"
             ],
             [
              1,
              "#f0f921"
             ]
            ],
            "type": "histogram2dcontour"
           }
          ],
          "mesh3d": [
           {
            "colorbar": {
             "outlinewidth": 0,
             "ticks": ""
            },
            "type": "mesh3d"
           }
          ],
          "parcoords": [
           {
            "line": {
             "colorbar": {
              "outlinewidth": 0,
              "ticks": ""
             }
            },
            "type": "parcoords"
           }
          ],
          "pie": [
           {
            "automargin": true,
            "type": "pie"
           }
          ],
          "scatter": [
           {
            "fillpattern": {
             "fillmode": "overlay",
             "size": 10,
             "solidity": 0.2
            },
            "type": "scatter"
           }
          ],
          "scatter3d": [
           {
            "line": {
             "colorbar": {
              "outlinewidth": 0,
              "ticks": ""
             }
            },
            "marker": {
             "colorbar": {
              "outlinewidth": 0,
              "ticks": ""
             }
            },
            "type": "scatter3d"
           }
          ],
          "scattercarpet": [
           {
            "marker": {
             "colorbar": {
              "outlinewidth": 0,
              "ticks": ""
             }
            },
            "type": "scattercarpet"
           }
          ],
          "scattergeo": [
           {
            "marker": {
             "colorbar": {
              "outlinewidth": 0,
              "ticks": ""
             }
            },
            "type": "scattergeo"
           }
          ],
          "scattergl": [
           {
            "marker": {
             "colorbar": {
              "outlinewidth": 0,
              "ticks": ""
             }
            },
            "type": "scattergl"
           }
          ],
          "scattermapbox": [
           {
            "marker": {
             "colorbar": {
              "outlinewidth": 0,
              "ticks": ""
             }
            },
            "type": "scattermapbox"
           }
          ],
          "scatterpolar": [
           {
            "marker": {
             "colorbar": {
              "outlinewidth": 0,
              "ticks": ""
             }
            },
            "type": "scatterpolar"
           }
          ],
          "scatterpolargl": [
           {
            "marker": {
             "colorbar": {
              "outlinewidth": 0,
              "ticks": ""
             }
            },
            "type": "scatterpolargl"
           }
          ],
          "scatterternary": [
           {
            "marker": {
             "colorbar": {
              "outlinewidth": 0,
              "ticks": ""
             }
            },
            "type": "scatterternary"
           }
          ],
          "surface": [
           {
            "colorbar": {
             "outlinewidth": 0,
             "ticks": ""
            },
            "colorscale": [
             [
              0,
              "#0d0887"
             ],
             [
              0.1111111111111111,
              "#46039f"
             ],
             [
              0.2222222222222222,
              "#7201a8"
             ],
             [
              0.3333333333333333,
              "#9c179e"
             ],
             [
              0.4444444444444444,
              "#bd3786"
             ],
             [
              0.5555555555555556,
              "#d8576b"
             ],
             [
              0.6666666666666666,
              "#ed7953"
             ],
             [
              0.7777777777777778,
              "#fb9f3a"
             ],
             [
              0.8888888888888888,
              "#fdca26"
             ],
             [
              1,
              "#f0f921"
             ]
            ],
            "type": "surface"
           }
          ],
          "table": [
           {
            "cells": {
             "fill": {
              "color": "#EBF0F8"
             },
             "line": {
              "color": "white"
             }
            },
            "header": {
             "fill": {
              "color": "#C8D4E3"
             },
             "line": {
              "color": "white"
             }
            },
            "type": "table"
           }
          ]
         },
         "layout": {
          "annotationdefaults": {
           "arrowcolor": "#2a3f5f",
           "arrowhead": 0,
           "arrowwidth": 1
          },
          "autotypenumbers": "strict",
          "coloraxis": {
           "colorbar": {
            "outlinewidth": 0,
            "ticks": ""
           }
          },
          "colorscale": {
           "diverging": [
            [
             0,
             "#8e0152"
            ],
            [
             0.1,
             "#c51b7d"
            ],
            [
             0.2,
             "#de77ae"
            ],
            [
             0.3,
             "#f1b6da"
            ],
            [
             0.4,
             "#fde0ef"
            ],
            [
             0.5,
             "#f7f7f7"
            ],
            [
             0.6,
             "#e6f5d0"
            ],
            [
             0.7,
             "#b8e186"
            ],
            [
             0.8,
             "#7fbc41"
            ],
            [
             0.9,
             "#4d9221"
            ],
            [
             1,
             "#276419"
            ]
           ],
           "sequential": [
            [
             0,
             "#0d0887"
            ],
            [
             0.1111111111111111,
             "#46039f"
            ],
            [
             0.2222222222222222,
             "#7201a8"
            ],
            [
             0.3333333333333333,
             "#9c179e"
            ],
            [
             0.4444444444444444,
             "#bd3786"
            ],
            [
             0.5555555555555556,
             "#d8576b"
            ],
            [
             0.6666666666666666,
             "#ed7953"
            ],
            [
             0.7777777777777778,
             "#fb9f3a"
            ],
            [
             0.8888888888888888,
             "#fdca26"
            ],
            [
             1,
             "#f0f921"
            ]
           ],
           "sequentialminus": [
            [
             0,
             "#0d0887"
            ],
            [
             0.1111111111111111,
             "#46039f"
            ],
            [
             0.2222222222222222,
             "#7201a8"
            ],
            [
             0.3333333333333333,
             "#9c179e"
            ],
            [
             0.4444444444444444,
             "#bd3786"
            ],
            [
             0.5555555555555556,
             "#d8576b"
            ],
            [
             0.6666666666666666,
             "#ed7953"
            ],
            [
             0.7777777777777778,
             "#fb9f3a"
            ],
            [
             0.8888888888888888,
             "#fdca26"
            ],
            [
             1,
             "#f0f921"
            ]
           ]
          },
          "colorway": [
           "#636efa",
           "#EF553B",
           "#00cc96",
           "#ab63fa",
           "#FFA15A",
           "#19d3f3",
           "#FF6692",
           "#B6E880",
           "#FF97FF",
           "#FECB52"
          ],
          "font": {
           "color": "#2a3f5f"
          },
          "geo": {
           "bgcolor": "white",
           "lakecolor": "white",
           "landcolor": "#E5ECF6",
           "showlakes": true,
           "showland": true,
           "subunitcolor": "white"
          },
          "hoverlabel": {
           "align": "left"
          },
          "hovermode": "closest",
          "mapbox": {
           "style": "light"
          },
          "paper_bgcolor": "white",
          "plot_bgcolor": "#E5ECF6",
          "polar": {
           "angularaxis": {
            "gridcolor": "white",
            "linecolor": "white",
            "ticks": ""
           },
           "bgcolor": "#E5ECF6",
           "radialaxis": {
            "gridcolor": "white",
            "linecolor": "white",
            "ticks": ""
           }
          },
          "scene": {
           "xaxis": {
            "backgroundcolor": "#E5ECF6",
            "gridcolor": "white",
            "gridwidth": 2,
            "linecolor": "white",
            "showbackground": true,
            "ticks": "",
            "zerolinecolor": "white"
           },
           "yaxis": {
            "backgroundcolor": "#E5ECF6",
            "gridcolor": "white",
            "gridwidth": 2,
            "linecolor": "white",
            "showbackground": true,
            "ticks": "",
            "zerolinecolor": "white"
           },
           "zaxis": {
            "backgroundcolor": "#E5ECF6",
            "gridcolor": "white",
            "gridwidth": 2,
            "linecolor": "white",
            "showbackground": true,
            "ticks": "",
            "zerolinecolor": "white"
           }
          },
          "shapedefaults": {
           "line": {
            "color": "#2a3f5f"
           }
          },
          "ternary": {
           "aaxis": {
            "gridcolor": "white",
            "linecolor": "white",
            "ticks": ""
           },
           "baxis": {
            "gridcolor": "white",
            "linecolor": "white",
            "ticks": ""
           },
           "bgcolor": "#E5ECF6",
           "caxis": {
            "gridcolor": "white",
            "linecolor": "white",
            "ticks": ""
           }
          },
          "title": {
           "x": 0.05
          },
          "xaxis": {
           "automargin": true,
           "gridcolor": "white",
           "linecolor": "white",
           "ticks": "",
           "title": {
            "standoff": 15
           },
           "zerolinecolor": "white",
           "zerolinewidth": 2
          },
          "yaxis": {
           "automargin": true,
           "gridcolor": "white",
           "linecolor": "white",
           "ticks": "",
           "title": {
            "standoff": 15
           },
           "zerolinecolor": "white",
           "zerolinewidth": 2
          }
         }
        },
        "title": {
         "text": "Trade-off between f-score and sum of predicates for electricity set"
        },
        "width": 1000,
        "xaxis": {
         "anchor": "y",
         "domain": [
          0,
          1
         ],
         "title": {
          "text": "sum_preds"
         },
         "type": "log"
        },
        "yaxis": {
         "anchor": "x",
         "domain": [
          0,
          1
         ],
         "title": {
          "text": "f_score"
         }
        }
       }
      }
     },
     "metadata": {},
     "output_type": "display_data"
    }
   ],
   "source": [
    "data_set = 'electricity'\n",
    "df = full_df[full_df['data_set'] == data_set]\n",
    "# print(df)\n",
    "\n",
    "pipelines = ALL_RI_PIPELINES # , 'QUANTILE-BRCG', 'QUANTILE-CORELS'\n",
    "metric = 'f' # adj_bal_acc\n",
    "\n",
    "metrics = [ p + '_' + metric for p in pipelines]\n",
    "df_f2 = df[metrics]\n",
    "# print(df_f2.head())\n",
    "data_set_key = df_f2.index[0]\n",
    "\n",
    "column_transform = {x:x.split('_')[0] for x in df_f2.columns.to_list()}\n",
    "df_f2 = df_f2.rename(columns=column_transform).transpose()\n",
    "\n",
    "# print(df_f2.head())\n",
    "\n",
    "metric = 'sum_preds' # nof_rules sum_preds\n",
    "# metrics = ['NATIVE-RIPPER_sum_preds', 'TREES-BRCG_sum_preds', 'TREES-CORELS_sum_preds', 'NATIVE-R2N_sum_preds', 'TREES-BRCG2_sum_preds']\n",
    "metrics = [ p + '_' + metric for p in pipelines]\n",
    "\n",
    "df_sum_preds = df[metrics]\n",
    "column_transform = {x:x.split('_')[0] for x in df_sum_preds.columns.to_list()}\n",
    "df_sum_preds = df_sum_preds.rename(columns=column_transform).transpose()\n",
    "\n",
    "# print(df_sum_preds.head())\n",
    "# print(df_sum_preds.index)\n",
    "\n",
    "\n",
    "df_scatter = pd.DataFrame()\n",
    "df_scatter['f_score'] = df_f2[data_set_key]\n",
    "df_scatter['sum_preds'] = df_sum_preds[data_set_key]\n",
    "df_scatter.head()\n",
    "\n",
    "fig = px.scatter(df_scatter, x=\"sum_preds\", y=\"f_score\", \n",
    "                color=df_scatter.index,\n",
    "                symbol=df_scatter.index,\n",
    "                color_discrete_sequence=[style_map[p][0] for p in df_scatter.index],  # ['crimson', 'limegreen', 'orange', 'blue' ]\n",
    "                symbol_sequence=[style_map[p][2] for p in df_scatter.index],\n",
    "                title=\"Trade-off between f-score and sum of predicates for {} set\".format(data_set)) #  color=\"species\",\n",
    "fig.update_xaxes(type=\"log\")\n",
    "fig.update_layout(height=600, width=1000)\n",
    "fig.show()"
   ]
  }
 ],
 "metadata": {
  "kernelspec": {
   "display_name": "Python 3",
   "language": "python",
   "name": "python3"
  },
  "language_info": {
   "codemirror_mode": {
    "name": "ipython",
    "version": 3
   },
   "file_extension": ".py",
   "mimetype": "text/x-python",
   "name": "python",
   "nbconvert_exporter": "python",
   "pygments_lexer": "ipython3",
   "version": "3.9.13"
  },
  "vscode": {
   "interpreter": {
    "hash": "7e1998ff7f8aa20ada591c520b972326324e5ea05489af9e422744c7c09f6dad"
   }
  }
 },
 "nbformat": 4,
 "nbformat_minor": 4
}
